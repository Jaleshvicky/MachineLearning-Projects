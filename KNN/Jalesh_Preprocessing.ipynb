{
 "cells": [
  {
   "cell_type": "markdown",
   "metadata": {},
   "source": [
    "***Importing Libraries***"
   ]
  },
  {
   "cell_type": "code",
   "execution_count": 1,
   "metadata": {},
   "outputs": [
    {
     "name": "stdout",
     "output_type": "stream",
     "text": [
      "execution time is 0.062 Minutes\n"
     ]
    }
   ],
   "source": [
    "import time\n",
    "start = time.time()\n",
    "\n",
    "#Importing libraries:\n",
    "import sqlite3 as sql\n",
    "import seaborn as sns\n",
    "import datetime\n",
    "import gensim\n",
    "import random\n",
    "import warnings\n",
    "warnings.filterwarnings(\"ignore\")\n",
    "\n",
    "import numpy as np\n",
    "import pandas as pd\n",
    "import matplotlib.pyplot as plt\n",
    "%matplotlib inline \n",
    "#it helps the output of plotting commands is displayed inline in Jupyter notebook directly below the cell on which op was run.\n",
    "import re\n",
    "import pickle\n",
    "end = time.time()\n",
    "print('execution time is {:.3f} Minutes'.format(((end - start) / 60)))"
   ]
  },
  {
   "cell_type": "code",
   "execution_count": 2,
   "metadata": {},
   "outputs": [],
   "source": [
    "import os"
   ]
  },
  {
   "cell_type": "code",
   "execution_count": 3,
   "metadata": {},
   "outputs": [
    {
     "data": {
      "text/plain": [
       "'/home/jalesh_j/Data_Preprocessing'"
      ]
     },
     "execution_count": 3,
     "metadata": {},
     "output_type": "execute_result"
    }
   ],
   "source": [
    "pwd"
   ]
  },
  {
   "cell_type": "code",
   "execution_count": 4,
   "metadata": {},
   "outputs": [],
   "source": [
    "os.chdir('/home/jalesh_j/')"
   ]
  },
  {
   "cell_type": "code",
   "execution_count": 5,
   "metadata": {},
   "outputs": [
    {
     "data": {
      "text/plain": [
       "'/home/jalesh_j'"
      ]
     },
     "execution_count": 5,
     "metadata": {},
     "output_type": "execute_result"
    }
   ],
   "source": [
    "pwd"
   ]
  },
  {
   "cell_type": "markdown",
   "metadata": {},
   "source": [
    "***uploading uncleaned database file for preprocessing***"
   ]
  },
  {
   "cell_type": "code",
   "execution_count": 6,
   "metadata": {},
   "outputs": [
    {
     "name": "stdout",
     "output_type": "stream",
     "text": [
      "execution time is 0.104 Minutes\n"
     ]
    }
   ],
   "source": [
    "#Using sqlite3 to retrieve data from sqlite file\n",
    "start = time.time()\n",
    "con = sql.connect(\"database.sqlite\")#Connection object that represents the database\n",
    "\n",
    "#Using pandas functions to query from sql table\n",
    "df = pd.read_sql_query(\"\"\"SELECT * FROM Reviews  where \"Score\" !=3 \"\"\",con)\n",
    "\n",
    "#Reviews is the name of the table given\n",
    "#Taking only the data where score != 3 as score 3 will be neutral and it won't help us much\n",
    "df.head(2)\n",
    "end = time.time()\n",
    "print('execution time is {:.3f} Minutes'.format(((end - start) / 60)))"
   ]
  },
  {
   "cell_type": "code",
   "execution_count": 7,
   "metadata": {},
   "outputs": [
    {
     "data": {
      "text/plain": [
       "5    363122\n",
       "4     80655\n",
       "1     52268\n",
       "2     29769\n",
       "Name: Score, dtype: int64"
      ]
     },
     "execution_count": 7,
     "metadata": {},
     "output_type": "execute_result"
    }
   ],
   "source": [
    "df['Score'].value_counts()"
   ]
  },
  {
   "cell_type": "code",
   "execution_count": 8,
   "metadata": {},
   "outputs": [
    {
     "name": "stdout",
     "output_type": "stream",
     "text": [
      "<class 'pandas.core.frame.DataFrame'>\n",
      "RangeIndex: 525814 entries, 0 to 525813\n",
      "Data columns (total 10 columns):\n",
      "Id                        525814 non-null int64\n",
      "ProductId                 525814 non-null object\n",
      "UserId                    525814 non-null object\n",
      "ProfileName               525814 non-null object\n",
      "HelpfulnessNumerator      525814 non-null int64\n",
      "HelpfulnessDenominator    525814 non-null int64\n",
      "Score                     525814 non-null int64\n",
      "Time                      525814 non-null int64\n",
      "Summary                   525814 non-null object\n",
      "Text                      525814 non-null object\n",
      "dtypes: int64(5), object(5)\n",
      "memory usage: 40.1+ MB\n"
     ]
    }
   ],
   "source": [
    "df.info()"
   ]
  },
  {
   "cell_type": "code",
   "execution_count": 9,
   "metadata": {},
   "outputs": [
    {
     "name": "stdout",
     "output_type": "stream",
     "text": [
      "CPU times: user 72 ms, sys: 16 ms, total: 88 ms\n",
      "Wall time: 124 ms\n"
     ]
    },
    {
     "data": {
      "text/plain": [
       "<matplotlib.axes._subplots.AxesSubplot at 0x7fe3192fdda0>"
      ]
     },
     "execution_count": 9,
     "metadata": {},
     "output_type": "execute_result"
    },
    {
     "data": {
      "image/png": "[encoded data removed]",
      "text/plain": [
       "<Figure size 432x288 with 1 Axes>"
      ]
     },
     "metadata": {},
     "output_type": "display_data"
    }
   ],
   "source": [
    "%%time\n",
    "#to check the distibutions of the column 'Score'\n",
    "sns.distplot(df['Score'], bins=10, color=\"#8ecc41\")"
   ]
  },
  {
   "cell_type": "code",
   "execution_count": 10,
   "metadata": {},
   "outputs": [
    {
     "name": "stdout",
     "output_type": "stream",
     "text": [
      "525814\n",
      "364171\n"
     ]
    }
   ],
   "source": [
    "#removing duplicates:\n",
    "print(len(df))\n",
    "df = df.drop_duplicates(subset=[\"UserId\",\"ProfileName\",\"Time\",\"Text\"], keep='first', inplace=False)\n",
    "\n",
    "df = df[df.HelpfulnessNumerator <= df.HelpfulnessDenominator]\n",
    "print(len(df))"
   ]
  },
  {
   "cell_type": "code",
   "execution_count": 11,
   "metadata": {},
   "outputs": [
    {
     "name": "stdout",
     "output_type": "stream",
     "text": [
      "Index(['Score', 'Time', 'Text', 'Summary'], dtype='object')\n",
      "364171\n"
     ]
    }
   ],
   "source": [
    "# creating new dataframe consists of Summary, Time, Text and score:\n",
    "\n",
    "d = df[['Score','Time', 'Text', 'Summary']]\n",
    "print(d.columns)\n",
    "print(len(d))"
   ]
  },
  {
   "cell_type": "markdown",
   "metadata": {},
   "source": [
    "***Data Cleaning including removal of punctuation marks, html tags, lower text conversion etc***"
   ]
  },
  {
   "cell_type": "code",
   "execution_count": 12,
   "metadata": {},
   "outputs": [
    {
     "name": "stdout",
     "output_type": "stream",
     "text": [
      "CPU times: user 13.5 s, sys: 104 ms, total: 13.6 s\n",
      "Wall time: 13.6 s\n"
     ]
    }
   ],
   "source": [
    "%%time\n",
    "\n",
    "# remove HTML TAG\n",
    "d['Text'] = d['Text'].apply(lambda x : re.sub('<.*?>',' ', x))\n",
    "\n",
    "\n",
    "#removing punctuation marks:\n",
    "d['Text'] = d['Text'].apply(lambda x: re.sub(r'[?|!|\\'|\"|#|.|\\,|)|(|\\|/|:|-]', r' ', x))\n",
    "\n",
    "#removing numerical values:\n",
    "d['Text'] = d['Text'].apply(lambda x: re.sub(r'[0-9]', ' ', x))\n",
    "\n",
    "#converting it to lower case:\n",
    "d['Text'] = d['Text'].apply(lambda x: x.lower())\n",
    "\n",
    "#removing http:\n",
    "d['Text'] = d['Text'].apply(lambda x: re.sub(r'http\\S+', r\" \", x))\n",
    "\n",
    "d['Text'] = d['Text'].apply(lambda x: re.sub(r\"won't\", \"will not\", x))\n",
    "d['Text'] = d['Text'].apply(lambda x: re.sub(r\"can\\'t\", \"can not\", x))\n",
    "\n",
    "# general\n",
    "d['Text'] = d['Text'].apply(lambda x: re.sub(r\"n\\'t\", \" not\", x))\n",
    "d['Text'] = d['Text'].apply(lambda x: re.sub(r\"\\'re\", \" are\", x))\n",
    "d['Text'] = d['Text'].apply(lambda x: re.sub(r\"\\'s\", \" is\", x))\n",
    "d['Text'] = d['Text'].apply(lambda x: re.sub(r\"\\'d\", \" would\", x))\n",
    "d['Text'] = d['Text'].apply(lambda x: re.sub(r\"\\'ll\", \" will\", x))\n",
    "d['Text'] = d['Text'].apply(lambda x: re.sub(r\"\\'t\", \" not\", x))\n",
    "d['Text'] = d['Text'].apply(lambda x: re.sub(r\"\\'ve\", \" have\", x))\n",
    "d['Text'] = d['Text'].apply(lambda x: re.sub(r\"\\'m\", \" am\", x))    "
   ]
  },
  {
   "cell_type": "markdown",
   "metadata": {},
   "source": [
    "***Saving Numerical score for future purpose***"
   ]
  },
  {
   "cell_type": "code",
   "execution_count": 13,
   "metadata": {},
   "outputs": [
    {
     "name": "stdout",
     "output_type": "stream",
     "text": [
      "0    positive\n",
      "1    negative\n",
      "2    positive\n",
      "3    negative\n",
      "Name: Score, dtype: object\n",
      "positive    307061\n",
      "negative     57110\n",
      "Name: Score, dtype: int64\n"
     ]
    }
   ],
   "source": [
    "score = d['Score']\n",
    "d['Score'] = d['Score'].apply(lambda x: 'positive' if int(x) > 3 else 'negative')\n",
    "print(d['Score'].head(4))\n",
    "print(d['Score'].value_counts())"
   ]
  },
  {
   "cell_type": "markdown",
   "metadata": {},
   "source": [
    "***Importing NLP libraries for stemming and stop words removal purpose***"
   ]
  },
  {
   "cell_type": "code",
   "execution_count": 14,
   "metadata": {},
   "outputs": [
    {
     "name": "stdout",
     "output_type": "stream",
     "text": [
      "beauti\n",
      "{'am', 'should', 'so', 'as', 'in', 'for', 'more', 'our', 'each', 'where', 'whom', 'm', 'y', 'then', 'of', 'these', 'but', 'itself', 'her', 'most', 'my', 'do', 'have', 'about', 'further', 'over', 'theirs', \"should've\", 'before', 'he', 'down', 'themselves', 'herself', \"she's\", 'how', \"you'll\", 'very', 'why', 'their', 'hers', 's', 'is', 'during', 'yourselves', 'to', 'such', 've', 'doing', 'no', 'himself', 'and', 'was', 'o', 'some', 'them', 'out', 'those', 'ours', 'or', 'any', \"that'll\", 'below', 'can', 'does', 'be', 'which', 'will', 'only', 'here', 'the', 'when', 'who', 'they', 'through', 'an', 'now', 'd', 'other', \"you're\", 'too', 'just', 'this', 'what', 'between', 'myself', 'having', 'all', 'same', 'both', 'if', 't', 'that', 'after', 'there', 'shan', 'you', 'under', 'by', 'again', 'few', 'me', 'i', 'ourselves', 'off', 'while', 'a', 're', 'once', 'it', 'yours', 'until', 'ma', \"you've\", 'did', 'has', 'its', 'we', \"you'd\", 'above', 'your', 'up', 'nor', 'own', 'been', 'she', 'yourself', 'with', 'being', \"it's\", 'at', 'him', 'll', 'had', 'his', 'on', 'are', 'were', 'because', 'than', 'into', 'from', \"shan't\"}\n"
     ]
    }
   ],
   "source": [
    "from nltk.stem import SnowballStemmer\n",
    "from nltk.corpus import stopwords\n",
    "snowstemmer = SnowballStemmer('english')\n",
    "\n",
    "\n",
    "#removing some of the words in stopwords\n",
    "\n",
    "stopwordset = set(stopwords.words('english')) #set of stopwords\n",
    "stopwordlist = list(stopwordset)\n",
    "temp = []\n",
    "s = ''\n",
    "for i in stopwordlist:\n",
    "    if i in ('against','not','don', \"don't\",'ain', 'aren', \"aren't\", 'couldn', \"couldn't\", 'didn', \"didn't\",\n",
    "             'doesn', \"doesn't\", 'hadn', \"hadn't\", 'hasn', \"hasn't\", 'haven', \"haven't\", 'isn', \"isn't\", \n",
    "             'mightn', \"mightn't\", 'mustn', \"mustn't\", 'needn', \"needn't\",'shouldn', \"shouldn't\", 'wasn',\n",
    "             \"wasn't\", 'weren', \"weren't\", 'won', \"won't\", 'wouldn', \"wouldn't\"):\n",
    "        continue\n",
    "    else:\n",
    "        s = i\n",
    "        temp.append(s)\n",
    "stop = set(temp)\n",
    "\n",
    "print(snowstemmer.stem('beautiful'))\n",
    "print(stop)"
   ]
  },
  {
   "cell_type": "markdown",
   "metadata": {},
   "source": [
    "***Main Preprocessing stage{including the list of of stemmed positive and negative reviews} -- for BoW***"
   ]
  },
  {
   "cell_type": "code",
   "execution_count": 15,
   "metadata": {},
   "outputs": [
    {
     "name": "stdout",
     "output_type": "stream",
     "text": [
      "CPU times: user 5min, sys: 1.34 s, total: 5min 1s\n",
      "Wall time: 5min 1s\n"
     ]
    }
   ],
   "source": [
    "%%time\n",
    "\n",
    "final_string_list = []\n",
    "positive_list = []\n",
    "negative_list = []\n",
    "i = 0\n",
    "for sentence in d['Text'].values:\n",
    "    filtered_sentence = []\n",
    "    for word in sentence.split():\n",
    "        if len(word) > 2 and word not in stop:\n",
    "            char = snowstemmer.stem(word)\n",
    "            filtered_sentence.append(char)\n",
    "            if d['Score'].values[i] == 'positive':\n",
    "                positive_list.append(char)\n",
    "            else:\n",
    "                negative_list.append(char)\n",
    "        else:\n",
    "            continue\n",
    "            \n",
    "        \n",
    "    strings = ' '.join(filtered_sentence) #creating cleaned str object off list\n",
    "    final_string_list.append(strings) # appending the cleaned string object inside list    \n",
    "    i = i + 1      "
   ]
  },
  {
   "cell_type": "code",
   "execution_count": 16,
   "metadata": {},
   "outputs": [
    {
     "name": "stdout",
     "output_type": "stream",
     "text": [
      "364171\n",
      "['bought sever vital can dog food product found good qualiti product look like stew process meat smell better labrador finicki appreci product better', 'product arriv label jumbo salt peanut peanut actual small size unsalt not sure error vendor intend repres product jumbo']\n"
     ]
    }
   ],
   "source": [
    "print(len(final_string_list))\n",
    "print(final_string_list[0:2])"
   ]
  },
  {
   "cell_type": "code",
   "execution_count": 17,
   "metadata": {},
   "outputs": [
    {
     "data": {
      "text/plain": [
       "0    bought sever vital can dog food product found ...\n",
       "1    product arriv label jumbo salt peanut peanut a...\n",
       "2    confect around centuri light pillowi citrus ge...\n",
       "3    look secret ingredi robitussin believ found go...\n",
       "4    great taffi great price wide assort yummi taff...\n",
       "5    got wild hair taffi order five pound bag taffi...\n",
       "6    saltwat taffi great flavor soft chewi candi in...\n",
       "7    taffi good soft chewi flavor amaz would defini...\n",
       "8    right most sprout cat eat grass love rotat aro...\n",
       "9    healthi dog food good digest also good small p...\n",
       "Name: cleanedtext, dtype: object"
      ]
     },
     "execution_count": 17,
     "metadata": {},
     "output_type": "execute_result"
    }
   ],
   "source": [
    "d['cleanedtext'] = final_string_list\n",
    "d['numeric_score'] = score\n",
    "d['cleanedtext'].head(10)"
   ]
  },
  {
   "cell_type": "code",
   "execution_count": 18,
   "metadata": {},
   "outputs": [
    {
     "name": "stdout",
     "output_type": "stream",
     "text": [
      "['arriv', 'label', 'jumbo', 'salt', 'peanut', 'peanut', 'actual', 'small', 'size']\n",
      "\n",
      "['sever', 'vital', 'can', 'dog', 'food', 'product', 'found', 'good', 'qualiti']\n"
     ]
    }
   ],
   "source": [
    "print(negative_list[1:10])\n",
    "print()\n",
    "print(positive_list[1:10])"
   ]
  },
  {
   "cell_type": "code",
   "execution_count": 19,
   "metadata": {},
   "outputs": [
    {
     "data": {
      "text/plain": [
       "11867124"
      ]
     },
     "execution_count": 19,
     "metadata": {},
     "output_type": "execute_result"
    }
   ],
   "source": [
    "len(positive_list)"
   ]
  },
  {
   "cell_type": "markdown",
   "metadata": {},
   "source": [
    "***checking and replacing NaN value of dataframe***"
   ]
  },
  {
   "cell_type": "code",
   "execution_count": 20,
   "metadata": {},
   "outputs": [
    {
     "data": {
      "text/html": [
       "<div>\n",
       "<style scoped>\n",
       "    .dataframe tbody tr th:only-of-type {\n",
       "        vertical-align: middle;\n",
       "    }\n",
       "\n",
       "    .dataframe tbody tr th {\n",
       "        vertical-align: top;\n",
       "    }\n",
       "\n",
       "    .dataframe thead th {\n",
       "        text-align: right;\n",
       "    }\n",
       "</style>\n",
       "<table border=\"1\" class=\"dataframe\">\n",
       "  <thead>\n",
       "    <tr style=\"text-align: right;\">\n",
       "      <th></th>\n",
       "      <th>Score</th>\n",
       "      <th>Time</th>\n",
       "      <th>Text</th>\n",
       "      <th>Summary</th>\n",
       "      <th>cleanedtext</th>\n",
       "      <th>numeric_score</th>\n",
       "    </tr>\n",
       "  </thead>\n",
       "  <tbody>\n",
       "  </tbody>\n",
       "</table>\n",
       "</div>"
      ],
      "text/plain": [
       "Empty DataFrame\n",
       "Columns: [Score, Time, Text, Summary, cleanedtext, numeric_score]\n",
       "Index: []"
      ]
     },
     "execution_count": 20,
     "metadata": {},
     "output_type": "execute_result"
    }
   ],
   "source": [
    "d[d.isnull().any(axis=1)]\n",
    "# d.fillna('good', axis=1, inplace=True)\n",
    "# d[d.isnull().any(axis=1)]"
   ]
  },
  {
   "cell_type": "markdown",
   "metadata": {},
   "source": [
    "# FeatureEngineering"
   ]
  },
  {
   "cell_type": "markdown",
   "metadata": {},
   "source": [
    "***BoW - Feature Engineering***"
   ]
  },
  {
   "cell_type": "code",
   "execution_count": 21,
   "metadata": {},
   "outputs": [
    {
     "name": "stdout",
     "output_type": "stream",
     "text": [
      "364171\n",
      "Score            0\n",
      "Time             0\n",
      "Text             0\n",
      "Summary          0\n",
      "cleanedtext      0\n",
      "numeric_score    0\n",
      "dtype: int64\n"
     ]
    }
   ],
   "source": [
    "#checking for whether any column is haivng Null value?\n",
    "print(len(d))\n",
    "print(d.isna().sum())"
   ]
  },
  {
   "cell_type": "markdown",
   "metadata": {},
   "source": [
    "***data cleaning for 'Summary' column:***"
   ]
  },
  {
   "cell_type": "code",
   "execution_count": 22,
   "metadata": {},
   "outputs": [
    {
     "name": "stdout",
     "output_type": "stream",
     "text": [
      "CPU times: user 11.4 s, sys: 28 ms, total: 11.4 s\n",
      "Wall time: 11.4 s\n"
     ]
    }
   ],
   "source": [
    "%%time\n",
    "\n",
    "# remove HTML TAG\n",
    "d['Summary'] = d['Summary'].apply(lambda x : re.sub('<.*?>',' ', x))\n",
    "\n",
    "\n",
    "#removing punctuation marks:\n",
    "d['Summary'] = d['Summary'].apply(lambda x: re.sub(r'[?|!|\\'|\"|#|.|\\,|)|(|\\|/|:|-]', r' ', x))\n",
    "\n",
    "#removing numerical values:\n",
    "d['Summary'] = d['Summary'].apply(lambda x: re.sub(r'[0-9]', ' ', x))\n",
    "\n",
    "#converting it to lower case:\n",
    "d['Summary'] = d['Summary'].apply(lambda x: x.lower())\n",
    "\n",
    "#removing http:\n",
    "d['Summary'] = d['Summary'].apply(lambda x: re.sub(r'http\\S+', r\" \", x))\n",
    "\n",
    "d['Summary'] = d['Summary'].apply(lambda x: re.sub(r\"won't\", \"will not\", x))\n",
    "d['Summary'] = d['Summary'].apply(lambda x: re.sub(r\"can\\'t\", \"can not\", x))\n",
    "\n",
    "# general\n",
    "d['Summary'] = d['Summary'].apply(lambda x: re.sub(r\"n\\'t\", \" not\", x))\n",
    "d['Summary'] = d['Summary'].apply(lambda x: re.sub(r\"\\'re\", \" are\", x))\n",
    "d['Summary'] = d['Summary'].apply(lambda x: re.sub(r\"\\'s\", \" is\", x))\n",
    "d['Summary'] = d['Summary'].apply(lambda x: re.sub(r\"\\'d\", \" would\", x))\n",
    "d['Summary'] = d['Summary'].apply(lambda x: re.sub(r\"\\'ll\", \" will\", x))\n",
    "d['Summary'] = d['Summary'].apply(lambda x: re.sub(r\"\\'t\", \" not\", x))\n",
    "d['Summary'] = d['Summary'].apply(lambda x: re.sub(r\"\\'ve\", \" have\", x))\n",
    "d['Summary'] = d['Summary'].apply(lambda x: re.sub(r\"\\'m\", \" am\", x))    "
   ]
  },
  {
   "cell_type": "code",
   "execution_count": 23,
   "metadata": {},
   "outputs": [
    {
     "data": {
      "text/plain": [
       "positive    307061\n",
       "negative     57110\n",
       "Name: Score, dtype: int64"
      ]
     },
     "execution_count": 23,
     "metadata": {},
     "output_type": "execute_result"
    }
   ],
   "source": [
    "d['Score'].value_counts()"
   ]
  },
  {
   "cell_type": "code",
   "execution_count": 24,
   "metadata": {},
   "outputs": [
    {
     "name": "stdout",
     "output_type": "stream",
     "text": [
      "CPU times: user 22.4 s, sys: 20 ms, total: 22.4 s\n",
      "Wall time: 22.4 s\n"
     ]
    }
   ],
   "source": [
    "%%time\n",
    "\n",
    "final_string_list = []\n",
    "positive_list = []\n",
    "negative_list = []\n",
    "i = 0\n",
    "for sentence in d['Summary'].values:\n",
    "    filtered_sentence = []\n",
    "    for word in sentence.split():\n",
    "        if len(word) > 2 and word not in stop:\n",
    "            char = snowstemmer.stem(word)\n",
    "            filtered_sentence.append(char)\n",
    "            if d['Score'].values[i] == 'positive':\n",
    "                positive_list.append(char)\n",
    "            else:\n",
    "                negative_list.append(char)\n",
    "        else:\n",
    "            continue\n",
    "            \n",
    "        \n",
    "    strings = ' '.join(filtered_sentence) #creating cleaned str object off list\n",
    "    final_string_list.append(strings) # appending the cleaned string object inside list    \n",
    "    i = i + 1      "
   ]
  },
  {
   "cell_type": "code",
   "execution_count": 26,
   "metadata": {},
   "outputs": [
    {
     "data": {
      "text/plain": [
       "0    good qualiti dog food\n",
       "1             not advertis\n",
       "2              delight say\n",
       "Name: bow_feat, dtype: object"
      ]
     },
     "execution_count": 26,
     "metadata": {},
     "output_type": "execute_result"
    }
   ],
   "source": [
    "d['bow_feat'] = final_string_list\n",
    "d['bow_feat'].head(3)"
   ]
  },
  {
   "cell_type": "markdown",
   "metadata": {},
   "source": [
    "***BoW - Creating new featured column concatenation of 'Summary' and 'Text' columns***"
   ]
  },
  {
   "cell_type": "code",
   "execution_count": 28,
   "metadata": {},
   "outputs": [
    {
     "data": {
      "text/plain": [
       "0    good qualiti dog food bought sever vital can d...\n",
       "1    not advertis product arriv label jumbo salt pe...\n",
       "Name: bow_new_feat, dtype: object"
      ]
     },
     "execution_count": 28,
     "metadata": {},
     "output_type": "execute_result"
    }
   ],
   "source": [
    "# replacing blank space of one of the cells of 'summary' which is having NaN value:\n",
    "#final_1L['Summary'] = final_1L['Summary'].replace(np.nan, '', regex=True)\n",
    "\n",
    "#creating new column of concatenation of two columns:\n",
    "d['bow_new_feat'] = d[['bow_feat', 'cleanedtext']].apply(lambda x: ' '.join(x),axis=1)\n",
    "d['bow_new_feat'].head(2)"
   ]
  },
  {
   "cell_type": "markdown",
   "metadata": {},
   "source": [
    "# W2V, TFidf - Feature engineering"
   ]
  },
  {
   "cell_type": "code",
   "execution_count": 29,
   "metadata": {},
   "outputs": [
    {
     "data": {
      "text/plain": [
       "Score            0\n",
       "Time             0\n",
       "Text             0\n",
       "Summary          0\n",
       "cleanedtext      0\n",
       "numeric_score    0\n",
       "bow_feat         0\n",
       "bow_new_feat     0\n",
       "dtype: int64"
      ]
     },
     "execution_count": 29,
     "metadata": {},
     "output_type": "execute_result"
    }
   ],
   "source": [
    "d.isna().sum()"
   ]
  },
  {
   "cell_type": "code",
   "execution_count": 32,
   "metadata": {},
   "outputs": [],
   "source": [
    "# #removal of special characters etc.\n",
    "\n",
    "# %%time\n",
    "\n",
    "# # remove HTML TAG\n",
    "# d['Summary'] = d['Summary'].apply(lambda x : re.sub('<.*?>',' ', x))\n",
    "\n",
    "\n",
    "# #removing punctuation marks:\n",
    "# d['Summary'] = d['Summary'].apply(lambda x: re.sub(r'[?|!|\\'|\"|#|.|\\,|)|(|\\|/|:|-]', r' ', x))\n",
    "\n",
    "# #removing numerical values:\n",
    "# d['Summary'] = d['Summary'].apply(lambda x: re.sub(r'[0-9]', ' ', x))\n",
    "\n",
    "# #converting it to lower case:\n",
    "# d['Summary'] = d['Summary'].apply(lambda x: x.lower())\n",
    "\n",
    "# #removing http:\n",
    "# d['Summary'] = d['Summary'].apply(lambda x: re.sub(r'http\\S+', r\" \", x))\n",
    "\n",
    "# d['Summary'] = d['Summary'].apply(lambda x: re.sub(r\"won't\", \"will not\", x))\n",
    "# d['Summary'] = d['Summary'].apply(lambda x: re.sub(r\"can\\'t\", \"can not\", x))\n",
    "\n",
    "# # general\n",
    "# d['Summary'] = d['Summary'].apply(lambda x: re.sub(r\"n\\'t\", \" not\", x))\n",
    "# d['Summary'] = d['Summary'].apply(lambda x: re.sub(r\"\\'re\", \" are\", x))\n",
    "# d['Summary'] = d['Summary'].apply(lambda x: re.sub(r\"\\'s\", \" is\", x))\n",
    "# d['Summary'] = d['Summary'].apply(lambda x: re.sub(r\"\\'d\", \" would\", x))\n",
    "# d['Summary'] = d['Summary'].apply(lambda x: re.sub(r\"\\'ll\", \" will\", x))\n",
    "# d['Summary'] = d['Summary'].apply(lambda x: re.sub(r\"\\'t\", \" not\", x))\n",
    "# d['Summary'] = d['Summary'].apply(lambda x: re.sub(r\"\\'ve\", \" have\", x))\n",
    "# d['Summary'] = d['Summary'].apply(lambda x: re.sub(r\"\\'m\", \" am\", x))    "
   ]
  },
  {
   "cell_type": "code",
   "execution_count": 31,
   "metadata": {},
   "outputs": [
    {
     "data": {
      "text/plain": [
       "0    i have bought several of the vitality canned d...\n",
       "1    product arrived labeled as jumbo salted peanut...\n",
       "2    this is a confection that has been around a fe...\n",
       "Name: Text, dtype: object"
      ]
     },
     "execution_count": 31,
     "metadata": {},
     "output_type": "execute_result"
    }
   ],
   "source": [
    "d['Text'].head(3)"
   ]
  },
  {
   "cell_type": "markdown",
   "metadata": {},
   "source": [
    "***Adding new column , concatenation of 'Summary' and 'Text' columns for TFidf & W2V***"
   ]
  },
  {
   "cell_type": "code",
   "execution_count": 34,
   "metadata": {},
   "outputs": [
    {
     "data": {
      "text/plain": [
       "0    i have bought several of the vitality canned d...\n",
       "1    product arrived labeled as jumbo salted peanut...\n",
       "2    this is a confection that has been around a fe...\n",
       "3    if you are looking for the secret ingredient i...\n",
       "4    great taffy at a great price   there was a wid...\n",
       "Name: tfw2v_feat, dtype: object"
      ]
     },
     "execution_count": 34,
     "metadata": {},
     "output_type": "execute_result"
    }
   ],
   "source": [
    "d['tfw2v_feat'] = d[['Text', 'Summary']].apply(lambda x: ' '.join(x),axis=1)\n",
    "d['tfw2v_feat'].head(5)"
   ]
  },
  {
   "cell_type": "code",
   "execution_count": 33,
   "metadata": {},
   "outputs": [
    {
     "data": {
      "text/plain": [
       "0                            good quality dog food\n",
       "1                                not as advertised\n",
       "2                             delight  says it all\n",
       "3                                   cough medicine\n",
       "4                                      great taffy\n",
       "5                                       nice taffy\n",
       "6    great   just as good as the expensive brands \n",
       "7                           wonderful  tasty taffy\n",
       "8                                       yay barley\n",
       "Name: Summary, dtype: object"
      ]
     },
     "execution_count": 33,
     "metadata": {},
     "output_type": "execute_result"
    }
   ],
   "source": [
    "d['Summary'].head(9)"
   ]
  },
  {
   "cell_type": "markdown",
   "metadata": {},
   "source": [
    "***Saving the preprocessed dataframes onto disc for future assignment purposes***"
   ]
  },
  {
   "cell_type": "code",
   "execution_count": 35,
   "metadata": {},
   "outputs": [],
   "source": [
    "#saving into database file:\n",
    "con = sql.connect('/home/jalesh_j/Data_Preprocessing/cleaned.sqlite')\n",
    "d.to_sql('cleandf', con, schema=None, if_exists='replace')\n",
    "\n",
    "#saving into csv file:\n",
    "d.to_csv('/home/jalesh_j/Data_Preprocessing/clean.csv')\n",
    "\n",
    "#saving positive_reviews and negative reviews into seperate dataframes on disc:\n",
    "pos = dict(positive_review_words = positive_list)\n",
    "neg = dict(negative_review_words = negative_list)\n",
    "positive = pd.DataFrame(pos)\n",
    "negative = pd.DataFrame(neg)\n",
    "\n",
    "positive.to_csv('/home/jalesh_j/Data_Preprocessing/positive_reviews_df')\n",
    "negative.to_csv('/home/jalesh_j/Data_Preprocessing/negative_reviews_df')\n"
   ]
  },
  {
   "cell_type": "code",
   "execution_count": 36,
   "metadata": {},
   "outputs": [],
   "source": [
    "# z = pd.read_csv('/home/jalesh_j/Data_Preprocessing/clean.csv')\n",
    "# z.drop('Unnamed: 0', inplace=True, axis=1)\n",
    "# print(z.head(4))\n",
    "\n",
    "# #Using sqlite3 to retrieve data from sqlite file\n",
    "# start = time.time()\n",
    "# con = sql.connect('/home/jalesh_j/Data_Preprocessing/cleaned.sqlite')#Connection object that represents the database\n",
    "\n",
    "# #Using pandas functions to query from sql table\n",
    "# f = pd.read_sql_query(\"\"\"SELECT * FROM cleandf \"\"\",con)"
   ]
  },
  {
   "cell_type": "code",
   "execution_count": null,
   "metadata": {},
   "outputs": [],
   "source": []
  }
 ],
 "metadata": {
  "kernelspec": {
   "display_name": "Python 3",
   "language": "python",
   "name": "python3"
  },
  "language_info": {
   "codemirror_mode": {
    "name": "ipython",
    "version": 3
   },
   "file_extension": ".py",
   "mimetype": "text/x-python",
   "name": "python",
   "nbconvert_exporter": "python",
   "pygments_lexer": "ipython3",
   "version": "3.5.3"
  }
 },
 "nbformat": 4,
 "nbformat_minor": 2
}
