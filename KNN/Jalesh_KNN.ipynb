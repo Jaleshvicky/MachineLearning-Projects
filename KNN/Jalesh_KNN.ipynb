{
 "cells": [
  {
   "cell_type": "markdown",
   "metadata": {},
   "source": [
    "***Assignment - to apply KNN algo on BoW, TfIDF, W2V, TfIdf-W2V vectorizers***"
   ]
  },
  {
   "cell_type": "code",
   "execution_count": 1,
   "metadata": {},
   "outputs": [],
   "source": [
    "#importing general purpose libraries:\n",
    "import psutil\n",
    "import os\n",
    "import sys\n",
    "import datetime\n",
    "import time\n",
    "import warnings\n",
    "import pickle\n",
    "warnings.filterwarnings('ignore')\n",
    "#importing EDA libraries and maths libraries\n",
    "warnings.filterwarnings('ignore', 'Data with input dtype int64 was converted to float64 by StandardScaler.')\n",
    "import pandas as pd\n",
    "import numpy as np\n",
    "import scipy as sc\n",
    "import math\n",
    "import matplotlib.pyplot as plt\n",
    "import seaborn as sns\n",
    "%matplotlib inline\n",
    "#from mlxtend.plotting import plot_decision_regions #for decision surface:"
   ]
  },
  {
   "cell_type": "markdown",
   "metadata": {},
   "source": [
    "***importing performance metric libraries***"
   ]
  },
  {
   "cell_type": "code",
   "execution_count": 2,
   "metadata": {},
   "outputs": [],
   "source": [
    "#importing KNN relevant libraries:\n",
    "from sklearn.neighbors import KNeighborsClassifier\n",
    "from sklearn.model_selection import cross_val_score\n",
    "\n",
    "#importing performance libraries:\n",
    "from sklearn.metrics import f1_score\n",
    "from sklearn.metrics import confusion_matrix\n",
    "from sklearn.metrics import precision_score\n",
    "from sklearn.metrics import precision_recall_curve\n",
    "from sklearn.metrics import roc_curve\n",
    "from sklearn.metrics import roc_auc_score\n",
    "from sklearn.metrics import auc\n",
    "\n",
    "#train test split libaries:\n",
    "from sklearn.preprocessing import StandardScaler\n",
    "from sklearn.model_selection import train_test_split"
   ]
  },
  {
   "cell_type": "code",
   "execution_count": 3,
   "metadata": {},
   "outputs": [
    {
     "data": {
      "text/plain": [
       "svmem(total=25285955584, available=21555621888, percent=14.8, used=3381485568, free=20653178880, active=4049473536, inactive=346533888, buffers=53899264, cached=1197391872, shared=11333632, slab=68972544)"
      ]
     },
     "execution_count": 3,
     "metadata": {},
     "output_type": "execute_result"
    }
   ],
   "source": [
    "#checking current memory utilization:\n",
    "psutil.virtual_memory()"
   ]
  },
  {
   "cell_type": "code",
   "execution_count": 4,
   "metadata": {},
   "outputs": [],
   "source": [
    "#importing the preprocessed file in database.\n",
    "import sqlite3\n",
    "con = sqlite3.connect('/home/jalesh_j/Data_Preprocessing/cleaned.sqlite')\n",
    "df = pd.read_sql_query(\"\"\"select * from cleandf\"\"\", con)"
   ]
  },
  {
   "cell_type": "code",
   "execution_count": 5,
   "metadata": {},
   "outputs": [
    {
     "data": {
      "text/plain": [
       "Index(['index', 'Score', 'Time', 'Text', 'Summary', 'cleanedtext',\n",
       "       'numeric_score', 'bow_feat', 'bow_new_feat', 'tfw2v_feat'],\n",
       "      dtype='object')"
      ]
     },
     "execution_count": 5,
     "metadata": {},
     "output_type": "execute_result"
    }
   ],
   "source": [
    "df.columns"
   ]
  },
  {
   "cell_type": "markdown",
   "metadata": {},
   "source": [
    "***unfeatured engineering preprocessed text***"
   ]
  },
  {
   "cell_type": "code",
   "execution_count": 6,
   "metadata": {},
   "outputs": [
    {
     "name": "stdout",
     "output_type": "stream",
     "text": [
      "0    i have bought several of the vitality canned d...\n",
      "1    product arrived labeled as jumbo salted peanut...\n",
      "2    this is a confection that has been around a fe...\n",
      "Name: Text, dtype: object\n",
      "\n",
      "\n",
      "\n",
      "0    bought sever vital can dog food product found ...\n",
      "1    product arriv label jumbo salt peanut peanut a...\n",
      "Name: cleanedtext, dtype: object\n"
     ]
    }
   ],
   "source": [
    "#tfidf, w2v, tfidf-w2v cleaned text\n",
    "print(df['Text'].head(3))\n",
    "\n",
    "print('\\n' * 2)\n",
    "\n",
    "#bow cleaned text\n",
    "print(df['cleanedtext'].head(2))"
   ]
  },
  {
   "cell_type": "code",
   "execution_count": 7,
   "metadata": {},
   "outputs": [
    {
     "data": {
      "text/plain": [
       "364171"
      ]
     },
     "execution_count": 7,
     "metadata": {},
     "output_type": "execute_result"
    }
   ],
   "source": [
    "len(df)"
   ]
  },
  {
   "cell_type": "markdown",
   "metadata": {},
   "source": [
    "***sorting the datframe based on time:***"
   ]
  },
  {
   "cell_type": "code",
   "execution_count": 8,
   "metadata": {},
   "outputs": [
    {
     "data": {
      "text/plain": [
       "117924    939340800\n",
       "117901    940809600\n",
       "298792    944092800\n",
       "169281    944438400\n",
       "298791    946857600\n",
       "169342    947376000\n",
       "169267    948240000\n",
       "63317     948672000\n",
       "Name: Time, dtype: int64"
      ]
     },
     "execution_count": 8,
     "metadata": {},
     "output_type": "execute_result"
    }
   ],
   "source": [
    "#sorting the datframe based on time:\n",
    "df = df.sort_values('Time', ascending=True)\n",
    "df['Time'].head(8)"
   ]
  },
  {
   "cell_type": "markdown",
   "metadata": {},
   "source": [
    "***taking 50000 samples***"
   ]
  },
  {
   "cell_type": "code",
   "execution_count": 9,
   "metadata": {},
   "outputs": [
    {
     "data": {
      "text/plain": [
       "1    44377\n",
       "0     5623\n",
       "Name: numeric_score, dtype: int64"
      ]
     },
     "execution_count": 9,
     "metadata": {},
     "output_type": "execute_result"
    }
   ],
   "source": [
    "d = df.head(50000)\n",
    "x = d['cleanedtext']\n",
    "y = d['numeric_score'].apply(lambda x: 0 if int(x) < 3 else 1)\n",
    "y.value_counts()"
   ]
  },
  {
   "cell_type": "markdown",
   "metadata": {},
   "source": [
    "# 1.BoW-BruteForce implementation"
   ]
  },
  {
   "cell_type": "code",
   "execution_count": 9,
   "metadata": {},
   "outputs": [],
   "source": [
    "#train test split:\n",
    "from sklearn.preprocessing import StandardScaler\n",
    "from sklearn.model_selection import train_test_split\n",
    "\n",
    "xt, xtest, yt, ytest = train_test_split(x, y, test_size=0.2, shuffle=False)\n",
    "xtr, xcv, ytr, ycv = train_test_split(xt, yt, test_size=0.2, shuffle=False)"
   ]
  },
  {
   "cell_type": "code",
   "execution_count": 10,
   "metadata": {},
   "outputs": [
    {
     "name": "stdout",
     "output_type": "stream",
     "text": [
      "1    28510\n",
      "0     3490\n",
      "Name: numeric_score, dtype: int64\n"
     ]
    }
   ],
   "source": [
    "print(ytr.value_counts())"
   ]
  },
  {
   "cell_type": "markdown",
   "metadata": {},
   "source": [
    "***balancing the dataset***"
   ]
  },
  {
   "cell_type": "code",
   "execution_count": 11,
   "metadata": {},
   "outputs": [
    {
     "name": "stdout",
     "output_type": "stream",
     "text": [
      "                                              cleanedtext  numeric_score\n",
      "117924  witti littl book make son laugh loud recit car...              1\n",
      "117901  rememb see show air televis year ago child sis...              1\n",
      "\n",
      "                                              cleanedtext  numeric_score\n",
      "117924  witti littl book make son laugh loud recit car...              1\n",
      "117901  rememb see show air televis year ago child sis...              1\n",
      "\n",
      "                                              cleanedtext  numeric_score\n",
      "169267  alway enjoy movi funni entertain didn hesit pi...              0\n",
      "298797  michael keaton bring distinguish characterist ...              0\n",
      "169263  continu amaz shoddi treatment movi get dvd rel...              0\n",
      "169266  let know movi one person favorit ghost movi sa...              0\n",
      "28510\n",
      "3490\n",
      "28510\n",
      "57020\n",
      "CPU times: user 40 ms, sys: 0 ns, total: 40 ms\n",
      "Wall time: 84.3 ms\n"
     ]
    }
   ],
   "source": [
    "%%time\n",
    "\n",
    "dtrain = pd.concat([xtr, ytr], axis=1)\n",
    "print(dtrain.head(2))\n",
    "d0 = dtrain[dtrain['numeric_score'] == 0.0]\n",
    "d1 = dtrain[dtrain['numeric_score'] == 1.0]\n",
    "print()\n",
    "print(dtrain.head(2))\n",
    "print()\n",
    "print(d0.head(4))\n",
    "\n",
    "d1_count, d0_count = ytr.value_counts()\n",
    "print(d1_count)\n",
    "print(d0_count)\n",
    "\n",
    "#oversampling of minority class:\n",
    "d0_over = d0.sample(d1_count, replace=True)\n",
    "print(len(d0_over))\n",
    "\n",
    "#concatenation:\n",
    "dtrain = pd.concat([d1, d0_over], axis=0)\n",
    "print(len(dtrain))"
   ]
  },
  {
   "cell_type": "code",
   "execution_count": 12,
   "metadata": {},
   "outputs": [
    {
     "data": {
      "text/plain": [
       "1    28510\n",
       "0    28510\n",
       "Name: numeric_score, dtype: int64"
      ]
     },
     "execution_count": 12,
     "metadata": {},
     "output_type": "execute_result"
    }
   ],
   "source": [
    "dtrain.numeric_score.value_counts()"
   ]
  },
  {
   "cell_type": "markdown",
   "metadata": {},
   "source": [
    "***Instantiating Bow object***"
   ]
  },
  {
   "cell_type": "code",
   "execution_count": 13,
   "metadata": {},
   "outputs": [
    {
     "name": "stdout",
     "output_type": "stream",
     "text": [
      "CPU times: user 0 ns, sys: 0 ns, total: 0 ns\n",
      "Wall time: 6.2 µs\n"
     ]
    }
   ],
   "source": [
    "%time\n",
    "#importing Bow library:\n",
    "from sklearn.feature_extraction.text import CountVectorizer\n",
    "bow = CountVectorizer(ngram_range=(1, 1))\n",
    "xtr = bow.fit_transform(dtrain['cleanedtext'])\n",
    "xcv = bow.transform(xcv)\n",
    "xtest = bow.transform(xtest)"
   ]
  },
  {
   "cell_type": "markdown",
   "metadata": {},
   "source": [
    "***Standardizing data***"
   ]
  },
  {
   "cell_type": "code",
   "execution_count": 14,
   "metadata": {},
   "outputs": [
    {
     "name": "stdout",
     "output_type": "stream",
     "text": [
      "(57020, 23081)\n",
      "(8000, 23081)\n",
      "(10000, 23081)\n"
     ]
    },
    {
     "name": "stderr",
     "output_type": "stream",
     "text": [
      "/home/jalesh_j/.local/lib/python3.5/site-packages/sklearn/utils/validation.py:595: DataConversionWarning: Data with input dtype int64 was converted to float64 by StandardScaler.\n",
      "  warnings.warn(msg, DataConversionWarning)\n",
      "/home/jalesh_j/.local/lib/python3.5/site-packages/sklearn/utils/validation.py:595: DataConversionWarning: Data with input dtype int64 was converted to float64 by StandardScaler.\n",
      "  warnings.warn(msg, DataConversionWarning)\n",
      "/home/jalesh_j/.local/lib/python3.5/site-packages/sklearn/utils/validation.py:595: DataConversionWarning: Data with input dtype int64 was converted to float64 by StandardScaler.\n",
      "  warnings.warn(msg, DataConversionWarning)\n",
      "/home/jalesh_j/.local/lib/python3.5/site-packages/sklearn/utils/validation.py:595: DataConversionWarning: Data with input dtype int64 was converted to float64 by StandardScaler.\n",
      "  warnings.warn(msg, DataConversionWarning)\n"
     ]
    }
   ],
   "source": [
    "#standardizing the data:\n",
    "sc = StandardScaler(with_mean=False)\n",
    "xtr = sc.fit_transform(xtr)\n",
    "xcv = sc.transform(xcv)\n",
    "xtest = sc.transform(xtest)\n",
    "print(xtr.shape)\n",
    "print(xcv.shape)\n",
    "print(xtest.shape)"
   ]
  },
  {
   "cell_type": "markdown",
   "metadata": {},
   "source": [
    "***KNN on BoW***"
   ]
  },
  {
   "cell_type": "code",
   "execution_count": 16,
   "metadata": {},
   "outputs": [
    {
     "data": {
      "text/plain": [
       "svmem(total=25286242304, available=23465373696, percent=7.2, used=1467346944, free=22748409856, active=1385566208, inactive=940220416, buffers=41017344, cached=1029468160, shared=19644416, slab=57643008)"
      ]
     },
     "execution_count": 16,
     "metadata": {},
     "output_type": "execute_result"
    }
   ],
   "source": [
    "#checking memory usage:\n",
    "psutil.virtual_memory()"
   ]
  },
  {
   "cell_type": "code",
   "execution_count": 17,
   "metadata": {},
   "outputs": [
    {
     "name": "stdout",
     "output_type": "stream",
     "text": [
      "CPU times: user 15min 4s, sys: 20min 20s, total: 35min 25s\n",
      "Wall time: 43min 14s\n"
     ]
    }
   ],
   "source": [
    "%%time\n",
    "\n",
    "pre_rec_tr_dict = {}\n",
    "pre_rec_cv_dict = {}\n",
    "auc_cv_dict = {}\n",
    "auc_tr_dict = {}\n",
    "\n",
    "\n",
    "for i in range(3, 50, 4):\n",
    "    knn = KNeighborsClassifier(n_neighbors=i, algorithm='brute', weights='uniform', n_jobs=-1)\n",
    "    knn.fit(xtr, dtrain['numeric_score'])\n",
    "    #performance metrics for cv data:\n",
    "    y_pred_cv = knn.predict_proba(xcv)        \n",
    "    fpr_cv, tpr_cv, thresholds_cv = roc_curve(ycv, y_pred_cv[:,1])\n",
    "    auc_cv_dict[i] = auc(fpr_cv, tpr_cv)\n",
    "    #pre_cv, rec_cv, threshold_cv = precision_recall_curve(ycv, y_pred_cv[:,1])\n",
    "    #pre_rec_cv_dict[i] = [pre_cv, rec_cv]\n",
    "    \n",
    "    #performance metrics for training data:\n",
    "    y_pred_tr = knn.predict_proba(xtr)\n",
    "    fpr_tr, tpr_tr, thresholds_tr = roc_curve(dtrain['numeric_score'], y_pred_tr[:,1])\n",
    "    auc_tr_dict[i] = auc(fpr_tr, tpr_tr)\n",
    "    #pre_tr, rec_tr, threshold_tr = precision_recall_curve(ytr, y_pred_tr[:,1])\n",
    "    #pre_rec_tr_dict[i] = [pre_tr, rec_tr]  "
   ]
  },
  {
   "cell_type": "code",
   "execution_count": 18,
   "metadata": {},
   "outputs": [
    {
     "data": {
      "text/plain": [
       "svmem(total=25286242304, available=11378216960, percent=55.0, used=13553856512, free=10659201024, active=13438607360, inactive=934817792, buffers=41926656, cached=1031258112, shared=19709952, slab=60669952)"
      ]
     },
     "execution_count": 18,
     "metadata": {},
     "output_type": "execute_result"
    }
   ],
   "source": [
    "psutil.virtual_memory()"
   ]
  },
  {
   "cell_type": "markdown",
   "metadata": {},
   "source": [
    "***Sorting dictionaries on values(AUC score) on training and cv auc score***"
   ]
  },
  {
   "cell_type": "code",
   "execution_count": 19,
   "metadata": {},
   "outputs": [
    {
     "name": "stdout",
     "output_type": "stream",
     "text": [
      "[(47, 0.7250877621644958), (43, 0.7204434997338767), (39, 0.7165185475660079), (35, 0.7147030281699575), (31, 0.7093259068243791), (27, 0.6984376402497201), (23, 0.6914156663373421), (19, 0.6760919867266317), (15, 0.6584377849739597), (11, 0.6405028335928362), (7, 0.6199026467753976), (3, 0.5748837086848861)]\n",
      "**********************************************************************\n",
      "[(3, 0.999909016767671), (7, 0.9920147256447029), (11, 0.9603024020936489), (15, 0.9312283677532088), (19, 0.9131611373783693), (23, 0.902304316170331), (27, 0.8956959301326334), (31, 0.8910559932019397), (35, 0.8888873017534876), (39, 0.8854622886417303), (43, 0.8829095497269324), (47, 0.8797871078729476)]\n"
     ]
    }
   ],
   "source": [
    "# print('AUC of cross validation dictionary is :\\n{}'.format(auc_cv_dict))\n",
    "# print('*' * 70)\n",
    "# print('AUC score of training dataset is :\\n{}'.format(auc_tr_dict))\n",
    "# print('*' * 70)\n",
    "\n",
    "#sorting dictionary wrt higest AuC Score of both training and cv data:\n",
    "\n",
    "cv_tup = sorted(auc_cv_dict.items(), key= lambda x: x[1],reverse=True)\n",
    "tr_tup = sorted(auc_tr_dict.items(), key= lambda x: x[1],reverse=True)\n",
    "print(cv_tup)\n",
    "print('*' * 70)\n",
    "print(tr_tup)\n"
   ]
  },
  {
   "cell_type": "markdown",
   "metadata": {},
   "source": [
    "***Plotting AUC Curve on training and cv data***"
   ]
  },
  {
   "cell_type": "code",
   "execution_count": 20,
   "metadata": {},
   "outputs": [
    {
     "data": {
      "text/plain": [
       "<matplotlib.legend.Legend at 0x7f4eb22f1a58>"
      ]
     },
     "execution_count": 20,
     "metadata": {},
     "output_type": "execute_result"
    },
    {
     "data": {
      "image/png": "[encoded data removed]",
      "text/plain": [
       "<Figure size 432x288 with 1 Axes>"
      ]
     },
     "metadata": {},
     "output_type": "display_data"
    }
   ],
   "source": [
    "plt.plot([x[0] for x in cv_tup], [x[1] for x in cv_tup], linestyle='-', color='m', marker='o',label='AUC on CV data')\n",
    "plt.plot([x[0] for x in tr_tup], [x[1] for x in tr_tup], linestyle='-', color='g', marker='o', label='AUC on TR data')\n",
    "#plt.plot([0, 1], [0, 1], linestyle='--')\n",
    "plt.xlabel(\"K value\")\n",
    "plt.ylabel('AUC value')\n",
    "plt.title('auc of Training and cross validation data points')\n",
    "plt.legend()"
   ]
  },
  {
   "cell_type": "markdown",
   "metadata": {},
   "source": [
    "***KNN brute force algo on optimal K***"
   ]
  },
  {
   "cell_type": "code",
   "execution_count": 23,
   "metadata": {},
   "outputs": [
    {
     "name": "stdout",
     "output_type": "stream",
     "text": [
      "0.7304104708171557\n"
     ]
    }
   ],
   "source": [
    "knn = KNeighborsClassifier(n_neighbors=47, algorithm='brute', weights='uniform', n_jobs=-1)\n",
    "knn.fit(xtr, dtrain['numeric_score'])\n",
    "#performance metrics for cv data:\n",
    "y_pred_test = knn.predict_proba(xtest)\n",
    "y_pred = knn.predict(xtest)\n",
    "fpr_test, tpr_test, thresholds_test= roc_curve(ytest, y_pred_test[:,1])\n",
    "auc_test = auc(fpr_test, tpr_test)\n",
    "print(auc_test)\n",
    "\n",
    "y_pred_tr = knn.predict_proba(xtr)\n",
    "fpr_tr, tpr_tr, thresholds_tr = roc_curve(dtrain['numeric_score'], y_pred_tr[:,1])"
   ]
  },
  {
   "cell_type": "markdown",
   "metadata": {},
   "source": [
    "***Plotting confusion matrix***"
   ]
  },
  {
   "cell_type": "code",
   "execution_count": 24,
   "metadata": {},
   "outputs": [
    {
     "name": "stdout",
     "output_type": "stream",
     "text": [
      "CPU times: user 0 ns, sys: 0 ns, total: 0 ns\n",
      "Wall time: 6.2 µs\n"
     ]
    },
    {
     "data": {
      "image/png": "[encoded data removed]",
      "text/plain": [
       "<Figure size 432x288 with 2 Axes>"
      ]
     },
     "metadata": {},
     "output_type": "display_data"
    }
   ],
   "source": [
    "%time\n",
    "#creating confusion matrix:\n",
    "\n",
    "cf = confusion_matrix(ytest, y_pred)\n",
    "labels = ['True negative', 'True positive']\n",
    "\n",
    "df_cf = pd.DataFrame(cf, index=labels, columns=['Predicted negative', 'Predicted positive'])\n",
    "sns.heatmap(df_cf, annot=True,fmt='3d', cmap='magma_r')\n",
    "\n",
    "plt.title(\"confusion Matrix KNN-Brute Force\")\n",
    "plt.xlabel(\"classifier prediction values\")\n",
    "plt.ylabel(\"actual value\")\n",
    "plt.show()"
   ]
  },
  {
   "cell_type": "markdown",
   "metadata": {},
   "source": [
    "***Plotting ROC of test and Training data***"
   ]
  },
  {
   "cell_type": "code",
   "execution_count": 25,
   "metadata": {},
   "outputs": [
    {
     "data": {
      "text/plain": [
       "<matplotlib.legend.Legend at 0x7f4eb5cf3d30>"
      ]
     },
     "execution_count": 25,
     "metadata": {},
     "output_type": "execute_result"
    },
    {
     "data": {
      "image/png": "[encoded data removed]",
      "text/plain": [
       "<Figure size 432x288 with 1 Axes>"
      ]
     },
     "metadata": {},
     "output_type": "display_data"
    }
   ],
   "source": [
    "plt.plot(fpr_test, tpr_test, color='m', marker='o',label='ROC -testdata')\n",
    "plt.plot([0, 1], [0, 1], linestyle='--')\n",
    "plt.plot(fpr_tr, tpr_tr, linestyle='-', color='g', marker='o', label='ROC - training data')\n",
    "plt.xlabel('False Positive Rate')\n",
    "plt.ylabel('True Positive Rate')\n",
    "plt.title('ROC of Test vs Training Data')\n",
    "plt.legend()"
   ]
  },
  {
   "cell_type": "markdown",
   "metadata": {},
   "source": [
    "***BowBruteForce - optimal k =  47 , AUC = 0.73***"
   ]
  },
  {
   "cell_type": "code",
   "execution_count": 26,
   "metadata": {},
   "outputs": [
    {
     "data": {
      "text/plain": [
       "svmem(total=25286242304, available=16968077312, percent=32.9, used=7972675584, free=16923115520, active=7925469184, inactive=216117248, buffers=21594112, cached=368857088, shared=19709952, slab=42926080)"
      ]
     },
     "execution_count": 26,
     "metadata": {},
     "output_type": "execute_result"
    }
   ],
   "source": [
    "#checking memory usage:\n",
    "psutil.virtual_memory()"
   ]
  },
  {
   "cell_type": "markdown",
   "metadata": {},
   "source": [
    "# 2. BOW - KDtree implementation"
   ]
  },
  {
   "cell_type": "code",
   "execution_count": 10,
   "metadata": {},
   "outputs": [
    {
     "name": "stdout",
     "output_type": "stream",
     "text": [
      "                                              cleanedtext  numeric_score\n",
      "117924  witti littl book make son laugh loud recit car...              1\n",
      "117901  rememb see show air televis year ago child sis...              1\n",
      "28510\n",
      "3490\n",
      "28510\n",
      "57020\n"
     ]
    }
   ],
   "source": [
    "#train test split:\n",
    "xt, xtest, yt, ytest = train_test_split(x, y, test_size=0.2, shuffle=False)\n",
    "xtr, xcv, ytr, ycv = train_test_split(xt, yt, test_size=0.2, shuffle=False)\n",
    "\n",
    "#balancing the training dataset:\n",
    "dtrain = pd.concat([xtr, ytr], axis=1)\n",
    "print(dtrain.head(2))\n",
    "d0 = dtrain[dtrain['numeric_score'] == 0.0]\n",
    "d1 = dtrain[dtrain['numeric_score'] == 1.0]\n",
    "\n",
    "d1_count, d0_count = ytr.value_counts()\n",
    "print(d1_count)\n",
    "print(d0_count)\n",
    "\n",
    "#oversampling of minority class:\n",
    "d0_over = d0.sample(d1_count, replace=True)\n",
    "print(len(d0_over))\n",
    "\n",
    "#concatenation:\n",
    "dtrain = pd.concat([d1, d0_over], axis=0)\n",
    "print(len(dtrain))\n"
   ]
  },
  {
   "cell_type": "markdown",
   "metadata": {},
   "source": [
    "***instantiating BoW featurizer***"
   ]
  },
  {
   "cell_type": "code",
   "execution_count": 12,
   "metadata": {},
   "outputs": [
    {
     "name": "stdout",
     "output_type": "stream",
     "text": [
      "(57020, 7235)\n",
      "(8000, 7235)\n",
      "(10000, 7235)\n"
     ]
    }
   ],
   "source": [
    "#instantiating BoW featurizer:\n",
    "from sklearn.feature_extraction.text import CountVectorizer\n",
    "bow = CountVectorizer(ngram_range=(1, 1),min_df=10)\n",
    "xtr = bow.fit_transform(dtrain['cleanedtext'])\n",
    "xcv = bow.transform(xcv)\n",
    "xtest = bow.transform(xtest)\n",
    "\n",
    "print(xtr.shape)\n",
    "print(xcv.shape)\n",
    "print(xtest.shape)"
   ]
  },
  {
   "cell_type": "markdown",
   "metadata": {},
   "source": [
    "***converting into dense matrix and reducing the dimesnion***"
   ]
  },
  {
   "cell_type": "code",
   "execution_count": 13,
   "metadata": {},
   "outputs": [
    {
     "name": "stdout",
     "output_type": "stream",
     "text": [
      "(57020, 500)\n",
      "(8000, 500)\n",
      "(10000, 500)\n"
     ]
    }
   ],
   "source": [
    "from sklearn.decomposition import TruncatedSVD\n",
    "tsvd = TruncatedSVD(n_components=500)\n",
    "\n",
    "xtr = tsvd.fit_transform(xtr)\n",
    "xcv = tsvd.transform(xcv)\n",
    "xtest = tsvd.transform(xtest)\n",
    "\n",
    "print(xtr.shape)\n",
    "print(xcv.shape)\n",
    "print(xtest.shape)\n",
    " "
   ]
  },
  {
   "cell_type": "markdown",
   "metadata": {},
   "source": [
    "***Standardizing data***"
   ]
  },
  {
   "cell_type": "code",
   "execution_count": 15,
   "metadata": {},
   "outputs": [],
   "source": [
    "sc = StandardScaler(with_mean=False)\n",
    "\n",
    "xtr = sc.fit_transform(xtr)\n",
    "xcv = sc.transform(xcv)\n",
    "xtest = sc.transform(xtest)"
   ]
  },
  {
   "cell_type": "markdown",
   "metadata": {},
   "source": [
    "***Bow-KNN-KDtree***"
   ]
  },
  {
   "cell_type": "code",
   "execution_count": 16,
   "metadata": {},
   "outputs": [
    {
     "name": "stdout",
     "output_type": "stream",
     "text": [
      "CPU times: user 17h 37min 57s, sys: 2.57 s, total: 17h 38min\n",
      "Wall time: 1h 55min 33s\n"
     ]
    }
   ],
   "source": [
    "%%time\n",
    "\n",
    "auc_cv_dict = {}\n",
    "auc_tr_dict = {}\n",
    "\n",
    "\n",
    "for i in range(3, 50, 4):\n",
    "    knn = KNeighborsClassifier(n_neighbors=i, algorithm='kd_tree', weights='uniform', n_jobs=-1)\n",
    "    knn.fit(xtr, dtrain['numeric_score'])\n",
    "    #performance metrics for cv data:\n",
    "    y_pred_cv = knn.predict_proba(xcv)        \n",
    "    fpr_cv, tpr_cv, thresholds_cv = roc_curve(ycv, y_pred_cv[:,1])\n",
    "    auc_cv_dict[i] = auc(fpr_cv, tpr_cv)\n",
    "    \n",
    "    \n",
    "    #performance metrics for training data:\n",
    "    y_pred_tr = knn.predict_proba(xtr)\n",
    "    fpr_tr, tpr_tr, thresholds_tr = roc_curve(dtrain['numeric_score'], y_pred_tr[:,1])\n",
    "    auc_tr_dict[i] = auc(fpr_tr, tpr_tr)\n",
    "   "
   ]
  },
  {
   "cell_type": "markdown",
   "metadata": {},
   "source": [
    "***optimal k for kd tree***"
   ]
  },
  {
   "cell_type": "code",
   "execution_count": 22,
   "metadata": {},
   "outputs": [
    {
     "name": "stdout",
     "output_type": "stream",
     "text": [
      "[(39, 0.7169594176296602), (35, 0.7167301682758), (43, 0.7150396659887721), (31, 0.7147048757134404), (47, 0.7137068173276794), (27, 0.7103204240851311), (23, 0.7046516218121599), (19, 0.698454960969874), (15, 0.6893363331281019), (11, 0.6767122994510794), (7, 0.6624843670877988), (3, 0.6154138859212721)]\n",
      "**********************************************************************\n",
      "[(3, 0.9999365855987076), (7, 0.9905740753704295), (11, 0.9502152432008018), (15, 0.9185605154203248), (19, 0.9006802396987967), (23, 0.886191554564165), (27, 0.8749777909035468), (31, 0.865403103343532), (35, 0.8576313270304217), (39, 0.8487867038475058), (43, 0.8396443973272807), (47, 0.8309787405601805)]\n",
      "\n",
      "optimal k for kdtree on CV data is (39, 0.7169594176296602)\n"
     ]
    }
   ],
   "source": [
    "# print('AUC of cross validation dictionary is :\\n{}'.format(auc_cv_dict))\n",
    "# print('*' * 70)\n",
    "# print('AUC score of training dataset is :\\n{}'.format(auc_tr_dict))\n",
    "# print('*' * 70)\n",
    "\n",
    "#sorting dictionary wrt higest AuC Score of both training and cv data:\n",
    "\n",
    "cv_tup = sorted(auc_cv_dict.items(), key= lambda x: x[1],reverse=True)\n",
    "tr_tup = sorted(auc_tr_dict.items(), key= lambda x: x[1],reverse=True)\n",
    "print(cv_tup)\n",
    "print('*' * 70)\n",
    "print(tr_tup)\n",
    "print()\n",
    "print('optimal k for kdtree on CV data is {}'.format(cv_tup[0]))"
   ]
  },
  {
   "cell_type": "markdown",
   "metadata": {},
   "source": [
    "***Plotting training vs CV AUC plot***"
   ]
  },
  {
   "cell_type": "code",
   "execution_count": 23,
   "metadata": {},
   "outputs": [
    {
     "data": {
      "text/plain": [
       "<matplotlib.legend.Legend at 0x7fc7d5c3b358>"
      ]
     },
     "execution_count": 23,
     "metadata": {},
     "output_type": "execute_result"
    },
    {
     "data": {
      "image/png": "[encoded data removed]",
      "text/plain": [
       "<Figure size 432x288 with 1 Axes>"
      ]
     },
     "metadata": {},
     "output_type": "display_data"
    }
   ],
   "source": [
    "plt.plot([x[0] for x in cv_tup], [x[1] for x in cv_tup], linestyle='-', color='m', marker='o',label='AUC on CV data')\n",
    "plt.plot([x[0] for x in tr_tup], [x[1] for x in tr_tup], linestyle='-', color='g', marker='o', label='AUC on TR data')\n",
    "#plt.plot([0, 1], [0, 1], linestyle='--')\n",
    "plt.xlabel(\"K value\")\n",
    "plt.ylabel('AUC value')\n",
    "plt.title('auc of Training and cross validation data points')\n",
    "plt.legend()"
   ]
  },
  {
   "cell_type": "markdown",
   "metadata": {},
   "source": [
    "***Bow-Kdtree on optimal K=39***"
   ]
  },
  {
   "cell_type": "code",
   "execution_count": 25,
   "metadata": {},
   "outputs": [
    {
     "name": "stdout",
     "output_type": "stream",
     "text": [
      "0.7091511611272889\n"
     ]
    }
   ],
   "source": [
    "knn = KNeighborsClassifier(n_neighbors=39, algorithm='kd_tree', weights='uniform', n_jobs=-1)\n",
    "knn.fit(xtr, dtrain['numeric_score'])\n",
    "\n",
    "#performance metrics for cv data:\n",
    "y_pred_test = knn.predict_proba(xtest)\n",
    "y_pred = knn.predict(xtest)\n",
    "fpr_test, tpr_test, thresholds_test= roc_curve(ytest, y_pred_test[:,1])\n",
    "auc_test = auc(fpr_test, tpr_test)\n",
    "print(auc_test)\n",
    "\n",
    "y_pred_tr = knn.predict_proba(xtr)\n",
    "fpr_tr, tpr_tr, thresholds_tr = roc_curve(dtrain['numeric_score'], y_pred_tr[:,1])"
   ]
  },
  {
   "cell_type": "code",
   "execution_count": 26,
   "metadata": {},
   "outputs": [
    {
     "data": {
      "text/plain": [
       "svmem(total=25286234112, available=22880768000, percent=9.5, used=2040279040, free=21856940032, active=2056912896, inactive=1131753472, buffers=54362112, cached=1334652928, shared=19656704, slab=81936384)"
      ]
     },
     "execution_count": 26,
     "metadata": {},
     "output_type": "execute_result"
    }
   ],
   "source": [
    "psutil.virtual_memory()"
   ]
  },
  {
   "cell_type": "markdown",
   "metadata": {},
   "source": [
    "***Plotting confusion matrix***"
   ]
  },
  {
   "cell_type": "code",
   "execution_count": 27,
   "metadata": {},
   "outputs": [
    {
     "name": "stdout",
     "output_type": "stream",
     "text": [
      "CPU times: user 0 ns, sys: 0 ns, total: 0 ns\n",
      "Wall time: 5.72 µs\n"
     ]
    },
    {
     "data": {
      "image/png": "[encoded data removed]",
      "text/plain": [
       "<Figure size 432x288 with 2 Axes>"
      ]
     },
     "metadata": {},
     "output_type": "display_data"
    }
   ],
   "source": [
    "%time\n",
    "#creating confusion matrix:\n",
    "\n",
    "cf = confusion_matrix(ytest, y_pred)\n",
    "labels = ['True negative', 'True positive']\n",
    "\n",
    "df_cf = pd.DataFrame(cf, index=labels, columns=['Predicted negative', 'Predicted positive'])\n",
    "sns.heatmap(df_cf, annot=True,fmt='3d', cmap='magma_r')\n",
    "\n",
    "plt.title(\"confusion Matrix BoW-KDtree\")\n",
    "plt.xlabel(\"classifier prediction values\")\n",
    "plt.ylabel(\"actual value\")\n",
    "plt.show()"
   ]
  },
  {
   "cell_type": "markdown",
   "metadata": {},
   "source": [
    "***BowKDtree - optimal k =  39 , AUC = 0.70***"
   ]
  },
  {
   "cell_type": "markdown",
   "metadata": {},
   "source": [
    "# 3. Bow-TFIDF-BruteForce implementation\n",
    "1. taking preprecossed 'text' column for tfidf:\n",
    "2. train-test-cv split  \n"
   ]
  },
  {
   "cell_type": "code",
   "execution_count": 10,
   "metadata": {},
   "outputs": [],
   "source": [
    "#sampling precossed 'text' column for tfidf:\n",
    "d = df.head(50000)\n",
    "x = d['Text']\n",
    "y = d['numeric_score'].apply(lambda x: 0 if int(x) < 3 else 1)\n",
    "\n",
    "#train-test split and balancing the dataset:\n",
    "\n",
    "#train test split:\n",
    "xt, xtest, yt, ytest = train_test_split(x, y, test_size=0.2, shuffle=False)\n",
    "xtr, xcv, ytr, ycv = train_test_split(xt, yt, test_size=0.2, shuffle=False)"
   ]
  },
  {
   "cell_type": "markdown",
   "metadata": {},
   "source": [
    "***Balancing the training dataset***"
   ]
  },
  {
   "cell_type": "code",
   "execution_count": 11,
   "metadata": {},
   "outputs": [
    {
     "name": "stdout",
     "output_type": "stream",
     "text": [
      "                                                     Text  numeric_score\n",
      "117924  this witty little book makes my son laugh at l...              1\n",
      "117901  i can remember seeing the show when it aired o...              1\n",
      "28510\n",
      "3490\n",
      "28510\n",
      "57020\n"
     ]
    }
   ],
   "source": [
    "#balancing the training dataset:\n",
    "dtrain = pd.concat([xtr, ytr], axis=1)\n",
    "print(dtrain.head(2))\n",
    "d0 = dtrain[dtrain['numeric_score'] == 0.0]\n",
    "d1 = dtrain[dtrain['numeric_score'] == 1.0]\n",
    "\n",
    "d1_count, d0_count = ytr.value_counts()\n",
    "print(d1_count)\n",
    "print(d0_count)\n",
    "\n",
    "#oversampling of minority class:\n",
    "d0_over = d0.sample(d1_count, replace=True)\n",
    "print(len(d0_over))\n",
    "\n",
    "#concatenation:\n",
    "dtrain = pd.concat([d1, d0_over], axis=0)\n",
    "print(len(dtrain))"
   ]
  },
  {
   "cell_type": "markdown",
   "metadata": {},
   "source": [
    "***instantiating TF-idf featurizer***"
   ]
  },
  {
   "cell_type": "code",
   "execution_count": 12,
   "metadata": {},
   "outputs": [
    {
     "name": "stdout",
     "output_type": "stream",
     "text": [
      "CPU times: user 0 ns, sys: 0 ns, total: 0 ns\n",
      "Wall time: 5.48 µs\n"
     ]
    }
   ],
   "source": [
    "%time\n",
    "#importing Bow library:\n",
    "from sklearn.feature_extraction.text import TfidfVectorizer\n",
    "tfidf = TfidfVectorizer(ngram_range=(1, 1))\n",
    "xtr = tfidf.fit_transform(dtrain['Text'])\n",
    "xcv = tfidf.transform(xcv)\n",
    "xtest = tfidf.transform(xtest)"
   ]
  },
  {
   "cell_type": "markdown",
   "metadata": {},
   "source": [
    "***tfidf_features storing in a list and saving it to disc***"
   ]
  },
  {
   "cell_type": "code",
   "execution_count": 13,
   "metadata": {},
   "outputs": [],
   "source": [
    "tfidf_features = tfidf.get_feature_names()\n",
    "file = open('tfidf_features.pickle', 'wb')\n",
    "pickle.dump(tfidf_features, file)\n",
    "file.close()\n",
    "tfidf_features.clear()"
   ]
  },
  {
   "cell_type": "markdown",
   "metadata": {},
   "source": [
    "***standardizing the data***"
   ]
  },
  {
   "cell_type": "code",
   "execution_count": 14,
   "metadata": {},
   "outputs": [
    {
     "name": "stdout",
     "output_type": "stream",
     "text": [
      "(57020, 33510)\n",
      "(8000, 33510)\n",
      "(10000, 33510)\n"
     ]
    }
   ],
   "source": [
    "#standardizing the data:\n",
    "sc = StandardScaler(with_mean=False)\n",
    "xtr = sc.fit_transform(xtr)\n",
    "xcv = sc.transform(xcv)\n",
    "xtest = sc.transform(xtest)\n",
    "print(xtr.shape)\n",
    "print(xcv.shape)\n",
    "print(xtest.shape)"
   ]
  },
  {
   "cell_type": "code",
   "execution_count": 15,
   "metadata": {},
   "outputs": [
    {
     "data": {
      "text/plain": [
       "svmem(total=25285955584, available=23428489216, percent=7.3, used=1503899648, free=22710829056, active=1405628416, inactive=940216320, buffers=41181184, cached=1030045696, shared=19697664, slab=58449920)"
      ]
     },
     "execution_count": 15,
     "metadata": {},
     "output_type": "execute_result"
    }
   ],
   "source": [
    "psutil.virtual_memory()"
   ]
  },
  {
   "cell_type": "markdown",
   "metadata": {},
   "source": [
    "***TFIDF - BruteForce algo implementation***"
   ]
  },
  {
   "cell_type": "code",
   "execution_count": 16,
   "metadata": {},
   "outputs": [
    {
     "name": "stdout",
     "output_type": "stream",
     "text": [
      "CPU times: user 15min 28s, sys: 20min 56s, total: 36min 24s\n",
      "Wall time: 44min 58s\n"
     ]
    }
   ],
   "source": [
    "%%time\n",
    "\n",
    "auc_cv_dict = {}\n",
    "auc_tr_dict = {}\n",
    "\n",
    "\n",
    "for i in range(3, 50, 4):\n",
    "    knn = KNeighborsClassifier(n_neighbors=i, algorithm='brute', weights='uniform', n_jobs=-1)\n",
    "    knn.fit(xtr, dtrain['numeric_score'])\n",
    "    \n",
    "    #performance metrics for cv data:\n",
    "    y_pred_cv = knn.predict_proba(xcv)        \n",
    "    fpr_cv, tpr_cv, thresholds_cv = roc_curve(ycv, y_pred_cv[:,1])\n",
    "    auc_cv_dict[i] = auc(fpr_cv, tpr_cv)\n",
    "    \n",
    "    \n",
    "    #performance metrics for training data:\n",
    "    y_pred_tr = knn.predict_proba(xtr)\n",
    "    fpr_tr, tpr_tr, thresholds_tr = roc_curve(dtrain['numeric_score'], y_pred_tr[:,1])\n",
    "    auc_tr_dict[i] = auc(fpr_tr, tpr_tr)    "
   ]
  },
  {
   "cell_type": "code",
   "execution_count": 17,
   "metadata": {},
   "outputs": [
    {
     "data": {
      "text/plain": [
       "svmem(total=25285955584, available=8541278208, percent=66.2, used=16390275072, free=7821647872, active=16258981888, inactive=935141376, buffers=42041344, cached=1031991296, shared=19771392, slab=62816256)"
      ]
     },
     "execution_count": 17,
     "metadata": {},
     "output_type": "execute_result"
    }
   ],
   "source": [
    "psutil.virtual_memory()"
   ]
  },
  {
   "cell_type": "markdown",
   "metadata": {},
   "source": [
    "***optimal K on CV data***"
   ]
  },
  {
   "cell_type": "code",
   "execution_count": 18,
   "metadata": {},
   "outputs": [
    {
     "name": "stdout",
     "output_type": "stream",
     "text": [
      "[(11, 0.6682594800920261), (7, 0.6655519051175569), (15, 0.6359692698092457), (3, 0.6109179658361497), (19, 0.5896835327371618), (47, 0.5823828107017723), (43, 0.5822009816306449), (39, 0.5803842305389392), (35, 0.5701045755800017), (23, 0.5687226900356284), (31, 0.5641347776812435), (27, 0.5640384744771876)]\n",
      "\n",
      "optimal k and auc value on cv data is:\n",
      " (11, 0.6682594800920261)\n"
     ]
    }
   ],
   "source": [
    "#sorting dictionary wrt higest AuC Score of both training and cv data:\n",
    "cv_tup = sorted(auc_cv_dict.items(), key= lambda x: x[1],reverse=True)\n",
    "tr_tup = sorted(auc_tr_dict.items(), key= lambda x: x[1],reverse=True)\n",
    "print(cv_tup)\n",
    "print()\n",
    "print('optimal k and auc value on cv data is:\\n {}'.format(cv_tup[0]))"
   ]
  },
  {
   "cell_type": "markdown",
   "metadata": {},
   "source": [
    "***training vs CV AUC plot for various k***"
   ]
  },
  {
   "cell_type": "code",
   "execution_count": 19,
   "metadata": {},
   "outputs": [
    {
     "data": {
      "text/plain": [
       "<matplotlib.legend.Legend at 0x7f59d9c48828>"
      ]
     },
     "execution_count": 19,
     "metadata": {},
     "output_type": "execute_result"
    },
    {
     "data": {
      "image/png": "[encoded data removed]",
      "text/plain": [
       "<Figure size 432x288 with 1 Axes>"
      ]
     },
     "metadata": {},
     "output_type": "display_data"
    }
   ],
   "source": [
    "plt.plot([x[0] for x in cv_tup], [x[1] for x in cv_tup], linestyle='-', color='m', marker='o',label='AUC on CV data')\n",
    "plt.plot([x[0] for x in tr_tup], [x[1] for x in tr_tup], linestyle='-', color='g', marker='o', label='AUC on TR data')\n",
    "#plt.plot([0, 1], [0, 1], linestyle='--')\n",
    "plt.xlabel(\"K value\")\n",
    "plt.ylabel('AUC value')\n",
    "plt.title('auc of Training and cross validation data points')\n",
    "plt.legend()"
   ]
  },
  {
   "cell_type": "markdown",
   "metadata": {},
   "source": [
    "***TFidf brute force classifier built on optimal K***"
   ]
  },
  {
   "cell_type": "code",
   "execution_count": 20,
   "metadata": {},
   "outputs": [
    {
     "name": "stdout",
     "output_type": "stream",
     "text": [
      "0.67\n"
     ]
    }
   ],
   "source": [
    "knn = KNeighborsClassifier(n_neighbors=11, algorithm='brute', weights='uniform', n_jobs=-1)\n",
    "knn.fit(xtr, dtrain['numeric_score'])\n",
    "\n",
    "#performance metrics for cv data:\n",
    "y_pred_test = knn.predict_proba(xtest)\n",
    "y_pred = knn.predict(xtest)\n",
    "fpr_test, tpr_test, thresholds_test= roc_curve(ytest, y_pred_test[:,1])\n",
    "auc_test = auc(fpr_test, tpr_test)\n",
    "print(np.round(auc_test,2))\n",
    "\n",
    "y_pred_tr = knn.predict_proba(xtr)\n",
    "fpr_tr, tpr_tr, thresholds_tr = roc_curve(dtrain['numeric_score'], y_pred_tr[:,1])"
   ]
  },
  {
   "cell_type": "markdown",
   "metadata": {},
   "source": [
    "***ROC plot on test vs training data***"
   ]
  },
  {
   "cell_type": "code",
   "execution_count": 21,
   "metadata": {},
   "outputs": [
    {
     "data": {
      "text/plain": [
       "<matplotlib.legend.Legend at 0x7f59d3516860>"
      ]
     },
     "execution_count": 21,
     "metadata": {},
     "output_type": "execute_result"
    },
    {
     "data": {
      "image/png": "[encoded data removed]",
      "text/plain": [
       "<Figure size 432x288 with 1 Axes>"
      ]
     },
     "metadata": {},
     "output_type": "display_data"
    }
   ],
   "source": [
    "plt.plot(fpr_test, tpr_test, color='m', marker='o',label='ROC -testdata')\n",
    "plt.plot([0, 1], [0, 1], linestyle='--')\n",
    "plt.plot(fpr_tr, tpr_tr, linestyle='-', color='g', marker='o', label='ROC - training data')\n",
    "plt.xlabel('False Positive Rate')\n",
    "plt.ylabel('True Positive Rate')\n",
    "plt.title('ROC of Test vs Training Data')\n",
    "plt.legend()"
   ]
  },
  {
   "cell_type": "markdown",
   "metadata": {},
   "source": [
    "***plotting confusion matrix***"
   ]
  },
  {
   "cell_type": "code",
   "execution_count": 22,
   "metadata": {},
   "outputs": [
    {
     "name": "stdout",
     "output_type": "stream",
     "text": [
      "CPU times: user 0 ns, sys: 0 ns, total: 0 ns\n",
      "Wall time: 6.68 µs\n"
     ]
    },
    {
     "data": {
      "image/png": "[encoded data removed]",
      "text/plain": [
       "<Figure size 432x288 with 2 Axes>"
      ]
     },
     "metadata": {},
     "output_type": "display_data"
    }
   ],
   "source": [
    "%time\n",
    "#creating confusion matrix:\n",
    "\n",
    "cf = confusion_matrix(ytest, y_pred)\n",
    "labels = ['True negative', 'True positive']\n",
    "\n",
    "df_cf = pd.DataFrame(cf, index=labels, columns=['Predicted negative', 'Predicted positive'])\n",
    "sns.heatmap(df_cf, annot=True,fmt='3d', cmap='magma_r')\n",
    "\n",
    "plt.title(\"confusion Matrix of TFidf-BruteForce algorithm\")\n",
    "plt.xlabel(\"classifier prediction values\")\n",
    "plt.ylabel(\"actual value\")\n",
    "plt.show()"
   ]
  },
  {
   "cell_type": "markdown",
   "metadata": {},
   "source": [
    "***TFidfBruteForce - optimal k =  11 , AUC = 0.67***"
   ]
  },
  {
   "cell_type": "markdown",
   "metadata": {},
   "source": [
    "# 4. TF-idf-KDtree implementation"
   ]
  },
  {
   "cell_type": "markdown",
   "metadata": {},
   "source": [
    "***taking sorted 10K point only as KD tree is taking soo much of time***"
   ]
  },
  {
   "cell_type": "code",
   "execution_count": 7,
   "metadata": {},
   "outputs": [],
   "source": [
    "#sampling precossed 'text' column for tfidf:\n",
    "d = df.head(50000)\n",
    "x = d['Text']\n",
    "y = d['numeric_score'].apply(lambda x: 0 if int(x) < 3 else 1)\n",
    "\n",
    "#train-test split and balancing the dataset:\n",
    "\n",
    "#train test split:\n",
    "xt, xtest, yt, ytest = train_test_split(x, y, test_size=0.2, shuffle=False)\n",
    "xtr, xcv, ytr, ycv = train_test_split(xt, yt, test_size=0.2, shuffle=False)"
   ]
  },
  {
   "cell_type": "code",
   "execution_count": 8,
   "metadata": {},
   "outputs": [
    {
     "data": {
      "text/plain": [
       "svmem(total=25285955584, available=23553781760, percent=6.9, used=1378410496, free=22803169280, active=1310449664, inactive=940683264, buffers=41291776, cached=1063084032, shared=19697664, slab=58957824)"
      ]
     },
     "execution_count": 8,
     "metadata": {},
     "output_type": "execute_result"
    }
   ],
   "source": [
    "psutil.virtual_memory()"
   ]
  },
  {
   "cell_type": "markdown",
   "metadata": {},
   "source": [
    "***Balancing training data***"
   ]
  },
  {
   "cell_type": "code",
   "execution_count": 9,
   "metadata": {},
   "outputs": [
    {
     "name": "stdout",
     "output_type": "stream",
     "text": [
      "                                                     Text  numeric_score\n",
      "117924  this witty little book makes my son laugh at l...              1\n",
      "117901  i can remember seeing the show when it aired o...              1\n",
      "28510\n",
      "3490\n",
      "28510\n",
      "57020\n"
     ]
    }
   ],
   "source": [
    "#balancing the training dataset:\n",
    "dtrain = pd.concat([xtr, ytr], axis=1)\n",
    "print(dtrain.head(2))\n",
    "d0 = dtrain[dtrain['numeric_score'] == 0.0]\n",
    "d1 = dtrain[dtrain['numeric_score'] == 1.0]\n",
    "\n",
    "d1_count, d0_count = ytr.value_counts()\n",
    "print(d1_count)\n",
    "print(d0_count)\n",
    "\n",
    "#oversampling of minority class:\n",
    "d0_over = d0.sample(d1_count, replace=True)\n",
    "print(len(d0_over))\n",
    "\n",
    "#concatenation:\n",
    "dtrain = pd.concat([d1, d0_over], axis=0)\n",
    "print(len(dtrain))"
   ]
  },
  {
   "cell_type": "markdown",
   "metadata": {},
   "source": [
    "***initializing tfidf vectorizer***"
   ]
  },
  {
   "cell_type": "code",
   "execution_count": 10,
   "metadata": {},
   "outputs": [
    {
     "name": "stdout",
     "output_type": "stream",
     "text": [
      "CPU times: user 0 ns, sys: 0 ns, total: 0 ns\n",
      "Wall time: 6.2 µs\n",
      "(57020, 10611)\n"
     ]
    }
   ],
   "source": [
    "%time\n",
    "#importing TFIDF library:\n",
    "from sklearn.feature_extraction.text import TfidfVectorizer\n",
    "tfidf = TfidfVectorizer(min_df=10, ngram_range=(1, 1))\n",
    "xtr = tfidf.fit_transform(dtrain['Text'])\n",
    "xcv = tfidf.transform(xcv)\n",
    "xtest = tfidf.transform(xtest)\n",
    "\n",
    "print(xtr.shape)"
   ]
  },
  {
   "cell_type": "markdown",
   "metadata": {},
   "source": [
    "***sparse to dense matrix conversion with reduced features***"
   ]
  },
  {
   "cell_type": "code",
   "execution_count": 11,
   "metadata": {},
   "outputs": [
    {
     "name": "stdout",
     "output_type": "stream",
     "text": [
      "(57020, 500)\n",
      "(8000, 500)\n",
      "(10000, 500)\n"
     ]
    }
   ],
   "source": [
    "from sklearn.decomposition import TruncatedSVD\n",
    "tsvd = TruncatedSVD(n_components=500)\n",
    "\n",
    "xtr = tsvd.fit_transform(xtr)\n",
    "xcv = tsvd.transform(xcv)\n",
    "xtest = tsvd.transform(xtest)\n",
    "\n",
    "print(xtr.shape)\n",
    "print(xcv.shape)\n",
    "print(xtest.shape)\n",
    " "
   ]
  },
  {
   "cell_type": "markdown",
   "metadata": {},
   "source": [
    "***Standardizing data***"
   ]
  },
  {
   "cell_type": "code",
   "execution_count": 12,
   "metadata": {},
   "outputs": [
    {
     "name": "stdout",
     "output_type": "stream",
     "text": [
      "(57020, 500)\n",
      "(8000, 500)\n",
      "(10000, 500)\n"
     ]
    }
   ],
   "source": [
    "#standardizing the data:\n",
    "sc = StandardScaler(with_mean=False)\n",
    "xtr = sc.fit_transform(xtr)\n",
    "xcv = sc.transform(xcv)\n",
    "xtest = sc.transform(xtest)\n",
    "print(xtr.shape)\n",
    "print(xcv.shape)\n",
    "print(xtest.shape)"
   ]
  },
  {
   "cell_type": "markdown",
   "metadata": {},
   "source": [
    "***KNN-KDtree implementation of tfidf***"
   ]
  },
  {
   "cell_type": "code",
   "execution_count": 13,
   "metadata": {},
   "outputs": [
    {
     "data": {
      "text/plain": [
       "svmem(total=25285955584, available=23042207744, percent=8.9, used=1889882112, free=22285123584, active=1822142464, inactive=946888704, buffers=41414656, cached=1069535232, shared=19697664, slab=59330560)"
      ]
     },
     "execution_count": 13,
     "metadata": {},
     "output_type": "execute_result"
    }
   ],
   "source": [
    "psutil.virtual_memory()"
   ]
  },
  {
   "cell_type": "code",
   "execution_count": 14,
   "metadata": {},
   "outputs": [
    {
     "name": "stdout",
     "output_type": "stream",
     "text": [
      "CPU times: user 20h 36min 39s, sys: 2.69 s, total: 20h 36min 41s\n",
      "Wall time: 1h 51min 28s\n"
     ]
    }
   ],
   "source": [
    "%%time\n",
    "\n",
    "auc_cv_dict = {}\n",
    "auc_tr_dict = {}\n",
    "\n",
    "\n",
    "for i in range(3, 50, 4):\n",
    "    knn = KNeighborsClassifier(n_neighbors=i, algorithm='kd_tree', weights='uniform', n_jobs=-1)\n",
    "    knn.fit(xtr, dtrain['numeric_score'])\n",
    "    \n",
    "    #performance metrics for cv data:\n",
    "    y_pred_cv = knn.predict_proba(xcv)        \n",
    "    fpr_cv, tpr_cv, thresholds_cv = roc_curve(ycv, y_pred_cv[:,1])\n",
    "    auc_cv_dict[i] = auc(fpr_cv, tpr_cv)\n",
    "    \n",
    "    \n",
    "    #performance metrics for training data:\n",
    "    y_pred_tr = knn.predict_proba(xtr)\n",
    "    fpr_tr, tpr_tr, thresholds_tr = roc_curve(dtrain['numeric_score'], y_pred_tr[:,1])\n",
    "    auc_tr_dict[i] = auc(fpr_tr, tpr_tr)    "
   ]
  },
  {
   "cell_type": "code",
   "execution_count": 15,
   "metadata": {},
   "outputs": [
    {
     "name": "stdout",
     "output_type": "stream",
     "text": [
      "[(47, 0.6003175311399604), (43, 0.5991817537837305), (39, 0.5950563431479462), (35, 0.5906984499572062), (15, 0.5873221412228365), (31, 0.5841702320406841), (19, 0.5826308434143773), (23, 0.5777631821842615), (27, 0.5750250457613426), (11, 0.5682009129636122), (7, 0.5510578649079285), (3, 0.5250836359840502)]\n",
      "\n",
      "optimal k and auc value on cv data is:\n",
      " (47, 0.6003175311399604)\n"
     ]
    }
   ],
   "source": [
    "#sorting dictionary wrt higest AuC Score of both training and cv data:\n",
    "cv_tup = sorted(auc_cv_dict.items(), key= lambda x: x[1],reverse=True)\n",
    "tr_tup = sorted(auc_tr_dict.items(), key= lambda x: x[1],reverse=True)\n",
    "print(cv_tup)\n",
    "print()\n",
    "print('optimal k and auc value on cv data is:\\n {}'.format(cv_tup[0]))"
   ]
  },
  {
   "cell_type": "code",
   "execution_count": 16,
   "metadata": {},
   "outputs": [
    {
     "data": {
      "text/plain": [
       "<matplotlib.legend.Legend at 0x7f01e8090fd0>"
      ]
     },
     "execution_count": 16,
     "metadata": {},
     "output_type": "execute_result"
    },
    {
     "data": {
      "image/png": "[encoded data removed]",
      "text/plain": [
       "<Figure size 432x288 with 1 Axes>"
      ]
     },
     "metadata": {},
     "output_type": "display_data"
    }
   ],
   "source": [
    "plt.plot([x[0] for x in cv_tup], [x[1] for x in cv_tup], linestyle='-', color='m', marker='o',label='AUC on CV data')\n",
    "plt.plot([x[0] for x in tr_tup], [x[1] for x in tr_tup], linestyle='-', color='g', marker='o', label='AUC on TR data')\n",
    "#plt.plot([0, 1], [0, 1], linestyle='--')\n",
    "plt.xlabel(\"K value\")\n",
    "plt.ylabel('AUC value')\n",
    "plt.title('auc of Training and cross validation data points')\n",
    "plt.legend()"
   ]
  },
  {
   "cell_type": "code",
   "execution_count": 17,
   "metadata": {},
   "outputs": [
    {
     "name": "stdout",
     "output_type": "stream",
     "text": [
      "0.58\n"
     ]
    }
   ],
   "source": [
    "knn = KNeighborsClassifier(n_neighbors=11, algorithm='brute', weights='uniform', n_jobs=-1)\n",
    "knn.fit(xtr, dtrain['numeric_score'])\n",
    "\n",
    "#performance metrics for cv data:\n",
    "y_pred_test = knn.predict_proba(xtest)\n",
    "y_pred = knn.predict(xtest)\n",
    "fpr_test, tpr_test, thresholds_test= roc_curve(ytest, y_pred_test[:,1])\n",
    "auc_test = auc(fpr_test, tpr_test)\n",
    "print(np.round(auc_test,2))\n",
    "\n",
    "y_pred_tr = knn.predict_proba(xtr)\n",
    "fpr_tr, tpr_tr, thresholds_tr = roc_curve(dtrain['numeric_score'], y_pred_tr[:,1])"
   ]
  },
  {
   "cell_type": "code",
   "execution_count": 18,
   "metadata": {},
   "outputs": [
    {
     "data": {
      "text/plain": [
       "<matplotlib.legend.Legend at 0x7f01eec19a58>"
      ]
     },
     "execution_count": 18,
     "metadata": {},
     "output_type": "execute_result"
    },
    {
     "data": {
      "image/png": "[encoded data removed]",
      "text/plain": [
       "<Figure size 432x288 with 1 Axes>"
      ]
     },
     "metadata": {},
     "output_type": "display_data"
    }
   ],
   "source": [
    "plt.plot(fpr_test, tpr_test, color='m', marker='o',label='ROC -testdata')\n",
    "plt.plot([0, 1], [0, 1], linestyle='--')\n",
    "plt.plot(fpr_tr, tpr_tr, linestyle='-', color='g', marker='o', label='ROC - training data')\n",
    "plt.xlabel('False Positive Rate')\n",
    "plt.ylabel('True Positive Rate')\n",
    "plt.title('ROC of Test vs Training Data')\n",
    "plt.legend()"
   ]
  },
  {
   "cell_type": "code",
   "execution_count": 19,
   "metadata": {},
   "outputs": [
    {
     "name": "stdout",
     "output_type": "stream",
     "text": [
      "CPU times: user 0 ns, sys: 0 ns, total: 0 ns\n",
      "Wall time: 7.63 µs\n"
     ]
    },
    {
     "data": {
      "image/png": "[encoded data removed]",
      "text/plain": [
       "<Figure size 432x288 with 2 Axes>"
      ]
     },
     "metadata": {},
     "output_type": "display_data"
    }
   ],
   "source": [
    "%time\n",
    "#creating confusion matrix:\n",
    "\n",
    "cf = confusion_matrix(ytest, y_pred)\n",
    "labels = ['True negative', 'True positive']\n",
    "\n",
    "df_cf = pd.DataFrame(cf, index=labels, columns=['Predicted negative', 'Predicted positive'])\n",
    "sns.heatmap(df_cf, annot=True,fmt='3d', cmap='magma_r')\n",
    "\n",
    "plt.title(\"confusion Matrix of TFidf-BruteForce algorithm\")\n",
    "plt.xlabel(\"classifier prediction values\")\n",
    "plt.ylabel(\"actual value\")\n",
    "plt.show()"
   ]
  },
  {
   "cell_type": "markdown",
   "metadata": {},
   "source": [
    "***TFidfKD tree - optimal k = 47 , AUC = 0.58***"
   ]
  },
  {
   "cell_type": "markdown",
   "metadata": {},
   "source": [
    "# 5. Avg-W2V-BruteForce implementation"
   ]
  },
  {
   "cell_type": "code",
   "execution_count": 9,
   "metadata": {},
   "outputs": [],
   "source": [
    "#sampling precossed 'text' column for w2v:\n",
    "d = df.head(50000)\n",
    "x = d['Text']\n",
    "y = d['numeric_score'].apply(lambda x: 0 if int(x) < 3 else 1)\n",
    "\n",
    "#train-test split and balancing the dataset:\n",
    "\n",
    "#train test split:\n",
    "xt, xtest, yt, ytest = train_test_split(x, y, test_size=0.2, shuffle=False)\n",
    "xtr, xcv, ytr, ycv = train_test_split(xt, yt, test_size=0.2, shuffle=False)"
   ]
  },
  {
   "cell_type": "markdown",
   "metadata": {},
   "source": [
    "***Balancing train data***"
   ]
  },
  {
   "cell_type": "code",
   "execution_count": 10,
   "metadata": {},
   "outputs": [
    {
     "name": "stdout",
     "output_type": "stream",
     "text": [
      "                                                     Text  numeric_score\n",
      "117924  this witty little book makes my son laugh at l...              1\n",
      "117901  i can remember seeing the show when it aired o...              1\n",
      "28510\n",
      "3490\n",
      "28510\n",
      "57020\n"
     ]
    }
   ],
   "source": [
    "#balancing the training dataset:\n",
    "dtrain = pd.concat([xtr, ytr], axis=1)\n",
    "print(dtrain.head(2))\n",
    "d0 = dtrain[dtrain['numeric_score'] == 0.0]\n",
    "d1 = dtrain[dtrain['numeric_score'] == 1.0]\n",
    "\n",
    "d1_count, d0_count = ytr.value_counts()\n",
    "print(d1_count)\n",
    "print(d0_count)\n",
    "\n",
    "#oversampling of minority class:\n",
    "d0_over = d0.sample(d1_count, replace=True)\n",
    "print(len(d0_over))\n",
    "\n",
    "#concatenation:\n",
    "dtrain = pd.concat([d1, d0_over], axis=0)\n",
    "print(len(dtrain))"
   ]
  },
  {
   "cell_type": "markdown",
   "metadata": {},
   "source": [
    "***creating train, cv and test list of words***"
   ]
  },
  {
   "cell_type": "code",
   "execution_count": 11,
   "metadata": {},
   "outputs": [
    {
     "name": "stdout",
     "output_type": "stream",
     "text": [
      "CPU times: user 1.37 s, sys: 784 ms, total: 2.16 s\n",
      "Wall time: 2.16 s\n"
     ]
    }
   ],
   "source": [
    "%%time\n",
    "\n",
    "#training list of words:\n",
    "train_list = []\n",
    "for sentence in dtrain['Text']:\n",
    "    tmp_list = []\n",
    "    for word in sentence.split():\n",
    "        tmp_list.append(word)\n",
    "    train_list.append(tmp_list)\n",
    "\n",
    "#cv list of words\n",
    "cv_list = []\n",
    "for sentence in xcv:\n",
    "    tmp_list = []\n",
    "    for word in sentence.split():\n",
    "        tmp_list.append(word)\n",
    "    cv_list.append(tmp_list)\n",
    "    \n",
    "#test list of words:    \n",
    "test_list = []\n",
    "for sentence in xtest:\n",
    "    tmp_list = []\n",
    "    for word in sentence.split():\n",
    "        tmp_list.append(word)\n",
    "    test_list.append(tmp_list)"
   ]
  },
  {
   "cell_type": "markdown",
   "metadata": {},
   "source": [
    "***instantiating word2vec object for Training data***"
   ]
  },
  {
   "cell_type": "code",
   "execution_count": 12,
   "metadata": {},
   "outputs": [
    {
     "name": "stdout",
     "output_type": "stream",
     "text": [
      "CPU times: user 3min 20s, sys: 956 ms, total: 3min 21s\n",
      "Wall time: 29.6 s\n"
     ]
    }
   ],
   "source": [
    "%%time\n",
    "\n",
    "#importing w2v library\n",
    "from gensim.models import Word2Vec\n",
    "\n",
    "#instantiating training,cv, test word to vector object:\n",
    "trainw2v = Word2Vec(train_list, size=1000, workers=8)\n",
    "cvw2v = Word2Vec(cv_list, size=1000, workers=8)\n",
    "testw2v = Word2Vec(test_list, size=1000, workers=8)\n",
    "\n",
    "#training word2vec List:\n",
    "train_vocab = list(trainw2v.wv.vocab.keys())\n",
    "\n",
    "#cv word2vec List:\n",
    "cv_vocab = list(cvw2v.wv.vocab.keys())\n",
    "\n",
    "#test word2vec List:\n",
    "test_vocab = list(testw2v.wv.vocab.keys())"
   ]
  },
  {
   "cell_type": "markdown",
   "metadata": {},
   "source": [
    "***Avg-W2V representation of train,CV and test data***"
   ]
  },
  {
   "cell_type": "code",
   "execution_count": 13,
   "metadata": {},
   "outputs": [
    {
     "name": "stdout",
     "output_type": "stream",
     "text": [
      "(57020, 1000)\n",
      "(8000, 1000)\n",
      "(10000, 1000)\n",
      "CPU times: user 25min 15s, sys: 3.56 s, total: 25min 19s\n",
      "Wall time: 25min 15s\n"
     ]
    }
   ],
   "source": [
    "%%time\n",
    "\n",
    "#avg-w2v for training data****************************:\n",
    "train_vector = []\n",
    "for sentence in train_list:\n",
    "    vector = np.zeros(1000)\n",
    "    for word in sentence:\n",
    "        cnt = 0\n",
    "        if word in train_vocab:\n",
    "            vector = vector + trainw2v.wv[word]\n",
    "            cnt = cnt + 1\n",
    "    if cnt != 0:\n",
    "        vector = vector / cnt\n",
    "    train_vector.append(vector)\n",
    "    \n",
    "train_vector = np.array(train_vector)\n",
    "print(train_vector.shape)\n",
    "\n",
    "\n",
    "#avg-w2v for cv data***********************************:\n",
    "cv_vector = []\n",
    "for sentence in cv_list:\n",
    "    vector = np.zeros(1000)\n",
    "    for word in sentence:\n",
    "        cnt = 0\n",
    "        if word in cv_vocab:\n",
    "            vector = vector + cvw2v.wv[word]\n",
    "            cnt = cnt + 1\n",
    "    if cnt != 0:\n",
    "        vector = vector / cnt\n",
    "    cv_vector.append(vector)\n",
    "    \n",
    "cv_vector = np.array(cv_vector)\n",
    "print(cv_vector.shape)\n",
    "\n",
    "\n",
    "\n",
    "\n",
    "#avg-w2v for test data**********************************:    \n",
    "test_vector = []\n",
    "for sentence in test_list:\n",
    "    vector = np.zeros(1000)\n",
    "    for word in sentence:\n",
    "        cnt = 0\n",
    "        if word in test_vocab:\n",
    "            vector = vector + testw2v.wv[word]\n",
    "            cnt = cnt + 1\n",
    "    if cnt != 0:\n",
    "        vector = vector / cnt\n",
    "    test_vector.append(vector)\n",
    "    \n",
    "test_vector = np.array(test_vector)\n",
    "print(test_vector.shape) "
   ]
  },
  {
   "cell_type": "markdown",
   "metadata": {},
   "source": [
    "***standardizing data***"
   ]
  },
  {
   "cell_type": "code",
   "execution_count": 14,
   "metadata": {},
   "outputs": [
    {
     "name": "stdout",
     "output_type": "stream",
     "text": [
      "(57020, 1000)\n",
      "(8000, 1000)\n",
      "(10000, 1000)\n"
     ]
    }
   ],
   "source": [
    "#standardizing the data:\n",
    "sc = StandardScaler(with_mean=False)\n",
    "xtr = sc.fit_transform(train_vector)\n",
    "xcv = sc.transform(cv_vector)\n",
    "xtest = sc.transform(test_vector)\n",
    "print(xtr.shape)\n",
    "print(xcv.shape)\n",
    "print(xtest.shape)"
   ]
  },
  {
   "cell_type": "markdown",
   "metadata": {},
   "source": [
    "***KNN-BruteForce-Avg-W2V implementation***"
   ]
  },
  {
   "cell_type": "code",
   "execution_count": 17,
   "metadata": {},
   "outputs": [
    {
     "data": {
      "text/plain": [
       "svmem(total=25285955584, available=21630160896, percent=14.5, used=3301593088, free=20907450368, active=3202215936, inactive=944029696, buffers=42205184, cached=1034706944, shared=19697664, slab=59912192)"
      ]
     },
     "execution_count": 17,
     "metadata": {},
     "output_type": "execute_result"
    }
   ],
   "source": [
    "psutil.virtual_memory()"
   ]
  },
  {
   "cell_type": "code",
   "execution_count": 17,
   "metadata": {},
   "outputs": [
    {
     "name": "stdout",
     "output_type": "stream",
     "text": [
      "CPU times: user 1h 42min 19s, sys: 11min 44s, total: 1h 54min 4s\n",
      "Wall time: 23min 20s\n"
     ]
    }
   ],
   "source": [
    "%%time\n",
    "\n",
    "auc_cv_dict = {}\n",
    "auc_tr_dict = {}\n",
    "\n",
    "\n",
    "for i in range(3, 50, 4):\n",
    "    knn = KNeighborsClassifier(n_neighbors=i, algorithm='brute', weights='uniform')\n",
    "    knn.fit(xtr, dtrain['numeric_score'])\n",
    "    \n",
    "    #performance metrics for cv data:\n",
    "    y_pred_cv = knn.predict_proba(xcv)        \n",
    "    fpr_cv, tpr_cv, thresholds_cv = roc_curve(ycv, y_pred_cv[:,1])\n",
    "    auc_cv_dict[i] = auc(fpr_cv, tpr_cv)\n",
    "    \n",
    "    \n",
    "    #performance metrics for training data:\n",
    "    y_pred_tr = knn.predict_proba(xtr)\n",
    "    fpr_tr, tpr_tr, thresholds_tr = roc_curve(dtrain['numeric_score'], y_pred_tr[:,1])\n",
    "    auc_tr_dict[i] = auc(fpr_tr, tpr_tr)    "
   ]
  },
  {
   "cell_type": "markdown",
   "metadata": {},
   "source": [
    "***Optimal k***"
   ]
  },
  {
   "cell_type": "code",
   "execution_count": 18,
   "metadata": {},
   "outputs": [
    {
     "name": "stdout",
     "output_type": "stream",
     "text": [
      "[(47, 0.5907651924655328), (43, 0.586925073335929), (23, 0.5769363294945998), (39, 0.576748418926174), (19, 0.5759431209104817), (11, 0.5744339858087105), (31, 0.5734264587625986), (27, 0.573264644745871), (35, 0.5723076942026087), (15, 0.5699346015795572), (7, 0.5697014261957956), (3, 0.5251706244897123)]\n",
      "\n",
      "optimal k and auc value on cv data is:\n",
      " (47, 0.5907651924655328)\n"
     ]
    }
   ],
   "source": [
    "#sorting dictionary wrt higest AuC Score of both training and cv data:\n",
    "cv_tup = sorted(auc_cv_dict.items(), key= lambda x: x[1],reverse=True)\n",
    "tr_tup = sorted(auc_tr_dict.items(), key= lambda x: x[1],reverse=True)\n",
    "print(cv_tup)\n",
    "print()\n",
    "print('optimal k and auc value on cv data is:\\n {}'.format(cv_tup[0]))"
   ]
  },
  {
   "cell_type": "markdown",
   "metadata": {},
   "source": [
    "***AUC for training vs cv datapoints***"
   ]
  },
  {
   "cell_type": "code",
   "execution_count": 19,
   "metadata": {},
   "outputs": [
    {
     "data": {
      "text/plain": [
       "<matplotlib.legend.Legend at 0x7f7138de9940>"
      ]
     },
     "execution_count": 19,
     "metadata": {},
     "output_type": "execute_result"
    },
    {
     "data": {
      "image/png": "[encoded data removed]",
      "text/plain": [
       "<Figure size 432x288 with 1 Axes>"
      ]
     },
     "metadata": {},
     "output_type": "display_data"
    }
   ],
   "source": [
    "plt.plot([x[0] for x in cv_tup], [x[1] for x in cv_tup], linestyle='-', color='m', marker='o',label='AUC on CV data')\n",
    "plt.plot([x[0] for x in tr_tup], [x[1] for x in tr_tup], linestyle='-', color='g', marker='o', label='AUC on TR data')\n",
    "#plt.plot([0, 1], [0, 1], linestyle='--')\n",
    "plt.xlabel(\"K value\")\n",
    "plt.ylabel('AUC value')\n",
    "plt.title('auc of Training and cross validation data points')\n",
    "plt.legend()"
   ]
  },
  {
   "cell_type": "markdown",
   "metadata": {},
   "source": [
    "***KNN-BruteForce classifier on optimal k***"
   ]
  },
  {
   "cell_type": "code",
   "execution_count": 20,
   "metadata": {},
   "outputs": [
    {
     "name": "stdout",
     "output_type": "stream",
     "text": [
      "0.6\n"
     ]
    }
   ],
   "source": [
    "knn = KNeighborsClassifier(n_neighbors=11, algorithm='brute', weights='uniform', n_jobs=-1)\n",
    "knn.fit(xtr, dtrain['numeric_score'])\n",
    "\n",
    "#performance metrics for cv data:\n",
    "y_pred_test = knn.predict_proba(xtest)\n",
    "y_pred = knn.predict(xtest)\n",
    "fpr_test, tpr_test, thresholds_test= roc_curve(ytest, y_pred_test[:,1])\n",
    "auc_test = auc(fpr_test, tpr_test)\n",
    "print(np.round(auc_test,2))\n",
    "\n",
    "y_pred_tr = knn.predict_proba(xtr)\n",
    "fpr_tr, tpr_tr, thresholds_tr = roc_curve(dtrain['numeric_score'], y_pred_tr[:,1])"
   ]
  },
  {
   "cell_type": "markdown",
   "metadata": {},
   "source": [
    "***ROC curve of training vs test datapoints***"
   ]
  },
  {
   "cell_type": "code",
   "execution_count": 21,
   "metadata": {},
   "outputs": [
    {
     "data": {
      "text/plain": [
       "<matplotlib.legend.Legend at 0x7f7138cc6128>"
      ]
     },
     "execution_count": 21,
     "metadata": {},
     "output_type": "execute_result"
    },
    {
     "data": {
      "image/png": "[encoded data removed]",
      "text/plain": [
       "<Figure size 432x288 with 1 Axes>"
      ]
     },
     "metadata": {},
     "output_type": "display_data"
    }
   ],
   "source": [
    "plt.plot(fpr_test, tpr_test, color='m', marker='o',label='ROC -testdata')\n",
    "plt.plot([0, 1], [0, 1], linestyle='--')\n",
    "plt.plot(fpr_tr, tpr_tr, linestyle='-', color='g', marker='o', label='ROC - training data')\n",
    "plt.xlabel('False Positive Rate')\n",
    "plt.ylabel('True Positive Rate')\n",
    "plt.title('ROC of Test vs Training Data')\n",
    "plt.legend()"
   ]
  },
  {
   "cell_type": "markdown",
   "metadata": {},
   "source": [
    "***Plotting confusion matrix***"
   ]
  },
  {
   "cell_type": "code",
   "execution_count": 22,
   "metadata": {},
   "outputs": [
    {
     "name": "stdout",
     "output_type": "stream",
     "text": [
      "CPU times: user 0 ns, sys: 0 ns, total: 0 ns\n",
      "Wall time: 6.68 µs\n"
     ]
    },
    {
     "data": {
      "image/png": "[encoded data removed]",
      "text/plain": [
       "<Figure size 432x288 with 2 Axes>"
      ]
     },
     "metadata": {},
     "output_type": "display_data"
    }
   ],
   "source": [
    "%time\n",
    "#creating confusion matrix:\n",
    "\n",
    "cf = confusion_matrix(ytest, y_pred)\n",
    "labels = ['True negative', 'True positive']\n",
    "\n",
    "df_cf = pd.DataFrame(cf, index=labels, columns=['Predicted negative', 'Predicted positive'])\n",
    "sns.heatmap(df_cf, annot=True,fmt='3d', cmap='magma_r')\n",
    "\n",
    "plt.title(\"confusion Matrix of Avg-W2V-BruteForce algorithm\")\n",
    "plt.xlabel(\"classifier prediction values\")\n",
    "plt.ylabel(\"actual value\")\n",
    "plt.show()"
   ]
  },
  {
   "cell_type": "markdown",
   "metadata": {},
   "source": [
    "***AvgW2V-BruteForce - optimal k = 47 , AUC = 0.60***"
   ]
  },
  {
   "cell_type": "markdown",
   "metadata": {},
   "source": [
    "# 6. AvgWV- Kdtree implementation"
   ]
  },
  {
   "cell_type": "code",
   "execution_count": 14,
   "metadata": {},
   "outputs": [
    {
     "data": {
      "text/plain": [
       "svmem(total=25285955584, available=21927403520, percent=13.3, used=3012493312, free=21198508032, active=3601829888, inactive=260513792, buffers=45678592, cached=1029275648, shared=11325440, slab=61198336)"
      ]
     },
     "execution_count": 14,
     "metadata": {},
     "output_type": "execute_result"
    }
   ],
   "source": [
    "psutil.virtual_memory()"
   ]
  },
  {
   "cell_type": "code",
   "execution_count": 15,
   "metadata": {},
   "outputs": [
    {
     "name": "stdout",
     "output_type": "stream",
     "text": [
      "(57020, 1000)\n",
      "(8000, 1000)\n",
      "(10000, 1000)\n",
      "CPU times: user 26min 33s, sys: 3.94 s, total: 26min 37s\n",
      "Wall time: 26min 32s\n"
     ]
    }
   ],
   "source": [
    "%%time\n",
    "\n",
    "#avg-w2v for training data****************************:\n",
    "train_vector = []\n",
    "for sentence in train_list:\n",
    "    vector = np.zeros(1000)\n",
    "    for word in sentence:\n",
    "        cnt = 0\n",
    "        if word in train_vocab:\n",
    "            vector = vector + trainw2v.wv[word]\n",
    "            cnt = cnt + 1\n",
    "    if cnt != 0:\n",
    "        vector = vector / cnt\n",
    "    train_vector.append(vector)\n",
    "    \n",
    "train_vector = np.array(train_vector)\n",
    "print(train_vector.shape)\n",
    "\n",
    "\n",
    "#avg-w2v for cv data***********************************:\n",
    "cv_vector = []\n",
    "for sentence in cv_list:\n",
    "    vector = np.zeros(1000)\n",
    "    for word in sentence:\n",
    "        cnt = 0\n",
    "        if word in cv_vocab:\n",
    "            vector = vector + cvw2v.wv[word]\n",
    "            cnt = cnt + 1\n",
    "    if cnt != 0:\n",
    "        vector = vector / cnt\n",
    "    cv_vector.append(vector)\n",
    "    \n",
    "cv_vector = np.array(cv_vector)\n",
    "print(cv_vector.shape)\n",
    "\n",
    "\n",
    "\n",
    "\n",
    "#avg-w2v for test data**********************************:    \n",
    "test_vector = []\n",
    "for sentence in test_list:\n",
    "    vector = np.zeros(1000)\n",
    "    for word in sentence:\n",
    "        cnt = 0\n",
    "        if word in test_vocab:\n",
    "            vector = vector + testw2v.wv[word]\n",
    "            cnt = cnt + 1\n",
    "    if cnt != 0:\n",
    "        vector = vector / cnt\n",
    "    test_vector.append(vector)\n",
    "    \n",
    "test_vector = np.array(test_vector)\n",
    "print(test_vector.shape) "
   ]
  },
  {
   "cell_type": "code",
   "execution_count": 16,
   "metadata": {},
   "outputs": [
    {
     "name": "stdout",
     "output_type": "stream",
     "text": [
      "(57020, 1000)\n",
      "(8000, 1000)\n",
      "(10000, 1000)\n"
     ]
    }
   ],
   "source": [
    "#standardizing the data:\n",
    "sc = StandardScaler(with_mean=False)\n",
    "xtr = sc.fit_transform(train_vector)\n",
    "xcv = sc.transform(cv_vector)\n",
    "xtest = sc.transform(test_vector)\n",
    "print(xtr.shape)\n",
    "print(xcv.shape)\n",
    "print(xtest.shape)"
   ]
  },
  {
   "cell_type": "code",
   "execution_count": 17,
   "metadata": {},
   "outputs": [
    {
     "name": "stdout",
     "output_type": "stream",
     "text": [
      "CPU times: user 1d 2h 58min 50s, sys: 4.98 s, total: 1d 2h 58min 55s\n",
      "Wall time: 7h 42min 9s\n"
     ]
    }
   ],
   "source": [
    "%%time\n",
    "\n",
    "auc_cv_dict = {}\n",
    "auc_tr_dict = {}\n",
    "\n",
    "\n",
    "for i in range(3, 50, 4):\n",
    "    knn = KNeighborsClassifier(n_neighbors=i, algorithm='kd_tree', weights='uniform', n_jobs=4)\n",
    "    knn.fit(xtr, dtrain['numeric_score'])\n",
    "    \n",
    "    #performance metrics for cv data:\n",
    "    y_pred_cv = knn.predict_proba(xcv)        \n",
    "    fpr_cv, tpr_cv, thresholds_cv = roc_curve(ycv, y_pred_cv[:,1])\n",
    "    auc_cv_dict[i] = auc(fpr_cv, tpr_cv)\n",
    "    \n",
    "    \n",
    "    #performance metrics for training data:\n",
    "    y_pred_tr = knn.predict_proba(xtr)\n",
    "    fpr_tr, tpr_tr, thresholds_tr = roc_curve(dtrain['numeric_score'], y_pred_tr[:,1])\n",
    "    auc_tr_dict[i] = auc(fpr_tr, tpr_tr)    "
   ]
  },
  {
   "cell_type": "markdown",
   "metadata": {},
   "source": [
    "***optimal K***"
   ]
  },
  {
   "cell_type": "code",
   "execution_count": 18,
   "metadata": {},
   "outputs": [
    {
     "name": "stdout",
     "output_type": "stream",
     "text": [
      "[(47, 0.5319765127955474), (43, 0.5290349926275317), (39, 0.5265455817460241), (35, 0.5251305173999337), (31, 0.5176950016712571), (27, 0.5072208157797458), (7, 0.504448191878476), (3, 0.5032813911879258), (23, 0.5032499059677349), (19, 0.5015346158056421), (11, 0.5002669700333066), (15, 0.4999117797986824)]\n",
      "\n",
      "optimal k and auc value on cv data is:\n",
      " (47, 0.5319765127955474)\n"
     ]
    }
   ],
   "source": [
    "#sorting dictionary wrt higest AuC Score of both training and cv data:\n",
    "cv_tup = sorted(auc_cv_dict.items(), key= lambda x: x[1],reverse=True)\n",
    "tr_tup = sorted(auc_tr_dict.items(), key= lambda x: x[1],reverse=True)\n",
    "print(cv_tup)\n",
    "print()\n",
    "print('optimal k and auc value on cv data is:\\n {}'.format(cv_tup[0]))"
   ]
  },
  {
   "cell_type": "markdown",
   "metadata": {},
   "source": [
    "***AUC of train vs CV datapoints***"
   ]
  },
  {
   "cell_type": "code",
   "execution_count": 19,
   "metadata": {},
   "outputs": [
    {
     "data": {
      "text/plain": [
       "<matplotlib.legend.Legend at 0x7f7171410438>"
      ]
     },
     "execution_count": 19,
     "metadata": {},
     "output_type": "execute_result"
    },
    {
     "data": {
      "image/png": "[encoded data removed]",
      "text/plain": [
       "<Figure size 432x288 with 1 Axes>"
      ]
     },
     "metadata": {},
     "output_type": "display_data"
    }
   ],
   "source": [
    "plt.plot([x[0] for x in cv_tup], [x[1] for x in cv_tup], linestyle='-', color='m', marker='o',label='AUC on CV data')\n",
    "plt.plot([x[0] for x in tr_tup], [x[1] for x in tr_tup], linestyle='-', color='g', marker='o', label='AUC on TR data')\n",
    "#plt.plot([0, 1], [0, 1], linestyle='--')\n",
    "plt.xlabel(\"K value\")\n",
    "plt.ylabel('AUC value')\n",
    "plt.title('auc of Training and cross validation data points')\n",
    "plt.legend()"
   ]
  },
  {
   "cell_type": "markdown",
   "metadata": {},
   "source": [
    "***KD-Tree implementation on optimal K***"
   ]
  },
  {
   "cell_type": "code",
   "execution_count": null,
   "metadata": {},
   "outputs": [
    {
     "name": "stdout",
     "output_type": "stream",
     "text": [
      "0.62\n"
     ]
    }
   ],
   "source": [
    "knn = KNeighborsClassifier(n_neighbors=11, algorithm='kd_tree', weights='uniform')\n",
    "knn.fit(xtr, dtrain['numeric_score'])\n",
    "\n",
    "#performance metrics for cv data:\n",
    "y_pred_test = knn.predict_proba(xtest)\n",
    "y_pred = knn.predict(xtest)\n",
    "fpr_test, tpr_test, thresholds_test= roc_curve(ytest, y_pred_test[:,1])\n",
    "auc_test = auc(fpr_test, tpr_test)\n",
    "print(np.round(auc_test,2))\n",
    "\n",
    "y_pred_tr = knn.predict_proba(xtr)\n",
    "fpr_tr, tpr_tr, thresholds_tr = roc_curve(dtrain['numeric_score'], y_pred_tr[:,1])"
   ]
  },
  {
   "cell_type": "markdown",
   "metadata": {},
   "source": [
    "***ROC of train vs CV datapoints***"
   ]
  },
  {
   "cell_type": "code",
   "execution_count": null,
   "metadata": {},
   "outputs": [],
   "source": [
    "plt.plot(fpr_test, tpr_test, color='m', marker='o',label='ROC -testdata')\n",
    "plt.plot([0, 1], [0, 1], linestyle='--')\n",
    "plt.plot(fpr_tr, tpr_tr, linestyle='-', color='g', marker='o', label='ROC - training data')\n",
    "plt.xlabel('False Positive Rate')\n",
    "plt.ylabel('True Positive Rate')\n",
    "plt.title('ROC of Test vs Training Data')\n",
    "plt.legend()"
   ]
  },
  {
   "cell_type": "markdown",
   "metadata": {},
   "source": [
    "***Plotting confusion matrix***"
   ]
  },
  {
   "cell_type": "code",
   "execution_count": null,
   "metadata": {},
   "outputs": [],
   "source": [
    "%time\n",
    "#creating confusion matrix:\n",
    "\n",
    "cf = confusion_matrix(ytest, y_pred)\n",
    "labels = ['True negative', 'True positive']\n",
    "\n",
    "df_cf = pd.DataFrame(cf, index=labels, columns=['Predicted negative', 'Predicted positive'])\n",
    "sns.heatmap(df_cf, annot=True,fmt='3d', cmap='magma_r')\n",
    "\n",
    "plt.title(\"confusion Matrix of Avg-W2V-BruteForce algorithm\")\n",
    "plt.xlabel(\"classifier prediction values\")\n",
    "plt.ylabel(\"actual value\")\n",
    "plt.show()"
   ]
  },
  {
   "cell_type": "markdown",
   "metadata": {},
   "source": [
    "# TF-idf-weighted-w2v-BruteForce"
   ]
  },
  {
   "cell_type": "code",
   "execution_count": 63,
   "metadata": {},
   "outputs": [],
   "source": [
    "#sampling precossed 'text' column for w2v:\n",
    "d = df.head(10000)\n",
    "x = d['Text']\n",
    "y = d['numeric_score'].apply(lambda x: 0 if int(x) < 3 else 1)\n",
    "\n",
    "#train-test split and balancing the dataset:\n",
    "\n",
    "#train test split:\n",
    "xt, xtest, yt, ytest = train_test_split(x, y, test_size=0.2, shuffle=False)\n",
    "xtr, xcv, ytr, ycv = train_test_split(xt, yt, test_size=0.2, shuffle=False)"
   ]
  },
  {
   "cell_type": "markdown",
   "metadata": {},
   "source": [
    "***balancing the dataset***"
   ]
  },
  {
   "cell_type": "code",
   "execution_count": 64,
   "metadata": {},
   "outputs": [
    {
     "name": "stdout",
     "output_type": "stream",
     "text": [
      "                                                     Text  numeric_score\n",
      "117924  this witty little book makes my son laugh at l...              1\n",
      "117901  i can remember seeing the show when it aired o...              1\n",
      "5651\n",
      "749\n",
      "5651\n",
      "11302\n"
     ]
    }
   ],
   "source": [
    "#balancing the training dataset:\n",
    "dtrain = pd.concat([xtr, ytr], axis=1)\n",
    "print(dtrain.head(2))\n",
    "d0 = dtrain[dtrain['numeric_score'] == 0.0]\n",
    "d1 = dtrain[dtrain['numeric_score'] == 1.0]\n",
    "\n",
    "d1_count, d0_count = ytr.value_counts()\n",
    "print(d1_count)\n",
    "print(d0_count)\n",
    "\n",
    "#oversampling of minority class:\n",
    "d0_over = d0.sample(d1_count, replace=True)\n",
    "print(len(d0_over))\n",
    "\n",
    "#concatenation:\n",
    "dtrain = pd.concat([d1, d0_over], axis=0)\n",
    "print(len(dtrain))"
   ]
  },
  {
   "cell_type": "markdown",
   "metadata": {},
   "source": [
    "***Creating list of list of training, test, cv data***"
   ]
  },
  {
   "cell_type": "code",
   "execution_count": 65,
   "metadata": {},
   "outputs": [
    {
     "name": "stdout",
     "output_type": "stream",
     "text": [
      "CPU times: user 436 ms, sys: 28 ms, total: 464 ms\n",
      "Wall time: 465 ms\n"
     ]
    }
   ],
   "source": [
    "%%time\n",
    "\n",
    "#training list of words:\n",
    "train_list = []\n",
    "for sentence in dtrain['Text']:\n",
    "    tmp_list = []\n",
    "    for word in sentence.split():\n",
    "        tmp_list.append(word)\n",
    "    train_list.append(tmp_list)\n",
    "\n",
    "#cv list of words\n",
    "cv_list = []\n",
    "for sentence in xcv:\n",
    "    tmp_list = []\n",
    "    for word in sentence.split():\n",
    "        tmp_list.append(word)\n",
    "    cv_list.append(tmp_list)\n",
    "    \n",
    "#test list of words:    \n",
    "test_list = []\n",
    "for sentence in xtest:\n",
    "    tmp_list = []\n",
    "    for word in sentence.split():\n",
    "        tmp_list.append(word)\n",
    "    test_list.append(tmp_list)"
   ]
  },
  {
   "cell_type": "markdown",
   "metadata": {},
   "source": [
    "***instantiating w2v for training test, cv data***"
   ]
  },
  {
   "cell_type": "code",
   "execution_count": 66,
   "metadata": {},
   "outputs": [
    {
     "name": "stdout",
     "output_type": "stream",
     "text": [
      "CPU times: user 39.9 s, sys: 292 ms, total: 40.2 s\n",
      "Wall time: 6.64 s\n"
     ]
    }
   ],
   "source": [
    "%%time\n",
    "\n",
    "#importing w2v library\n",
    "from gensim.models import Word2Vec\n",
    "\n",
    "#instantiating training,cv, test word to vector object:\n",
    "trainw2v = Word2Vec(train_list, size=1000, workers=8)\n",
    "cvw2v = Word2Vec(cv_list, size=1000, workers=8)\n",
    "testw2v = Word2Vec(test_list, size=1000, workers=8)\n",
    "\n",
    "#training word2vec List:\n",
    "train_vocab = list(trainw2v.wv.vocab.keys())\n",
    "\n",
    "#cv word2vec List:\n",
    "cv_vocab = list(cvw2v.wv.vocab.keys())\n",
    "\n",
    "#test word2vec List:\n",
    "test_vocab = list(testw2v.wv.vocab.keys())"
   ]
  },
  {
   "cell_type": "markdown",
   "metadata": {},
   "source": [
    "***for future***"
   ]
  },
  {
   "cell_type": "code",
   "execution_count": 67,
   "metadata": {},
   "outputs": [],
   "source": [
    "xtr = dtrain['Text']\n",
    "xc = xcv\n",
    "x_test = xtest\n",
    "ytr = dtrain['numeric_score']\n",
    "yc = ycv\n",
    "y_test = ytest"
   ]
  },
  {
   "cell_type": "markdown",
   "metadata": {},
   "source": [
    "***tf-idf of train data and creation of dictionary of training data***"
   ]
  },
  {
   "cell_type": "code",
   "execution_count": 68,
   "metadata": {},
   "outputs": [],
   "source": [
    "from sklearn.feature_extraction.text import TfidfVectorizer\n",
    "model = TfidfVectorizer()\n",
    "tf_idf_matrix = model.fit_transform(dtrain['Text'])\n",
    "xcv = model.transform(xcv)\n",
    "xtest = model.transform(xtest)\n",
    "\n",
    "# we are converting a dictionary with word as a key, and the idf as a value\n",
    "dictionary = dict(zip(model.get_feature_names(), list(model.idf_)))"
   ]
  },
  {
   "cell_type": "markdown",
   "metadata": {},
   "source": [
    "***tfidf-w2v for training data***"
   ]
  },
  {
   "cell_type": "code",
   "execution_count": 69,
   "metadata": {},
   "outputs": [],
   "source": [
    "import tqdm"
   ]
  },
  {
   "cell_type": "markdown",
   "metadata": {},
   "source": [
    "***TFIDF-W2V for training data***"
   ]
  },
  {
   "cell_type": "code",
   "execution_count": 70,
   "metadata": {},
   "outputs": [],
   "source": [
    "tfidf_feat = model.get_feature_names() # tfidf words/col-names\n",
    "# final_tf_idf is the sparse matrix with row= sentence, col=word and cell_val = tfidf\n",
    "\n",
    "tfidf_train_vectors = []; # the tfidf-w2v for each sentence/review is stored in this list\n",
    "row=0;\n",
    "for sent in train_list: # for each review/sentence \n",
    "    sent_vec = np.zeros(1000) # as word vectors are of zero length\n",
    "    weight_sum =0; # num of words with a valid vector in the sentence/review\n",
    "    for word in sent: # for each word in a review/sentence\n",
    "        if word in train_vocab and word in tfidf_feat:\n",
    "            vec = trainw2v.wv[word]            \n",
    "            tf_idf = dictionary[word]*(sent.count(word)/len(sent))\n",
    "            sent_vec += (vec * tf_idf)\n",
    "            weight_sum += tf_idf\n",
    "    if weight_sum != 0:\n",
    "        sent_vec /= weight_sum\n",
    "    tfidf_train_vectors.append(sent_vec)\n",
    "    row += 1"
   ]
  },
  {
   "cell_type": "markdown",
   "metadata": {},
   "source": [
    "***TFIDF-W2V for CV data***"
   ]
  },
  {
   "cell_type": "code",
   "execution_count": 71,
   "metadata": {},
   "outputs": [
    {
     "name": "stdout",
     "output_type": "stream",
     "text": [
      "CPU times: user 43.9 s, sys: 72 ms, total: 44 s\n",
      "Wall time: 43.9 s\n"
     ]
    }
   ],
   "source": [
    "%%time\n",
    "\n",
    "tfidf_feat = model.get_feature_names() # tfidf words/col-names\n",
    "# final_tf_idf is the sparse matrix with row= sentence, col=word and cell_val = tfidf\n",
    "\n",
    "tfidf_cv_vectors = []; # the tfidf-w2v for each sentence/review is stored in this list\n",
    "row=0;\n",
    "for sent in cv_list: # for each review/sentence \n",
    "    sent_vec = np.zeros(1000) # as word vectors are of zero length\n",
    "    weight_sum =0; # num of words with a valid vector in the sentence/review\n",
    "    for word in sent: # for each word in a review/sentence\n",
    "        if word in cv_vocab and word in tfidf_feat:\n",
    "            vec = cvw2v.wv[word]            \n",
    "            tf_idf = dictionary[word]*(sent.count(word)/len(sent))\n",
    "            sent_vec += (vec * tf_idf)\n",
    "            weight_sum += tf_idf\n",
    "    if weight_sum != 0:\n",
    "        sent_vec /= weight_sum\n",
    "    tfidf_cv_vectors.append(sent_vec)\n",
    "    row += 1"
   ]
  },
  {
   "cell_type": "markdown",
   "metadata": {},
   "source": [
    "***TFIDF-W2V for test data***"
   ]
  },
  {
   "cell_type": "code",
   "execution_count": 72,
   "metadata": {},
   "outputs": [
    {
     "name": "stdout",
     "output_type": "stream",
     "text": [
      "CPU times: user 1min 2s, sys: 112 ms, total: 1min 2s\n",
      "Wall time: 1min 2s\n"
     ]
    }
   ],
   "source": [
    "%%time\n",
    "\n",
    "tfidf_feat = model.get_feature_names() # tfidf words/col-names\n",
    "# final_tf_idf is the sparse matrix with row= sentence, col=word and cell_val = tfidf\n",
    "\n",
    "tfidf_test_vectors = []; # the tfidf-w2v for each sentence/review is stored in this list\n",
    "row=0;\n",
    "for sent in test_list: # for each review/sentence \n",
    "    sent_vec = np.zeros(1000) # as word vectors are of zero length\n",
    "    weight_sum =0; # num of words with a valid vector in the sentence/review\n",
    "    for word in sent: # for each word in a review/sentence\n",
    "        if word in test_vocab and word in tfidf_feat:\n",
    "            vec = testw2v.wv[word]            \n",
    "            tf_idf = dictionary[word]*(sent.count(word)/len(sent))\n",
    "            sent_vec += (vec * tf_idf)\n",
    "            weight_sum += tf_idf\n",
    "    if weight_sum != 0:\n",
    "        sent_vec /= weight_sum\n",
    "    tfidf_test_vectors.append(sent_vec)\n",
    "    row += 1"
   ]
  },
  {
   "cell_type": "markdown",
   "metadata": {},
   "source": [
    "***conversion of list into array***"
   ]
  },
  {
   "cell_type": "code",
   "execution_count": 73,
   "metadata": {},
   "outputs": [],
   "source": [
    "xtr = np.array(tfidf_train_vectors)\n",
    "xcv = np.array(tfidf_cv_vectors)\n",
    "xtest = np.array(tfidf_test_vectors)"
   ]
  },
  {
   "cell_type": "markdown",
   "metadata": {},
   "source": [
    "***standardizing data***"
   ]
  },
  {
   "cell_type": "code",
   "execution_count": 74,
   "metadata": {},
   "outputs": [
    {
     "name": "stdout",
     "output_type": "stream",
     "text": [
      "(11302, 1000)\n",
      "(1600, 1000)\n",
      "(2000, 1000)\n"
     ]
    }
   ],
   "source": [
    "#standardizing the data:\n",
    "sc = StandardScaler(with_mean=False)\n",
    "xtr = sc.fit_transform(xtr)\n",
    "xcv = sc.transform(xcv)\n",
    "xtest = sc.transform(xtest)\n",
    "print(xtr.shape)\n",
    "print(xcv.shape)\n",
    "print(xtest.shape)"
   ]
  },
  {
   "cell_type": "markdown",
   "metadata": {},
   "source": [
    "***BruteForce KNN on tfidf-w2v***"
   ]
  },
  {
   "cell_type": "code",
   "execution_count": 75,
   "metadata": {},
   "outputs": [
    {
     "name": "stdout",
     "output_type": "stream",
     "text": [
      "CPU times: user 29.7 s, sys: 46.4 s, total: 1min 16s\n",
      "Wall time: 1min 58s\n"
     ]
    }
   ],
   "source": [
    "%%time\n",
    "auc_cv_dict = {}\n",
    "auc_tr_dict = {}\n",
    "\n",
    "\n",
    "for i in range(3, 50, 4):\n",
    "    knn = KNeighborsClassifier(n_neighbors=i, algorithm='brute', weights='uniform', n_jobs=-1)\n",
    "    knn.fit(xtr, dtrain['numeric_score'])\n",
    "    #performance metrics for cv data:\n",
    "    y_pred_cv = knn.predict_proba(xcv)        \n",
    "    fpr_cv, tpr_cv, thresholds_cv = roc_curve(ycv, y_pred_cv[:,1])\n",
    "    auc_cv_dict[i] = auc(fpr_cv, tpr_cv)\n",
    "    \n",
    "    #performance metrics for training data:\n",
    "    y_pred_tr = knn.predict_proba(xtr)\n",
    "    fpr_tr, tpr_tr, thresholds_tr = roc_curve(dtrain['numeric_score'], y_pred_tr[:,1])\n",
    "    auc_tr_dict[i] = auc(fpr_tr, tpr_tr)\n",
    "    "
   ]
  },
  {
   "cell_type": "markdown",
   "metadata": {},
   "source": [
    "***optimal K***"
   ]
  },
  {
   "cell_type": "code",
   "execution_count": 76,
   "metadata": {},
   "outputs": [
    {
     "name": "stdout",
     "output_type": "stream",
     "text": [
      "[(23, 0.525170196332022), (43, 0.5233986276517397), (35, 0.5219099710800955), (39, 0.5211083867722871), (31, 0.5), (47, 0.49659382802536334), (15, 0.49547565159598356), (3, 0.4896849347056816), (7, 0.4858858292468251), (11, 0.485852149233892), (27, 0.4840042391909612), (19, 0.47695613515115587)]\n",
      "**********************************************************************\n",
      "[(3, 0.9998257332410884), (7, 0.9841385151739375), (11, 0.940887822905892), (15, 0.9094238891261333), (19, 0.8936542662115293), (23, 0.8797253574668421), (27, 0.8691822811822496), (31, 0.8643623726470895), (35, 0.8575178069156252), (39, 0.8508994904803221), (43, 0.8452976831664981), (47, 0.8404385685249307)]\n"
     ]
    }
   ],
   "source": [
    "#sorting dictionary wrt higest AuC Score of both training and cv data:\n",
    "cv_tup = sorted(auc_cv_dict.items(), key= lambda x: x[1],reverse=True)\n",
    "tr_tup = sorted(auc_tr_dict.items(), key= lambda x: x[1],reverse=True)\n",
    "print(cv_tup)\n",
    "print('*' * 70)\n",
    "print(tr_tup)"
   ]
  },
  {
   "cell_type": "markdown",
   "metadata": {},
   "source": [
    "***AUC of train vs cv data***"
   ]
  },
  {
   "cell_type": "code",
   "execution_count": 77,
   "metadata": {},
   "outputs": [
    {
     "data": {
      "text/plain": [
       "<matplotlib.legend.Legend at 0x7f74f347bf98>"
      ]
     },
     "execution_count": 77,
     "metadata": {},
     "output_type": "execute_result"
    },
    {
     "data": {
      "image/png": "[encoded data removed]",
      "text/plain": [
       "<Figure size 432x288 with 1 Axes>"
      ]
     },
     "metadata": {},
     "output_type": "display_data"
    }
   ],
   "source": [
    "plt.plot([x[0] for x in cv_tup], [x[1] for x in cv_tup], linestyle='-', color='m', marker='o',label='AUC on CV data')\n",
    "plt.plot([x[0] for x in tr_tup], [x[1] for x in tr_tup], linestyle='-', color='g', marker='o', label='AUC on TR data')\n",
    "#plt.plot([0, 1], [0, 1], linestyle='--')\n",
    "plt.xlabel(\"K value\")\n",
    "plt.ylabel('AUC value')\n",
    "plt.title('auc of Training and cross validation data points')\n",
    "plt.legend()"
   ]
  },
  {
   "cell_type": "markdown",
   "metadata": {},
   "source": [
    "***KNN brute force on optimal K***"
   ]
  },
  {
   "cell_type": "code",
   "execution_count": 78,
   "metadata": {},
   "outputs": [
    {
     "name": "stdout",
     "output_type": "stream",
     "text": [
      "0.48215795975431447\n"
     ]
    }
   ],
   "source": [
    "knn = KNeighborsClassifier(n_neighbors=11, algorithm='brute', weights='uniform', n_jobs=12)\n",
    "knn.fit(xtr, dtrain['numeric_score'])\n",
    "#performance metrics for cv data:\n",
    "y_pred_test = knn.predict_proba(xtest)\n",
    "y_pred = knn.predict(xtest)\n",
    "fpr_test, tpr_test, thresholds_test= roc_curve(ytest, y_pred_test[:,1])\n",
    "auc_test = auc(fpr_test, tpr_test)\n",
    "print(auc_test)\n",
    "\n",
    "y_pred_tr = knn.predict_proba(xtr)\n",
    "fpr_tr, tpr_tr, thresholds_tr = roc_curve(dtrain['numeric_score'], y_pred_tr[:,1])"
   ]
  },
  {
   "cell_type": "markdown",
   "metadata": {},
   "source": [
    "***confusion matrix***"
   ]
  },
  {
   "cell_type": "code",
   "execution_count": 79,
   "metadata": {},
   "outputs": [
    {
     "name": "stdout",
     "output_type": "stream",
     "text": [
      "CPU times: user 0 ns, sys: 0 ns, total: 0 ns\n",
      "Wall time: 6.68 µs\n"
     ]
    },
    {
     "data": {
      "image/png": "[encoded data removed]",
      "text/plain": [
       "<Figure size 432x288 with 2 Axes>"
      ]
     },
     "metadata": {},
     "output_type": "display_data"
    }
   ],
   "source": [
    "%time\n",
    "#creating confusion matrix:\n",
    "\n",
    "cf = confusion_matrix(ytest, y_pred)\n",
    "labels = ['True negative', 'True positive']\n",
    "\n",
    "df_cf = pd.DataFrame(cf, index=labels, columns=['Predicted negative', 'Predicted positive'])\n",
    "sns.heatmap(df_cf, annot=True,fmt='3d', cmap='magma_r')\n",
    "\n",
    "plt.title(\"confusion Matrix tfidf-w2v-brute force\")\n",
    "plt.xlabel(\"classifier prediction values\")\n",
    "plt.ylabel(\"actual value\")\n",
    "plt.show()"
   ]
  },
  {
   "cell_type": "markdown",
   "metadata": {},
   "source": [
    "***ROC curve***"
   ]
  },
  {
   "cell_type": "code",
   "execution_count": 80,
   "metadata": {},
   "outputs": [
    {
     "data": {
      "text/plain": [
       "<matplotlib.legend.Legend at 0x7f74f7130ef0>"
      ]
     },
     "execution_count": 80,
     "metadata": {},
     "output_type": "execute_result"
    },
    {
     "data": {
      "image/png": "[encoded data removed]",
      "text/plain": [
       "<Figure size 432x288 with 1 Axes>"
      ]
     },
     "metadata": {},
     "output_type": "display_data"
    }
   ],
   "source": [
    "plt.plot(fpr_test, tpr_test, color='m', marker='o',label='ROC -testdata')\n",
    "plt.plot([0, 1], [0, 1], linestyle='--')\n",
    "plt.plot(fpr_tr, tpr_tr, linestyle='-', color='g', marker='o', label='ROC - training data')\n",
    "plt.xlabel('False Positive Rate')\n",
    "plt.ylabel('True Positive Rate')\n",
    "plt.title('ROC of Test vs Training Data')\n",
    "plt.legend()"
   ]
  },
  {
   "cell_type": "markdown",
   "metadata": {},
   "source": [
    "***TFIDF-W2V Bruteforce: optimal k =15, AUC=0.54***"
   ]
  },
  {
   "cell_type": "markdown",
   "metadata": {},
   "source": [
    "# KDtree implementation"
   ]
  },
  {
   "cell_type": "code",
   "execution_count": 81,
   "metadata": {},
   "outputs": [
    {
     "name": "stdout",
     "output_type": "stream",
     "text": [
      "CPU times: user 1h 19min 30s, sys: 212 ms, total: 1h 19min 30s\n",
      "Wall time: 7min 25s\n"
     ]
    }
   ],
   "source": [
    "%%time\n",
    "auc_cv_dict = {}\n",
    "auc_tr_dict = {}\n",
    "\n",
    "\n",
    "for i in range(3, 50, 4):\n",
    "    knn = KNeighborsClassifier(n_neighbors=i, algorithm='kd_tree', weights='uniform', n_jobs=-1)\n",
    "    knn.fit(xtr, dtrain['numeric_score'])\n",
    "    #performance metrics for cv data:\n",
    "    y_pred_cv = knn.predict_proba(xcv)        \n",
    "    fpr_cv, tpr_cv, thresholds_cv = roc_curve(ycv, y_pred_cv[:,1])\n",
    "    auc_cv_dict[i] = auc(fpr_cv, tpr_cv)\n",
    "    \n",
    "    #performance metrics for training data:\n",
    "    y_pred_tr = knn.predict_proba(xtr)\n",
    "    fpr_tr, tpr_tr, thresholds_tr = roc_curve(dtrain['numeric_score'], y_pred_tr[:,1])\n",
    "    auc_tr_dict[i] = auc(fpr_tr, tpr_tr)\n",
    "    "
   ]
  },
  {
   "cell_type": "markdown",
   "metadata": {},
   "source": [
    "***optimal K***"
   ]
  },
  {
   "cell_type": "code",
   "execution_count": 82,
   "metadata": {},
   "outputs": [
    {
     "name": "stdout",
     "output_type": "stream",
     "text": [
      "[(23, 0.525170196332022), (43, 0.5233986276517397), (35, 0.5219099710800955), (39, 0.5211083867722871), (31, 0.5), (47, 0.49659382802536334), (15, 0.49547565159598356), (3, 0.4896849347056816), (7, 0.4858858292468251), (11, 0.485852149233892), (27, 0.4840042391909612), (19, 0.47695613515115587)]\n",
      "**********************************************************************\n",
      "[(3, 0.9998257332410884), (7, 0.9841385151739375), (11, 0.940887822905892), (15, 0.9094238891261333), (19, 0.8936542662115293), (23, 0.8797253574668421), (27, 0.8691822811822496), (31, 0.8643623726470895), (35, 0.8575178069156252), (39, 0.8508994904803221), (43, 0.8452976831664981), (47, 0.8404385685249307)]\n"
     ]
    }
   ],
   "source": [
    "#sorting dictionary wrt higest AuC Score of both training and cv data:\n",
    "cv_tup = sorted(auc_cv_dict.items(), key= lambda x: x[1],reverse=True)\n",
    "tr_tup = sorted(auc_tr_dict.items(), key= lambda x: x[1],reverse=True)\n",
    "print(cv_tup)\n",
    "print('*' * 70)\n",
    "print(tr_tup)"
   ]
  },
  {
   "cell_type": "markdown",
   "metadata": {},
   "source": [
    "***AUC on train vs cv data***"
   ]
  },
  {
   "cell_type": "code",
   "execution_count": 83,
   "metadata": {},
   "outputs": [
    {
     "data": {
      "text/plain": [
       "<matplotlib.legend.Legend at 0x7f74f34be7f0>"
      ]
     },
     "execution_count": 83,
     "metadata": {},
     "output_type": "execute_result"
    },
    {
     "data": {
      "image/png": "[encoded data removed]",
      "text/plain": [
       "<Figure size 432x288 with 1 Axes>"
      ]
     },
     "metadata": {},
     "output_type": "display_data"
    }
   ],
   "source": [
    "plt.plot([x[0] for x in cv_tup], [x[1] for x in cv_tup], linestyle='-', color='m', marker='o',label='AUC on CV data')\n",
    "plt.plot([x[0] for x in tr_tup], [x[1] for x in tr_tup], linestyle='-', color='g', marker='o', label='AUC on TR data')\n",
    "#plt.plot([0, 1], [0, 1], linestyle='--')\n",
    "plt.xlabel(\"K value\")\n",
    "plt.ylabel('AUC value')\n",
    "plt.title('auc of Training and cross validation data points')\n",
    "plt.legend()"
   ]
  },
  {
   "cell_type": "markdown",
   "metadata": {},
   "source": [
    "***KD tree algo on optimal K***"
   ]
  },
  {
   "cell_type": "code",
   "execution_count": 84,
   "metadata": {},
   "outputs": [
    {
     "name": "stdout",
     "output_type": "stream",
     "text": [
      "0.47885757682605984\n"
     ]
    }
   ],
   "source": [
    "knn = KNeighborsClassifier(n_neighbors=15, algorithm='kd_tree', weights='uniform', n_jobs=12)\n",
    "knn.fit(xtr, dtrain['numeric_score'])\n",
    "#performance metrics for cv data:\n",
    "y_pred_test = knn.predict_proba(xtest)\n",
    "y_pred = knn.predict(xtest)\n",
    "fpr_test, tpr_test, thresholds_test= roc_curve(ytest, y_pred_test[:,1])\n",
    "auc_test = auc(fpr_test, tpr_test)\n",
    "print(auc_test)\n",
    "\n",
    "y_pred_tr = knn.predict_proba(xtr)\n",
    "fpr_tr, tpr_tr, thresholds_tr = roc_curve(dtrain['numeric_score'], y_pred_tr[:,1])"
   ]
  },
  {
   "cell_type": "markdown",
   "metadata": {},
   "source": [
    "***confusion matrix***"
   ]
  },
  {
   "cell_type": "code",
   "execution_count": 85,
   "metadata": {},
   "outputs": [
    {
     "name": "stdout",
     "output_type": "stream",
     "text": [
      "CPU times: user 0 ns, sys: 0 ns, total: 0 ns\n",
      "Wall time: 6.2 µs\n"
     ]
    },
    {
     "data": {
      "image/png": "[encoded data removed]",
      "text/plain": [
       "<Figure size 432x288 with 2 Axes>"
      ]
     },
     "metadata": {},
     "output_type": "display_data"
    }
   ],
   "source": [
    "%time\n",
    "#creating confusion matrix:\n",
    "\n",
    "cf = confusion_matrix(ytest, y_pred)\n",
    "labels = ['True negative', 'True positive']\n",
    "\n",
    "df_cf = pd.DataFrame(cf, index=labels, columns=['Predicted negative', 'Predicted positive'])\n",
    "sns.heatmap(df_cf, annot=True,fmt='3d', cmap='magma_r')\n",
    "\n",
    "plt.title(\"confusion Matrix tfidf-w2v-kd tree\")\n",
    "plt.xlabel(\"classifier prediction values\")\n",
    "plt.ylabel(\"actual value\")\n",
    "plt.show()"
   ]
  },
  {
   "cell_type": "markdown",
   "metadata": {},
   "source": [
    "***ROC curve***"
   ]
  },
  {
   "cell_type": "code",
   "execution_count": 86,
   "metadata": {},
   "outputs": [
    {
     "data": {
      "text/plain": [
       "<matplotlib.legend.Legend at 0x7f74f11c7f60>"
      ]
     },
     "execution_count": 86,
     "metadata": {},
     "output_type": "execute_result"
    },
    {
     "data": {
      "image/png": "[encoded data removed]",
      "text/plain": [
       "<Figure size 432x288 with 1 Axes>"
      ]
     },
     "metadata": {},
     "output_type": "display_data"
    }
   ],
   "source": [
    "plt.plot(fpr_test, tpr_test, color='m', marker='o',label='ROC -testdata')\n",
    "plt.plot([0, 1], [0, 1], linestyle='--')\n",
    "plt.plot(fpr_tr, tpr_tr, linestyle='-', color='g', marker='o', label='ROC - training data')\n",
    "plt.xlabel('False Positive Rate')\n",
    "plt.ylabel('True Positive Rate')\n",
    "plt.title('ROC of Test vs Training Data')\n",
    "plt.legend()"
   ]
  },
  {
   "cell_type": "markdown",
   "metadata": {},
   "source": [
    "# tfidf-w2v kdtree - optimal k =15, AUC = 0.51"
   ]
  },
  {
   "cell_type": "markdown",
   "metadata": {},
   "source": [
    "***consolidating performance of all four vectorizers and diplaying***"
   ]
  },
  {
   "cell_type": "code",
   "execution_count": 5,
   "metadata": {},
   "outputs": [
    {
     "data": {
      "text/html": [
       "<div>\n",
       "<style scoped>\n",
       "    .dataframe tbody tr th:only-of-type {\n",
       "        vertical-align: middle;\n",
       "    }\n",
       "\n",
       "    .dataframe tbody tr th {\n",
       "        vertical-align: top;\n",
       "    }\n",
       "\n",
       "    .dataframe thead th {\n",
       "        text-align: right;\n",
       "    }\n",
       "</style>\n",
       "<table border=\"1\" class=\"dataframe\">\n",
       "  <thead>\n",
       "    <tr style=\"text-align: right;\">\n",
       "      <th></th>\n",
       "      <th>AUC</th>\n",
       "      <th>Koptimal</th>\n",
       "      <th>algorithm</th>\n",
       "    </tr>\n",
       "  </thead>\n",
       "  <tbody>\n",
       "    <tr>\n",
       "      <th>0</th>\n",
       "      <td>0.71</td>\n",
       "      <td>47</td>\n",
       "      <td>Brute-Bow</td>\n",
       "    </tr>\n",
       "    <tr>\n",
       "      <th>1</th>\n",
       "      <td>0.67</td>\n",
       "      <td>11</td>\n",
       "      <td>Brute-Tfidf</td>\n",
       "    </tr>\n",
       "    <tr>\n",
       "      <th>2</th>\n",
       "      <td>0.60</td>\n",
       "      <td>47</td>\n",
       "      <td>Brute-W2V</td>\n",
       "    </tr>\n",
       "    <tr>\n",
       "      <th>3</th>\n",
       "      <td>0.54</td>\n",
       "      <td>15</td>\n",
       "      <td>Brute-Tfidf-W2V</td>\n",
       "    </tr>\n",
       "    <tr>\n",
       "      <th>4</th>\n",
       "      <td>0.70</td>\n",
       "      <td>39</td>\n",
       "      <td>KD-Bow</td>\n",
       "    </tr>\n",
       "    <tr>\n",
       "      <th>5</th>\n",
       "      <td>0.58</td>\n",
       "      <td>47</td>\n",
       "      <td>KD-Tfidf</td>\n",
       "    </tr>\n",
       "    <tr>\n",
       "      <th>6</th>\n",
       "      <td>0.62</td>\n",
       "      <td>47</td>\n",
       "      <td>KD-W2V</td>\n",
       "    </tr>\n",
       "    <tr>\n",
       "      <th>7</th>\n",
       "      <td>0.51</td>\n",
       "      <td>15</td>\n",
       "      <td>KD-Tfidf-W2V</td>\n",
       "    </tr>\n",
       "  </tbody>\n",
       "</table>\n",
       "</div>"
      ],
      "text/plain": [
       "    AUC  Koptimal        algorithm\n",
       "0  0.71        47        Brute-Bow\n",
       "1  0.67        11      Brute-Tfidf\n",
       "2  0.60        47        Brute-W2V\n",
       "3  0.54        15  Brute-Tfidf-W2V\n",
       "4  0.70        39           KD-Bow\n",
       "5  0.58        47         KD-Tfidf\n",
       "6  0.62        47           KD-W2V\n",
       "7  0.51        15     KD-Tfidf-W2V"
      ]
     },
     "execution_count": 5,
     "metadata": {},
     "output_type": "execute_result"
    }
   ],
   "source": [
    "perf_dict = dict(algorithm = ['Brute-Bow', 'Brute-Tfidf', 'Brute-W2V', 'Brute-Tfidf-W2V',\n",
    "                             'KD-Bow', 'KD-Tfidf', 'KD-W2V', 'KD-Tfidf-W2V'],\n",
    "                Koptimal = [47, 11,47, 15, 39, 47, 47, 15 ],\n",
    "                AUC = [0.71, 0.67, 0.60, 0.54, 0.70, 0.58, 0.62, 0.51])\n",
    "\n",
    "perf_df = pd.DataFrame(perf_dict)\n",
    "perf_df"
   ]
  },
  {
   "cell_type": "markdown",
   "metadata": {},
   "source": [
    "***SUMMARY :***\n",
    "- taken 50K datapoints for each vectorizers and observed:\n",
    "\n",
    "1. out of eight vectorizerizers, we could see best AUC was observed in case of BOW-brute force implementation observed.\n",
    "2. least AUC was observed in case of tfidf-w2v-KNN implementation for both of its version(brute and KDtree).\n",
    "3. least time taken to train the model and finding optimal k was bow-bruteForce-KNN ~ 43min 14s.\n",
    "4. Maximum time taken to train the model and finding optimal k was w2v-KDtree-KNN ~ 7h 42min 9s."
   ]
  },
  {
   "cell_type": "code",
   "execution_count": null,
   "metadata": {},
   "outputs": [],
   "source": []
  }
 ],
 "metadata": {
  "kernelspec": {
   "display_name": "Python 3",
   "language": "python",
   "name": "python3"
  },
  "language_info": {
   "codemirror_mode": {
    "name": "ipython",
    "version": 3
   },
   "file_extension": ".py",
   "mimetype": "text/x-python",
   "name": "python",
   "nbconvert_exporter": "python",
   "pygments_lexer": "ipython3",
   "version": "3.5.3"
  }
 },
 "nbformat": 4,
 "nbformat_minor": 2
}
