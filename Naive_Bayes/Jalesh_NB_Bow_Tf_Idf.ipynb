{
 "cells": [
  {
   "cell_type": "markdown",
   "metadata": {},
   "source": [
    "## NaiveBayes on all 364k cleaned data points with BoW and TF-IDF"
   ]
  },
  {
   "cell_type": "code",
   "execution_count": 1,
   "metadata": {},
   "outputs": [
    {
     "name": "stdout",
     "output_type": "stream",
     "text": [
      "CPU times: user 1.76 s, sys: 1.1 s, total: 2.85 s\n",
      "Wall time: 1.44 s\n"
     ]
    }
   ],
   "source": [
    "%%time\n",
    "import sqlite3\n",
    "import warnings\n",
    "import sys\n",
    "import os\n",
    "import pandas as pd\n",
    "import numpy as np\n",
    "import matplotlib.pyplot as plt\n",
    "import seaborn as sns\n",
    "%matplotlib inline\n",
    "##############################\n",
    "\n",
    "import nltk\n",
    "from nltk.stem.porter import PorterStemmer\n",
    "from nltk.stem.wordnet import WordNetLemmatizer\n",
    "\n",
    "\n",
    "##############################\n",
    "\n",
    "from nltk.corpus import stopwords\n",
    "from sklearn.feature_extraction.text import TfidfTransformer\n",
    "from sklearn.feature_extraction.text import TfidfVectorizer\n",
    "from sklearn.feature_extraction.text import CountVectorizer\n",
    "\n",
    "##############################\n",
    "\n",
    "import re\n",
    "import gensim\n",
    "import random\n",
    "import time\n",
    "import datetime\n",
    "\n",
    "##############################\n",
    "\n",
    "from sklearn.decomposition import TruncatedSVD\n",
    "from sklearn.metrics import accuracy_score\n",
    "from sklearn.model_selection import cross_val_score\n",
    "from sklearn.metrics import confusion_matrix\n",
    "from sklearn.preprocessing import StandardScaler\n",
    "\n",
    "##############################\n",
    "\n",
    "from sklearn.naive_bayes import MultinomialNB\n",
    "\n"
   ]
  },
  {
   "cell_type": "code",
   "execution_count": 2,
   "metadata": {},
   "outputs": [
    {
     "name": "stdout",
     "output_type": "stream",
     "text": [
      "Positive    443777\n",
      "Negative     82037\n",
      "Name: Score, dtype: int64\n",
      "CPU times: user 5.3 s, sys: 668 ms, total: 5.97 s\n",
      "Wall time: 5.97 s\n"
     ]
    }
   ],
   "source": [
    "%%time\n",
    "\n",
    "#creating the connection object towards database file\n",
    "import sqlite3\n",
    "con = sqlite3.connect('database.sqlite')\n",
    "\n",
    "#removing the reviews ==3\n",
    "filtered_data = pd.read_sql_query(\"\"\" SELECT * FROM Reviews WHERE Score != 3 \"\"\",con)\n",
    "filtered_data['Score'] = filtered_data['Score'].apply(lambda x : 'Positive' if int(x) > 3 else 'Negative')\n",
    "print(filtered_data['Score'].value_counts())\n",
    "\n",
    "#droping duplicate values:\n",
    "sorted_data=filtered_data.sort_values('ProductId', axis=0, ascending=True, inplace=False)\n",
    "final = sorted_data.drop_duplicates(subset=['UserId', 'ProfileName', 'Time', 'Text'], keep='first')\n",
    "final = final[final['HelpfulnessNumerator'] <= final['HelpfulnessDenominator']]\n",
    "\n",
    "len(final)"
   ]
  },
  {
   "cell_type": "markdown",
   "metadata": {},
   "source": [
    "## sorting database based on the 'Time' column"
   ]
  },
  {
   "cell_type": "code",
   "execution_count": 3,
   "metadata": {
    "collapsed": true
   },
   "outputs": [],
   "source": [
    "#sorting dataframe based on time:\n",
    "final = final.sort_values('Time')"
   ]
  },
  {
   "cell_type": "markdown",
   "metadata": {},
   "source": [
    "## initial preprocessing steps:"
   ]
  },
  {
   "cell_type": "code",
   "execution_count": 4,
   "metadata": {},
   "outputs": [
    {
     "name": "stdout",
     "output_type": "stream",
     "text": [
      "CPU times: user 4.72 s, sys: 104 ms, total: 4.82 s\n",
      "Wall time: 4.82 s\n"
     ]
    }
   ],
   "source": [
    "%%time\n",
    "# removeing HTML TAG\n",
    "final['Text'] = final['Text'].apply(lambda x : re.sub('<.*?>',' ', x))\n",
    "\n",
    "#removing punctuation marks:\n",
    "final['Text'] = final['Text'].apply(lambda x: re.sub(r'[?|!|\\'|\"|#|.|\\,|)|(|\\|/|:|-]', r' ', x))\n",
    "\n",
    "#converting it to lower case:\n",
    "final['Text'] = final['Text'].apply(lambda x: x.lower())\n"
   ]
  },
  {
   "cell_type": "code",
   "execution_count": 5,
   "metadata": {},
   "outputs": [
    {
     "name": "stdout",
     "output_type": "stream",
     "text": [
      "CPU times: user 4 ms, sys: 0 ns, total: 4 ms\n",
      "Wall time: 2.01 ms\n"
     ]
    }
   ],
   "source": [
    "%%time\n",
    "#creating stopwords list:\n",
    "\n",
    "stop = set(stopwords.words('english')) #set of stopwords\n",
    "stop = list(stop)\n",
    "temp = []\n",
    "for i in range(len(stop)):\n",
    "    if stop[i] in ('shouldn', 'should', 'off', 'must', \"shouldn't\", \"wouldn't\", \"needn't\", \"doesn't\", 'not', 'very','ain','mightn',\"needn't\"):\n",
    "        continue\n",
    "    else:\n",
    "        temp.append(stop[i])\n",
    "stop = set(temp)\n",
    "\n",
    "#Creating an instance of SnowballStemmer class\n",
    "sno = nltk.stem.SnowballStemmer('english') "
   ]
  },
  {
   "cell_type": "code",
   "execution_count": 6,
   "metadata": {},
   "outputs": [
    {
     "name": "stdout",
     "output_type": "stream",
     "text": [
      "CPU times: user 5min 12s, sys: 732 ms, total: 5min 13s\n",
      "Wall time: 5min 13s\n"
     ]
    }
   ],
   "source": [
    "%%time\n",
    "\n",
    "#creating list of cleaned words and two seperate lists of pos & neg reviews\n",
    "i=0\n",
    "str1=' '\n",
    "final_string=[]\n",
    "all_positive_words=[] # store words from +ve reviews here\n",
    "all_negative_words=[] # store words from -ve reviews here.\n",
    "s=''\n",
    "for sentence in final['Text'].values:\n",
    "    filtered_sentence=[]\n",
    "    for word in sentence.split():\n",
    "        if((word not in stop) & (len(word)>2) & (word.isalpha())):    \n",
    "            s = sno.stem(word).encode('utf8')\n",
    "            filtered_sentence.append(s)\n",
    "            if (final['Score'].values)[i] == 'Positive': \n",
    "                all_positive_words.append(s) #list of all words used to describe positive reviews\n",
    "            elif(final['Score'].values)[i] == 'Negative':\n",
    "                all_negative_words.append(s) #list of all words used to describe negative reviews reviews\n",
    "        else:\n",
    "            continue\n",
    " #print(filtered_sentence)\n",
    "    str1 = b\" \".join(filtered_sentence) #final string of cleaned words\n",
    "    #print(\"*\" * 40)\n",
    "    \n",
    "    final_string.append(str1)\n",
    "    i+=1\n",
    "            "
   ]
  },
  {
   "cell_type": "code",
   "execution_count": 7,
   "metadata": {
    "collapsed": true
   },
   "outputs": [],
   "source": [
    "# creating a column of cleaned text after data preprocessing:\n",
    "\n",
    "final['CleanedText'] = final_string #adding a column of CleanedText which displays the data after pre-processing of the review \n",
    "final['CleanedText'] = final['CleanedText'].str.decode(\"utf-8\")"
   ]
  },
  {
   "cell_type": "code",
   "execution_count": 8,
   "metadata": {},
   "outputs": [
    {
     "data": {
      "text/html": [
       "<div>\n",
       "<style scoped>\n",
       "    .dataframe tbody tr th:only-of-type {\n",
       "        vertical-align: middle;\n",
       "    }\n",
       "\n",
       "    .dataframe tbody tr th {\n",
       "        vertical-align: top;\n",
       "    }\n",
       "\n",
       "    .dataframe thead th {\n",
       "        text-align: right;\n",
       "    }\n",
       "</style>\n",
       "<table border=\"1\" class=\"dataframe\">\n",
       "  <thead>\n",
       "    <tr style=\"text-align: right;\">\n",
       "      <th></th>\n",
       "      <th>Text</th>\n",
       "      <th>CleanedText</th>\n",
       "    </tr>\n",
       "  </thead>\n",
       "  <tbody>\n",
       "    <tr>\n",
       "      <th>138706</th>\n",
       "      <td>this witty little book makes my son laugh at l...</td>\n",
       "      <td>witti littl book make son laugh loud recit car...</td>\n",
       "    </tr>\n",
       "    <tr>\n",
       "      <th>138683</th>\n",
       "      <td>i can remember seeing the show when it aired o...</td>\n",
       "      <td>rememb see show air televis year ago child sis...</td>\n",
       "    </tr>\n",
       "    <tr>\n",
       "      <th>417839</th>\n",
       "      <td>beetlejuice is a well written movie       ever...</td>\n",
       "      <td>beetlejuic well written movi everyth excel act...</td>\n",
       "    </tr>\n",
       "    <tr>\n",
       "      <th>346055</th>\n",
       "      <td>a twist of rumplestiskin captured on film  sta...</td>\n",
       "      <td>twist rumplestiskin captur film star michael k...</td>\n",
       "    </tr>\n",
       "    <tr>\n",
       "      <th>417838</th>\n",
       "      <td>beetlejuice is an excellent and funny movie  k...</td>\n",
       "      <td>beetlejuic excel funni movi keaton hilari wack...</td>\n",
       "    </tr>\n",
       "    <tr>\n",
       "      <th>346116</th>\n",
       "      <td>this is one movie that should be in your movie...</td>\n",
       "      <td>one movi should movi collect fill comedi actio...</td>\n",
       "    </tr>\n",
       "    <tr>\n",
       "      <th>346041</th>\n",
       "      <td>i  myself always enjoyed this movie  it s very...</td>\n",
       "      <td>alway enjoy movi veri funni entertain hesit pi...</td>\n",
       "    </tr>\n",
       "    <tr>\n",
       "      <th>70688</th>\n",
       "      <td>i bought a few of these after my apartment was...</td>\n",
       "      <td>bought apart infest fruit fli hour trap mani f...</td>\n",
       "    </tr>\n",
       "  </tbody>\n",
       "</table>\n",
       "</div>"
      ],
      "text/plain": [
       "                                                     Text  \\\n",
       "138706  this witty little book makes my son laugh at l...   \n",
       "138683  i can remember seeing the show when it aired o...   \n",
       "417839  beetlejuice is a well written movie       ever...   \n",
       "346055  a twist of rumplestiskin captured on film  sta...   \n",
       "417838  beetlejuice is an excellent and funny movie  k...   \n",
       "346116  this is one movie that should be in your movie...   \n",
       "346041  i  myself always enjoyed this movie  it s very...   \n",
       "70688   i bought a few of these after my apartment was...   \n",
       "\n",
       "                                              CleanedText  \n",
       "138706  witti littl book make son laugh loud recit car...  \n",
       "138683  rememb see show air televis year ago child sis...  \n",
       "417839  beetlejuic well written movi everyth excel act...  \n",
       "346055  twist rumplestiskin captur film star michael k...  \n",
       "417838  beetlejuic excel funni movi keaton hilari wack...  \n",
       "346116  one movi should movi collect fill comedi actio...  \n",
       "346041  alway enjoy movi veri funni entertain hesit pi...  \n",
       "70688   bought apart infest fruit fli hour trap mani f...  "
      ]
     },
     "execution_count": 8,
     "metadata": {},
     "output_type": "execute_result"
    }
   ],
   "source": [
    "final.iloc[:, -2:].head(8)"
   ]
  },
  {
   "cell_type": "markdown",
   "metadata": {},
   "source": [
    "## train test split with NO random shuffling"
   ]
  },
  {
   "cell_type": "code",
   "execution_count": 9,
   "metadata": {},
   "outputs": [
    {
     "name": "stdout",
     "output_type": "stream",
     "text": [
      "CPU times: user 36 ms, sys: 4 ms, total: 40 ms\n",
      "Wall time: 38.3 ms\n"
     ]
    }
   ],
   "source": [
    "%%time\n",
    "\n",
    "#saving scores in variable and splitting into train and test data sets\n",
    "y = final['Score']\n",
    "from sklearn.model_selection import train_test_split\n",
    "#train test split\n",
    "X_train, X_test, y_train, y_test = train_test_split(final['CleanedText'].values, y, test_size=0.3, shuffle=False)"
   ]
  },
  {
   "cell_type": "code",
   "execution_count": 10,
   "metadata": {},
   "outputs": [
    {
     "data": {
      "text/plain": [
       "254919"
      ]
     },
     "execution_count": 10,
     "metadata": {},
     "output_type": "execute_result"
    }
   ],
   "source": [
    "len(X_train)"
   ]
  },
  {
   "cell_type": "code",
   "execution_count": 11,
   "metadata": {},
   "outputs": [
    {
     "data": {
      "text/plain": [
       "254248"
      ]
     },
     "execution_count": 11,
     "metadata": {},
     "output_type": "execute_result"
    }
   ],
   "source": [
    "uniq_words = set(X_train)\n",
    "len(uniq_words)"
   ]
  },
  {
   "cell_type": "markdown",
   "metadata": {},
   "source": [
    "## to check whether time based split happened correctly or not"
   ]
  },
  {
   "cell_type": "code",
   "execution_count": 12,
   "metadata": {},
   "outputs": [
    {
     "name": "stdout",
     "output_type": "stream",
     "text": [
      "138706    True\n",
      "Name: CleanedText, dtype: bool\n",
      "***************************************\n",
      "355171    True\n",
      "Name: CleanedText, dtype: bool\n"
     ]
    }
   ],
   "source": [
    "print(final['CleanedText'].head(1) == X_train[0])\n",
    "print('***************************************')\n",
    "print(final['CleanedText'].tail(1) == X_test[-1])"
   ]
  },
  {
   "cell_type": "markdown",
   "metadata": {},
   "source": [
    "## BoW vectorizer"
   ]
  },
  {
   "cell_type": "code",
   "execution_count": 13,
   "metadata": {},
   "outputs": [
    {
     "name": "stdout",
     "output_type": "stream",
     "text": [
      "CPU times: user 14.4 s, sys: 244 ms, total: 14.6 s\n",
      "Wall time: 14.6 s\n"
     ]
    }
   ],
   "source": [
    "%%time\n",
    "#creating instance of BoW class, fitting and transforming to both trining and test dataset:\n",
    "\n",
    "BoW_vect = CountVectorizer(ngram_range=(1,1)) \n",
    "\n",
    "X_train = BoW_vect.fit_transform(X_train)\n",
    "X_test = BoW_vect.transform(X_test)"
   ]
  },
  {
   "cell_type": "code",
   "execution_count": 14,
   "metadata": {},
   "outputs": [
    {
     "name": "stdout",
     "output_type": "stream",
     "text": [
      "the type of count vectorizer  <class 'scipy.sparse.csr.csr_matrix'>\n",
      "the shape of out training BOW vectorizer  (254919, 58961)\n",
      "the shape of out test BOW vectorizer  (109252, 58961)\n",
      "train data size on RAM is 56 bytes\n",
      "test data size on RAM is 56 bytes\n",
      "CPU times: user 4 ms, sys: 0 ns, total: 4 ms\n",
      "Wall time: 674 µs\n"
     ]
    }
   ],
   "source": [
    "%%time\n",
    "\n",
    "print(\"the type of count vectorizer \",type(X_train))\n",
    "print(\"the shape of out training BOW vectorizer \",X_train.shape)\n",
    "print(\"the shape of out test BOW vectorizer \",X_test.shape)\n",
    "print('train data size on RAM is {} bytes'.format(sys.getsizeof(X_train)))\n",
    "print('test data size on RAM is {} bytes'.format(sys.getsizeof(X_test)))"
   ]
  },
  {
   "cell_type": "markdown",
   "metadata": {},
   "source": [
    "## CV for finding optimal alpha"
   ]
  },
  {
   "cell_type": "code",
   "execution_count": 15,
   "metadata": {},
   "outputs": [
    {
     "name": "stdout",
     "output_type": "stream",
     "text": [
      "CPU times: user 4min 27s, sys: 19.7 s, total: 4min 47s\n",
      "Wall time: 4min 47s\n"
     ]
    }
   ],
   "source": [
    "%%time\n",
    "\n",
    "#creating empty list for holding different CV scores:\n",
    "cv_score = []\n",
    "alph_range = np.arange(1,25) \n",
    "    \n",
    "# perform 10-fold cross validation:\n",
    "\n",
    "for i in alph_range:\n",
    "    clf = MultinomialNB(alpha = i)\n",
    "    scores = cross_val_score(clf, X_train, y_train, cv = 10, scoring = 'accuracy')\n",
    "    cv_score.append(scores.mean())"
   ]
  },
  {
   "cell_type": "code",
   "execution_count": 18,
   "metadata": {},
   "outputs": [
    {
     "name": "stdout",
     "output_type": "stream",
     "text": [
      "Optimal alpha for NB-BoW = 3\n",
      "missclassification error for each alpha value:  [0.098 0.095 0.094 0.096 0.099 0.103 0.107 0.111 0.115 0.119 0.122 0.126\n",
      " 0.129 0.131 0.133 0.135 0.137 0.138 0.14  0.141 0.142 0.143 0.144 0.144]\n"
     ]
    },
    {
     "data": {
      "image/png": "[encoded data removed]",
      "text/plain": [
       "<Figure size 432x288 with 1 Axes>"
      ]
     },
     "metadata": {},
     "output_type": "display_data"
    },
    {
     "name": "stdout",
     "output_type": "stream",
     "text": [
      "CPU times: user 320 ms, sys: 188 ms, total: 508 ms\n",
      "Wall time: 444 ms\n"
     ]
    }
   ],
   "source": [
    "%%time\n",
    "# to calculate misclassification error:\n",
    "\n",
    "MSE = [1 - x for x in cv_score]\n",
    "alpha_optimal_BoW = alph_range[MSE.index(min(MSE))]\n",
    "\n",
    "print('Optimal alpha for NB-BoW = {}'.format(alpha_optimal_BoW))\n",
    "print(\"missclassification error for each alpha value: \", np.round(MSE, 3))\n",
    "\n",
    "#plotting the graph of misclassification error vs alpha\n",
    "\n",
    "plt.plot(alph_range, MSE)\n",
    "plt.title(\"Number of alphas and error\")\n",
    "plt.xlabel(\"AlphaValues\")\n",
    "plt.ylabel(\"MissclassificationError\")\n",
    "plt.show()\n"
   ]
  },
  {
   "cell_type": "markdown",
   "metadata": {},
   "source": [
    "## NB algorithm on optimal alpha found using CV"
   ]
  },
  {
   "cell_type": "code",
   "execution_count": 19,
   "metadata": {
    "collapsed": true
   },
   "outputs": [],
   "source": [
    "# instantiateing the model with optimal alpha found\n",
    "nb_optimal_BoW =  MultinomialNB(alpha = alpha_optimal_BoW)\n",
    "\n",
    "# fitting the model\n",
    "nb_optimal_BoW.fit(X_train, y_train)\n",
    "\n",
    "# predicting the response\n",
    "ypred = nb_optimal_BoW.predict(X_test)"
   ]
  },
  {
   "cell_type": "code",
   "execution_count": 20,
   "metadata": {},
   "outputs": [
    {
     "name": "stdout",
     "output_type": "stream",
     "text": [
      "58961\n",
      "<class 'list'>\n"
     ]
    }
   ],
   "source": [
    "# To get all the features name \n",
    "\n",
    "bow_features = BoW_vect.get_feature_names()\n",
    "print(len(bow_features))\n",
    "print(type(bow_features))"
   ]
  },
  {
   "cell_type": "code",
   "execution_count": 21,
   "metadata": {},
   "outputs": [
    {
     "name": "stdout",
     "output_type": "stream",
     "text": [
      "(2, 58961)\n",
      "\n",
      "[0. 1. 0. ... 0. 0. 0.]\n"
     ]
    }
   ],
   "source": [
    "# To count feature for each class while fitting the model\n",
    "# Number of samples encountered for each (class, feature) during fitting\n",
    "\n",
    "feat_count = nb_optimal_BoW.feature_count_\n",
    "print(feat_count.shape)\n",
    "print()\n",
    "for i in feat_count:\n",
    "    print(i)\n",
    "    break"
   ]
  },
  {
   "cell_type": "code",
   "execution_count": 22,
   "metadata": {},
   "outputs": [
    {
     "data": {
      "text/plain": [
       "array([[-13.29080291, -13.00312084, -13.29080291, ..., -13.29080291,\n",
       "        -13.29080291, -13.29080291],\n",
       "       [-14.56749311, -12.73491165, -14.56749311, ..., -14.56749311,\n",
       "        -14.56749311, -14.56749311]])"
      ]
     },
     "execution_count": 22,
     "metadata": {},
     "output_type": "execute_result"
    }
   ],
   "source": [
    "# log probability of features given a class\n",
    "\n",
    "log_prob = nb_optimal_BoW.feature_log_prob_\n",
    "log_prob"
   ]
  },
  {
   "cell_type": "code",
   "execution_count": 23,
   "metadata": {},
   "outputs": [
    {
     "name": "stdout",
     "output_type": "stream",
     "text": [
      "(2, 58961)\n",
      "\n"
     ]
    },
    {
     "data": {
      "text/html": [
       "<div>\n",
       "<style scoped>\n",
       "    .dataframe tbody tr th:only-of-type {\n",
       "        vertical-align: middle;\n",
       "    }\n",
       "\n",
       "    .dataframe tbody tr th {\n",
       "        vertical-align: top;\n",
       "    }\n",
       "\n",
       "    .dataframe thead th {\n",
       "        text-align: right;\n",
       "    }\n",
       "</style>\n",
       "<table border=\"1\" class=\"dataframe\">\n",
       "  <thead>\n",
       "    <tr style=\"text-align: right;\">\n",
       "      <th></th>\n",
       "      <th>aa</th>\n",
       "      <th>aaa</th>\n",
       "      <th>aaaa</th>\n",
       "      <th>aaaaa</th>\n",
       "      <th>aaaaaaaaaaaaaaaaaaaaaaaaaaaaaaaaaaaaaaaaaaaa</th>\n",
       "      <th>aaaaaaaaaaaaaaaaaaaargh</th>\n",
       "      <th>aaaaaaaaagghh</th>\n",
       "      <th>aaaaaaahhhhhh</th>\n",
       "      <th>aaaaaaarrrrrggghhh</th>\n",
       "      <th>aaaaaah</th>\n",
       "      <th>...</th>\n",
       "      <th>zziga</th>\n",
       "      <th>zzz</th>\n",
       "      <th>zzzzz</th>\n",
       "      <th>zzzzzz</th>\n",
       "      <th>zzzzzzz</th>\n",
       "      <th>zzzzzzzz</th>\n",
       "      <th>zzzzzzzzzz</th>\n",
       "      <th>zzzzzzzzzzz</th>\n",
       "      <th>çay</th>\n",
       "      <th>çaykur</th>\n",
       "    </tr>\n",
       "  </thead>\n",
       "  <tbody>\n",
       "    <tr>\n",
       "      <th>0</th>\n",
       "      <td>-13.290803</td>\n",
       "      <td>-13.003121</td>\n",
       "      <td>-13.290803</td>\n",
       "      <td>-13.290803</td>\n",
       "      <td>-13.290803</td>\n",
       "      <td>-13.290803</td>\n",
       "      <td>-13.290803</td>\n",
       "      <td>-13.290803</td>\n",
       "      <td>-13.003121</td>\n",
       "      <td>-13.290803</td>\n",
       "      <td>...</td>\n",
       "      <td>-13.290803</td>\n",
       "      <td>-13.290803</td>\n",
       "      <td>-13.290803</td>\n",
       "      <td>-13.290803</td>\n",
       "      <td>-13.003121</td>\n",
       "      <td>-13.290803</td>\n",
       "      <td>-13.290803</td>\n",
       "      <td>-13.290803</td>\n",
       "      <td>-13.290803</td>\n",
       "      <td>-13.290803</td>\n",
       "    </tr>\n",
       "    <tr>\n",
       "      <th>1</th>\n",
       "      <td>-14.567493</td>\n",
       "      <td>-12.734912</td>\n",
       "      <td>-14.567493</td>\n",
       "      <td>-14.567493</td>\n",
       "      <td>-14.567493</td>\n",
       "      <td>-14.567493</td>\n",
       "      <td>-14.567493</td>\n",
       "      <td>-14.567493</td>\n",
       "      <td>-14.855175</td>\n",
       "      <td>-14.344350</td>\n",
       "      <td>...</td>\n",
       "      <td>-14.567493</td>\n",
       "      <td>-14.007877</td>\n",
       "      <td>-14.344350</td>\n",
       "      <td>-14.567493</td>\n",
       "      <td>-14.567493</td>\n",
       "      <td>-14.567493</td>\n",
       "      <td>-14.567493</td>\n",
       "      <td>-14.567493</td>\n",
       "      <td>-14.567493</td>\n",
       "      <td>-14.567493</td>\n",
       "    </tr>\n",
       "  </tbody>\n",
       "</table>\n",
       "<p>2 rows × 58961 columns</p>\n",
       "</div>"
      ],
      "text/plain": [
       "          aa        aaa       aaaa      aaaaa  \\\n",
       "0 -13.290803 -13.003121 -13.290803 -13.290803   \n",
       "1 -14.567493 -12.734912 -14.567493 -14.567493   \n",
       "\n",
       "   aaaaaaaaaaaaaaaaaaaaaaaaaaaaaaaaaaaaaaaaaaaa  aaaaaaaaaaaaaaaaaaaargh  \\\n",
       "0                                    -13.290803               -13.290803   \n",
       "1                                    -14.567493               -14.567493   \n",
       "\n",
       "   aaaaaaaaagghh  aaaaaaahhhhhh  aaaaaaarrrrrggghhh    aaaaaah    ...      \\\n",
       "0     -13.290803     -13.290803          -13.003121 -13.290803    ...       \n",
       "1     -14.567493     -14.567493          -14.855175 -14.344350    ...       \n",
       "\n",
       "       zziga        zzz      zzzzz     zzzzzz    zzzzzzz   zzzzzzzz  \\\n",
       "0 -13.290803 -13.290803 -13.290803 -13.290803 -13.003121 -13.290803   \n",
       "1 -14.567493 -14.007877 -14.344350 -14.567493 -14.567493 -14.567493   \n",
       "\n",
       "   zzzzzzzzzz  zzzzzzzzzzz        çay     çaykur  \n",
       "0  -13.290803   -13.290803 -13.290803 -13.290803  \n",
       "1  -14.567493   -14.567493 -14.567493 -14.567493  \n",
       "\n",
       "[2 rows x 58961 columns]"
      ]
     },
     "execution_count": 23,
     "metadata": {},
     "output_type": "execute_result"
    }
   ],
   "source": [
    "#creating data frames of the features calculated:\n",
    "features_prob_df = pd.DataFrame(log_prob, columns = bow_features)\n",
    "print(features_prob_df.shape)\n",
    "print()\n",
    "features_prob_df.head(8)"
   ]
  },
  {
   "cell_type": "code",
   "execution_count": 24,
   "metadata": {},
   "outputs": [
    {
     "name": "stdout",
     "output_type": "stream",
     "text": [
      "               0          1\n",
      "aa    -13.290803 -14.567493\n",
      "aaa   -13.003121 -12.734912\n",
      "aaaa  -13.290803 -14.567493\n",
      "aaaaa -13.290803 -14.567493\n"
     ]
    }
   ],
   "source": [
    "#transposing the data frame created above so as to see log wise feature importance of features\n",
    "\n",
    "feature_prob_tr = features_prob_df.T\n",
    "print(feature_prob_tr.head(4))"
   ]
  },
  {
   "cell_type": "code",
   "execution_count": 25,
   "metadata": {},
   "outputs": [
    {
     "name": "stdout",
     "output_type": "stream",
     "text": [
      "Top 20 Negative Features:-\n",
      " not       -3.906761\n",
      "tast      -4.317114\n",
      "like      -4.399337\n",
      "product   -4.571867\n",
      "one       -4.846395\n",
      "flavor    -4.878896\n",
      "would     -5.002855\n",
      "tri       -5.006215\n",
      "veri      -5.043321\n",
      "good      -5.158488\n",
      "coffe     -5.179075\n",
      "use       -5.193681\n",
      "get       -5.274155\n",
      "buy       -5.275696\n",
      "order     -5.322714\n",
      "food      -5.370962\n",
      "tea       -5.390660\n",
      "box       -5.471568\n",
      "even      -5.488185\n",
      "amazon    -5.526507\n",
      "Name: 0, dtype: float64\n",
      "*****************************************************************\n",
      "Top 20 Positive Features:-\n",
      " not       -4.412527\n",
      "like      -4.464909\n",
      "tast      -4.531159\n",
      "good      -4.674094\n",
      "flavor    -4.687261\n",
      "love      -4.729291\n",
      "great     -4.746423\n",
      "use       -4.769769\n",
      "one       -4.820352\n",
      "veri      -4.893434\n",
      "product   -4.904931\n",
      "tea       -4.915243\n",
      "tri       -4.941869\n",
      "coffe     -5.048052\n",
      "make      -5.058846\n",
      "get       -5.123544\n",
      "food      -5.237660\n",
      "time      -5.376285\n",
      "would     -5.408236\n",
      "buy       -5.413802\n",
      "Name: 1, dtype: float64\n"
     ]
    }
   ],
   "source": [
    "# To show top 20 feature from both class(Feature Importance)\n",
    "\n",
    "print(\"Top 20 Negative Features:-\\n\",feature_prob_tr[0].sort_values(ascending = False)[0:20])\n",
    "print('*****************************************************************')\n",
    "print(\"Top 20 Positive Features:-\\n\",feature_prob_tr[1].sort_values(ascending = False)[0:20])"
   ]
  },
  {
   "cell_type": "code",
   "execution_count": 27,
   "metadata": {},
   "outputs": [
    {
     "name": "stdout",
     "output_type": "stream",
     "text": [
      "Train accuracy is 0.9133057951741533\n"
     ]
    }
   ],
   "source": [
    "# Accuracy on training data\n",
    "train_acc_bow = nb_optimal_BoW.score(X_train, y_train)\n",
    "print(\"Train accuracy is {}\".format(train_acc_bow))\n"
   ]
  },
  {
   "cell_type": "code",
   "execution_count": 28,
   "metadata": {},
   "outputs": [
    {
     "name": "stdout",
     "output_type": "stream",
     "text": [
      "Train Error is 0.08669420482584667\n"
     ]
    }
   ],
   "source": [
    "# Error on training data\n",
    "train_err_bow = 1 - train_acc_bow\n",
    "print('Train Error is {}'.format(train_err_bow))"
   ]
  },
  {
   "cell_type": "code",
   "execution_count": 30,
   "metadata": {},
   "outputs": [
    {
     "name": "stdout",
     "output_type": "stream",
     "text": [
      "optimal accuracy for alpha = 3 in BowNaiveBayesClassifier is 89.86929301065427\n"
     ]
    }
   ],
   "source": [
    "# evaluating test accuracy:\n",
    "acc_bow = accuracy_score(y_test, ypred) * 100\n",
    "print('optimal accuracy for alpha = {} in BowNaiveBayesClassifier is {}'.format(alpha_optimal_BoW,acc_bow))"
   ]
  },
  {
   "cell_type": "markdown",
   "metadata": {},
   "source": [
    "## Performace metrics(confusion matrix, f1-Score, Accuracy, Precision, Recall)"
   ]
  },
  {
   "cell_type": "code",
   "execution_count": 32,
   "metadata": {},
   "outputs": [
    {
     "name": "stdout",
     "output_type": "stream",
     "text": [
      "[[11457  7624]\n",
      " [ 3444 86727]]\n"
     ]
    }
   ],
   "source": [
    "# Confusion Matrix\n",
    "from sklearn.metrics import confusion_matrix\n",
    "cm = confusion_matrix(y_test, ypred)\n",
    "print(cm)"
   ]
  },
  {
   "cell_type": "code",
   "execution_count": 34,
   "metadata": {},
   "outputs": [
    {
     "name": "stdout",
     "output_type": "stream",
     "text": [
      "CPU times: user 0 ns, sys: 0 ns, total: 0 ns\n",
      "Wall time: 5.96 µs\n"
     ]
    },
    {
     "data": {
      "image/png": "[encoded data removed]",
      "text/plain": [
       "<Figure size 432x288 with 2 Axes>"
      ]
     },
     "metadata": {},
     "output_type": "display_data"
    }
   ],
   "source": [
    "%time\n",
    "#creating confusion matrix heatmap plot:\n",
    "\n",
    "cf = confusion_matrix(y_test, ypred)\n",
    "labels = ['True negative', 'True positive']\n",
    "\n",
    "df_cf = pd.DataFrame(cf, index=labels, columns=['Predicted negative', 'Predicted positive'])\n",
    "sns.heatmap(df_cf, annot=True,fmt='3d', cmap='magma_r')\n",
    "\n",
    "plt.title(\"confusion Matrix Naive-Bayes BoW\")\n",
    "plt.xlabel(\" Naive Bayes BoW classifier predicted values\")\n",
    "plt.ylabel(\"actual value\")\n",
    "plt.show()\n",
    "\n"
   ]
  },
  {
   "cell_type": "markdown",
   "metadata": {},
   "source": [
    "## Recall metric"
   ]
  },
  {
   "cell_type": "code",
   "execution_count": 36,
   "metadata": {},
   "outputs": [
    {
     "name": "stdout",
     "output_type": "stream",
     "text": [
      "recall is 0.919195345041388\n"
     ]
    }
   ],
   "source": [
    "# Recall- True Positive Rate TPR = TP/TP+FN\n",
    "TPR = cm[1,1] / (cm[0,1] + cm[1,1])\n",
    "print('recall is {}'.format(TPR))"
   ]
  },
  {
   "cell_type": "markdown",
   "metadata": {},
   "source": [
    "## Classification Report:"
   ]
  },
  {
   "cell_type": "code",
   "execution_count": 37,
   "metadata": {},
   "outputs": [
    {
     "name": "stdout",
     "output_type": "stream",
     "text": [
      "             precision    recall  f1-score   support\n",
      "\n",
      "   Negative       0.77      0.60      0.67     19081\n",
      "   Positive       0.92      0.96      0.94     90171\n",
      "\n",
      "avg / total       0.89      0.90      0.89    109252\n",
      "\n"
     ]
    }
   ],
   "source": [
    "# classification report\n",
    "from sklearn.metrics import classification_report\n",
    "print(classification_report(y_test, ypred))"
   ]
  },
  {
   "cell_type": "markdown",
   "metadata": {},
   "source": [
    "## TF-IDF Naive Bayes without random shuffling\n"
   ]
  },
  {
   "cell_type": "code",
   "execution_count": 38,
   "metadata": {},
   "outputs": [
    {
     "name": "stdout",
     "output_type": "stream",
     "text": [
      "CPU times: user 44 ms, sys: 8 ms, total: 52 ms\n",
      "Wall time: 50.9 ms\n"
     ]
    }
   ],
   "source": [
    "%%time\n",
    "\n",
    "#saving scores in variable and splitting into train and test data sets\n",
    "y = final['Score']\n",
    "from sklearn.model_selection import train_test_split\n",
    "#train test split\n",
    "X_train, X_test, y_train, y_test = train_test_split(final['CleanedText'].values, y, test_size=0.3, shuffle=False)"
   ]
  },
  {
   "cell_type": "code",
   "execution_count": 39,
   "metadata": {},
   "outputs": [
    {
     "name": "stdout",
     "output_type": "stream",
     "text": [
      "CPU times: user 9.97 s, sys: 316 ms, total: 10.3 s\n",
      "Wall time: 10.3 s\n"
     ]
    }
   ],
   "source": [
    "%%time\n",
    "#fitting tfidf vectorizor into training data:\n",
    "\n",
    "tf_idf_vect = TfidfVectorizer(ngram_range=(1,1))\n",
    "X_train = tf_idf_vect.fit_transform(X_train)\n",
    "X_train.shape"
   ]
  },
  {
   "cell_type": "code",
   "execution_count": 40,
   "metadata": {},
   "outputs": [
    {
     "data": {
      "text/plain": [
       "(109252, 58961)"
      ]
     },
     "execution_count": 40,
     "metadata": {},
     "output_type": "execute_result"
    }
   ],
   "source": [
    "# Convert test text data to its tfidf vectorizor array\n",
    "X_test = tf_idf_vect.transform(X_test)\n",
    "X_test.shape"
   ]
  },
  {
   "cell_type": "markdown",
   "metadata": {},
   "source": [
    "## using cross validation for finding optimal alpha"
   ]
  },
  {
   "cell_type": "code",
   "execution_count": 41,
   "metadata": {},
   "outputs": [
    {
     "name": "stdout",
     "output_type": "stream",
     "text": [
      "CPU times: user 4min 28s, sys: 6.64 s, total: 4min 34s\n",
      "Wall time: 4min 34s\n"
     ]
    }
   ],
   "source": [
    "%%time\n",
    "\n",
    "#creating empty list for holding different CV scores:\n",
    "cv_score = []\n",
    "alph_range = np.arange(1,25) \n",
    "    \n",
    "# perform 10-fold cross validation:\n",
    "\n",
    "for i in alph_range:\n",
    "    clf = MultinomialNB(alpha = i)\n",
    "    scores = cross_val_score(clf, X_train, y_train, cv = 10, scoring = 'accuracy')\n",
    "    cv_score.append(scores.mean())"
   ]
  },
  {
   "cell_type": "code",
   "execution_count": 42,
   "metadata": {},
   "outputs": [
    {
     "name": "stdout",
     "output_type": "stream",
     "text": [
      "Optimal alpha for NB-Tf-Idf is = 1\n",
      "missclassification error for each alpha value:  [0.139 0.146 0.148 0.149 0.149 0.149 0.149 0.149 0.149 0.149 0.149 0.149\n",
      " 0.149 0.149 0.149 0.149 0.149 0.149 0.149 0.149 0.149 0.149 0.149 0.149]\n"
     ]
    },
    {
     "data": {
      "image/png": "[encoded data removed]",
      "text/plain": [
       "<Figure size 432x288 with 1 Axes>"
      ]
     },
     "metadata": {},
     "output_type": "display_data"
    },
    {
     "name": "stdout",
     "output_type": "stream",
     "text": [
      "CPU times: user 268 ms, sys: 220 ms, total: 488 ms\n",
      "Wall time: 183 ms\n"
     ]
    }
   ],
   "source": [
    "%%time\n",
    "# to calculate misclassification error:\n",
    "\n",
    "MSE = [1 - x for x in cv_score]\n",
    "alpha_optimal_tf_idf = alph_range[MSE.index(min(MSE))]\n",
    "\n",
    "print('Optimal alpha for NB-Tf-Idf is = {}'.format(alpha_optimal_tf_idf))\n",
    "print(\"missclassification error for each alpha value: \", np.round(MSE, 3))\n",
    "\n",
    "#plotting the graph of misclassification error vs alpha\n",
    "\n",
    "plt.plot(alph_range, MSE)\n",
    "plt.title(\"Number of alphas and error for NB-Tf-Idf\")\n",
    "plt.xlabel(\"AlphaValues\")\n",
    "plt.ylabel(\"MissclassificationError\")\n",
    "plt.show()"
   ]
  },
  {
   "cell_type": "markdown",
   "metadata": {},
   "source": [
    "## Naive Bayes on optimal alpha found for TF-IDF"
   ]
  },
  {
   "cell_type": "code",
   "execution_count": 44,
   "metadata": {
    "collapsed": true
   },
   "outputs": [],
   "source": [
    "# instantiate learning model alpha = optimal_alpha\n",
    "nb_optimal_tf_idf =  MultinomialNB(alpha = alpha_optimal_tf_idf)\n",
    "\n",
    "# fitting the model\n",
    "nb_optimal_tf_idf.fit(X_train, y_train)\n",
    "\n",
    "# predicting the response\n",
    "ypred = nb_optimal_tf_idf.predict(X_test)"
   ]
  },
  {
   "cell_type": "code",
   "execution_count": 58,
   "metadata": {},
   "outputs": [
    {
     "name": "stdout",
     "output_type": "stream",
     "text": [
      "<class 'list'>\n",
      "58961\n"
     ]
    }
   ],
   "source": [
    "# To get all the features name for tf-idf\n",
    "tf_idf_features = tf_idf_vect.get_feature_names()\n",
    "print(type(tf_idf_features))\n",
    "print(len(tf_idf_features))\n"
   ]
  },
  {
   "cell_type": "code",
   "execution_count": 59,
   "metadata": {},
   "outputs": [
    {
     "name": "stdout",
     "output_type": "stream",
     "text": [
      "(2, 58961)\n",
      "\n",
      "[0.         0.21697339 0.         ... 0.         0.         0.        ]\n"
     ]
    }
   ],
   "source": [
    "# To count feature for each feature/class while fitting the model\n",
    "# Number of samples encountered for each (class, feature) during fitting\n",
    "\n",
    "feat_count = nb_optimal_tf_idf.feature_count_\n",
    "print(feat_count.shape)\n",
    "print()\n",
    "for i in feat_count:\n",
    "    print(i)\n",
    "    break"
   ]
  },
  {
   "cell_type": "code",
   "execution_count": 60,
   "metadata": {},
   "outputs": [
    {
     "data": {
      "text/plain": [
       "array([[-12.39729773, -12.20093078, -12.39729773, ..., -12.39729773,\n",
       "        -12.39729773, -12.39729773],\n",
       "       [-13.55950973, -12.46880109, -13.52681892, ..., -13.71373367,\n",
       "        -13.59525024, -13.50938661]])"
      ]
     },
     "execution_count": 60,
     "metadata": {},
     "output_type": "execute_result"
    }
   ],
   "source": [
    "# finding log probability of features given class label\n",
    "\n",
    "log_prob = nb_optimal_tf_idf.feature_log_prob_\n",
    "log_prob"
   ]
  },
  {
   "cell_type": "code",
   "execution_count": 61,
   "metadata": {},
   "outputs": [
    {
     "name": "stdout",
     "output_type": "stream",
     "text": [
      "(2, 58961)\n",
      "*************************************\n"
     ]
    },
    {
     "data": {
      "text/html": [
       "<div>\n",
       "<style scoped>\n",
       "    .dataframe tbody tr th:only-of-type {\n",
       "        vertical-align: middle;\n",
       "    }\n",
       "\n",
       "    .dataframe tbody tr th {\n",
       "        vertical-align: top;\n",
       "    }\n",
       "\n",
       "    .dataframe thead th {\n",
       "        text-align: right;\n",
       "    }\n",
       "</style>\n",
       "<table border=\"1\" class=\"dataframe\">\n",
       "  <thead>\n",
       "    <tr style=\"text-align: right;\">\n",
       "      <th></th>\n",
       "      <th>aa</th>\n",
       "      <th>aaa</th>\n",
       "      <th>aaaa</th>\n",
       "      <th>aaaaa</th>\n",
       "      <th>aaaaaaaaaaaaaaaaaaaaaaaaaaaaaaaaaaaaaaaaaaaa</th>\n",
       "      <th>aaaaaaaaaaaaaaaaaaaargh</th>\n",
       "      <th>aaaaaaaaagghh</th>\n",
       "      <th>aaaaaaahhhhhh</th>\n",
       "      <th>aaaaaaarrrrrggghhh</th>\n",
       "      <th>aaaaaah</th>\n",
       "      <th>...</th>\n",
       "      <th>zziga</th>\n",
       "      <th>zzz</th>\n",
       "      <th>zzzzz</th>\n",
       "      <th>zzzzzz</th>\n",
       "      <th>zzzzzzz</th>\n",
       "      <th>zzzzzzzz</th>\n",
       "      <th>zzzzzzzzzz</th>\n",
       "      <th>zzzzzzzzzzz</th>\n",
       "      <th>çay</th>\n",
       "      <th>çaykur</th>\n",
       "    </tr>\n",
       "  </thead>\n",
       "  <tbody>\n",
       "    <tr>\n",
       "      <th>0</th>\n",
       "      <td>-12.397298</td>\n",
       "      <td>-12.200931</td>\n",
       "      <td>-12.397298</td>\n",
       "      <td>-12.397298</td>\n",
       "      <td>-12.397298</td>\n",
       "      <td>-12.397298</td>\n",
       "      <td>-12.397298</td>\n",
       "      <td>-12.397298</td>\n",
       "      <td>-12.236911</td>\n",
       "      <td>-12.397298</td>\n",
       "      <td>...</td>\n",
       "      <td>-12.397298</td>\n",
       "      <td>-12.397298</td>\n",
       "      <td>-12.397298</td>\n",
       "      <td>-12.397298</td>\n",
       "      <td>-12.026527</td>\n",
       "      <td>-12.397298</td>\n",
       "      <td>-12.397298</td>\n",
       "      <td>-12.397298</td>\n",
       "      <td>-12.397298</td>\n",
       "      <td>-12.397298</td>\n",
       "    </tr>\n",
       "    <tr>\n",
       "      <th>1</th>\n",
       "      <td>-13.559510</td>\n",
       "      <td>-12.468801</td>\n",
       "      <td>-13.526819</td>\n",
       "      <td>-13.603822</td>\n",
       "      <td>-13.471419</td>\n",
       "      <td>-13.568055</td>\n",
       "      <td>-13.486001</td>\n",
       "      <td>-13.724748</td>\n",
       "      <td>-13.886191</td>\n",
       "      <td>-13.521822</td>\n",
       "      <td>...</td>\n",
       "      <td>-13.671977</td>\n",
       "      <td>-13.151378</td>\n",
       "      <td>-13.348499</td>\n",
       "      <td>-13.743711</td>\n",
       "      <td>-13.659887</td>\n",
       "      <td>-13.830955</td>\n",
       "      <td>-13.661795</td>\n",
       "      <td>-13.713734</td>\n",
       "      <td>-13.595250</td>\n",
       "      <td>-13.509387</td>\n",
       "    </tr>\n",
       "  </tbody>\n",
       "</table>\n",
       "<p>2 rows × 58961 columns</p>\n",
       "</div>"
      ],
      "text/plain": [
       "          aa        aaa       aaaa      aaaaa  \\\n",
       "0 -12.397298 -12.200931 -12.397298 -12.397298   \n",
       "1 -13.559510 -12.468801 -13.526819 -13.603822   \n",
       "\n",
       "   aaaaaaaaaaaaaaaaaaaaaaaaaaaaaaaaaaaaaaaaaaaa  aaaaaaaaaaaaaaaaaaaargh  \\\n",
       "0                                    -12.397298               -12.397298   \n",
       "1                                    -13.471419               -13.568055   \n",
       "\n",
       "   aaaaaaaaagghh  aaaaaaahhhhhh  aaaaaaarrrrrggghhh    aaaaaah    ...      \\\n",
       "0     -12.397298     -12.397298          -12.236911 -12.397298    ...       \n",
       "1     -13.486001     -13.724748          -13.886191 -13.521822    ...       \n",
       "\n",
       "       zziga        zzz      zzzzz     zzzzzz    zzzzzzz   zzzzzzzz  \\\n",
       "0 -12.397298 -12.397298 -12.397298 -12.397298 -12.026527 -12.397298   \n",
       "1 -13.671977 -13.151378 -13.348499 -13.743711 -13.659887 -13.830955   \n",
       "\n",
       "   zzzzzzzzzz  zzzzzzzzzzz        çay     çaykur  \n",
       "0  -12.397298   -12.397298 -12.397298 -12.397298  \n",
       "1  -13.661795   -13.713734 -13.595250 -13.509387  \n",
       "\n",
       "[2 rows x 58961 columns]"
      ]
     },
     "execution_count": 61,
     "metadata": {},
     "output_type": "execute_result"
    }
   ],
   "source": [
    "#creating data frame of the log probability of features calculated above:\n",
    "features_prob_df = pd.DataFrame(log_prob, columns = tf_idf_features)\n",
    "print(features_prob_df.shape)\n",
    "print('*************************************')\n",
    "features_prob_df.head(8)"
   ]
  },
  {
   "cell_type": "code",
   "execution_count": 62,
   "metadata": {},
   "outputs": [
    {
     "name": "stdout",
     "output_type": "stream",
     "text": [
      "               0          1\n",
      "aa    -12.397298 -13.559510\n",
      "aaa   -12.200931 -12.468801\n",
      "aaaa  -12.397298 -13.526819\n",
      "aaaaa -12.397298 -13.603822\n"
     ]
    }
   ],
   "source": [
    "#transposing the data frame created above so as to see log wise feature importance of log probability of features:\n",
    "\n",
    "feature_prob_tr = features_prob_df.T\n",
    "print(feature_prob_tr.head(4))"
   ]
  },
  {
   "cell_type": "code",
   "execution_count": 63,
   "metadata": {},
   "outputs": [
    {
     "name": "stdout",
     "output_type": "stream",
     "text": [
      "Top 20 Negative Features:-\n",
      " not          -4.791218\n",
      "tast         -5.103810\n",
      "like         -5.255103\n",
      "product      -5.311629\n",
      "would        -5.606349\n",
      "flavor       -5.612881\n",
      "coffe        -5.628958\n",
      "one          -5.646667\n",
      "veri         -5.703716\n",
      "tri          -5.748763\n",
      "buy          -5.768768\n",
      "order        -5.776118\n",
      "box          -5.861992\n",
      "tea          -5.898319\n",
      "disappoint   -5.916835\n",
      "good         -5.922031\n",
      "get          -5.967307\n",
      "use          -6.024912\n",
      "even         -6.040797\n",
      "bad          -6.073888\n",
      "Name: 0, dtype: float64\n",
      "*****************************************************************\n",
      "Top 20 Positive Features:-\n",
      " great     -5.123227\n",
      "love      -5.137601\n",
      "tast      -5.195568\n",
      "good      -5.201133\n",
      "like      -5.215512\n",
      "tea       -5.231189\n",
      "not       -5.261029\n",
      "flavor    -5.268847\n",
      "coffe     -5.303545\n",
      "veri      -5.372672\n",
      "product   -5.374704\n",
      "use       -5.391861\n",
      "one       -5.470300\n",
      "tri       -5.539445\n",
      "make      -5.607093\n",
      "get       -5.665099\n",
      "price     -5.693562\n",
      "best      -5.702364\n",
      "buy       -5.726709\n",
      "amazon    -5.745697\n",
      "Name: 1, dtype: float64\n"
     ]
    }
   ],
   "source": [
    "# To show top 20 feature from both class(Feature Importance)\n",
    "\n",
    "print(\"Top 20 Negative Features:-\\n\",feature_prob_tr[0].sort_values(ascending = False)[0:20])\n",
    "print('*****************************************************************')\n",
    "print(\"Top 20 Positive Features:-\\n\",feature_prob_tr[1].sort_values(ascending = False)[0:20])"
   ]
  },
  {
   "cell_type": "code",
   "execution_count": 64,
   "metadata": {},
   "outputs": [
    {
     "name": "stdout",
     "output_type": "stream",
     "text": [
      "Train accuracy is 0.8666321458973243\n"
     ]
    }
   ],
   "source": [
    "# Accuracy on training data\n",
    "train_acc_tf_idf = nb_optimal_tf_idf.score(X_train, y_train)\n",
    "print(\"Train accuracy is {}\".format(train_acc_tf_idf))\n"
   ]
  },
  {
   "cell_type": "code",
   "execution_count": 65,
   "metadata": {},
   "outputs": [
    {
     "name": "stdout",
     "output_type": "stream",
     "text": [
      "Train Error is 0.1333678541026757\n"
     ]
    }
   ],
   "source": [
    "# Error on training data\n",
    "train_err_tf_idf = 1 - train_acc_tf_idf\n",
    "print('Train Error is {}'.format(train_err_tf_idf))"
   ]
  },
  {
   "cell_type": "code",
   "execution_count": 67,
   "metadata": {},
   "outputs": [
    {
     "name": "stdout",
     "output_type": "stream",
     "text": [
      "optimal accuracy for alpha = 1 in TfIdf-NaiveBayes-Classifier is 84.0414820781313\n"
     ]
    }
   ],
   "source": [
    "# evaluating test accuracy:\n",
    "acc_tf_idf = accuracy_score(y_test, ypred) * 100\n",
    "print('optimal accuracy for alpha = {} in TfIdf-NaiveBayes-Classifier is {}'.format(alpha_optimal_tf_idf,acc_tf_idf))"
   ]
  },
  {
   "cell_type": "markdown",
   "metadata": {},
   "source": [
    "## TF-IDF Performace metrics(confusion matrix, f1-Score, Accuracy, Precision, Recall)"
   ]
  },
  {
   "cell_type": "code",
   "execution_count": 69,
   "metadata": {},
   "outputs": [
    {
     "name": "stdout",
     "output_type": "stream",
     "text": [
      "[[ 1737 17344]\n",
      " [   91 90080]]\n"
     ]
    }
   ],
   "source": [
    "# Confusion Matrix\n",
    "from sklearn.metrics import confusion_matrix\n",
    "cm = confusion_matrix(y_test, ypred)\n",
    "print(cm)"
   ]
  },
  {
   "cell_type": "code",
   "execution_count": 70,
   "metadata": {},
   "outputs": [
    {
     "name": "stdout",
     "output_type": "stream",
     "text": [
      "CPU times: user 0 ns, sys: 0 ns, total: 0 ns\n",
      "Wall time: 5.96 µs\n"
     ]
    },
    {
     "data": {
      "image/png": "[encoded data removed]",
      "text/plain": [
       "<Figure size 432x288 with 2 Axes>"
      ]
     },
     "metadata": {},
     "output_type": "display_data"
    }
   ],
   "source": [
    "%time\n",
    "#creating confusion matrix heatmap plot:\n",
    "\n",
    "cf = confusion_matrix(y_test, ypred)\n",
    "labels = ['True negative', 'True positive']\n",
    "\n",
    "df_cf = pd.DataFrame(cf, index=labels, columns=['Predicted negative', 'Predicted positive'])\n",
    "sns.heatmap(df_cf, annot=True,fmt='3d', cmap='magma_r')\n",
    "\n",
    "plt.title(\"confusion Matrix Naive-Bayes TF-Idf\")\n",
    "plt.xlabel(\" Naive Bayes Tf-Idf classifier predicted values\")\n",
    "plt.ylabel(\"actual value\")\n",
    "plt.show()\n",
    "\n"
   ]
  },
  {
   "cell_type": "code",
   "execution_count": 71,
   "metadata": {},
   "outputs": [
    {
     "name": "stdout",
     "output_type": "stream",
     "text": [
      "recall is 0.8385463211200477\n"
     ]
    }
   ],
   "source": [
    "# Recall- True Positive Rate TPR = TP/TP+FN\n",
    "TPR = cm[1,1] / (cm[0,1] + cm[1,1])\n",
    "print('recall is {}'.format(TPR))"
   ]
  },
  {
   "cell_type": "code",
   "execution_count": 72,
   "metadata": {},
   "outputs": [
    {
     "name": "stdout",
     "output_type": "stream",
     "text": [
      "             precision    recall  f1-score   support\n",
      "\n",
      "   Negative       0.95      0.09      0.17     19081\n",
      "   Positive       0.84      1.00      0.91     90171\n",
      "\n",
      "avg / total       0.86      0.84      0.78    109252\n",
      "\n"
     ]
    }
   ],
   "source": [
    "# classification report\n",
    "from sklearn.metrics import classification_report\n",
    "print(classification_report(y_test, ypred))"
   ]
  },
  {
   "cell_type": "markdown",
   "metadata": {},
   "source": [
    "## Conclusion:\n",
    "\n",
    "1. when I took entire population of data  and did time spliting with no shuffling, below is the observation:\n",
    "\n",
    "2. BoW Naive Bayes algorithm worked decent when having taken entire population of 361K data points with recall and f1-score \n",
    "   were about 60% for nevative predicted data points.\n",
    "3. Tf-idf Naive bayes algorithm when tested with test data points, we could not see the recall and f1-score for negative\n",
    "   predicted data points(~17%)"
   ]
  },
  {
   "cell_type": "code",
   "execution_count": null,
   "metadata": {
    "collapsed": true
   },
   "outputs": [],
   "source": []
  }
 ],
 "metadata": {
  "kernelspec": {
   "display_name": "Python 3",
   "language": "python",
   "name": "python3"
  },
  "language_info": {
   "codemirror_mode": {
    "name": "ipython",
    "version": 3
   },
   "file_extension": ".py",
   "mimetype": "text/x-python",
   "name": "python",
   "nbconvert_exporter": "python",
   "pygments_lexer": "ipython3",
   "version": "3.6.2"
  }
 },
 "nbformat": 4,
 "nbformat_minor": 2
}
