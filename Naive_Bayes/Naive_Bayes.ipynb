{
 "cells": [
  {
   "cell_type": "markdown",
   "metadata": {},
   "source": [
    "## NB algorithm on BoW and TF-IDF on AmazonFoodReviews:"
   ]
  },
  {
   "cell_type": "code",
   "execution_count": 1,
   "metadata": {},
   "outputs": [
    {
     "name": "stdout",
     "output_type": "stream",
     "text": [
      "CPU times: user 772 ms, sys: 508 ms, total: 1.28 s\n",
      "Wall time: 615 ms\n"
     ]
    }
   ],
   "source": [
    "%%time\n",
    "import sqlite3\n",
    "import warnings\n",
    "import sys\n",
    "import os\n",
    "import pandas as pd\n",
    "import numpy as np\n",
    "import matplotlib.pyplot as plt\n",
    "import seaborn as sns\n",
    "%matplotlib inline\n",
    "import random\n",
    "import time\n",
    "import datetime\n",
    "warnings.filterwarnings('ignore')"
   ]
  },
  {
   "cell_type": "markdown",
   "metadata": {},
   "source": [
    "## unpickeling preprosessed  data files  from disc:"
   ]
  },
  {
   "cell_type": "code",
   "execution_count": 2,
   "metadata": {},
   "outputs": [],
   "source": [
    "import pickle\n",
    "# open file objects wrt datapoints X_tr, X_cv X_test\n",
    "file1 = open('X_tr.pickle', '+rb')\n",
    "file2 = open('X_cv.pickle', '+rb')\n",
    "file3 = open('X_test.pickle', '+rb')\n",
    "\n",
    "# load information to that file\n",
    "X_tr = pickle.load(file1)\n",
    "X_cv = pickle.load(file2)\n",
    "X_test =pickle.load(file3)\n",
    "\n",
    "# close the file\n",
    "file1.close()\n",
    "file2.close()\n",
    "file3.close()\n",
    "\n",
    "\n",
    "# open files object wrt class labels for y_tr, y_cv and y_test\n",
    "file1 = open('y_tr.pickle', '+rb')\n",
    "file2 = open('y_cv.pickle', '+rb')\n",
    "file3 = open('y_test.pickle', '+rb')\n",
    "\n",
    "# load information to that file\n",
    "y_tr = pickle.load(file1)\n",
    "y_cv = pickle.load(file2)\n",
    "y_test =pickle.load(file3)\n",
    "\n",
    "# close the file\n",
    "file1.close()\n",
    "file2.close()\n",
    "file3.close()"
   ]
  },
  {
   "cell_type": "markdown",
   "metadata": {},
   "source": [
    "## BoW"
   ]
  },
  {
   "cell_type": "code",
   "execution_count": 3,
   "metadata": {},
   "outputs": [],
   "source": [
    "from sklearn.feature_extraction.text import CountVectorizer\n",
    "bow = CountVectorizer(ngram_range=(1,1))\n",
    "X_tr = bow.fit_transform(X_tr)\n",
    "X_cv = bow.transform(X_cv)\n",
    "X_test = bow.transform(X_test)"
   ]
  },
  {
   "cell_type": "markdown",
   "metadata": {},
   "source": [
    "## Nb-BoW"
   ]
  },
  {
   "cell_type": "code",
   "execution_count": 4,
   "metadata": {},
   "outputs": [],
   "source": [
    "from sklearn.naive_bayes import MultinomialNB\n",
    "from sklearn.naive_bayes import BernoulliNB"
   ]
  },
  {
   "cell_type": "markdown",
   "metadata": {},
   "source": [
    "## using X_tr and X_cv to find optimal alpha"
   ]
  },
  {
   "cell_type": "code",
   "execution_count": 5,
   "metadata": {},
   "outputs": [
    {
     "name": "stderr",
     "output_type": "stream",
     "text": [
      "/usr/local/lib/python3.5/site-packages/sklearn/cross_validation.py:41: DeprecationWarning: This module was deprecated in version 0.18 in favor of the model_selection module into which all the refactored classes and functions are moved. Also note that the interface of the new CV iterators are different from that of this module. This module will be removed in 0.20.\n",
      "  \"This module will be removed in 0.20.\", DeprecationWarning)\n"
     ]
    },
    {
     "name": "stdout",
     "output_type": "stream",
     "text": [
      "CPU times: user 584 ms, sys: 12 ms, total: 596 ms\n",
      "Wall time: 594 ms\n"
     ]
    }
   ],
   "source": [
    "%%time\n",
    "#Libraries related to performance Metrics:\n",
    "from sklearn.cross_validation import cross_val_score\n",
    "from sklearn.metrics import accuracy_score\n",
    "from sklearn.metrics import confusion_matrix\n",
    "from sklearn.metrics import precision_score\n",
    "from sklearn.metrics import f1_score\n",
    "from sklearn.metrics import recall_score\n",
    "warnings.filterwarnings('ignore')\n",
    "\n",
    "#CV to find optimal alpha for f1-score performance metric\n",
    "f1score = []\n",
    "alpha_list = [10000,5000,1000,500,100,50,10,5,1,0.05,0.01,0.005,0.001,0.0005,0.0001, 0.00001] \n",
    "for i in alpha_list:\n",
    "    nbclf = MultinomialNB(alpha=i)\n",
    "    nbclf.fit(X_tr, y_tr)\n",
    "    y_pred_cv = nbclf.predict(X_cv)\n",
    "    f1score.append(f1_score(y_cv, y_pred_cv))\n",
    "    #print(\"F1-Score for aplha = {:<2d} ,on cv set is :{:<.3f}\".format(i, f1_score(y_cv, y_pred_cv)))\n",
    "    "
   ]
  },
  {
   "cell_type": "code",
   "execution_count": 6,
   "metadata": {},
   "outputs": [
    {
     "name": "stdout",
     "output_type": "stream",
     "text": [
      "Optimal alpha for NB-BoW = 1\n",
      "missclassification error for each alpha value:  [0.072 0.072 0.072 0.072 0.072 0.072 0.072 0.071 0.053 0.053 0.055 0.056\n",
      " 0.057 0.057 0.058 0.059]\n"
     ]
    },
    {
     "data": {
      "image/png": "[encoded data removed]",
      "text/plain": [
       "<Figure size 432x288 with 1 Axes>"
      ]
     },
     "metadata": {},
     "output_type": "display_data"
    }
   ],
   "source": [
    "MSE = [1 - x for x in f1score]\n",
    "alpha_optimal_BoW = alpha_list[MSE.index(min(MSE))]\n",
    "print('Optimal alpha for NB-BoW = {}'.format(alpha_optimal_BoW))\n",
    "print(\"missclassification error for each alpha value: \", np.round(MSE, 3))\n",
    "#plotting the graph of misclassification error vs alpha\n",
    "\n",
    "plt.plot(alpha_list, MSE)\n",
    "plt.title(\"alphas vs error\")\n",
    "plt.xlabel(\"Alpha Values\")\n",
    "plt.ylabel(\"MissclassificationError on F1-Score\")\n",
    "plt.show()"
   ]
  },
  {
   "cell_type": "markdown",
   "metadata": {},
   "source": [
    "# NB on optimal alpha"
   ]
  },
  {
   "cell_type": "code",
   "execution_count": 7,
   "metadata": {},
   "outputs": [
    {
     "name": "stdout",
     "output_type": "stream",
     "text": [
      "\n",
      "CV accuracy for aplha = 1 is 90.415\n",
      "\n",
      "Accuracy on test set: 90.415\n",
      "\n",
      "Precision on test set: 0.9138773975178639\n",
      "\n",
      "Recall on test set: 0.9818748556915262\n",
      "\n",
      "F1-Score on test set: 0.946656649135988\n"
     ]
    },
    {
     "data": {
      "image/png": "[encoded data removed]",
      "text/plain": [
       "<Figure size 432x288 with 2 Axes>"
      ]
     },
     "metadata": {},
     "output_type": "display_data"
    },
    {
     "name": "stdout",
     "output_type": "stream",
     "text": [
      "CPU times: user 376 ms, sys: 272 ms, total: 648 ms\n",
      "Wall time: 234 ms\n"
     ]
    }
   ],
   "source": [
    "%%time\n",
    "optimal_alpha = 1\n",
    "nbclf = MultinomialNB(alpha=optimal_alpha)\n",
    "nbclf.fit(X_tr, y_tr)\n",
    "y_pred = nbclf.predict(X_test)\n",
    "\n",
    "#performance metrics values:\n",
    "acc = accuracy_score(y_test, y_pred) * float(100)\n",
    "print('\\nCV accuracy for aplha = {} is {}'.format(optimal_alpha, acc))\n",
    "print(\"\\nAccuracy on test set: {}\".format(accuracy_score(y_test, y_pred)*100))\n",
    "print(\"\\nPrecision on test set: {}\".format(precision_score(y_test, y_pred)))\n",
    "print(\"\\nRecall on test set: {}\".format(recall_score(y_test, y_pred)))\n",
    "print(\"\\nF1-Score on test set: {}\".format(f1_score(y_test, y_pred)))\n",
    "\n",
    "\n",
    "#plotting confusion matrix:\n",
    "cf = confusion_matrix(y_test, y_pred)\n",
    "labels = ['True negative', 'True positive']\n",
    "df_cf = pd.DataFrame(cf, index=labels, columns=['Predicted negative', 'Predicted positive'])\n",
    "sns.heatmap(df_cf, annot=True,fmt='3d', cmap='magma_r')\n",
    "\n",
    "plt.title(\"confusion Matrix chart for NB-BoW\")\n",
    "plt.xlabel(\"NB classifier predicted values\")\n",
    "plt.ylabel(\"true values\")\n",
    "plt.show()"
   ]
  },
  {
   "cell_type": "markdown",
   "metadata": {},
   "source": [
    "## Classification report for NB-BoW"
   ]
  },
  {
   "cell_type": "code",
   "execution_count": 8,
   "metadata": {},
   "outputs": [
    {
     "name": "stdout",
     "output_type": "stream",
     "text": [
      "Classfication report for NB-BoW algo is:\n",
      "\n",
      "              precision    recall  f1-score   support\n",
      "\n",
      "          0       0.77      0.40      0.53      2676\n",
      "          1       0.91      0.98      0.95     17324\n",
      "\n",
      "avg / total       0.90      0.90      0.89     20000\n",
      "\n"
     ]
    }
   ],
   "source": [
    "from sklearn.metrics import classification_report\n",
    "print('Classfication report for NB-BoW algo is:\\n\\n {}'.format(classification_report(y_test, y_pred)))"
   ]
  },
  {
   "cell_type": "markdown",
   "metadata": {},
   "source": [
    " ## Features NB-BoW"
   ]
  },
  {
   "cell_type": "code",
   "execution_count": 9,
   "metadata": {},
   "outputs": [
    {
     "name": "stdout",
     "output_type": "stream",
     "text": [
      "['aaa', 'aaaaaaaaagghh', 'aaaaah']\n",
      "optimal feature count shape is (2, 61055)\n"
     ]
    }
   ],
   "source": [
    "#To get all the features name\n",
    "bow_features = bow.get_feature_names()\n",
    "print(bow_features[0:3])\n",
    "#To count feature for each class for optimal trained model, no of sample encountered for each (class, feature) during fitting\n",
    "feat_count = nbclf.feature_count_\n",
    "print('optimal feature count shape is {}'.format(feat_count.shape))"
   ]
  },
  {
   "cell_type": "code",
   "execution_count": 10,
   "metadata": {},
   "outputs": [
    {
     "name": "stdout",
     "output_type": "stream",
     "text": [
      "(2, 61055)\n"
     ]
    },
    {
     "data": {
      "text/plain": [
       "array([[-12.76150541, -12.76150541, -12.76150541, ..., -12.76150541,\n",
       "        -12.76150541, -12.76150541],\n",
       "       [-13.86329927, -13.86329927, -13.45783416, ..., -13.45783416,\n",
       "        -13.86329927, -13.86329927]])"
      ]
     },
     "execution_count": 10,
     "metadata": {},
     "output_type": "execute_result"
    }
   ],
   "source": [
    "# log probability of features given a class(i.e. P(x_i|y)) of optimal NB model\n",
    "log_prob = nbclf.feature_log_prob_\n",
    "print(log_prob.shape)\n",
    "log_prob"
   ]
  },
  {
   "cell_type": "code",
   "execution_count": 11,
   "metadata": {},
   "outputs": [
    {
     "data": {
      "text/html": [
       "<div>\n",
       "<style scoped>\n",
       "    .dataframe tbody tr th:only-of-type {\n",
       "        vertical-align: middle;\n",
       "    }\n",
       "\n",
       "    .dataframe tbody tr th {\n",
       "        vertical-align: top;\n",
       "    }\n",
       "\n",
       "    .dataframe thead th {\n",
       "        text-align: right;\n",
       "    }\n",
       "</style>\n",
       "<table border=\"1\" class=\"dataframe\">\n",
       "  <thead>\n",
       "    <tr style=\"text-align: right;\">\n",
       "      <th></th>\n",
       "      <th>0</th>\n",
       "      <th>1</th>\n",
       "    </tr>\n",
       "  </thead>\n",
       "  <tbody>\n",
       "    <tr>\n",
       "      <th>aaa</th>\n",
       "      <td>-12.761505</td>\n",
       "      <td>-13.863299</td>\n",
       "    </tr>\n",
       "    <tr>\n",
       "      <th>aaaaaaaaagghh</th>\n",
       "      <td>-12.761505</td>\n",
       "      <td>-13.863299</td>\n",
       "    </tr>\n",
       "    <tr>\n",
       "      <th>aaaaah</th>\n",
       "      <td>-12.761505</td>\n",
       "      <td>-13.457834</td>\n",
       "    </tr>\n",
       "    <tr>\n",
       "      <th>aaaaahhhhhhhhhhhhhhhhth</th>\n",
       "      <td>-12.761505</td>\n",
       "      <td>-13.863299</td>\n",
       "    </tr>\n",
       "    <tr>\n",
       "      <th>aaaah</th>\n",
       "      <td>-12.761505</td>\n",
       "      <td>-13.863299</td>\n",
       "    </tr>\n",
       "    <tr>\n",
       "      <th>aaah</th>\n",
       "      <td>-12.761505</td>\n",
       "      <td>-13.170152</td>\n",
       "    </tr>\n",
       "    <tr>\n",
       "      <th>aachen</th>\n",
       "      <td>-12.068358</td>\n",
       "      <td>-14.556446</td>\n",
       "    </tr>\n",
       "    <tr>\n",
       "      <th>aad</th>\n",
       "      <td>-12.761505</td>\n",
       "      <td>-13.863299</td>\n",
       "    </tr>\n",
       "    <tr>\n",
       "      <th>aadp</th>\n",
       "      <td>-12.761505</td>\n",
       "      <td>-13.863299</td>\n",
       "    </tr>\n",
       "    <tr>\n",
       "      <th>aafco</th>\n",
       "      <td>-12.068358</td>\n",
       "      <td>-13.457834</td>\n",
       "    </tr>\n",
       "  </tbody>\n",
       "</table>\n",
       "</div>"
      ],
      "text/plain": [
       "                                 0          1\n",
       "aaa                     -12.761505 -13.863299\n",
       "aaaaaaaaagghh           -12.761505 -13.863299\n",
       "aaaaah                  -12.761505 -13.457834\n",
       "aaaaahhhhhhhhhhhhhhhhth -12.761505 -13.863299\n",
       "aaaah                   -12.761505 -13.863299\n",
       "aaah                    -12.761505 -13.170152\n",
       "aachen                  -12.068358 -14.556446\n",
       "aad                     -12.761505 -13.863299\n",
       "aadp                    -12.761505 -13.863299\n",
       "aafco                   -12.068358 -13.457834"
      ]
     },
     "execution_count": 11,
     "metadata": {},
     "output_type": "execute_result"
    }
   ],
   "source": [
    "#creating data frame comprised of feature name and its respective probaility value \n",
    "feature_prob_df = pd.DataFrame(log_prob, columns=bow_features,)\n",
    "feature_prob_df = feature_prob_df.T\n",
    "feature_prob_df.head(10)"
   ]
  },
  {
   "cell_type": "code",
   "execution_count": 12,
   "metadata": {},
   "outputs": [],
   "source": [
    "features = nbclf.coef_"
   ]
  },
  {
   "cell_type": "code",
   "execution_count": 13,
   "metadata": {},
   "outputs": [
    {
     "data": {
      "text/plain": [
       "array([[-13.86329927, -13.86329927, -13.45783416, ..., -13.45783416,\n",
       "        -13.86329927, -13.86329927]])"
      ]
     },
     "execution_count": 13,
     "metadata": {},
     "output_type": "execute_result"
    }
   ],
   "source": [
    "features"
   ]
  },
  {
   "cell_type": "code",
   "execution_count": 15,
   "metadata": {},
   "outputs": [
    {
     "name": "stdout",
     "output_type": "stream",
     "text": [
      "Top 25 Negative Features are:-\n",
      " not       -4.004508\n",
      "tast      -4.416050\n",
      "like      -4.496370\n",
      "product   -4.625866\n",
      "one       -4.911792\n",
      "flavor    -5.020841\n",
      "tri       -5.092010\n",
      "would     -5.098098\n",
      "good      -5.208743\n",
      "use       -5.367012\n",
      "get       -5.386250\n",
      "buy       -5.386876\n",
      "tea       -5.396958\n",
      "order     -5.409706\n",
      "dont      -5.507328\n",
      "food      -5.543329\n",
      "box       -5.593696\n",
      "coffe     -5.603770\n",
      "make      -5.604549\n",
      "much      -5.625022\n",
      "Name: 0, dtype: float64\n",
      "\n",
      "\n",
      "Top 25 Positive Features:-\n",
      " not       -4.468473\n",
      "like      -4.490925\n",
      "tast      -4.538782\n",
      "tea       -4.676995\n",
      "good      -4.688379\n",
      "flavor    -4.723328\n",
      "great     -4.727144\n",
      "love      -4.779657\n",
      "use       -4.828980\n",
      "one       -4.871675\n",
      "product   -4.916924\n",
      "tri       -4.981185\n",
      "make      -5.049043\n",
      "get       -5.182373\n",
      "coffe     -5.373683\n",
      "eat       -5.394981\n",
      "best      -5.418892\n",
      "food      -5.445264\n",
      "time      -5.479752\n",
      "realli    -5.487324\n",
      "Name: 1, dtype: float64\n"
     ]
    }
   ],
   "source": [
    "# To show top 20 feature from both class(Feature Importance)\n",
    "print(\"Top 25 Negative Features are:-\\n\",feature_prob_df.iloc[:,0].sort_values(ascending = False)[0:20])\n",
    "print()\n",
    "print()\n",
    "print(\"Top 25 Positive Features:-\\n\",feature_prob_df.iloc[:,-1].sort_values(ascending = False)[0:20])"
   ]
  },
  {
   "cell_type": "markdown",
   "metadata": {},
   "source": [
    "## fearure engineering on BOW:\n",
    "\n",
    "1. as data is hingly imbalanced(we cud see very lor perf metrics), hence in order to increase perf metrics, we are employing    feature engineering  stratergy so as to increase the minority class label by some percentage\n",
    "2. stratergy employed is to fresh retrain model with a newly preprocessed column having  concatination of 'text' and 'summary' columns \n"
   ]
  },
  {
   "cell_type": "code",
   "execution_count": 16,
   "metadata": {},
   "outputs": [],
   "source": [
    "#loading cleaned data frame:\n",
    "df = pd.read_csv('final.csv')"
   ]
  },
  {
   "cell_type": "code",
   "execution_count": 17,
   "metadata": {},
   "outputs": [
    {
     "data": {
      "text/plain": [
       "Index(['Unnamed: 0', 'Id', 'ProductId', 'UserId', 'ProfileName',\n",
       "       'HelpfulnessNumerator', 'HelpfulnessDenominator', 'Score', 'Time',\n",
       "       'Summary', 'Text', 'CleanedText_Bow', 'ClenedText_W2V'],\n",
       "      dtype='object')"
      ]
     },
     "execution_count": 17,
     "metadata": {},
     "output_type": "execute_result"
    }
   ],
   "source": [
    "df .columns"
   ]
  },
  {
   "cell_type": "code",
   "execution_count": 18,
   "metadata": {},
   "outputs": [
    {
     "data": {
      "text/plain": [
       "Unnamed: 0                0\n",
       "Id                        0\n",
       "ProductId                 0\n",
       "UserId                    0\n",
       "ProfileName               0\n",
       "HelpfulnessNumerator      0\n",
       "HelpfulnessDenominator    0\n",
       "Score                     0\n",
       "Time                      0\n",
       "Summary                   1\n",
       "Text                      0\n",
       "CleanedText_Bow           0\n",
       "ClenedText_W2V            0\n",
       "dtype: int64"
      ]
     },
     "execution_count": 18,
     "metadata": {},
     "output_type": "execute_result"
    }
   ],
   "source": [
    "#checking for whether any column is haivng Null value?\n",
    "df.isna().sum()"
   ]
  },
  {
   "cell_type": "code",
   "execution_count": 19,
   "metadata": {},
   "outputs": [],
   "source": [
    "# replacing blank space of one of the cells of 'summary' which is having NaN value:\n",
    "df['Summary'] = df['Summary'].replace(np.nan, '', regex=True)"
   ]
  },
  {
   "cell_type": "code",
   "execution_count": 20,
   "metadata": {},
   "outputs": [
    {
     "data": {
      "text/plain": [
       "Unnamed: 0                0\n",
       "Id                        0\n",
       "ProductId                 0\n",
       "UserId                    0\n",
       "ProfileName               0\n",
       "HelpfulnessNumerator      0\n",
       "HelpfulnessDenominator    0\n",
       "Score                     0\n",
       "Time                      0\n",
       "Summary                   0\n",
       "Text                      0\n",
       "CleanedText_Bow           0\n",
       "ClenedText_W2V            0\n",
       "dtype: int64"
      ]
     },
     "execution_count": 20,
     "metadata": {},
     "output_type": "execute_result"
    }
   ],
   "source": [
    "df.isna().sum()"
   ]
  },
  {
   "cell_type": "code",
   "execution_count": 21,
   "metadata": {},
   "outputs": [],
   "source": [
    "#creating new column:\n",
    "df['new_feat'] = df[['Summary', 'CleanedText_Bow']].apply(lambda x: ' '.join(x),axis=1)"
   ]
  },
  {
   "cell_type": "code",
   "execution_count": 22,
   "metadata": {},
   "outputs": [
    {
     "data": {
      "text/plain": [
       "0    EVERY book is educational witti littl book mak...\n",
       "1    This whole series is great way to spend time w...\n",
       "2    Entertainingl Funny! beetlejuic well written m...\n",
       "3    A modern day fairy tale twist rumplestiskin ca...\n",
       "Name: new_feat, dtype: object"
      ]
     },
     "execution_count": 22,
     "metadata": {},
     "output_type": "execute_result"
    }
   ],
   "source": [
    "df['new_feat'].head(4)"
   ]
  },
  {
   "cell_type": "markdown",
   "metadata": {},
   "source": [
    "## data preprocessing on new featured column "
   ]
  },
  {
   "cell_type": "code",
   "execution_count": 23,
   "metadata": {},
   "outputs": [],
   "source": [
    "import re"
   ]
  },
  {
   "cell_type": "code",
   "execution_count": 24,
   "metadata": {},
   "outputs": [
    {
     "name": "stdout",
     "output_type": "stream",
     "text": [
      "CPU times: user 536 ms, sys: 12 ms, total: 548 ms\n",
      "Wall time: 547 ms\n"
     ]
    }
   ],
   "source": [
    "%%time\n",
    "# removeing HTML TAG\n",
    "df['new_feat'] = df['new_feat'].apply(lambda x : re.sub('<.*?>','', x)) #No characters to be substitited in place of HTML tag\n",
    "\n",
    "#removing punctuation marks:\n",
    "df['new_feat'] = df['new_feat'].apply(lambda x: re.sub(r'[?|!|\\'|\"|#|.|,|)|(|\\|/|~|%|*]', '', x))\n",
    "\n",
    "#converting it to lower case:\n",
    "df['new_feat'] = df['new_feat'].apply(lambda x: x.lower())"
   ]
  },
  {
   "cell_type": "code",
   "execution_count": 25,
   "metadata": {},
   "outputs": [
    {
     "name": "stdout",
     "output_type": "stream",
     "text": [
      "CPU times: user 136 ms, sys: 20 ms, total: 156 ms\n",
      "Wall time: 155 ms\n"
     ]
    }
   ],
   "source": [
    "%%time\n",
    "\n",
    "#supporting libraries for creating stopwords:\n",
    "from nltk.corpus import stopwords\n",
    "from nltk.stem import PorterStemmer\n",
    "from nltk.stem.wordnet import WordNetLemmatizer\n",
    "\n",
    "\n",
    "#creating stopwords list:\n",
    "\n",
    "stop = set(stopwords.words('english')) #set of stopwords\n",
    "stop = list(stop)\n",
    "temp = []\n",
    "list_of_excluded_words = ['against','not','don', \"don't\",'ain', 'aren', \"aren't\", 'couldn', \"couldn't\", 'didn', \"didn't\",\n",
    "             'doesn', \"doesn't\", 'hadn', \"hadn't\", 'hasn', \"hasn't\", 'haven', \"haven't\", 'isn', \"isn't\", \n",
    "             'mightn', \"mightn't\", 'mustn', \"mustn't\", 'needn', \"needn't\",'shouldn', \"shouldn't\", 'wasn',\n",
    "             \"wasn't\", 'weren', \"weren't\", 'won', \"won't\", 'wouldn', \"wouldn't\"]\n",
    "\n",
    "\n",
    "for i in range(len(stop)):\n",
    "    if stop[i] in list_of_excluded_words:\n",
    "        continue\n",
    "    else:\n",
    "        temp.append(stop[i])\n",
    "stop = set(temp)"
   ]
  },
  {
   "cell_type": "code",
   "execution_count": 26,
   "metadata": {},
   "outputs": [],
   "source": [
    "from nltk.stem import SnowballStemmer\n",
    "snow = SnowballStemmer('english') #initialising the snowball stemmer"
   ]
  },
  {
   "cell_type": "code",
   "execution_count": 27,
   "metadata": {},
   "outputs": [],
   "source": [
    "df['Score'] = df['Score'].apply(lambda x: 'Positive' if int(x) == 1 else 'Negative')"
   ]
  },
  {
   "cell_type": "code",
   "execution_count": 28,
   "metadata": {},
   "outputs": [
    {
     "data": {
      "text/plain": [
       "Positive    87729\n",
       "Negative    12271\n",
       "Name: Score, dtype: int64"
      ]
     },
     "execution_count": 28,
     "metadata": {},
     "output_type": "execute_result"
    }
   ],
   "source": [
    "df['Score'].value_counts()"
   ]
  },
  {
   "cell_type": "code",
   "execution_count": 29,
   "metadata": {},
   "outputs": [
    {
     "name": "stdout",
     "output_type": "stream",
     "text": [
      "CPU times: user 1min 26s, sys: 24 ms, total: 1min 26s\n",
      "Wall time: 1min 26s\n"
     ]
    }
   ],
   "source": [
    "%%time\n",
    "\n",
    "#creating list of cleaned words and two seperate lists of pos & neg reviews\n",
    "i = 0\n",
    "str1 = ''\n",
    "final_string = []\n",
    "all_positive_words = [] # store words from +ve reviews here\n",
    "all_negative_words = [] # store words from -ve reviews here.\n",
    "s = ''\n",
    "for sentence in df['new_feat'].values:\n",
    "    filtered_sentence = []\n",
    "    for word in sentence.split():\n",
    "        if((word not in stop) & (len(word)>2) & (word.isalpha())):    \n",
    "            s = snow.stem(word).encode('utf8')\n",
    "            filtered_sentence.append(s)\n",
    "            if (df['new_feat'].values)[i] == 'Positive': \n",
    "                all_positive_words.append(s) #list of all words used to describe positive reviews\n",
    "            elif(df['new_feat'].values)[i] == 'Negative':\n",
    "                all_negative_words.append(s) #list of all words used to describe negative reviews reviews\n",
    "        else:\n",
    "            continue\n",
    " #print(filtered_sentence)\n",
    "    str1 = b\" \".join(filtered_sentence) #final string of cleaned words\n",
    "    #print(\"*\" * 40)\n",
    "    \n",
    "    final_string.append(str1)\n",
    "    i+=1            "
   ]
  },
  {
   "cell_type": "code",
   "execution_count": 30,
   "metadata": {},
   "outputs": [],
   "source": [
    "df['new_feat'] = final_string"
   ]
  },
  {
   "cell_type": "code",
   "execution_count": 31,
   "metadata": {},
   "outputs": [],
   "source": [
    "df['new_feat'] = df['new_feat'].apply(lambda x: x.decode(\"utf-8\"))"
   ]
  },
  {
   "cell_type": "code",
   "execution_count": 32,
   "metadata": {},
   "outputs": [
    {
     "data": {
      "text/plain": [
       "0    everi book educ witti littl book make son laug...\n",
       "1    whole seri great way spend time child rememb s...\n",
       "2    entertainingl funni beetleju well written movi...\n",
       "3    modern day fairi tale twist rumplestiskin capt...\n",
       "4    fantast beetleju excel funni movi keaton hilar...\n",
       "Name: new_feat, dtype: object"
      ]
     },
     "execution_count": 32,
     "metadata": {},
     "output_type": "execute_result"
    }
   ],
   "source": [
    "df['new_feat'].head(5)"
   ]
  },
  {
   "cell_type": "code",
   "execution_count": 33,
   "metadata": {},
   "outputs": [
    {
     "data": {
      "text/plain": [
       "1    87729\n",
       "0    12271\n",
       "Name: Score, dtype: int64"
      ]
     },
     "execution_count": 33,
     "metadata": {},
     "output_type": "execute_result"
    }
   ],
   "source": [
    "df.Score = df.Score.apply(lambda x: 1 if x == 'Positive' else 0)\n",
    "df.Score.value_counts()"
   ]
  },
  {
   "cell_type": "code",
   "execution_count": 34,
   "metadata": {},
   "outputs": [],
   "source": [
    "#selecting top 10000 data points\n",
    "df = df.iloc[0:100000,]\n",
    "\n",
    "#train, test cv split\n",
    "from sklearn.model_selection import train_test_split\n",
    "TR, XTST, tr,ytst = train_test_split(df['new_feat'].values, df['Score'].values, test_size=0.2,\n",
    "                                      shuffle=False)\n",
    "XTR, XCV, ytr,ycv = train_test_split(TR, tr, test_size=0.2, shuffle=False)"
   ]
  },
  {
   "cell_type": "code",
   "execution_count": 35,
   "metadata": {},
   "outputs": [],
   "source": [
    "#initializing bow vectorizer:\n",
    "bword = CountVectorizer(ngram_range=(1,1))"
   ]
  },
  {
   "cell_type": "code",
   "execution_count": 36,
   "metadata": {},
   "outputs": [],
   "source": [
    "#fitting and transforming:\n",
    "XTR = bow.fit_transform(XTR)\n",
    "XCV = bow.transform(XCV)\n",
    "XTST = bow.transform(XTST)"
   ]
  },
  {
   "cell_type": "code",
   "execution_count": 37,
   "metadata": {},
   "outputs": [
    {
     "name": "stdout",
     "output_type": "stream",
     "text": [
      "CPU times: user 632 ms, sys: 0 ns, total: 632 ms\n",
      "Wall time: 631 ms\n"
     ]
    }
   ],
   "source": [
    "%%time\n",
    "#Libraries related to performance Metrics:\n",
    "from sklearn.cross_validation import cross_val_score\n",
    "from sklearn.metrics import accuracy_score\n",
    "from sklearn.metrics import confusion_matrix\n",
    "from sklearn.metrics import precision_score\n",
    "from sklearn.metrics import f1_score\n",
    "from sklearn.metrics import recall_score\n",
    "warnings.filterwarnings('ignore')\n",
    "\n",
    "#CV to find optimal alpha for f1-score performance metric\n",
    "f1score = []\n",
    "alpha_list = [10000,5000,1000,500,100,50,10,5,1,0.05,0.01,0.005,0.001,0.0005,0.0001, 0.00001] \n",
    "for i in alpha_list:\n",
    "    nbclf = MultinomialNB(alpha=i)\n",
    "    nbclf.fit(XTR, ytr)\n",
    "    y_pred_cv = nbclf.predict(XCV)\n",
    "    f1score.append(f1_score(y_cv, y_pred_cv))\n",
    "    #print(\"F1-Score for aplha = {:<2d} ,on cv set is :{:<.3f}\".format(i, f1_score(y_cv, y_pred_cv)))\n",
    "    "
   ]
  },
  {
   "cell_type": "code",
   "execution_count": 38,
   "metadata": {},
   "outputs": [
    {
     "name": "stdout",
     "output_type": "stream",
     "text": [
      "Optimal alpha for NB-BoW = 1\n",
      "missclassification error for each alpha value:  [0.072 0.072 0.072 0.072 0.072 0.072 0.072 0.069 0.046 0.047 0.048 0.049\n",
      " 0.05  0.051 0.052 0.054]\n"
     ]
    },
    {
     "data": {
      "image/png": "[encoded data removed]",
      "text/plain": [
       "<Figure size 432x288 with 1 Axes>"
      ]
     },
     "metadata": {},
     "output_type": "display_data"
    }
   ],
   "source": [
    "MSE = [1 - x for x in f1score]\n",
    "alpha_optimal_BoW = alpha_list[MSE.index(min(MSE))]\n",
    "print('Optimal alpha for NB-BoW = {}'.format(alpha_optimal_BoW))\n",
    "print(\"missclassification error for each alpha value: \", np.round(MSE, 3))\n",
    "#plotting the graph of misclassification error vs alpha\n",
    "\n",
    "plt.plot(alpha_list, MSE)\n",
    "plt.title(\"Number of alphas and error\")\n",
    "plt.xlabel(\"AlphaValues\")\n",
    "plt.ylabel(\"MissclassificationError\")\n",
    "plt.show()"
   ]
  },
  {
   "cell_type": "code",
   "execution_count": 39,
   "metadata": {},
   "outputs": [
    {
     "name": "stdout",
     "output_type": "stream",
     "text": [
      "\n",
      "CV accuracy for aplha = 0.05 is 91.455\n",
      "\n",
      "Accuracy on test set: 91.455\n",
      "\n",
      "Precision on test set: 0.9536870242315068\n",
      "\n",
      "Recall on test set: 0.9473562687601016\n",
      "\n",
      "F1-Score on test set: 0.9505111053195494\n"
     ]
    },
    {
     "data": {
      "image/png": "[encoded data removed]",
      "text/plain": [
       "<Figure size 432x288 with 2 Axes>"
      ]
     },
     "metadata": {},
     "output_type": "display_data"
    },
    {
     "name": "stdout",
     "output_type": "stream",
     "text": [
      "CPU times: user 436 ms, sys: 296 ms, total: 732 ms\n",
      "Wall time: 278 ms\n"
     ]
    }
   ],
   "source": [
    "%%time\n",
    "optimal_alpha = 0.05\n",
    "nbclf = MultinomialNB(alpha=optimal_alpha)\n",
    "nbclf.fit(XTR, ytr)\n",
    "y_pred = nbclf.predict(XTST)\n",
    "\n",
    "#performance metrics values:\n",
    "acc = accuracy_score(ytst, y_pred) * float(100)\n",
    "print('\\nCV accuracy for aplha = {} is {}'.format(optimal_alpha, acc))\n",
    "print(\"\\nAccuracy on test set: {}\".format(accuracy_score(ytst, y_pred)*100))\n",
    "print(\"\\nPrecision on test set: {}\".format(precision_score(ytst, y_pred)))\n",
    "print(\"\\nRecall on test set: {}\".format(recall_score(ytst, y_pred)))\n",
    "print(\"\\nF1-Score on test set: {}\".format(f1_score(ytst, y_pred)))\n",
    "\n",
    "\n",
    "#plotting confusion matrix:\n",
    "cf = confusion_matrix(ytst, y_pred)\n",
    "labels = ['True negative', 'True positive']\n",
    "df_cf = pd.DataFrame(cf, index=labels, columns=['Predicted negative', 'Predicted positive'])\n",
    "sns.heatmap(df_cf, annot=True,fmt='3d', cmap='magma_r')\n",
    "\n",
    "plt.title(\"confusion Matrix chart for NB-BoW\")\n",
    "plt.xlabel(\"NB classifier predicted values\")\n",
    "plt.ylabel(\"true values\")\n",
    "plt.show()"
   ]
  },
  {
   "cell_type": "code",
   "execution_count": 40,
   "metadata": {},
   "outputs": [
    {
     "name": "stdout",
     "output_type": "stream",
     "text": [
      "Classfication report for NB-BoW algo is:\n",
      "\n",
      "              precision    recall  f1-score   support\n",
      "\n",
      "          0       0.67      0.70      0.69      2676\n",
      "          1       0.95      0.95      0.95     17324\n",
      "\n",
      "avg / total       0.92      0.91      0.92     20000\n",
      "\n"
     ]
    }
   ],
   "source": [
    "from sklearn.metrics import classification_report\n",
    "print('Classfication report for NB-BoW algo is:\\n\\n {}'.format(classification_report(y_test, y_pred)))"
   ]
  },
  {
   "cell_type": "code",
   "execution_count": 42,
   "metadata": {},
   "outputs": [],
   "source": [
    "## pickeling the featured dataframe onto disk:\n",
    "file1 = open('df_featured_column.pickle', 'wb')\n",
    "# dump information to that file\n",
    "pickle.dump(df, file1)\n",
    "# closing the file\n",
    "file1.close()"
   ]
  },
  {
   "cell_type": "markdown",
   "metadata": {},
   "source": [
    "## we could see after feature engineering we improved the model performace by 15% !!!!!"
   ]
  },
  {
   "cell_type": "code",
   "execution_count": null,
   "metadata": {},
   "outputs": [],
   "source": []
  },
  {
   "cell_type": "markdown",
   "metadata": {},
   "source": [
    "## TF-IDF"
   ]
  },
  {
   "cell_type": "code",
   "execution_count": 43,
   "metadata": {},
   "outputs": [],
   "source": [
    "import pickle\n",
    "# open file objects wrt datapoints X_tr, X_cv X_test\n",
    "file1 = open('X_tr.pickle', '+rb')\n",
    "file2 = open('X_cv.pickle', '+rb')\n",
    "file3 = open('X_test.pickle', '+rb')\n",
    "\n",
    "# load information to that file\n",
    "X_tr = pickle.load(file1)\n",
    "X_cv = pickle.load(file2)\n",
    "X_test =pickle.load(file3)\n",
    "\n",
    "# close the file\n",
    "file1.close()\n",
    "file2.close()\n",
    "file3.close()\n",
    "\n",
    "\n",
    "# open files object wrt class labels for y_tr, y_cv and y_test\n",
    "file1 = open('y_tr.pickle', '+rb')\n",
    "file2 = open('y_cv.pickle', '+rb')\n",
    "file3 = open('y_test.pickle', '+rb')\n",
    "\n",
    "# load information to that file\n",
    "y_tr = pickle.load(file1)\n",
    "y_cv = pickle.load(file2)\n",
    "y_test =pickle.load(file3)\n",
    "\n",
    "# close the file\n",
    "file1.close()\n",
    "file2.close()\n",
    "file3.close()"
   ]
  },
  {
   "cell_type": "code",
   "execution_count": 44,
   "metadata": {},
   "outputs": [],
   "source": [
    "#tfidf vectorizor:\n",
    "from sklearn.feature_extraction.text import TfidfVectorizer\n",
    "\n",
    "#fitting and transforming:\n",
    "tfidf = CountVectorizer(ngram_range=(1,1))\n",
    "X_tr = tfidf.fit_transform(X_tr)\n",
    "X_cv = tfidf.transform(X_cv)\n",
    "X_test = tfidf.transform(X_test)"
   ]
  },
  {
   "cell_type": "markdown",
   "metadata": {},
   "source": [
    "## CV to find optimal alpha"
   ]
  },
  {
   "cell_type": "code",
   "execution_count": 45,
   "metadata": {},
   "outputs": [
    {
     "name": "stdout",
     "output_type": "stream",
     "text": [
      "CPU times: user 608 ms, sys: 4 ms, total: 612 ms\n",
      "Wall time: 608 ms\n"
     ]
    }
   ],
   "source": [
    "%%time\n",
    "#Libraries related to performance Metrics:\n",
    "from sklearn.cross_validation import cross_val_score\n",
    "from sklearn.metrics import accuracy_score\n",
    "from sklearn.metrics import confusion_matrix\n",
    "from sklearn.metrics import precision_score\n",
    "from sklearn.metrics import f1_score\n",
    "from sklearn.metrics import recall_score\n",
    "warnings.filterwarnings('ignore')\n",
    "\n",
    "#CV to find optimal alpha for f1-score performance metric\n",
    "f1score = []\n",
    "alpha_list = [10000,5000,1000,500,100,50,10,5,1,0.05,0.01,0.005,0.001,0.0005,0.0001, 0.00001] \n",
    "for i in alpha_list:\n",
    "    nbclf = MultinomialNB(alpha=i)\n",
    "    nbclf.fit(X_tr, y_tr)\n",
    "    y_pred_cv = nbclf.predict(X_cv)\n",
    "    f1score.append(f1_score(y_cv, y_pred_cv))\n",
    "    #print(\"F1-Score for aplha = {:<2d} ,on cv set is :{:<.3f}\".format(i, f1_score(y_cv, y_pred_cv)))\n",
    "    "
   ]
  },
  {
   "cell_type": "markdown",
   "metadata": {},
   "source": [
    "## MisclassificationError on F1-Score"
   ]
  },
  {
   "cell_type": "code",
   "execution_count": 46,
   "metadata": {},
   "outputs": [
    {
     "name": "stdout",
     "output_type": "stream",
     "text": [
      "Optimal alpha for NB-TFIDF = 1\n",
      "missclassification error for each alpha value:  [0.072 0.072 0.072 0.072 0.072 0.072 0.072 0.071 0.053 0.053 0.055 0.056\n",
      " 0.057 0.057 0.058 0.059]\n"
     ]
    },
    {
     "data": {
      "image/png": "[encoded data removed]",
      "text/plain": [
       "<Figure size 432x288 with 1 Axes>"
      ]
     },
     "metadata": {},
     "output_type": "display_data"
    }
   ],
   "source": [
    "MSE = [1 - x for x in f1score]\n",
    "alpha_optimal_tfidf = alpha_list[MSE.index(min(MSE))]\n",
    "print('Optimal alpha for NB-TFIDF = {}'.format(alpha_optimal_tfidf))\n",
    "print(\"missclassification error for each alpha value: \", np.round(MSE, 3))\n",
    "#plotting the graph of misclassification error vs alpha\n",
    "\n",
    "plt.plot(alpha_list, MSE)\n",
    "plt.title(\"alphas vs error\")\n",
    "plt.xlabel(\"Alpha Values\")\n",
    "plt.ylabel(\"MissclassificationError on F1-Score\")\n",
    "plt.show()"
   ]
  },
  {
   "cell_type": "markdown",
   "metadata": {},
   "source": [
    "## training NB-tfidf model on optimal alpha"
   ]
  },
  {
   "cell_type": "code",
   "execution_count": 47,
   "metadata": {},
   "outputs": [
    {
     "name": "stdout",
     "output_type": "stream",
     "text": [
      "\n",
      "CV accuracy for aplha = 1 is 90.415\n",
      "\n",
      "Accuracy on test set: 90.415\n",
      "\n",
      "Precision on test set: 0.9138773975178639\n",
      "\n",
      "Recall on test set: 0.9818748556915262\n",
      "\n",
      "F1-Score on test set: 0.946656649135988\n"
     ]
    },
    {
     "data": {
      "image/png": "[encoded data removed]",
      "text/plain": [
       "<Figure size 432x288 with 2 Axes>"
      ]
     },
     "metadata": {},
     "output_type": "display_data"
    },
    {
     "name": "stdout",
     "output_type": "stream",
     "text": [
      "CPU times: user 304 ms, sys: 220 ms, total: 524 ms\n",
      "Wall time: 235 ms\n"
     ]
    }
   ],
   "source": [
    "%%time\n",
    "optimal_alpha = 1\n",
    "nbclf = MultinomialNB(alpha=optimal_alpha)\n",
    "nbclf.fit(X_tr, y_tr)\n",
    "y_pred = nbclf.predict(X_test)\n",
    "\n",
    "#performance metrics values:\n",
    "acc = accuracy_score(y_test, y_pred) * float(100)\n",
    "print('\\nCV accuracy for aplha = {} is {}'.format(optimal_alpha, acc))\n",
    "print(\"\\nAccuracy on test set: {}\".format(accuracy_score(y_test, y_pred)*100))\n",
    "print(\"\\nPrecision on test set: {}\".format(precision_score(y_test, y_pred)))\n",
    "print(\"\\nRecall on test set: {}\".format(recall_score(y_test, y_pred)))\n",
    "print(\"\\nF1-Score on test set: {}\".format(f1_score(y_test, y_pred)))\n",
    "\n",
    "\n",
    "#plotting confusion matrix:\n",
    "cf = confusion_matrix(y_test, y_pred)\n",
    "labels = ['True negative', 'True positive']\n",
    "df_cf = pd.DataFrame(cf, index=labels, columns=['Predicted negative', 'Predicted positive'])\n",
    "sns.heatmap(df_cf, annot=True,fmt='3d', cmap='magma_r')\n",
    "\n",
    "plt.title(\"confusion Matrix chart for NB-Tfidf\")\n",
    "plt.xlabel(\"NB classifier predicted values\")\n",
    "plt.ylabel(\"true values\")\n",
    "plt.show()"
   ]
  },
  {
   "cell_type": "code",
   "execution_count": 48,
   "metadata": {},
   "outputs": [
    {
     "name": "stdout",
     "output_type": "stream",
     "text": [
      "Classfication report for NB-Tfidf algo is:\n",
      "\n",
      "              precision    recall  f1-score   support\n",
      "\n",
      "          0       0.77      0.40      0.53      2676\n",
      "          1       0.91      0.98      0.95     17324\n",
      "\n",
      "avg / total       0.90      0.90      0.89     20000\n",
      "\n"
     ]
    }
   ],
   "source": [
    "from sklearn.metrics import classification_report\n",
    "print('Classfication report for NB-Tfidf algo is:\\n\\n {}'.format(classification_report(y_test, y_pred)))"
   ]
  },
  {
   "cell_type": "markdown",
   "metadata": {},
   "source": [
    "## as we could see above f1 score was low on minority class,\n",
    "1.  we would employ feature engineering stratergy as an attempt to increase the minority class prediction by classifier             afterwards."
   ]
  },
  {
   "cell_type": "markdown",
   "metadata": {},
   "source": [
    "## Features extraction on NB-Tfidf"
   ]
  },
  {
   "cell_type": "code",
   "execution_count": 50,
   "metadata": {},
   "outputs": [
    {
     "name": "stdout",
     "output_type": "stream",
     "text": [
      "['aaa', 'aaaaaaaaagghh', 'aaaaah']\n",
      "optimal feature count shape is (2, 61055)\n"
     ]
    }
   ],
   "source": [
    "#To get all the features name\n",
    "tfidf_features = tfidf.get_feature_names()\n",
    "print(tfidf_features[0:3])\n",
    "#To count feature for each class for optimal trained model, no of sample encountered for each (class, feature) during fitting\n",
    "feat_count = nbclf.feature_count_\n",
    "print('optimal feature count shape is {}'.format(feat_count.shape))"
   ]
  },
  {
   "cell_type": "code",
   "execution_count": 51,
   "metadata": {},
   "outputs": [
    {
     "name": "stdout",
     "output_type": "stream",
     "text": [
      "(2, 61055)\n"
     ]
    },
    {
     "data": {
      "text/plain": [
       "array([[-12.76150541, -12.76150541, -12.76150541, ..., -12.76150541,\n",
       "        -12.76150541, -12.76150541],\n",
       "       [-13.86329927, -13.86329927, -13.45783416, ..., -13.45783416,\n",
       "        -13.86329927, -13.86329927]])"
      ]
     },
     "execution_count": 51,
     "metadata": {},
     "output_type": "execute_result"
    }
   ],
   "source": [
    "# log probability of features given a class(i.e. P(x_i|y)) of optimal NB model\n",
    "log_prob = nbclf.feature_log_prob_\n",
    "print(log_prob.shape)\n",
    "log_prob"
   ]
  },
  {
   "cell_type": "code",
   "execution_count": 52,
   "metadata": {},
   "outputs": [
    {
     "data": {
      "text/html": [
       "<div>\n",
       "<style scoped>\n",
       "    .dataframe tbody tr th:only-of-type {\n",
       "        vertical-align: middle;\n",
       "    }\n",
       "\n",
       "    .dataframe tbody tr th {\n",
       "        vertical-align: top;\n",
       "    }\n",
       "\n",
       "    .dataframe thead th {\n",
       "        text-align: right;\n",
       "    }\n",
       "</style>\n",
       "<table border=\"1\" class=\"dataframe\">\n",
       "  <thead>\n",
       "    <tr style=\"text-align: right;\">\n",
       "      <th></th>\n",
       "      <th>0</th>\n",
       "      <th>1</th>\n",
       "    </tr>\n",
       "  </thead>\n",
       "  <tbody>\n",
       "    <tr>\n",
       "      <th>aaa</th>\n",
       "      <td>-12.761505</td>\n",
       "      <td>-13.863299</td>\n",
       "    </tr>\n",
       "    <tr>\n",
       "      <th>aaaaaaaaagghh</th>\n",
       "      <td>-12.761505</td>\n",
       "      <td>-13.863299</td>\n",
       "    </tr>\n",
       "    <tr>\n",
       "      <th>aaaaah</th>\n",
       "      <td>-12.761505</td>\n",
       "      <td>-13.457834</td>\n",
       "    </tr>\n",
       "    <tr>\n",
       "      <th>aaaaahhhhhhhhhhhhhhhhth</th>\n",
       "      <td>-12.761505</td>\n",
       "      <td>-13.863299</td>\n",
       "    </tr>\n",
       "    <tr>\n",
       "      <th>aaaah</th>\n",
       "      <td>-12.761505</td>\n",
       "      <td>-13.863299</td>\n",
       "    </tr>\n",
       "    <tr>\n",
       "      <th>aaah</th>\n",
       "      <td>-12.761505</td>\n",
       "      <td>-13.170152</td>\n",
       "    </tr>\n",
       "    <tr>\n",
       "      <th>aachen</th>\n",
       "      <td>-12.068358</td>\n",
       "      <td>-14.556446</td>\n",
       "    </tr>\n",
       "    <tr>\n",
       "      <th>aad</th>\n",
       "      <td>-12.761505</td>\n",
       "      <td>-13.863299</td>\n",
       "    </tr>\n",
       "    <tr>\n",
       "      <th>aadp</th>\n",
       "      <td>-12.761505</td>\n",
       "      <td>-13.863299</td>\n",
       "    </tr>\n",
       "    <tr>\n",
       "      <th>aafco</th>\n",
       "      <td>-12.068358</td>\n",
       "      <td>-13.457834</td>\n",
       "    </tr>\n",
       "  </tbody>\n",
       "</table>\n",
       "</div>"
      ],
      "text/plain": [
       "                                 0          1\n",
       "aaa                     -12.761505 -13.863299\n",
       "aaaaaaaaagghh           -12.761505 -13.863299\n",
       "aaaaah                  -12.761505 -13.457834\n",
       "aaaaahhhhhhhhhhhhhhhhth -12.761505 -13.863299\n",
       "aaaah                   -12.761505 -13.863299\n",
       "aaah                    -12.761505 -13.170152\n",
       "aachen                  -12.068358 -14.556446\n",
       "aad                     -12.761505 -13.863299\n",
       "aadp                    -12.761505 -13.863299\n",
       "aafco                   -12.068358 -13.457834"
      ]
     },
     "execution_count": 52,
     "metadata": {},
     "output_type": "execute_result"
    }
   ],
   "source": [
    "#creating data frame comprised of feature name and its respective probaility value \n",
    "feature_prob_df = pd.DataFrame(log_prob, columns=tfidf_features,)\n",
    "feature_prob_df = feature_prob_df.T\n",
    "feature_prob_df.head(10)"
   ]
  },
  {
   "cell_type": "code",
   "execution_count": 53,
   "metadata": {},
   "outputs": [],
   "source": [
    "tfidf_features = nbclf.coef_"
   ]
  },
  {
   "cell_type": "markdown",
   "metadata": {},
   "source": [
    "## NBTfidf top 25 feature from both class(Feature Importance)"
   ]
  },
  {
   "cell_type": "code",
   "execution_count": 54,
   "metadata": {},
   "outputs": [
    {
     "name": "stdout",
     "output_type": "stream",
     "text": [
      "Top 25 Negative Features are:-\n",
      " not       -4.004508\n",
      "tast      -4.416050\n",
      "like      -4.496370\n",
      "product   -4.625866\n",
      "one       -4.911792\n",
      "flavor    -5.020841\n",
      "tri       -5.092010\n",
      "would     -5.098098\n",
      "good      -5.208743\n",
      "use       -5.367012\n",
      "get       -5.386250\n",
      "buy       -5.386876\n",
      "tea       -5.396958\n",
      "order     -5.409706\n",
      "dont      -5.507328\n",
      "food      -5.543329\n",
      "box       -5.593696\n",
      "coffe     -5.603770\n",
      "make      -5.604549\n",
      "much      -5.625022\n",
      "Name: 0, dtype: float64\n",
      "\n",
      "\n",
      "Top 25 Positive Features:-\n",
      " not       -4.468473\n",
      "like      -4.490925\n",
      "tast      -4.538782\n",
      "tea       -4.676995\n",
      "good      -4.688379\n",
      "flavor    -4.723328\n",
      "great     -4.727144\n",
      "love      -4.779657\n",
      "use       -4.828980\n",
      "one       -4.871675\n",
      "product   -4.916924\n",
      "tri       -4.981185\n",
      "make      -5.049043\n",
      "get       -5.182373\n",
      "coffe     -5.373683\n",
      "eat       -5.394981\n",
      "best      -5.418892\n",
      "food      -5.445264\n",
      "time      -5.479752\n",
      "realli    -5.487324\n",
      "Name: 1, dtype: float64\n"
     ]
    }
   ],
   "source": [
    "# To show top 25 feature from both class(Feature Importance)\n",
    "print(\"Top 25 Negative Features are:-\\n\",feature_prob_df.iloc[:,0].sort_values(ascending = False)[0:20])\n",
    "print()\n",
    "print()\n",
    "print(\"Top 25 Positive Features:-\\n\",feature_prob_df.iloc[:,-1].sort_values(ascending = False)[0:20])"
   ]
  },
  {
   "cell_type": "markdown",
   "metadata": {},
   "source": [
    "## Feature engineering : an attempt to imporove minority class prediction on NBTfidf"
   ]
  },
  {
   "cell_type": "code",
   "execution_count": 55,
   "metadata": {},
   "outputs": [],
   "source": [
    "#pickeling the preprocessed data frame\n",
    "file = open('df_featured_column.pickle', '+rb')\n",
    "df = pickle.load(file)\n",
    "file.close()"
   ]
  },
  {
   "cell_type": "code",
   "execution_count": 57,
   "metadata": {},
   "outputs": [
    {
     "data": {
      "text/plain": [
       "0    everi book educ witti littl book make son laug...\n",
       "1    whole seri great way spend time child rememb s...\n",
       "2    entertainingl funni beetleju well written movi...\n",
       "3    modern day fairi tale twist rumplestiskin capt...\n",
       "4    fantast beetleju excel funni movi keaton hilar...\n",
       "5    great one movi movi collect fill comedi action...\n",
       "6    clamshel edit edit version alway enjoy movi fu...\n",
       "7    sure death fli bought apart infest fruit fli h...\n",
       "8    bettlejuicebettlejuicebettlejuic happen say na...\n",
       "9    research beatlejuic video french version get c...\n",
       "Name: new_feat, dtype: object"
      ]
     },
     "execution_count": 57,
     "metadata": {},
     "output_type": "execute_result"
    }
   ],
   "source": [
    "df['new_feat'].head(10)"
   ]
  },
  {
   "cell_type": "code",
   "execution_count": 58,
   "metadata": {},
   "outputs": [],
   "source": [
    "#train, test cv split\n",
    "from sklearn.model_selection import train_test_split\n",
    "TR, XTST, tr,ytst = train_test_split(df['new_feat'].values, df['Score'].values, test_size=0.2,\n",
    "                                      shuffle=False)\n",
    "XTR, XCV, ytr,ycv = train_test_split(TR, tr, test_size=0.2, shuffle=False)"
   ]
  },
  {
   "cell_type": "code",
   "execution_count": 59,
   "metadata": {},
   "outputs": [],
   "source": [
    "#initializing tfidf vectorizer:\n",
    "tfid = CountVectorizer(ngram_range=(1,1))"
   ]
  },
  {
   "cell_type": "code",
   "execution_count": 60,
   "metadata": {},
   "outputs": [],
   "source": [
    "#fitting and transforming:\n",
    "XTR = tfid.fit_transform(XTR)\n",
    "XCV = tfid.transform(XCV)\n",
    "XTST = tfid.transform(XTST)"
   ]
  },
  {
   "cell_type": "markdown",
   "metadata": {},
   "source": [
    "## CV to find optimal alpha"
   ]
  },
  {
   "cell_type": "code",
   "execution_count": 61,
   "metadata": {},
   "outputs": [
    {
     "name": "stdout",
     "output_type": "stream",
     "text": [
      "CPU times: user 588 ms, sys: 0 ns, total: 588 ms\n",
      "Wall time: 585 ms\n"
     ]
    }
   ],
   "source": [
    "%%time\n",
    "#Libraries related to performance Metrics:\n",
    "from sklearn.cross_validation import cross_val_score\n",
    "from sklearn.metrics import accuracy_score\n",
    "from sklearn.metrics import confusion_matrix\n",
    "from sklearn.metrics import precision_score\n",
    "from sklearn.metrics import f1_score\n",
    "from sklearn.metrics import recall_score\n",
    "warnings.filterwarnings('ignore')\n",
    "\n",
    "#CV to find optimal alpha for f1-score performance metric\n",
    "f1score = []\n",
    "alpha_list = [10000,5000,1000,500,100,50,10,5,1,0.05,0.01,0.005,0.001,0.0005,0.0001, 0.00001] \n",
    "for i in alpha_list:\n",
    "    nbclf = MultinomialNB(alpha=i)\n",
    "    nbclf.fit(XTR, ytr)\n",
    "    y_pred_cv = nbclf.predict(XCV)\n",
    "    f1score.append(f1_score(y_cv, y_pred_cv))\n",
    "    #print(\"F1-Score for aplha = {:<2d} ,on cv set is :{:<.3f}\".format(i, f1_score(y_cv, y_pred_cv)))\n",
    "    "
   ]
  },
  {
   "cell_type": "markdown",
   "metadata": {},
   "source": [
    "## misclassfication error(f1-score) vc alpha"
   ]
  },
  {
   "cell_type": "code",
   "execution_count": 62,
   "metadata": {},
   "outputs": [
    {
     "name": "stdout",
     "output_type": "stream",
     "text": [
      "Optimal alpha for NB-tfid = 1\n",
      "missclassification error for each alpha value:  [0.072 0.072 0.072 0.072 0.072 0.072 0.072 0.069 0.046 0.047 0.048 0.049\n",
      " 0.05  0.051 0.052 0.054]\n"
     ]
    },
    {
     "data": {
      "image/png": "[encoded data removed]",
      "text/plain": [
       "<Figure size 432x288 with 1 Axes>"
      ]
     },
     "metadata": {},
     "output_type": "display_data"
    }
   ],
   "source": [
    "MSE = [1 - x for x in f1score]\n",
    "alpha_optimal_tfid = alpha_list[MSE.index(min(MSE))]\n",
    "print('Optimal alpha for NB-tfid = {}'.format(alpha_optimal_tfid))\n",
    "print(\"missclassification error for each alpha value: \", np.round(MSE, 3))\n",
    "#plotting the graph of misclassification error vs alpha\n",
    "\n",
    "plt.plot(alpha_list, MSE)\n",
    "plt.title(\"Number of alphas and error\")\n",
    "plt.xlabel(\"AlphaValues\")\n",
    "plt.ylabel(\"MissclassificationError\")\n",
    "plt.show()"
   ]
  },
  {
   "cell_type": "markdown",
   "metadata": {},
   "source": [
    "##  NB-IDF featured model on optimal aplha"
   ]
  },
  {
   "cell_type": "code",
   "execution_count": 63,
   "metadata": {},
   "outputs": [
    {
     "name": "stdout",
     "output_type": "stream",
     "text": [
      "\n",
      "CV accuracy for aplha = 1 is 91.675\n",
      "\n",
      "Accuracy on test set: 91.675\n",
      "\n",
      "Precision on test set: 0.9282861987856245\n",
      "\n",
      "Recall on test set: 0.9795659201108289\n",
      "\n",
      "F1-Score on test set: 0.953236904929083\n"
     ]
    },
    {
     "data": {
      "image/png": "[encoded data removed]",
      "text/plain": [
       "<Figure size 432x288 with 2 Axes>"
      ]
     },
     "metadata": {},
     "output_type": "display_data"
    },
    {
     "name": "stdout",
     "output_type": "stream",
     "text": [
      "CPU times: user 352 ms, sys: 220 ms, total: 572 ms\n",
      "Wall time: 255 ms\n"
     ]
    }
   ],
   "source": [
    "%%time\n",
    "optimal_alpha = 1\n",
    "nbclf = MultinomialNB(alpha=optimal_alpha)\n",
    "nbclf.fit(XTR, ytr)\n",
    "y_pred = nbclf.predict(XTST)\n",
    "\n",
    "#performance metrics values:\n",
    "acc = accuracy_score(ytst, y_pred) * float(100)\n",
    "print('\\nCV accuracy for aplha = {} is {}'.format(optimal_alpha, acc))\n",
    "print(\"\\nAccuracy on test set: {}\".format(accuracy_score(ytst, y_pred)*100))\n",
    "print(\"\\nPrecision on test set: {}\".format(precision_score(ytst, y_pred)))\n",
    "print(\"\\nRecall on test set: {}\".format(recall_score(ytst, y_pred)))\n",
    "print(\"\\nF1-Score on test set: {}\".format(f1_score(ytst, y_pred)))\n",
    "\n",
    "\n",
    "#plotting confusion matrix:\n",
    "cf = confusion_matrix(ytst, y_pred)\n",
    "labels = ['True negative', 'True positive']\n",
    "df_cf = pd.DataFrame(cf, index=labels, columns=['Predicted negative', 'Predicted positive'])\n",
    "sns.heatmap(df_cf, annot=True,fmt='3d', cmap='magma_r')\n",
    "\n",
    "plt.title(\"confusion Matrix chart for NB-tfidf\")\n",
    "plt.xlabel(\"NB classifier predicted values\")\n",
    "plt.ylabel(\"true values\")\n",
    "plt.show()"
   ]
  },
  {
   "cell_type": "code",
   "execution_count": 64,
   "metadata": {},
   "outputs": [
    {
     "name": "stdout",
     "output_type": "stream",
     "text": [
      "Classfication report for NB-BoW algo is:\n",
      "\n",
      "              precision    recall  f1-score   support\n",
      "\n",
      "          0       0.79      0.51      0.62      2676\n",
      "          1       0.93      0.98      0.95     17324\n",
      "\n",
      "avg / total       0.91      0.92      0.91     20000\n",
      "\n"
     ]
    }
   ],
   "source": [
    "from sklearn.metrics import classification_report\n",
    "print('Classfication report for NB-BoW algo is:\\n\\n {}'.format(classification_report(y_test, y_pred)))"
   ]
  },
  {
   "cell_type": "markdown",
   "metadata": {},
   "source": [
    "## aftre applying feature engineeering,we could see f1 score on minority class prediction is improved by 15 % !!"
   ]
  },
  {
   "cell_type": "code",
   "execution_count": 67,
   "metadata": {},
   "outputs": [],
   "source": [
    "from prettytable import PrettyTable"
   ]
  },
  {
   "cell_type": "code",
   "execution_count": 70,
   "metadata": {},
   "outputs": [
    {
     "name": "stdout",
     "output_type": "stream",
     "text": [
      "+----------------------------------------+---------------+-------------------------+-------------------------+\n",
      "|             Algorithm Name             | Optimal-alpha | F1-Score-majority class | F1-Score-minority class |\n",
      "+----------------------------------------+---------------+-------------------------+-------------------------+\n",
      "|               1. NB-Bow                |      0.05     |           0.98          |           0.53          |\n",
      "|  2. NB-Bow(with-Featured engineering)  |      0.05     |           0.95          |           0.69          |\n",
      "|              3. NB-TFidf               |       1       |           0.98          |           0.4           |\n",
      "| 4. NB-tfidf(with-featured engineering) |       1       |           0.95          |           0.51          |\n",
      "+----------------------------------------+---------------+-------------------------+-------------------------+\n"
     ]
    }
   ],
   "source": [
    "x = PrettyTable()\n",
    "x.field_names = ['Algorithm Name', 'Optimal-alpha', 'F1-Score-majority class', \"F1-Score-minority class\"]\n",
    "\n",
    "x.add_row(['1. NB-Bow',0.05, 0.98, 0.53])\n",
    "x.add_row(['2. NB-Bow(with-Featured engineering)', 0.05, 0.95, 0.69])\n",
    "x.add_row(['3. NB-TFidf',1, 0.98, 0.40])\n",
    "x.add_row(['4. NB-tfidf(with-featured engineering)', 1, 0.95,0.51])\n",
    "print(x)"
   ]
  },
  {
   "cell_type": "code",
   "execution_count": null,
   "metadata": {},
   "outputs": [],
   "source": []
  }
 ],
 "metadata": {
  "kernelspec": {
   "display_name": "Python 3",
   "language": "python",
   "name": "python3"
  },
  "language_info": {
   "codemirror_mode": {
    "name": "ipython",
    "version": 3
   },
   "file_extension": ".py",
   "mimetype": "text/x-python",
   "name": "python",
   "nbconvert_exporter": "python",
   "pygments_lexer": "ipython3",
   "version": "3.5.3"
  }
 },
 "nbformat": 4,
 "nbformat_minor": 2
}
