{
 "cells": [
  {
   "cell_type": "markdown",
   "metadata": {
    "collapsed": true
   },
   "source": [
    "## Practice Questions On Functions"
   ]
  },
  {
   "cell_type": "code",
   "execution_count": 7,
   "metadata": {},
   "outputs": [
    {
     "name": "stdout",
     "output_type": "stream",
     "text": [
      "11\n",
      "1  * 1  is 1 \n",
      "2  * 1  is 2 \n",
      "3  * 1  is 3 \n",
      "4  * 1  is 4 \n",
      "5  * 1  is 5 \n",
      "6  * 1  is 6 \n",
      "7  * 1  is 7 \n",
      "8  * 1  is 8 \n",
      "9  * 1  is 9 \n",
      "10 * 1  is 10\n",
      "*******************\n",
      "1  * 2  is 2 \n",
      "2  * 2  is 4 \n",
      "3  * 2  is 6 \n",
      "4  * 2  is 8 \n",
      "5  * 2  is 10\n",
      "6  * 2  is 12\n",
      "7  * 2  is 14\n",
      "8  * 2  is 16\n",
      "9  * 2  is 18\n",
      "10 * 2  is 20\n",
      "*******************\n",
      "1  * 3  is 3 \n",
      "2  * 3  is 6 \n",
      "3  * 3  is 9 \n",
      "4  * 3  is 12\n",
      "5  * 3  is 15\n",
      "6  * 3  is 18\n",
      "7  * 3  is 21\n",
      "8  * 3  is 24\n",
      "9  * 3  is 27\n",
      "10 * 3  is 30\n",
      "*******************\n",
      "1  * 4  is 4 \n",
      "2  * 4  is 8 \n",
      "3  * 4  is 12\n",
      "4  * 4  is 16\n",
      "5  * 4  is 20\n",
      "6  * 4  is 24\n",
      "7  * 4  is 28\n",
      "8  * 4  is 32\n",
      "9  * 4  is 36\n",
      "10 * 4  is 40\n",
      "*******************\n",
      "1  * 5  is 5 \n",
      "2  * 5  is 10\n",
      "3  * 5  is 15\n",
      "4  * 5  is 20\n",
      "5  * 5  is 25\n",
      "6  * 5  is 30\n",
      "7  * 5  is 35\n",
      "8  * 5  is 40\n",
      "9  * 5  is 45\n",
      "10 * 5  is 50\n",
      "*******************\n",
      "1  * 6  is 6 \n",
      "2  * 6  is 12\n",
      "3  * 6  is 18\n",
      "4  * 6  is 24\n",
      "5  * 6  is 30\n",
      "6  * 6  is 36\n",
      "7  * 6  is 42\n",
      "8  * 6  is 48\n",
      "9  * 6  is 54\n",
      "10 * 6  is 60\n",
      "*******************\n",
      "1  * 7  is 7 \n",
      "2  * 7  is 14\n",
      "3  * 7  is 21\n",
      "4  * 7  is 28\n",
      "5  * 7  is 35\n",
      "6  * 7  is 42\n",
      "7  * 7  is 49\n",
      "8  * 7  is 56\n",
      "9  * 7  is 63\n",
      "10 * 7  is 70\n",
      "*******************\n",
      "1  * 8  is 8 \n",
      "2  * 8  is 16\n",
      "3  * 8  is 24\n",
      "4  * 8  is 32\n",
      "5  * 8  is 40\n",
      "6  * 8  is 48\n",
      "7  * 8  is 56\n",
      "8  * 8  is 64\n",
      "9  * 8  is 72\n",
      "10 * 8  is 80\n",
      "*******************\n",
      "1  * 9  is 9 \n",
      "2  * 9  is 18\n",
      "3  * 9  is 27\n",
      "4  * 9  is 36\n",
      "5  * 9  is 45\n",
      "6  * 9  is 54\n",
      "7  * 9  is 63\n",
      "8  * 9  is 72\n",
      "9  * 9  is 81\n",
      "10 * 9  is 90\n",
      "*******************\n",
      "1  * 10 is 10\n",
      "2  * 10 is 20\n",
      "3  * 10 is 30\n",
      "4  * 10 is 40\n",
      "5  * 10 is 50\n",
      "6  * 10 is 60\n",
      "7  * 10 is 70\n",
      "8  * 10 is 80\n",
      "9  * 10 is 90\n",
      "10 * 10 is 100\n",
      "*******************\n"
     ]
    }
   ],
   "source": [
    "#1. Write a function that inputs a number and prints the multiplication table of that number\n",
    "\n",
    "def multwo(nos):\n",
    "    for i in range(1,nos):\n",
    "        for j in range(1,nos):\n",
    "            print('{:<2d} * {:<2} is {:<2d}'.format(j, i, j*i))\n",
    "        print('*******************')\n",
    "multwo(nos=int(input()))"
   ]
  },
  {
   "cell_type": "code",
   "execution_count": 2,
   "metadata": {
    "collapsed": true
   },
   "outputs": [],
   "source": [
    "#2. Write a program to print twin primes less than 1000. If two consecutive odd numbers are \n",
    "#both prime then they are known as twin primes\n",
    "def prim(n):\n",
    "    for i in range(2, n):\n",
    "        if n % i == 0:\n",
    "            break\n",
    "    else:\n",
    "        return True\n",
    "#prim()\n",
    "def twinprims(n):\n",
    "    l = []\n",
    "    for i in range(2,n):\n",
    "        if prim(i) == True:\n",
    "            l.append(i)\n",
    "    for k in l:\n",
    "        for j in range(l[0], k):\n",
    "            if k - j == 2:\n",
    "                print('twin prime numbers are {:<4d} and {:<4d}'.format(j,k))"
   ]
  },
  {
   "cell_type": "code",
   "execution_count": 3,
   "metadata": {},
   "outputs": [
    {
     "name": "stdout",
     "output_type": "stream",
     "text": [
      "twin prime numbers are 3    and 5   \n",
      "twin prime numbers are 5    and 7   \n",
      "twin prime numbers are 9    and 11  \n",
      "twin prime numbers are 11   and 13  \n",
      "twin prime numbers are 15   and 17  \n",
      "twin prime numbers are 17   and 19  \n",
      "twin prime numbers are 21   and 23  \n",
      "twin prime numbers are 27   and 29  \n",
      "twin prime numbers are 29   and 31  \n",
      "twin prime numbers are 35   and 37  \n",
      "twin prime numbers are 39   and 41  \n",
      "twin prime numbers are 41   and 43  \n",
      "twin prime numbers are 45   and 47  \n",
      "twin prime numbers are 51   and 53  \n",
      "twin prime numbers are 57   and 59  \n",
      "twin prime numbers are 59   and 61  \n",
      "twin prime numbers are 65   and 67  \n",
      "twin prime numbers are 69   and 71  \n",
      "twin prime numbers are 71   and 73  \n",
      "twin prime numbers are 77   and 79  \n",
      "twin prime numbers are 81   and 83  \n",
      "twin prime numbers are 87   and 89  \n",
      "twin prime numbers are 95   and 97  \n",
      "twin prime numbers are 99   and 101 \n",
      "twin prime numbers are 101  and 103 \n",
      "twin prime numbers are 105  and 107 \n",
      "twin prime numbers are 107  and 109 \n",
      "twin prime numbers are 111  and 113 \n",
      "twin prime numbers are 125  and 127 \n",
      "twin prime numbers are 129  and 131 \n",
      "twin prime numbers are 135  and 137 \n",
      "twin prime numbers are 137  and 139 \n",
      "twin prime numbers are 147  and 149 \n",
      "twin prime numbers are 149  and 151 \n",
      "twin prime numbers are 155  and 157 \n",
      "twin prime numbers are 161  and 163 \n",
      "twin prime numbers are 165  and 167 \n",
      "twin prime numbers are 171  and 173 \n",
      "twin prime numbers are 177  and 179 \n",
      "twin prime numbers are 179  and 181 \n",
      "twin prime numbers are 189  and 191 \n",
      "twin prime numbers are 191  and 193 \n",
      "twin prime numbers are 195  and 197 \n",
      "twin prime numbers are 197  and 199 \n",
      "twin prime numbers are 209  and 211 \n",
      "twin prime numbers are 221  and 223 \n",
      "twin prime numbers are 225  and 227 \n",
      "twin prime numbers are 227  and 229 \n",
      "twin prime numbers are 231  and 233 \n",
      "twin prime numbers are 237  and 239 \n",
      "twin prime numbers are 239  and 241 \n",
      "twin prime numbers are 249  and 251 \n",
      "twin prime numbers are 255  and 257 \n",
      "twin prime numbers are 261  and 263 \n",
      "twin prime numbers are 267  and 269 \n",
      "twin prime numbers are 269  and 271 \n",
      "twin prime numbers are 275  and 277 \n",
      "twin prime numbers are 279  and 281 \n",
      "twin prime numbers are 281  and 283 \n",
      "twin prime numbers are 291  and 293 \n",
      "twin prime numbers are 305  and 307 \n",
      "twin prime numbers are 309  and 311 \n",
      "twin prime numbers are 311  and 313 \n",
      "twin prime numbers are 315  and 317 \n",
      "twin prime numbers are 329  and 331 \n",
      "twin prime numbers are 335  and 337 \n",
      "twin prime numbers are 345  and 347 \n",
      "twin prime numbers are 347  and 349 \n",
      "twin prime numbers are 351  and 353 \n",
      "twin prime numbers are 357  and 359 \n",
      "twin prime numbers are 365  and 367 \n",
      "twin prime numbers are 371  and 373 \n",
      "twin prime numbers are 377  and 379 \n",
      "twin prime numbers are 381  and 383 \n",
      "twin prime numbers are 387  and 389 \n",
      "twin prime numbers are 395  and 397 \n",
      "twin prime numbers are 399  and 401 \n",
      "twin prime numbers are 407  and 409 \n",
      "twin prime numbers are 417  and 419 \n",
      "twin prime numbers are 419  and 421 \n",
      "twin prime numbers are 429  and 431 \n",
      "twin prime numbers are 431  and 433 \n",
      "twin prime numbers are 437  and 439 \n",
      "twin prime numbers are 441  and 443 \n",
      "twin prime numbers are 447  and 449 \n",
      "twin prime numbers are 455  and 457 \n",
      "twin prime numbers are 459  and 461 \n",
      "twin prime numbers are 461  and 463 \n",
      "twin prime numbers are 465  and 467 \n",
      "twin prime numbers are 477  and 479 \n",
      "twin prime numbers are 485  and 487 \n",
      "twin prime numbers are 489  and 491 \n",
      "twin prime numbers are 497  and 499 \n",
      "twin prime numbers are 501  and 503 \n",
      "twin prime numbers are 507  and 509 \n",
      "twin prime numbers are 519  and 521 \n",
      "twin prime numbers are 521  and 523 \n",
      "twin prime numbers are 539  and 541 \n",
      "twin prime numbers are 545  and 547 \n",
      "twin prime numbers are 555  and 557 \n",
      "twin prime numbers are 561  and 563 \n",
      "twin prime numbers are 567  and 569 \n",
      "twin prime numbers are 569  and 571 \n",
      "twin prime numbers are 575  and 577 \n",
      "twin prime numbers are 585  and 587 \n",
      "twin prime numbers are 591  and 593 \n",
      "twin prime numbers are 597  and 599 \n",
      "twin prime numbers are 599  and 601 \n",
      "twin prime numbers are 605  and 607 \n",
      "twin prime numbers are 611  and 613 \n",
      "twin prime numbers are 615  and 617 \n",
      "twin prime numbers are 617  and 619 \n",
      "twin prime numbers are 629  and 631 \n",
      "twin prime numbers are 639  and 641 \n",
      "twin prime numbers are 641  and 643 \n",
      "twin prime numbers are 645  and 647 \n",
      "twin prime numbers are 651  and 653 \n",
      "twin prime numbers are 657  and 659 \n",
      "twin prime numbers are 659  and 661 \n",
      "twin prime numbers are 671  and 673 \n",
      "twin prime numbers are 675  and 677 \n",
      "twin prime numbers are 681  and 683 \n",
      "twin prime numbers are 689  and 691 \n",
      "twin prime numbers are 699  and 701 \n",
      "twin prime numbers are 707  and 709 \n",
      "twin prime numbers are 717  and 719 \n",
      "twin prime numbers are 725  and 727 \n",
      "twin prime numbers are 731  and 733 \n",
      "twin prime numbers are 737  and 739 \n",
      "twin prime numbers are 741  and 743 \n",
      "twin prime numbers are 749  and 751 \n",
      "twin prime numbers are 755  and 757 \n",
      "twin prime numbers are 759  and 761 \n",
      "twin prime numbers are 767  and 769 \n",
      "twin prime numbers are 771  and 773 \n",
      "twin prime numbers are 785  and 787 \n",
      "twin prime numbers are 795  and 797 \n",
      "twin prime numbers are 807  and 809 \n",
      "twin prime numbers are 809  and 811 \n",
      "twin prime numbers are 819  and 821 \n",
      "twin prime numbers are 821  and 823 \n",
      "twin prime numbers are 825  and 827 \n",
      "twin prime numbers are 827  and 829 \n",
      "twin prime numbers are 837  and 839 \n",
      "twin prime numbers are 851  and 853 \n",
      "twin prime numbers are 855  and 857 \n",
      "twin prime numbers are 857  and 859 \n",
      "twin prime numbers are 861  and 863 \n",
      "twin prime numbers are 875  and 877 \n",
      "twin prime numbers are 879  and 881 \n",
      "twin prime numbers are 881  and 883 \n",
      "twin prime numbers are 885  and 887 \n",
      "twin prime numbers are 905  and 907 \n",
      "twin prime numbers are 909  and 911 \n",
      "twin prime numbers are 917  and 919 \n",
      "twin prime numbers are 927  and 929 \n",
      "twin prime numbers are 935  and 937 \n",
      "twin prime numbers are 939  and 941 \n",
      "twin prime numbers are 945  and 947 \n",
      "twin prime numbers are 951  and 953 \n",
      "twin prime numbers are 965  and 967 \n",
      "twin prime numbers are 969  and 971 \n",
      "twin prime numbers are 975  and 977 \n",
      "twin prime numbers are 981  and 983 \n",
      "twin prime numbers are 989  and 991 \n",
      "twin prime numbers are 995  and 997 \n"
     ]
    }
   ],
   "source": [
    "twinprims(1000)"
   ]
  },
  {
   "cell_type": "code",
   "execution_count": 1,
   "metadata": {},
   "outputs": [
    {
     "data": {
      "text/plain": [
       "[2, 2, 3, 7]"
      ]
     },
     "execution_count": 1,
     "metadata": {},
     "output_type": "execute_result"
    }
   ],
   "source": [
    "#3. Write a program to find out the prime factors of a number. Example: prime factors of 56 -2, 2, 2, 7\n",
    "def primfact(n):\n",
    "    i = 2\n",
    "    l_p_fact = []\n",
    "    while i * i <= n:\n",
    "        if n % i:\n",
    "            i += 1\n",
    "        else:\n",
    "            n //= i\n",
    "            l_p_fact.append(i)\n",
    "    if n > 1:\n",
    "        l_p_fact.append(n)\n",
    "    return l_p_fact\n",
    "primfact(84)"
   ]
  },
  {
   "cell_type": "code",
   "execution_count": 1,
   "metadata": {},
   "outputs": [
    {
     "name": "stdout",
     "output_type": "stream",
     "text": [
      "enter a number:6\n",
      "enter a selection no: 2\n",
      "permutation of 6 taken 2 at a time is 30.0\n",
      "combination of 6 taken 2 at a time is 15.0\n"
     ]
    }
   ],
   "source": [
    "#4. Write a program to implement these formulae of permutations and combinations.\n",
    "#Number of permutations of n objects taken r at a time: p(n, r) = n! / (n-r)!. Number of\n",
    "#combinations of n objects taken r at a time is: c(n, r) = n! / (r!*(n-r)!) = p(n,r) / r!\n",
    "\n",
    "n = int(input('enter a number:'))\n",
    "r = int(input('enter a selection no: '))\n",
    "count = 1\n",
    "perm_count = 1\n",
    "comb_count = 1\n",
    "for i in range(1, n+1):\n",
    "    count = count * i\n",
    "for j in range(r, n+1-r):\n",
    "    perm_count = perm_count * j\n",
    "for k in range(1, r+1):\n",
    "    comb_count = comb_count * k\n",
    "permutation = count / perm_count\n",
    "combination = permutation / comb_count\n",
    "print('permutation of {} taken {} at a time is {}'.format(n, r, permutation))\n",
    "print('combination of {} taken {} at a time is {}'.format(n,r,combination ))\n",
    "        \n",
    "\n"
   ]
  },
  {
   "cell_type": "code",
   "execution_count": 1,
   "metadata": {},
   "outputs": [
    {
     "name": "stdout",
     "output_type": "stream",
     "text": [
      "11001"
     ]
    }
   ],
   "source": [
    "#5. Write a function that converts a decimal number to binary number\n",
    "\n",
    "def d2b(n):\n",
    "    if n > 1:\n",
    "        d2b(n // 2)\n",
    "    print(n % 2, end='')\n",
    "d2b(25)\n"
   ]
  },
  {
   "cell_type": "code",
   "execution_count": 2,
   "metadata": {},
   "outputs": [
    {
     "name": "stdout",
     "output_type": "stream",
     "text": [
      "371 is armstrong no\n",
      "345 is not an armstrong number\n"
     ]
    }
   ],
   "source": [
    "#6. Write a function cubesum() that accepts an integer and returns the sum of the cubes of\n",
    "#individual digits of that number. Use this function to make functions PrintArmstrong() and\n",
    "#isArmstrong() to print Armstrong numbers and to find whether is an Armstrong number.\n",
    "def cubes(n):\n",
    "    a = 0\n",
    "    b = str(n)\n",
    "    for i in range(len(b)):\n",
    "        a = a + int(b[i]) ** 3\n",
    "    return a\n",
    "\n",
    "def isArmstrong(a):\n",
    "   if a == cubes(a):\n",
    "    print('{} is armstrong no'.format(a))\n",
    "   else:\n",
    "    print('{} is not an armstrong number'.format(a))\n",
    "\n",
    "isArmstrong(371)\n",
    "isArmstrong(345)"
   ]
  },
  {
   "cell_type": "code",
   "execution_count": 16,
   "metadata": {},
   "outputs": [
    {
     "data": {
      "text/plain": [
       "72"
      ]
     },
     "execution_count": 16,
     "metadata": {},
     "output_type": "execute_result"
    }
   ],
   "source": [
    "#7. Write a function prodDigits() that inputs a number and returns the product of digits of that number.\n",
    "\n",
    "def proddigits(n):\n",
    "    b = 1\n",
    "    a = str(n)\n",
    "    for i in range(len(a)):\n",
    "        b = b * int(a[i])\n",
    "    return b\n",
    "\n",
    "proddigits(249)\n",
    "      "
   ]
  },
  {
   "cell_type": "code",
   "execution_count": 19,
   "metadata": {},
   "outputs": [
    {
     "data": {
      "text/plain": [
       "14"
      ]
     },
     "execution_count": 19,
     "metadata": {},
     "output_type": "execute_result"
    }
   ],
   "source": [
    "#8.8. If all digits of a number n are multiplied by each other repeating with the product, the one\n",
    "#digit number obtained at last is called the multiplicative digital root of n. The number of\n",
    "#times digits need to be multiplied to reach one digit is called the multiplicative\n",
    "#persistance of n.\n",
    "#Example: 86 -> 48 -> 32 -> 6 (MDR 6, MPersistence 3)\n",
    "#341 -> 12->2 (MDR 2, MPersistence 2)\n",
    "#Using the function prodDigits() of previous exercise write functions MDR() and\n",
    "#MPersistence() that input a number and return its multiplicative digital root and\n",
    "#multiplicative persistence respectively\n",
    "\n",
    "\n",
    "def MDR(n):\n",
    "    mpr = proddigits(n)#249, 72, 14, 4\n",
    "    if mpr <10:\n",
    "        print(mpr)\n",
    "        \n",
    "    elif mpr >=10:\n",
    "        n = mpr\n",
    "    return proddigits(mpr)#14  \n",
    "    \n",
    "MDR(249) \n",
    "##Note: op dint come as expected.pls rectify"
   ]
  },
  {
   "cell_type": "code",
   "execution_count": 1,
   "metadata": {},
   "outputs": [
    {
     "name": "stdout",
     "output_type": "stream",
     "text": [
      "1  is proper divisible of 36\n",
      "2  is proper divisible of 36\n",
      "3  is proper divisible of 36\n",
      "4  is proper divisible of 36\n",
      "6  is proper divisible of 36\n",
      "9  is proper divisible of 36\n",
      "12 is proper divisible of 36\n",
      "18 is proper divisible of 36\n"
     ]
    }
   ],
   "source": [
    "#9. Write a function sumPdivisors() that finds the sum of proper divisors of a number. Proper\n",
    "#divisors of a number are those numbers by which the number is divisible, except the\n",
    "#number itself. For example proper divisors of 36 are 1, 2, 3, 4, 6, 9, 18\n",
    "\n",
    "def proper(n):\n",
    "    count = 0\n",
    "    for i in range(1, n ):\n",
    "        if n % i == 0 & i != n:\n",
    "            print('{:<2d} is proper divisible of {:<2d}'.format(i, n))\n",
    "proper(36)\n",
    "            \n",
    "    "
   ]
  },
  {
   "cell_type": "code",
   "execution_count": 2,
   "metadata": {},
   "outputs": [
    {
     "name": "stdout",
     "output_type": "stream",
     "text": [
      "128 is not proper divisor\n",
      "28 is proper divisors\n"
     ]
    }
   ],
   "source": [
    "#10. A number is called perfect if the sum of proper divisors of that number is equal to the\n",
    "#number. For example 28 is perfect number, since 1+2+4+7+14=28. Write a program to\n",
    "#print all the perfect numbers in a given range\n",
    "\n",
    "def properdiv(n):\n",
    "    count = 0\n",
    "    sums = 0\n",
    "    for i in range(1,n):\n",
    "        if n % i == 0 & i != n:\n",
    "            count = count + i\n",
    "    if count == n:\n",
    "        print('{} is proper divisor'.format(n))\n",
    "    else:\n",
    "        print('{} is not proper divisor'.format(n))\n",
    "properdiv(128)\n",
    "properdiv(28)      \n"
   ]
  },
  {
   "cell_type": "code",
   "execution_count": 14,
   "metadata": {},
   "outputs": [
    {
     "data": {
      "text/plain": [
       "[1, 3, 7, 9, 17, 31, 23]"
      ]
     },
     "execution_count": 14,
     "metadata": {},
     "output_type": "execute_result"
    }
   ],
   "source": [
    "#12. Write a program which can filter odd numbers in a list by using filter function\n",
    "l = [1,4,6,2,3,7,9,17,31,23]\n",
    "odd_n = list(filter(lambda x : x % 2 == 1, l))\n",
    "odd_n"
   ]
  },
  {
   "cell_type": "code",
   "execution_count": 12,
   "metadata": {},
   "outputs": [
    {
     "data": {
      "text/plain": [
       "[1, 8, 27, 1331, 125, 2744, 343]"
      ]
     },
     "execution_count": 12,
     "metadata": {},
     "output_type": "execute_result"
    }
   ],
   "source": [
    "#13. Write a program which can map() to make a list whose elements are cube of elements in a given list\n",
    "l = [1,2,3,11,5,14,7]\n",
    "cube_l = list(map(lambda x: x ** 3, l))\n",
    "cube_l\n"
   ]
  },
  {
   "cell_type": "code",
   "execution_count": 11,
   "metadata": {},
   "outputs": [
    {
     "data": {
      "text/plain": [
       "[216, 512, 8, 85184, 2744]"
      ]
     },
     "execution_count": 11,
     "metadata": {},
     "output_type": "execute_result"
    }
   ],
   "source": [
    "#14. Write a program which can map() and filter() to make a list whose elements are cube of\n",
    "#even number in a given list\n",
    "\n",
    "l = [1,5,6,8,2,44,67,14]\n",
    "even_l = list(filter(lambda x: x % 2 == 0, l))\n",
    "cube_l = list(map(lambda x: x ** 3, even_l))\n",
    "cube_l"
   ]
  }
 ],
 "metadata": {
  "kernelspec": {
   "display_name": "Python 3",
   "language": "python",
   "name": "python3"
  },
  "language_info": {
   "codemirror_mode": {
    "name": "ipython",
    "version": 3
   },
   "file_extension": ".py",
   "mimetype": "text/x-python",
   "name": "python",
   "nbconvert_exporter": "python",
   "pygments_lexer": "ipython3",
   "version": "3.6.2"
  }
 },
 "nbformat": 4,
 "nbformat_minor": 2
}
