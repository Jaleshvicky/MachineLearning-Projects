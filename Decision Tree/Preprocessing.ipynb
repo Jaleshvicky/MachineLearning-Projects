{
 "cells": [
  {
   "cell_type": "markdown",
   "metadata": {},
   "source": [
    "## PreProcessing Steps :"
   ]
  },
  {
   "cell_type": "code",
   "execution_count": 1,
   "metadata": {},
   "outputs": [
    {
     "name": "stdout",
     "output_type": "stream",
     "text": [
      "execution time is 0.053 Minutes\n"
     ]
    }
   ],
   "source": [
    "#!pip3 install gensim\n",
    "import time\n",
    "start = time.time()\n",
    "\n",
    "#Importing libraries:\n",
    "import sqlite3 as sql\n",
    "import seaborn as sns\n",
    "import datetime\n",
    "import gensim\n",
    "import random\n",
    "import warnings\n",
    "warnings.filterwarnings(\"ignore\")\n",
    "\n",
    "import numpy as np\n",
    "import pandas as pd\n",
    "import matplotlib.pyplot as plt\n",
    "%matplotlib inline \n",
    "#it helps the output of plotting commands is displayed inline in Jupyter notebook directly below the cell on which op was run.\n",
    "import re\n",
    "import pickle\n",
    "end = time.time()\n",
    "print('execution time is {:.3f} Minutes'.format(((end - start) / 60)))"
   ]
  },
  {
   "cell_type": "markdown",
   "metadata": {},
   "source": [
    "**Loading data**"
   ]
  },
  {
   "cell_type": "code",
   "execution_count": 2,
   "metadata": {},
   "outputs": [
    {
     "name": "stdout",
     "output_type": "stream",
     "text": [
      "execution time is 0.065 Minutes\n"
     ]
    }
   ],
   "source": [
    "#Using sqlite3 to retrieve data from sqlite file\n",
    "start = time.time()\n",
    "con = sql.connect(\"database.sqlite\")#Connection object that represents the database\n",
    "\n",
    "#Using pandas functions to query from sql table\n",
    "df = pd.read_sql_query(\"\"\"SELECT * FROM Reviews  where \"Score\" !=3 \"\"\",con)\n",
    "\n",
    "#Reviews is the name of the table given\n",
    "#Taking only the data where score != 3 as score 3 will be neutral and it won't help us much\n",
    "df.head(2)\n",
    "end = time.time()\n",
    "print('execution time is {:.3f} Minutes'.format(((end - start) / 60)))"
   ]
  },
  {
   "cell_type": "code",
   "execution_count": 3,
   "metadata": {},
   "outputs": [
    {
     "data": {
      "text/plain": [
       "5    363122\n",
       "4     80655\n",
       "1     52268\n",
       "2     29769\n",
       "Name: Score, dtype: int64"
      ]
     },
     "execution_count": 3,
     "metadata": {},
     "output_type": "execute_result"
    }
   ],
   "source": [
    "df['Score'].value_counts()"
   ]
  },
  {
   "cell_type": "code",
   "execution_count": 4,
   "metadata": {},
   "outputs": [
    {
     "name": "stdout",
     "output_type": "stream",
     "text": [
      "CPU times: user 1.94 s, sys: 56 ms, total: 2 s\n",
      "Wall time: 2 s\n"
     ]
    },
    {
     "data": {
      "text/plain": [
       "<matplotlib.axes._subplots.AxesSubplot at 0x7f5b325438d0>"
      ]
     },
     "execution_count": 4,
     "metadata": {},
     "output_type": "execute_result"
    },
    {
     "data": {
      "image/png": "[encoded data removed]",
      "text/plain": [
       "<Figure size 432x288 with 1 Axes>"
      ]
     },
     "metadata": {
      "needs_background": "light"
     },
     "output_type": "display_data"
    }
   ],
   "source": [
    "%%time\n",
    "#to check the distibutions of the column 'Score'\n",
    "sns.distplot(df['Score'], bins=10, color=\"#8ecc41\")"
   ]
  },
  {
   "cell_type": "markdown",
   "metadata": {},
   "source": [
    "**DataCleaning Steps**"
   ]
  },
  {
   "cell_type": "code",
   "execution_count": 5,
   "metadata": {},
   "outputs": [
    {
     "name": "stdout",
     "output_type": "stream",
     "text": [
      "0    False\n",
      "1    False\n",
      "2    False\n",
      "3    False\n",
      "4    False\n",
      "dtype: bool\n",
      "\n",
      "total no of duplicate rows based on columns are:\n",
      "False    364173\n",
      "True     161641\n",
      "dtype: int64\n"
     ]
    }
   ],
   "source": [
    "print(df.duplicated(subset={\"UserId\",\"ProfileName\",\"Time\",\"Text\"}).head(5))\n",
    "print()\n",
    "print('total no of duplicate rows based on columns are:\\n{}'.format(df.duplicated(subset={\"UserId\",\"ProfileName\",\"Time\",\"Text\"}).value_counts()))"
   ]
  },
  {
   "cell_type": "code",
   "execution_count": 6,
   "metadata": {},
   "outputs": [
    {
     "name": "stdout",
     "output_type": "stream",
     "text": [
      "364173\n"
     ]
    }
   ],
   "source": [
    "#removing duplicates:\n",
    "df = df.drop_duplicates(subset={\"UserId\",\"ProfileName\",\"Time\",\"Text\"}, keep='first')\n",
    "print(len(df))"
   ]
  },
  {
   "cell_type": "code",
   "execution_count": 7,
   "metadata": {},
   "outputs": [
    {
     "name": "stdout",
     "output_type": "stream",
     "text": [
      "364171\n"
     ]
    }
   ],
   "source": [
    "df = df[df['HelpfulnessNumerator'] <= df.HelpfulnessDenominator]\n",
    "print(len(df))"
   ]
  },
  {
   "cell_type": "code",
   "execution_count": 8,
   "metadata": {},
   "outputs": [
    {
     "data": {
      "text/plain": [
       "Positive    307061\n",
       "Negative     57110\n",
       "Name: Score, dtype: int64"
      ]
     },
     "execution_count": 8,
     "metadata": {},
     "output_type": "execute_result"
    }
   ],
   "source": [
    "df['Score'] = df['Score'].apply(lambda x: 'Positive' if x >3 else 'Negative')\n",
    "df['Score'].value_counts()"
   ]
  },
  {
   "cell_type": "code",
   "execution_count": 9,
   "metadata": {},
   "outputs": [],
   "source": [
    "#cerating a copy of deduplicated data to 'final' dataframe:\n",
    "final = df.copy()"
   ]
  },
  {
   "cell_type": "markdown",
   "metadata": {},
   "source": [
    "**Texual Data Preprocessing:**\n",
    "1.  Removing HTML tags\n",
    "2.  Removing puncuation marks/special characters\n",
    "3.  Conversion of all reviews to lower characters"
   ]
  },
  {
   "cell_type": "code",
   "execution_count": 10,
   "metadata": {},
   "outputs": [
    {
     "name": "stdout",
     "output_type": "stream",
     "text": [
      "CPU times: user 4.33 s, sys: 88 ms, total: 4.42 s\n",
      "Wall time: 4.43 s\n"
     ]
    }
   ],
   "source": [
    "%%time\n",
    "# removeing HTML TAG\n",
    "final['Text'] = final['Text'].apply(lambda x : re.sub('<.*?>',' ', x)) #No characters to be substitited in place of HTML tag\n",
    "\n",
    "#removing punctuation marks:\n",
    "final['Text'] = final['Text'].apply(lambda x: re.sub(r'[?|!|\\'|\"|#|.|,|)|(|\\|/|~|%|*]', ' ', x))\n",
    "\n",
    "#converting it to lower case:\n",
    "final['Text'] = final['Text'].apply(lambda x: x.lower())"
   ]
  },
  {
   "cell_type": "markdown",
   "metadata": {},
   "source": [
    "**StopWords creation:**"
   ]
  },
  {
   "cell_type": "code",
   "execution_count": 11,
   "metadata": {},
   "outputs": [
    {
     "name": "stdout",
     "output_type": "stream",
     "text": [
      "{'other', 'll', 'more', 'between', 'was', 'm', 'each', 'just', \"shan't\", 'once', 'while', 'myself', 'too', 'same', 'such', 'o', 'ma', \"should've\", 'below', 'have', 'very', 'to', 'again', 'through', 'be', 'over', 'i', 'them', 'its', 'down', 'few', 'off', 'with', 'why', 'only', 'ourselves', 'who', 'out', 'no', 'we', 'than', 'their', 'itself', 'these', 'up', 'here', 'at', \"that'll\", \"it's\", 'by', 'for', \"you'll\", 'a', 'they', 't', 'theirs', 'd', 'doing', 'from', 'herself', 'if', 'or', 'nor', 'it', 'will', 'whom', 'ours', 'yours', 'of', 'own', 'hers', 'when', 'about', 'most', 'is', \"you're\", 'and', 'the', 'which', 'did', 'our', 'because', 'into', 'y', 'before', \"she's\", 'do', 'your', 'during', 'in', 'this', 'all', 'those', 'she', 'on', 'you', 'been', 'my', 'themselves', 'can', 'both', 'where', 'an', 'so', 'he', 'are', 'me', 'does', 'yourselves', 'him', 'were', 'should', 's', 'further', 'as', 'some', 'after', \"you'd\", 'having', \"you've\", 'then', 'himself', 'there', 'any', 'her', 'had', 'what', 'that', 'until', 'under', 're', 'am', 'now', 'above', 'but', 'shan', 've', 'his', 'yourself', 'how', 'has', 'being'}\n",
      "CPU times: user 568 ms, sys: 24 ms, total: 592 ms\n",
      "Wall time: 594 ms\n"
     ]
    }
   ],
   "source": [
    "%%time\n",
    "\n",
    "#supporting libraries for creating stopwords:\n",
    "from nltk.corpus import stopwords\n",
    "from nltk.stem import PorterStemmer\n",
    "from nltk.stem.wordnet import WordNetLemmatizer\n",
    "\n",
    "\n",
    "#creating stopwords list:\n",
    "\n",
    "stop = set(stopwords.words('english')) #set of stopwords\n",
    "stop = list(stop)\n",
    "temp = []\n",
    "list_of_excluded_words = ['against','not','don', \"don't\",'ain', 'aren', \"aren't\", 'couldn', \"couldn't\", 'didn', \"didn't\",\n",
    "             'doesn', \"doesn't\", 'hadn', \"hadn't\", 'hasn', \"hasn't\", 'haven', \"haven't\", 'isn', \"isn't\", \n",
    "             'mightn', \"mightn't\", 'mustn', \"mustn't\", 'needn', \"needn't\",'shouldn', \"shouldn't\", 'wasn',\n",
    "             \"wasn't\", 'weren', \"weren't\", 'won', \"won't\", 'wouldn', \"wouldn't\"]\n",
    "\n",
    "\n",
    "for i in range(len(stop)):\n",
    "    if stop[i] in list_of_excluded_words:\n",
    "        continue\n",
    "    else:\n",
    "        temp.append(stop[i])\n",
    "stop = set(temp)\n",
    "print(stop)"
   ]
  },
  {
   "cell_type": "code",
   "execution_count": 12,
   "metadata": {},
   "outputs": [],
   "source": [
    "#nltk.download()"
   ]
  },
  {
   "cell_type": "markdown",
   "metadata": {},
   "source": [
    "## Stemming:\n",
    "\n",
    "**Porter Stemmer: Most commonly used stemmer. But it is also the most computationally intensive algorithms. It is also the oldest stemming algorithm.**\n",
    "\n",
    "**SnowBall Stemmer: it is regarded as an improvement over porter. Slightly faster computation time than Porter stemmer.**"
   ]
  },
  {
   "cell_type": "code",
   "execution_count": 13,
   "metadata": {},
   "outputs": [
    {
     "name": "stdout",
     "output_type": "stream",
     "text": [
      "Stem/Root words of the some of the words using SnowBall Stemmer:\n",
      "\n",
      "tasti\n",
      "tast\n",
      "tastiest\n",
      "new delhi\n"
     ]
    }
   ],
   "source": [
    "from nltk.stem import SnowballStemmer\n",
    "snow = SnowballStemmer('english') #initialising the snowball stemmer\n",
    "print(\"Stem/Root words of the some of the words using SnowBall Stemmer:\\n\")\n",
    "print(snow.stem('tasty'))\n",
    "print(snow.stem('tasteful'))\n",
    "print(snow.stem('tastiest'))\n",
    "print(snow.stem('New Delhi'))"
   ]
  },
  {
   "cell_type": "markdown",
   "metadata": {},
   "source": [
    "**BoW - Preprocessing - single review**"
   ]
  },
  {
   "cell_type": "code",
   "execution_count": 14,
   "metadata": {},
   "outputs": [
    {
     "name": "stdout",
     "output_type": "stream",
     "text": [
      "this is a confection that has been around a few centuries   it is a light  pillowy citrus gelatin with nuts - in this case filberts  and it is cut into tiny squares and then liberally coated with powdered sugar   and it is a tiny mouthful of heaven   not too chewy  and very flavorful   i highly recommend this yummy treat   if you are familiar with the story of c s  lewis   the lion  the witch  and the wardrobe  - this is the treat that seduces edmund into selling out his brother and sisters to the witch \n",
      "..................................................>> this\n",
      "this eliminated\n",
      "..................................................>> is\n",
      "is eliminated\n",
      "..................................................>> a\n",
      "a eliminated\n",
      "..................................................>> confection\n",
      "word after stemming is .........>> b'confect'\n",
      "..................................................>> that\n",
      "that eliminated\n",
      "..................................................>> has\n",
      "has eliminated\n",
      "..................................................>> been\n",
      "been eliminated\n",
      "..................................................>> around\n",
      "word after stemming is .........>> b'around'\n",
      "..................................................>> a\n",
      "a eliminated\n",
      "..................................................>> few\n",
      "few eliminated\n",
      "..................................................>> centuries\n",
      "word after stemming is .........>> b'centuri'\n",
      "..................................................>> it\n",
      "it eliminated\n",
      "..................................................>> is\n",
      "is eliminated\n",
      "..................................................>> a\n",
      "a eliminated\n",
      "..................................................>> light\n",
      "word after stemming is .........>> b'light'\n",
      "..................................................>> pillowy\n",
      "word after stemming is .........>> b'pillowi'\n",
      "..................................................>> citrus\n",
      "word after stemming is .........>> b'citrus'\n",
      "..................................................>> gelatin\n",
      "word after stemming is .........>> b'gelatin'\n",
      "..................................................>> with\n",
      "with eliminated\n",
      "..................................................>> nuts\n",
      "word after stemming is .........>> b'nut'\n",
      "..................................................>> -\n",
      "- eliminated\n",
      "..................................................>> in\n",
      "in eliminated\n",
      "..................................................>> this\n",
      "this eliminated\n",
      "..................................................>> case\n",
      "word after stemming is .........>> b'case'\n",
      "..................................................>> filberts\n",
      "word after stemming is .........>> b'filbert'\n",
      "..................................................>> and\n",
      "and eliminated\n",
      "..................................................>> it\n",
      "it eliminated\n",
      "..................................................>> is\n",
      "is eliminated\n",
      "..................................................>> cut\n",
      "word after stemming is .........>> b'cut'\n",
      "..................................................>> into\n",
      "into eliminated\n",
      "..................................................>> tiny\n",
      "word after stemming is .........>> b'tini'\n",
      "..................................................>> squares\n",
      "word after stemming is .........>> b'squar'\n",
      "..................................................>> and\n",
      "and eliminated\n",
      "..................................................>> then\n",
      "then eliminated\n",
      "..................................................>> liberally\n",
      "word after stemming is .........>> b'liber'\n",
      "..................................................>> coated\n",
      "word after stemming is .........>> b'coat'\n",
      "..................................................>> with\n",
      "with eliminated\n",
      "..................................................>> powdered\n",
      "word after stemming is .........>> b'powder'\n",
      "..................................................>> sugar\n",
      "word after stemming is .........>> b'sugar'\n",
      "..................................................>> and\n",
      "and eliminated\n",
      "..................................................>> it\n",
      "it eliminated\n",
      "..................................................>> is\n",
      "is eliminated\n",
      "..................................................>> a\n",
      "a eliminated\n",
      "..................................................>> tiny\n",
      "word after stemming is .........>> b'tini'\n",
      "..................................................>> mouthful\n",
      "word after stemming is .........>> b'mouth'\n",
      "..................................................>> of\n",
      "of eliminated\n",
      "..................................................>> heaven\n",
      "word after stemming is .........>> b'heaven'\n",
      "..................................................>> not\n",
      "word after stemming is .........>> b'not'\n",
      "..................................................>> too\n",
      "too eliminated\n",
      "..................................................>> chewy\n",
      "word after stemming is .........>> b'chewi'\n",
      "..................................................>> and\n",
      "and eliminated\n",
      "..................................................>> very\n",
      "very eliminated\n",
      "..................................................>> flavorful\n",
      "word after stemming is .........>> b'flavor'\n",
      "..................................................>> i\n",
      "i eliminated\n",
      "..................................................>> highly\n",
      "word after stemming is .........>> b'high'\n",
      "..................................................>> recommend\n",
      "word after stemming is .........>> b'recommend'\n",
      "..................................................>> this\n",
      "this eliminated\n",
      "..................................................>> yummy\n",
      "word after stemming is .........>> b'yummi'\n",
      "..................................................>> treat\n",
      "word after stemming is .........>> b'treat'\n",
      "..................................................>> if\n",
      "if eliminated\n",
      "..................................................>> you\n",
      "you eliminated\n",
      "..................................................>> are\n",
      "are eliminated\n",
      "..................................................>> familiar\n",
      "word after stemming is .........>> b'familiar'\n",
      "..................................................>> with\n",
      "with eliminated\n",
      "..................................................>> the\n",
      "the eliminated\n",
      "..................................................>> story\n",
      "word after stemming is .........>> b'stori'\n",
      "..................................................>> of\n",
      "of eliminated\n",
      "..................................................>> c\n",
      "c eliminated\n",
      "..................................................>> s\n",
      "s eliminated\n",
      "..................................................>> lewis\n",
      "word after stemming is .........>> b'lewi'\n",
      "..................................................>> the\n",
      "the eliminated\n",
      "..................................................>> lion\n",
      "word after stemming is .........>> b'lion'\n",
      "..................................................>> the\n",
      "the eliminated\n",
      "..................................................>> witch\n",
      "word after stemming is .........>> b'witch'\n",
      "..................................................>> and\n",
      "and eliminated\n",
      "..................................................>> the\n",
      "the eliminated\n",
      "..................................................>> wardrobe\n",
      "word after stemming is .........>> b'wardrob'\n",
      "..................................................>> -\n",
      "- eliminated\n",
      "..................................................>> this\n",
      "this eliminated\n",
      "..................................................>> is\n",
      "is eliminated\n",
      "..................................................>> the\n",
      "the eliminated\n",
      "..................................................>> treat\n",
      "word after stemming is .........>> b'treat'\n",
      "..................................................>> that\n",
      "that eliminated\n",
      "..................................................>> seduces\n",
      "word after stemming is .........>> b'seduc'\n",
      "..................................................>> edmund\n",
      "word after stemming is .........>> b'edmund'\n",
      "..................................................>> into\n",
      "into eliminated\n",
      "..................................................>> selling\n",
      "word after stemming is .........>> b'sell'\n",
      "..................................................>> out\n",
      "out eliminated\n",
      "..................................................>> his\n",
      "his eliminated\n",
      "..................................................>> brother\n",
      "word after stemming is .........>> b'brother'\n",
      "..................................................>> and\n",
      "and eliminated\n",
      "..................................................>> sisters\n",
      "word after stemming is .........>> b'sister'\n",
      "..................................................>> to\n",
      "to eliminated\n",
      "..................................................>> the\n",
      "the eliminated\n",
      "..................................................>> witch\n",
      "word after stemming is .........>> b'witch'\n",
      "CPU times: user 20 ms, sys: 0 ns, total: 20 ms\n",
      "Wall time: 22.1 ms\n"
     ]
    }
   ],
   "source": [
    "%%time\n",
    "\n",
    "#creating list of cleaned words and two seperate lists of pos & neg reviews\n",
    "str1=''\n",
    "final_string=[]\n",
    "all_positive_words=[] # store words from +ve reviews here\n",
    "all_negative_words=[] # store words from -ve reviews here.\n",
    "s=''\n",
    "for sentence in final['Text'][2:3].values:\n",
    "    filtered_sentence=[]\n",
    "    print(sentence)\n",
    "    for word in sentence.split():\n",
    "        print('..................................................>> {}'.format(word))\n",
    "        if((word not in stop) & (len(word)>2) & (word.isalpha())):    \n",
    "            s = snow.stem(word).encode('utf8')\n",
    "            print('word after stemming is .........>> {}'.format(s))\n",
    "            filtered_sentence.append(s)                   \n",
    "        else:\n",
    "            print('{} eliminated' .format(word))\n",
    "            continue\n",
    "            \n",
    "#print(filtered_sentence)\n",
    "    str1 = b\" \".join(filtered_sentence) #final string of cleaned words\n",
    "    #print(\"*\" * 40)\n",
    "    \n",
    "    final_string.append(str1)"
   ]
  },
  {
   "cell_type": "markdown",
   "metadata": {},
   "source": [
    "**BoW  Preprocessing - All Reviews:**"
   ]
  },
  {
   "cell_type": "code",
   "execution_count": 15,
   "metadata": {},
   "outputs": [
    {
     "name": "stdout",
     "output_type": "stream",
     "text": [
      "time elapsed is 5.292 minutes\n"
     ]
    }
   ],
   "source": [
    "start = time.time()\n",
    "\n",
    "#creating list of cleaned words and two seperate lists of pos & neg reviews\n",
    "i = 0\n",
    "str1 = ''\n",
    "final_string = []\n",
    "all_positive_words = [] # store words from +ve reviews here\n",
    "all_negative_words = [] # store words from -ve reviews here.\n",
    "s = ''\n",
    "for sentence in final['Text'].values:\n",
    "    filtered_sentence = []\n",
    "    for word in sentence.split():\n",
    "        if((word not in stop) & (len(word)>2) & (word.isalpha())):    \n",
    "            s = snow.stem(word).encode('utf8')\n",
    "            filtered_sentence.append(s)\n",
    "            if (final['Score'].values)[i] == 'Positive': \n",
    "                all_positive_words.append(s) #list of all words used to describe positive reviews\n",
    "            elif(final['Score'].values)[i] == 'Negative':\n",
    "                all_negative_words.append(s) #list of all words used to describe negative reviews reviews\n",
    "        else:\n",
    "            continue\n",
    " #print(filtered_sentence)\n",
    "    str1 = b\" \".join(filtered_sentence) #final string of cleaned words\n",
    "    #print(\"*\" * 40)\n",
    "    \n",
    "    final_string.append(str1)\n",
    "    i+=1 \n",
    "end = time.time()\n",
    "print('time elapsed is {:<.3f} minutes'.format((end - start) / 60))"
   ]
  },
  {
   "cell_type": "code",
   "execution_count": 16,
   "metadata": {},
   "outputs": [
    {
     "data": {
      "text/plain": [
       "Index(['Id', 'ProductId', 'UserId', 'ProfileName', 'HelpfulnessNumerator',\n",
       "       'HelpfulnessDenominator', 'Score', 'Time', 'Summary', 'Text'],\n",
       "      dtype='object')"
      ]
     },
     "execution_count": 16,
     "metadata": {},
     "output_type": "execute_result"
    }
   ],
   "source": [
    "final.columns"
   ]
  },
  {
   "cell_type": "markdown",
   "metadata": {},
   "source": [
    "**W2V and TFidf Preprocessing** "
   ]
  },
  {
   "cell_type": "code",
   "execution_count": 17,
   "metadata": {},
   "outputs": [
    {
     "name": "stdout",
     "output_type": "stream",
     "text": [
      "CPU times: user 22 s, sys: 4 ms, total: 22 s\n",
      "Wall time: 22 s\n"
     ]
    }
   ],
   "source": [
    "%%time\n",
    "final = df\n",
    "# removeing HTML TAG\n",
    "final['Text'] = final['Text'].apply(lambda x : re.sub('<.*?>',' ', x)) #No characters to be substitited in place of HTML tag\n",
    "\n",
    "#removing punctuation marks:\n",
    "final['Text'] = final['Text'].apply(lambda x: re.sub(r'[?|!|\\'|\"|#|.|,|)|(|\\|/|~|%|*]', ' ', x))\n",
    "\n",
    "#converting it to lower case:\n",
    "final['Text'] = final['Text'].apply(lambda x: x.lower())\n",
    "\n",
    "#creating the list of cleaned words(without stemming and lemmatization for W2V):\n",
    "\n",
    "i = 0\n",
    "str_w2v = ' '\n",
    "final_string_w2v = []\n",
    "s = ''\n",
    "for sentence in final['Text'].values:\n",
    "    filtered_sentence=[]\n",
    "    for word in sentence.split():\n",
    "        if((len(word) > 2) & (word.isalpha()) & (word not in stop)):    \n",
    "            s = word.encode('utf8')\n",
    "            filtered_sentence.append(s)\n",
    "        else:\n",
    "            continue\n",
    " #print(filtered_sentence)\n",
    "    str_w2v = b\" \".join(filtered_sentence) #final string of cleaned words\n",
    "    final_string_w2v.append(str_w2v)\n",
    "    i+=1"
   ]
  },
  {
   "cell_type": "markdown",
   "metadata": {},
   "source": [
    "**BoW & TFidf - cleaned data columns creation**"
   ]
  },
  {
   "cell_type": "code",
   "execution_count": 18,
   "metadata": {},
   "outputs": [
    {
     "data": {
      "text/html": [
       "<div>\n",
       "<style scoped>\n",
       "    .dataframe tbody tr th:only-of-type {\n",
       "        vertical-align: middle;\n",
       "    }\n",
       "\n",
       "    .dataframe tbody tr th {\n",
       "        vertical-align: top;\n",
       "    }\n",
       "\n",
       "    .dataframe thead th {\n",
       "        text-align: right;\n",
       "    }\n",
       "</style>\n",
       "<table border=\"1\" class=\"dataframe\">\n",
       "  <thead>\n",
       "    <tr style=\"text-align: right;\">\n",
       "      <th></th>\n",
       "      <th>CleanedText_Bow</th>\n",
       "      <th>ClenedText_W2Vtfdf</th>\n",
       "    </tr>\n",
       "  </thead>\n",
       "  <tbody>\n",
       "    <tr>\n",
       "      <th>0</th>\n",
       "      <td>bought sever vital can dog food product found ...</td>\n",
       "      <td>bought several vitality canned dog food produc...</td>\n",
       "    </tr>\n",
       "    <tr>\n",
       "      <th>1</th>\n",
       "      <td>product arriv label jumbo salt peanut peanut a...</td>\n",
       "      <td>product arrived labeled jumbo salted peanuts p...</td>\n",
       "    </tr>\n",
       "    <tr>\n",
       "      <th>2</th>\n",
       "      <td>confect around centuri light pillowi citrus ge...</td>\n",
       "      <td>confection around centuries light pillowy citr...</td>\n",
       "    </tr>\n",
       "    <tr>\n",
       "      <th>3</th>\n",
       "      <td>look secret ingredi robitussin believ found go...</td>\n",
       "      <td>looking secret ingredient robitussin believe f...</td>\n",
       "    </tr>\n",
       "  </tbody>\n",
       "</table>\n",
       "</div>"
      ],
      "text/plain": [
       "                                     CleanedText_Bow  \\\n",
       "0  bought sever vital can dog food product found ...   \n",
       "1  product arriv label jumbo salt peanut peanut a...   \n",
       "2  confect around centuri light pillowi citrus ge...   \n",
       "3  look secret ingredi robitussin believ found go...   \n",
       "\n",
       "                                  ClenedText_W2Vtfdf  \n",
       "0  bought several vitality canned dog food produc...  \n",
       "1  product arrived labeled jumbo salted peanuts p...  \n",
       "2  confection around centuries light pillowy citr...  \n",
       "3  looking secret ingredient robitussin believe f...  "
      ]
     },
     "execution_count": 18,
     "metadata": {},
     "output_type": "execute_result"
    }
   ],
   "source": [
    "final['CleanedText_Bow'] = final_string\n",
    "final['ClenedText_W2Vtfdf'] = final_string_w2v\n",
    "final['CleanedText_Bow'] = final['CleanedText_Bow'].apply(lambda x: x.decode(\"utf-8\"))\n",
    "final['ClenedText_W2Vtfdf'] = final['ClenedText_W2Vtfdf'].apply(lambda x: x.decode(\"utf-8\"))\n",
    "final.iloc[:, -2:].head(4)"
   ]
  },
  {
   "cell_type": "code",
   "execution_count": 19,
   "metadata": {},
   "outputs": [
    {
     "data": {
      "text/plain": [
       "Index(['Id', 'ProductId', 'UserId', 'ProfileName', 'HelpfulnessNumerator',\n",
       "       'HelpfulnessDenominator', 'Score', 'Time', 'Summary', 'Text',\n",
       "       'CleanedText_Bow', 'ClenedText_W2Vtfdf'],\n",
       "      dtype='object')"
      ]
     },
     "execution_count": 19,
     "metadata": {},
     "output_type": "execute_result"
    }
   ],
   "source": [
    "final.columns"
   ]
  },
  {
   "cell_type": "code",
   "execution_count": 20,
   "metadata": {},
   "outputs": [
    {
     "data": {
      "text/plain": [
       "Positive    307061\n",
       "Negative     57110\n",
       "Name: Score, dtype: int64"
      ]
     },
     "execution_count": 20,
     "metadata": {},
     "output_type": "execute_result"
    }
   ],
   "source": [
    "final['Score'].value_counts()"
   ]
  },
  {
   "cell_type": "code",
   "execution_count": 21,
   "metadata": {},
   "outputs": [
    {
     "data": {
      "text/plain": [
       "1    307061\n",
       "0     57110\n",
       "Name: Score, dtype: int64"
      ]
     },
     "execution_count": 21,
     "metadata": {},
     "output_type": "execute_result"
    }
   ],
   "source": [
    "final['Score'] = final['Score'].apply(lambda x: 1 if x == 'Positive' else 0)\n",
    "final['Score'].value_counts()"
   ]
  },
  {
   "cell_type": "markdown",
   "metadata": {},
   "source": [
    "**sorting dataframe on 'Time' column,sample 1L sorted datapoints & saving dataFrame onto disc**"
   ]
  },
  {
   "cell_type": "code",
   "execution_count": 22,
   "metadata": {},
   "outputs": [],
   "source": [
    "final = final.sort_values('Time')\n",
    "final_1L = final.iloc[0:100000, ]\n",
    "final_1L.to_csv('final_1L.csv', index=False)"
   ]
  },
  {
   "cell_type": "code",
   "execution_count": 23,
   "metadata": {},
   "outputs": [
    {
     "data": {
      "text/plain": [
       "Index(['Id', 'ProductId', 'UserId', 'ProfileName', 'HelpfulnessNumerator',\n",
       "       'HelpfulnessDenominator', 'Score', 'Time', 'Summary', 'Text',\n",
       "       'CleanedText_Bow', 'ClenedText_W2Vtfdf'],\n",
       "      dtype='object')"
      ]
     },
     "execution_count": 23,
     "metadata": {},
     "output_type": "execute_result"
    }
   ],
   "source": [
    "final_1L.columns"
   ]
  },
  {
   "cell_type": "markdown",
   "metadata": {},
   "source": [
    "**BoW - Train, Test & CV splits:**"
   ]
  },
  {
   "cell_type": "code",
   "execution_count": 24,
   "metadata": {},
   "outputs": [
    {
     "name": "stdout",
     "output_type": "stream",
     "text": [
      "CPU times: user 16 ms, sys: 0 ns, total: 16 ms\n",
      "Wall time: 14 ms\n"
     ]
    }
   ],
   "source": [
    "%%time\n",
    "\n",
    "#train-test split:\n",
    "from sklearn.model_selection import train_test_split\n",
    "from sklearn.feature_extraction.text import CountVectorizer\n",
    "from sklearn.preprocessing import normalize\n",
    "\n",
    "X_train, X_test, y_train, y_test = train_test_split(final_1L['CleanedText_Bow'].values, final_1L['Score'].values, \n",
    "                                                    test_size = 0.2, shuffle=False)\n",
    "# split the train data set into cross validation train and cross validation test\n",
    "X_tr, X_cv, y_tr, y_cv = train_test_split(X_train, y_train, test_size=0.2, shuffle=False)"
   ]
  },
  {
   "cell_type": "code",
   "execution_count": 25,
   "metadata": {},
   "outputs": [
    {
     "name": "stdout",
     "output_type": "stream",
     "text": [
      "length of X_tr is 64000 y_tr is 64000\n",
      "length of X_cv is 16000 y_cv is 16000\n",
      "length of X_test is 20000 y_test is 20000\n"
     ]
    }
   ],
   "source": [
    "print('length of X_tr is {} y_tr is {}'.format(len(X_tr), len(y_tr)))\n",
    "print('length of X_cv is {} y_cv is {}'.format(len(X_cv), len(y_cv)))\n",
    "print('length of X_test is {} y_test is {}'.format(len(X_test), len(y_test)))"
   ]
  },
  {
   "cell_type": "markdown",
   "metadata": {},
   "source": [
    "**BoW - splitted datapoints into pickled file and saving onto disc:**"
   ]
  },
  {
   "cell_type": "code",
   "execution_count": 26,
   "metadata": {},
   "outputs": [],
   "source": [
    "#pickeling splitted data points to disk:\n",
    "\n",
    "bow_list = [X_tr, X_cv, X_test]\n",
    "file1 = open('bow_splitted_dataPoints.pickle','wb')\n",
    "\n",
    "# dump information to that file\n",
    "pickle.dump(bow_list, file1)\n",
    "\n",
    "# close the file\n",
    "file1.close()\n",
    "\n",
    "class_label = [y_tr, y_cv, y_test]\n",
    "file1 = open('class_label.pickle', 'wb')\n",
    "\n",
    "# dump information to that file\n",
    "pickle.dump(class_label, file1)\n",
    "\n",
    "# close the file\n",
    "file1.close()"
   ]
  },
  {
   "cell_type": "markdown",
   "metadata": {},
   "source": [
    "**W2V, TFidf - Train, Test, CV splits:**"
   ]
  },
  {
   "cell_type": "code",
   "execution_count": 27,
   "metadata": {},
   "outputs": [],
   "source": [
    "#train-test split:\n",
    "from sklearn.model_selection import train_test_split\n",
    "\n",
    "X_train, X_test, y_train, y_test = train_test_split(final_1L['ClenedText_W2Vtfdf'].values, final_1L['Score'].values, \n",
    "                                                    test_size = 0.2, shuffle=False)\n",
    "# split the train data set into cross validation train and cross validation test\n",
    "X_tr, X_cv, y_tr, y_cv = train_test_split(X_train, y_train, test_size=0.2, shuffle=False)"
   ]
  },
  {
   "cell_type": "markdown",
   "metadata": {},
   "source": [
    "**W2V, TFIDF -  splitted datapoints into pickled file and saving onto disc:**"
   ]
  },
  {
   "cell_type": "code",
   "execution_count": 28,
   "metadata": {},
   "outputs": [],
   "source": [
    "#pickeling splitted data points to disk:\n",
    "\n",
    "w2v_list = [X_tr, X_cv, X_test]\n",
    "\n",
    "# open a file object, to store the data\n",
    "file1 = open('w2v_splitted_datapoints.pickle', 'wb')\n",
    "\n",
    "# dump information to that file\n",
    "pickle.dump(w2v_list, file1)\n",
    "\n",
    "# close the file\n",
    "file1.close()"
   ]
  },
  {
   "cell_type": "markdown",
   "metadata": {},
   "source": [
    "**W2V - creating document corpus of reviews for X_train ,X_cv, X_test**"
   ]
  },
  {
   "cell_type": "code",
   "execution_count": 29,
   "metadata": {},
   "outputs": [
    {
     "name": "stdout",
     "output_type": "stream",
     "text": [
      "['witty', 'little', 'book', 'makes', 'son', 'laugh', 'loud', 'recite', 'car', 'driving', 'along', 'always', 'sing', 'refrain', 'learned', 'whales', 'india', 'drooping', 'love', 'new', 'words', 'book', 'introduces', 'silliness', 'classic', 'book', 'willing', 'bet', 'son', 'still', 'able', 'recite', 'memory', 'college']\n",
      "64000\n",
      "CPU times: user 1.18 s, sys: 72 ms, total: 1.26 s\n",
      "Wall time: 1.31 s\n"
     ]
    }
   ],
   "source": [
    "%%time\n",
    "file1 = open('w2v_splitted_datapoints.pickle','rb')\n",
    "w2v_list = pickle.load(file1)\n",
    "X_tr, X_cv, X_test = w2v_list[0], w2v_list[1], w2v_list[2]\n",
    "file1.close()\n",
    "\n",
    "#creating list of lists(list of words in sentence of sentences) for X_tr\n",
    "w_train = []\n",
    "s = ''\n",
    "for sentence in X_tr:\n",
    "    sentence_list = []\n",
    "    for words in sentence.split():\n",
    "        s = words\n",
    "        sentence_list.append(s)\n",
    "    w_train.append(sentence_list)\n",
    "\n",
    "cnt = 0\n",
    "for i in w_train:\n",
    "    print(i)\n",
    "    cnt = cnt + 1\n",
    "    if cnt == 1:\n",
    "        break\n",
    "print(len(w_train))"
   ]
  },
  {
   "cell_type": "code",
   "execution_count": 30,
   "metadata": {},
   "outputs": [
    {
     "name": "stdout",
     "output_type": "stream",
     "text": [
      "['need', 'find', 'good', 'egg', 'substitute', 'allergic', 'family', 'members', 'enjoy', 'cake', 'tried', 'powder', 'egg', 'replacer', 'didn', 'work', 'tried', 'extra', 'baking', 'powder', 'tried', 'applesauce', 'flax', 'seeds', 'etc', 'nothing', 'worked', 'help']\n",
      "16000\n",
      "CPU times: user 152 ms, sys: 28 ms, total: 180 ms\n",
      "Wall time: 182 ms\n"
     ]
    }
   ],
   "source": [
    "%%time\n",
    "\n",
    "#creating list of lists(list of words in sentence of sentences) for X_cv:\n",
    "w_cv = []\n",
    "s = ''\n",
    "for sentence in X_cv:\n",
    "    sentence_list = []\n",
    "    for words in sentence.split():\n",
    "        s = words\n",
    "        sentence_list.append(s)\n",
    "    w_cv.append(sentence_list)\n",
    "\n",
    "\n",
    "#to check first review\n",
    "cnt = 0\n",
    "for j in w_cv:\n",
    "    print(j)\n",
    "    cnt = cnt + 1\n",
    "    if cnt == 1:\n",
    "        break\n",
    "print(len(X_cv))"
   ]
  },
  {
   "cell_type": "code",
   "execution_count": 31,
   "metadata": {},
   "outputs": [
    {
     "name": "stdout",
     "output_type": "stream",
     "text": [
      "['product', 'great', 'taste', 'italy', 'wonderful', 'almost', 'cheese', 'slight', 'drizzle', 'brie', 'chedder', 'cheese', 'love']\n",
      "20000\n",
      "CPU times: user 200 ms, sys: 24 ms, total: 224 ms\n",
      "Wall time: 223 ms\n"
     ]
    }
   ],
   "source": [
    "%%time\n",
    "\n",
    "#creating list of lists(list of words in sentence of sentences) for X_test:\n",
    "w_test = []\n",
    "s = ''\n",
    "for sentence in X_test:\n",
    "    sentence_list = []\n",
    "    for words in sentence.split():\n",
    "        s = words\n",
    "        sentence_list.append(s)\n",
    "    w_test.append(sentence_list)\n",
    "     \n",
    "#to check first review \n",
    "cnt = 0\n",
    "for j in w_test:\n",
    "    print(j)\n",
    "    cnt = cnt + 1\n",
    "    if cnt == 1:\n",
    "        break\n",
    "print(len(w_test))"
   ]
  },
  {
   "cell_type": "markdown",
   "metadata": {},
   "source": [
    "**W2V - pickeling list of data points and saving onto disc**"
   ]
  },
  {
   "cell_type": "code",
   "execution_count": 33,
   "metadata": {},
   "outputs": [],
   "source": [
    "w2v_ListOfSentence = [w_train, w_cv, w_test]\n",
    "\n",
    "file = open('w2v_ListOfSentence.pickle', '+wb')\n",
    "pickle.dump(w2v_ListOfSentence, file)\n",
    "file.close()"
   ]
  },
  {
   "cell_type": "markdown",
   "metadata": {},
   "source": [
    "## FeatureEngineering:"
   ]
  },
  {
   "cell_type": "markdown",
   "metadata": {},
   "source": [
    "**BoW - Feature Engineering**"
   ]
  },
  {
   "cell_type": "code",
   "execution_count": 34,
   "metadata": {},
   "outputs": [
    {
     "data": {
      "text/plain": [
       "Id                        0\n",
       "ProductId                 0\n",
       "UserId                    0\n",
       "ProfileName               0\n",
       "HelpfulnessNumerator      0\n",
       "HelpfulnessDenominator    0\n",
       "Score                     0\n",
       "Time                      0\n",
       "Summary                   0\n",
       "Text                      0\n",
       "CleanedText_Bow           0\n",
       "ClenedText_W2Vtfdf        0\n",
       "dtype: int64"
      ]
     },
     "execution_count": 34,
     "metadata": {},
     "output_type": "execute_result"
    }
   ],
   "source": [
    "#checking for whether any column is haivng Null value?\n",
    "final_1L.isna().sum()"
   ]
  },
  {
   "cell_type": "code",
   "execution_count": 35,
   "metadata": {},
   "outputs": [
    {
     "data": {
      "text/plain": [
       "Positive    87729\n",
       "Negative    12271\n",
       "Name: Score, dtype: int64"
      ]
     },
     "execution_count": 35,
     "metadata": {},
     "output_type": "execute_result"
    }
   ],
   "source": [
    "final_1L['Score'] = final_1L['Score'].apply(lambda x: 'Positive' if int(x) == 1 else 'Negative')\n",
    "final_1L['Score'].value_counts()"
   ]
  },
  {
   "cell_type": "code",
   "execution_count": 36,
   "metadata": {},
   "outputs": [
    {
     "name": "stdout",
     "output_type": "stream",
     "text": [
      "CPU times: user 420 ms, sys: 0 ns, total: 420 ms\n",
      "Wall time: 426 ms\n"
     ]
    }
   ],
   "source": [
    "%%time\n",
    "# removeing HTML TAG\n",
    "final_1L['Summary'] = final_1L['Summary'] .apply(lambda x : re.sub('<.*?>',' ', x)) #No characters to be substitited in place of HTML tag\n",
    "\n",
    "#removing punctuation marks:\n",
    "final_1L['Summary']  = final_1L['Summary'] .apply(lambda x: re.sub(r'[?|!|\\'|\"|#|.|,|)|(|\\|/|~|%|*]', ' ', x))\n",
    "\n",
    "#converting it to lower case:\n",
    "final_1L['Summary']  = final_1L['Summary'] .apply(lambda x: x.lower())"
   ]
  },
  {
   "cell_type": "code",
   "execution_count": 37,
   "metadata": {},
   "outputs": [
    {
     "name": "stdout",
     "output_type": "stream",
     "text": [
      "time elapsed is 0.112 minutes\n"
     ]
    }
   ],
   "source": [
    "start = time.time()\n",
    "\n",
    "#creating list of cleaned words and two seperate lists of pos & neg reviews\n",
    "i = 0\n",
    "str1 = ''\n",
    "final_string = []\n",
    "all_positive_words = [] # store words from +ve reviews here\n",
    "all_negative_words = [] # store words from -ve reviews here.\n",
    "s = ''\n",
    "for sentence in final_1L['Summary'].values:\n",
    "    filtered_sentence = []\n",
    "    for word in sentence.split():\n",
    "        if((word not in stop) & (len(word)>2) & (word.isalpha())):    \n",
    "            s = snow.stem(word).encode('utf8')\n",
    "            filtered_sentence.append(s)\n",
    "            if (final_1L['Score'].values)[i] == 'Positive': \n",
    "                all_positive_words.append(s) #list of all words used to describe positive reviews\n",
    "            elif(final_1L['Score'].values)[i] == 'Negative':\n",
    "                all_negative_words.append(s) #list of all words used to describe negative reviews reviews\n",
    "        else:\n",
    "            continue\n",
    " #print(filtered_sentence)\n",
    "    str1 = b\" \".join(filtered_sentence) #final string of cleaned words\n",
    "    #print(\"*\" * 40)\n",
    "    \n",
    "    final_string.append(str1)\n",
    "    i+=1 \n",
    "end = time.time()\n",
    "print('time elapsed is {:<.3f} minutes'.format((end - start) / 60))"
   ]
  },
  {
   "cell_type": "code",
   "execution_count": 38,
   "metadata": {},
   "outputs": [],
   "source": [
    "final_1L['Bow_feat'] = final_string\n",
    "final_1L['Bow_feat'] = final_1L['Bow_feat'].apply(lambda x: x.decode(\"utf-8\"))"
   ]
  },
  {
   "cell_type": "code",
   "execution_count": 39,
   "metadata": {},
   "outputs": [
    {
     "data": {
      "text/plain": [
       "138706                          everi book educ\n",
       "138683    whole seri great way spend time child\n",
       "417839                      entertainingl funni\n",
       "212472                    modern day fairi tale\n",
       "Name: Bow_feat, dtype: object"
      ]
     },
     "execution_count": 39,
     "metadata": {},
     "output_type": "execute_result"
    }
   ],
   "source": [
    "final_1L['Bow_feat'].head(4)"
   ]
  },
  {
   "cell_type": "markdown",
   "metadata": {},
   "source": [
    "**BoW - creating new featured column**"
   ]
  },
  {
   "cell_type": "code",
   "execution_count": 40,
   "metadata": {},
   "outputs": [
    {
     "data": {
      "text/plain": [
       "138706    everi book educ witti littl book make son laug...\n",
       "138683    whole seri great way spend time child rememb s...\n",
       "Name: Bow_new_feat, dtype: object"
      ]
     },
     "execution_count": 40,
     "metadata": {},
     "output_type": "execute_result"
    }
   ],
   "source": [
    "# replacing blank space of one of the cells of 'summary' which is having NaN value:\n",
    "#final_1L['Summary'] = final_1L['Summary'].replace(np.nan, '', regex=True)\n",
    "\n",
    "#creating new column of concatenation of two columns:\n",
    "final_1L['Bow_new_feat'] = final_1L[['Bow_feat', 'CleanedText_Bow']].apply(lambda x: ' '.join(x),axis=1)\n",
    "final_1L['Bow_new_feat'].head(2)"
   ]
  },
  {
   "cell_type": "markdown",
   "metadata": {},
   "source": [
    "**W2V, TFidf - Feature engineering**"
   ]
  },
  {
   "cell_type": "code",
   "execution_count": 41,
   "metadata": {},
   "outputs": [
    {
     "data": {
      "text/plain": [
       "Id                        0\n",
       "ProductId                 0\n",
       "UserId                    0\n",
       "ProfileName               0\n",
       "HelpfulnessNumerator      0\n",
       "HelpfulnessDenominator    0\n",
       "Score                     0\n",
       "Time                      0\n",
       "Summary                   0\n",
       "Text                      0\n",
       "CleanedText_Bow           0\n",
       "ClenedText_W2Vtfdf        0\n",
       "Bow_feat                  0\n",
       "Bow_new_feat              0\n",
       "dtype: int64"
      ]
     },
     "execution_count": 41,
     "metadata": {},
     "output_type": "execute_result"
    }
   ],
   "source": [
    "final_1L.isna().sum()"
   ]
  },
  {
   "cell_type": "code",
   "execution_count": 42,
   "metadata": {},
   "outputs": [
    {
     "name": "stdout",
     "output_type": "stream",
     "text": [
      "CPU times: user 272 ms, sys: 4 ms, total: 276 ms\n",
      "Wall time: 280 ms\n"
     ]
    }
   ],
   "source": [
    "%%time\n",
    "# removeing HTML TAG\n",
    "final_1L['Summary'] = final_1L['Summary'] .apply(lambda x : re.sub('<.*?>',' ', x)) #No characters to be substitited in place of HTML tag\n",
    "\n",
    "#removing punctuation marks:\n",
    "final_1L['Summary']  = final_1L['Summary'] .apply(lambda x: re.sub(r'[?|!|\\'|\"|#|.|,|)|(|\\|/|~|%|*]', ' ', x))\n",
    "\n",
    "#converting it to lower case:\n",
    "final_1L['Summary']  = final_1L['Summary'] .apply(lambda x: x.lower())"
   ]
  },
  {
   "cell_type": "markdown",
   "metadata": {},
   "source": [
    "**W2V, TFidf : creating the list of cleaned words(without stemming and lemmatization) of 'Summary'  column**"
   ]
  },
  {
   "cell_type": "code",
   "execution_count": 43,
   "metadata": {},
   "outputs": [
    {
     "name": "stdout",
     "output_type": "stream",
     "text": [
      "CPU times: user 360 ms, sys: 0 ns, total: 360 ms\n",
      "Wall time: 362 ms\n"
     ]
    }
   ],
   "source": [
    "%%time\n",
    "\n",
    "i = 0\n",
    "str_w2v = ' '\n",
    "final_string_w2v = []\n",
    "s = ''\n",
    "for sentence in final_1L['Summary'].values:\n",
    "    filtered_sentence=[]\n",
    "    for word in sentence.split():\n",
    "        if((len(word) > 2) & (word.isalpha()) & (word not in stop)):    \n",
    "            s = word.encode('utf8')\n",
    "            filtered_sentence.append(s)\n",
    "        else:\n",
    "            continue\n",
    " #print(filtered_sentence)\n",
    "    str_w2v = b\" \".join(filtered_sentence) #final string of cleaned words\n",
    "    final_string_w2v.append(str_w2v)\n",
    "    i+=1"
   ]
  },
  {
   "cell_type": "markdown",
   "metadata": {},
   "source": [
    "**BoW, TFidf : New featured column creation:**"
   ]
  },
  {
   "cell_type": "code",
   "execution_count": 44,
   "metadata": {},
   "outputs": [
    {
     "name": "stdout",
     "output_type": "stream",
     "text": [
      "CPU times: user 2.33 s, sys: 0 ns, total: 2.33 s\n",
      "Wall time: 2.34 s\n"
     ]
    },
    {
     "data": {
      "text/plain": [
       "138706    every book educational witty little book makes...\n",
       "138683    whole series great way spend time child rememb...\n",
       "Name: w2v_new_feat, dtype: object"
      ]
     },
     "execution_count": 44,
     "metadata": {},
     "output_type": "execute_result"
    }
   ],
   "source": [
    "%%time\n",
    "\n",
    "final_1L['w2v_feat'] = final_string_w2v\n",
    "final_1L['w2v_feat'] = final_1L['w2v_feat'].apply(lambda x: x.decode(\"utf-8\"))\n",
    "\n",
    "# replacing blank space of one of the cells of 'summary' which is having NaN value:\n",
    "#final_1L['Summary'] = final_1L['Summary'].replace(np.nan, '', regex=True)\n",
    "\n",
    "#creating new column of concatenation of two columns:\n",
    "final_1L['w2v_new_feat'] = final_1L[['w2v_feat', 'ClenedText_W2Vtfdf']].apply(lambda x: ' '.join(x),axis=1)\n",
    "final_1L['w2v_new_feat'].head(2)"
   ]
  },
  {
   "cell_type": "code",
   "execution_count": 45,
   "metadata": {},
   "outputs": [
    {
     "data": {
      "text/plain": [
       "Positive    87729\n",
       "Negative    12271\n",
       "Name: Score, dtype: int64"
      ]
     },
     "execution_count": 45,
     "metadata": {},
     "output_type": "execute_result"
    }
   ],
   "source": [
    "final_1L['Score'].value_counts()"
   ]
  },
  {
   "cell_type": "code",
   "execution_count": 46,
   "metadata": {},
   "outputs": [
    {
     "data": {
      "text/plain": [
       "1    87729\n",
       "0    12271\n",
       "Name: Score, dtype: int64"
      ]
     },
     "execution_count": 46,
     "metadata": {},
     "output_type": "execute_result"
    }
   ],
   "source": [
    "final_1L['Score'] = final_1L['Score'].apply(lambda x: 1 if x == 'Positive' else 0)\n",
    "final_1L['Score'].value_counts()"
   ]
  },
  {
   "cell_type": "markdown",
   "metadata": {},
   "source": [
    "**Storing dataframe in table and saving into disc**"
   ]
  },
  {
   "cell_type": "code",
   "execution_count": 47,
   "metadata": {},
   "outputs": [],
   "source": [
    "final_1L.to_csv('final_1L.csv', index=False)\n",
    "import sqlite3\n",
    "conn = sqlite3.connect('final_1L.sqlite')\n",
    "final_1L.to_sql('reviews', conn,if_exists='replace') #dataframe is saved under table 'reviews'"
   ]
  },
  {
   "cell_type": "code",
   "execution_count": 51,
   "metadata": {},
   "outputs": [],
   "source": [
    "#!pip3 install wordcloud\n",
    "\n",
    "from wordcloud import WordCloud, STOPWORDS\n",
    "stopwords = set(STOPWORDS)"
   ]
  },
  {
   "cell_type": "code",
   "execution_count": 52,
   "metadata": {},
   "outputs": [
    {
     "data": {
      "image/png": "[encoded data removed]",
      "text/plain": [
       "<Figure size 576x576 with 1 Axes>"
      ]
     },
     "metadata": {
      "needs_background": "light"
     },
     "output_type": "display_data"
    },
    {
     "name": "stdout",
     "output_type": "stream",
     "text": [
      "CPU times: user 572 ms, sys: 48 ms, total: 620 ms\n",
      "Wall time: 631 ms\n"
     ]
    },
    {
     "data": {
      "text/plain": [
       "Series([], Name: CleanedText_Bow, dtype: object)"
      ]
     },
     "execution_count": 52,
     "metadata": {},
     "output_type": "execute_result"
    }
   ],
   "source": [
    "%%time\n",
    "\n",
    "plt.rcParams['figure.figsize']=(8.0,6.0)\n",
    "plt.Figure(figsize=(12, 10), dpi=80, facecolor='w', edgecolor='k')\n",
    "plt.rcParams['font.size']=12                #10 \n",
    "plt.rcParams['savefig.dpi']=100             #72 \n",
    "plt.rcParams['figure.subplot.bottom']=.1 \n",
    "\n",
    "def show_wordcloud(data, title = None):\n",
    "    wordcloud = WordCloud(\n",
    "        background_color='white',\n",
    "        stopwords=stopwords,\n",
    "        max_words=200,\n",
    "        max_font_size=40, \n",
    "        scale=3,\n",
    "        random_state=42 \n",
    "    ).generate(str(data))\n",
    "    \n",
    "    fig = plt.figure(1, figsize=(8, 8))\n",
    "    plt.axis('off')\n",
    "    if title: \n",
    "        fig.suptitle(title, fontsize=20)\n",
    "        fig.subplots_adjust(top=2.3)\n",
    "\n",
    "    plt.imshow(wordcloud)\n",
    "    plt.show()\n",
    "    \n",
    "show_wordcloud(final['CleanedText_Bow'])\n",
    "final.loc[final['Score'] >3]['CleanedText_Bow']"
   ]
  },
  {
   "cell_type": "code",
   "execution_count": 53,
   "metadata": {},
   "outputs": [
    {
     "data": {
      "text/plain": [
       "'/home/reachjalesh/PreprocessingFolder'"
      ]
     },
     "execution_count": 53,
     "metadata": {},
     "output_type": "execute_result"
    }
   ],
   "source": [
    "pwd"
   ]
  },
  {
   "cell_type": "code",
   "execution_count": null,
   "metadata": {},
   "outputs": [],
   "source": []
  }
 ],
 "metadata": {
  "kernelspec": {
   "display_name": "Python 3",
   "language": "python",
   "name": "python3"
  },
  "language_info": {
   "codemirror_mode": {
    "name": "ipython",
    "version": 3
   },
   "file_extension": ".py",
   "mimetype": "text/x-python",
   "name": "python",
   "nbconvert_exporter": "python",
   "pygments_lexer": "ipython3",
   "version": "3.5.3"
  }
 },
 "nbformat": 4,
 "nbformat_minor": 4
}
