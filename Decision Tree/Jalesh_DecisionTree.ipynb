{
 "cells": [
  {
   "cell_type": "markdown",
   "metadata": {},
   "source": [
    "### since the data is already preprocessed and savedonto disc, I would be working on the preprocessed data and wud be implementing DT of different NLP vectorizers"
   ]
  },
  {
   "cell_type": "markdown",
   "metadata": {},
   "source": [
    "**DT - BoW**"
   ]
  },
  {
   "cell_type": "code",
   "execution_count": 1,
   "metadata": {},
   "outputs": [],
   "source": [
    "#importing required packages\n",
    "\n",
    "import numpy as np\n",
    "import pandas as pd\n",
    "import matplotlib.pyplot as plt\n",
    "import seaborn as sns\n",
    "import warnings\n",
    "import scipy as sc\n",
    "import sympy\n",
    "import datetime\n",
    "#import date\n",
    "import os\n",
    "import sys\n",
    "import graphviz\n",
    "%matplotlib inline\n",
    "warnings.filterwarnings('ignore')"
   ]
  },
  {
   "cell_type": "markdown",
   "metadata": {},
   "source": [
    "***importing performance metric libraries***"
   ]
  },
  {
   "cell_type": "code",
   "execution_count": 2,
   "metadata": {},
   "outputs": [],
   "source": [
    "#importing Logistic regression libraries:\n",
    "from sklearn.tree import DecisionTreeClassifier\n",
    "\n",
    "#train test split libaries:\n",
    "from sklearn.preprocessing import StandardScaler\n",
    "from sklearn.model_selection import train_test_split\n",
    "\n",
    "#importing performance libraries:\n",
    "from sklearn.metrics import f1_score\n",
    "from sklearn.metrics import confusion_matrix\n",
    "from sklearn.metrics import precision_score\n",
    "from sklearn.metrics import precision_recall_curve\n",
    "from sklearn.metrics import roc_curve\n",
    "from sklearn.metrics import roc_auc_score\n",
    "from sklearn.metrics import auc"
   ]
  },
  {
   "cell_type": "markdown",
   "metadata": {},
   "source": [
    "***Imporing preprocessed cleaned data from database file***"
   ]
  },
  {
   "cell_type": "code",
   "execution_count": 3,
   "metadata": {},
   "outputs": [
    {
     "name": "stdout",
     "output_type": "stream",
     "text": [
      "CPU times: user 1.21 s, sys: 372 ms, total: 1.58 s\n",
      "Wall time: 3.21 s\n"
     ]
    }
   ],
   "source": [
    "%%time\n",
    "import sqlite3\n",
    "con = sqlite3.connect('/home/reachjalesh/PreprocessingFolder/final_1L.sqlite')\n",
    "df = pd.read_sql_query(\"\"\"select * from reviews\"\"\", con)"
   ]
  },
  {
   "cell_type": "code",
   "execution_count": 6,
   "metadata": {},
   "outputs": [
    {
     "data": {
      "text/plain": [
       "100000"
      ]
     },
     "execution_count": 6,
     "metadata": {},
     "output_type": "execute_result"
    }
   ],
   "source": [
    "len(df)"
   ]
  },
  {
   "cell_type": "code",
   "execution_count": 7,
   "metadata": {},
   "outputs": [
    {
     "data": {
      "text/plain": [
       "Index(['index', 'Id', 'ProductId', 'UserId', 'ProfileName',\n",
       "       'HelpfulnessNumerator', 'HelpfulnessDenominator', 'Score', 'Time',\n",
       "       'Summary', 'Text', 'CleanedText_Bow', 'ClenedText_W2Vtfdf', 'Bow_feat',\n",
       "       'Bow_new_feat', 'w2v_feat', 'w2v_new_feat'],\n",
       "      dtype='object')"
      ]
     },
     "execution_count": 7,
     "metadata": {},
     "output_type": "execute_result"
    }
   ],
   "source": [
    "df.columns"
   ]
  },
  {
   "cell_type": "code",
   "execution_count": 8,
   "metadata": {},
   "outputs": [
    {
     "data": {
      "text/plain": [
       "0    everi book educ witti littl book make son laug...\n",
       "1    whole seri great way spend time child rememb s...\n",
       "Name: Bow_new_feat, dtype: object"
      ]
     },
     "execution_count": 8,
     "metadata": {},
     "output_type": "execute_result"
    }
   ],
   "source": [
    "df.Bow_new_feat.head(2)"
   ]
  },
  {
   "cell_type": "code",
   "execution_count": 9,
   "metadata": {},
   "outputs": [
    {
     "data": {
      "text/plain": [
       "0                          everi book educ\n",
       "1    whole seri great way spend time child\n",
       "Name: Bow_feat, dtype: object"
      ]
     },
     "execution_count": 9,
     "metadata": {},
     "output_type": "execute_result"
    }
   ],
   "source": [
    "df.Bow_feat.head(2)"
   ]
  },
  {
   "cell_type": "code",
   "execution_count": 10,
   "metadata": {},
   "outputs": [
    {
     "data": {
      "text/plain": [
       "0    witti littl book make son laugh loud recit car...\n",
       "1    rememb see show air televis year ago child sis...\n",
       "Name: CleanedText_Bow, dtype: object"
      ]
     },
     "execution_count": 10,
     "metadata": {},
     "output_type": "execute_result"
    }
   ],
   "source": [
    "df.CleanedText_Bow.head(2)"
   ]
  },
  {
   "cell_type": "code",
   "execution_count": 11,
   "metadata": {},
   "outputs": [
    {
     "name": "stdout",
     "output_type": "stream",
     "text": [
      "unfeatured preprocesed column for vectorizer: bow is: \n",
      " 0    witti littl book make son laugh loud recit car...\n",
      "Name: CleanedText_Bow, dtype: object\n",
      "\n",
      "featured preprocesed column for vectorizer: bow is: \n",
      " 0    everi book educ witti littl book make son laug...\n",
      "Name: Bow_new_feat, dtype: object\n"
     ]
    }
   ],
   "source": [
    "vectorizer = ['bow']\n",
    "for i in vectorizer:\n",
    "    print('unfeatured preprocesed column for vectorizer: {} is: \\n {}'.format(i, df.CleanedText_Bow.head(1)))\n",
    "    print()\n",
    "    print('featured preprocesed column for vectorizer: {} is: \\n {}'.format(i, df.Bow_new_feat.head(1)))"
   ]
  },
  {
   "cell_type": "code",
   "execution_count": 12,
   "metadata": {},
   "outputs": [
    {
     "name": "stdout",
     "output_type": "stream",
     "text": [
      "UNFEATURED COLUMN for vectorizer: tfidf is: \n",
      " 0    this witty little book makes my son laugh at l...\n",
      "Name: Text, dtype: object\n",
      "\n",
      "FEATURED COLUMN for vectorizer: tfidf is: \n",
      " 0    witty little book makes son laugh loud recite ...\n",
      "Name: ClenedText_W2Vtfdf, dtype: object\n",
      "UNFEATURED COLUMN for vectorizer: avg-w2v is: \n",
      " 0    this witty little book makes my son laugh at l...\n",
      "Name: Text, dtype: object\n",
      "\n",
      "FEATURED COLUMN for vectorizer: avg-w2v is: \n",
      " 0    witty little book makes son laugh loud recite ...\n",
      "Name: ClenedText_W2Vtfdf, dtype: object\n",
      "UNFEATURED COLUMN for vectorizer: tfidf-w2v is: \n",
      " 0    this witty little book makes my son laugh at l...\n",
      "Name: Text, dtype: object\n",
      "\n",
      "FEATURED COLUMN for vectorizer: tfidf-w2v is: \n",
      " 0    witty little book makes son laugh loud recite ...\n",
      "Name: ClenedText_W2Vtfdf, dtype: object\n"
     ]
    }
   ],
   "source": [
    "vectorizer = ['tfidf', 'avg-w2v', 'tfidf-w2v']\n",
    "for i in vectorizer:\n",
    "    print('UNFEATURED COLUMN for vectorizer: {} is: \\n {}'.format(i, df.Text.head(1)))\n",
    "    print()\n",
    "    print('FEATURED COLUMN for vectorizer: {} is: \\n {}'.format(i, df.ClenedText_W2Vtfdf.head(1)))"
   ]
  },
  {
   "cell_type": "code",
   "execution_count": 13,
   "metadata": {},
   "outputs": [
    {
     "name": "stdout",
     "output_type": "stream",
     "text": [
      "witty little book makes son laugh loud recite car driving along always sing refrain learned whales india drooping love new words book introduces silliness classic book willing bet son still able recite memory college\n",
      "\n",
      "\n",
      "\n",
      "this witty little book makes my son laugh at loud  i recite it in the car as we re driving along and he always can sing the refrain  he s learned about whales  india  drooping roses:  i love all the new words this book  introduces and the silliness of it all   this is a classic book i am  willing to bet my son will still be able to recite from memory when he is  in college\n"
     ]
    }
   ],
   "source": [
    "for i in df.ClenedText_W2Vtfdf.head(1):\n",
    "    print(i)\n",
    "print('\\n' * 2)    \n",
    "for i in df.Text.head(1):\n",
    "    print(i)"
   ]
  },
  {
   "cell_type": "markdown",
   "metadata": {},
   "source": [
    "***sorting dataframe based on time***"
   ]
  },
  {
   "cell_type": "code",
   "execution_count": 14,
   "metadata": {},
   "outputs": [
    {
     "name": "stdout",
     "output_type": "stream",
     "text": [
      "100000\n",
      "\n"
     ]
    },
    {
     "data": {
      "text/plain": [
       "0    939340800\n",
       "1    940809600\n",
       "2    944092800\n",
       "3    944438400\n",
       "4    946857600\n",
       "5    947376000\n",
       "6    948240000\n",
       "7    948672000\n",
       "Name: Time, dtype: int64"
      ]
     },
     "execution_count": 14,
     "metadata": {},
     "output_type": "execute_result"
    }
   ],
   "source": [
    "#sorting the datframe based on time:\n",
    "print(len(df))\n",
    "df = df.sort_values('Time', ascending=True)\n",
    "print()\n",
    "df['Time'].head(8)"
   ]
  },
  {
   "cell_type": "code",
   "execution_count": 15,
   "metadata": {},
   "outputs": [
    {
     "data": {
      "text/plain": [
       "100000"
      ]
     },
     "execution_count": 15,
     "metadata": {},
     "output_type": "execute_result"
    }
   ],
   "source": [
    "len(df)"
   ]
  },
  {
   "cell_type": "code",
   "execution_count": 16,
   "metadata": {},
   "outputs": [
    {
     "data": {
      "text/plain": [
       "Index(['index', 'Id', 'ProductId', 'UserId', 'ProfileName',\n",
       "       'HelpfulnessNumerator', 'HelpfulnessDenominator', 'Score', 'Time',\n",
       "       'Summary', 'Text', 'CleanedText_Bow', 'ClenedText_W2Vtfdf', 'Bow_feat',\n",
       "       'Bow_new_feat', 'w2v_feat', 'w2v_new_feat'],\n",
       "      dtype='object')"
      ]
     },
     "execution_count": 16,
     "metadata": {},
     "output_type": "execute_result"
    }
   ],
   "source": [
    "df.columns"
   ]
  },
  {
   "cell_type": "code",
   "execution_count": 17,
   "metadata": {},
   "outputs": [
    {
     "data": {
      "text/plain": [
       "1    87729\n",
       "0    12271\n",
       "Name: Score, dtype: int64"
      ]
     },
     "execution_count": 17,
     "metadata": {},
     "output_type": "execute_result"
    }
   ],
   "source": [
    "df.Score.value_counts()"
   ]
  },
  {
   "cell_type": "markdown",
   "metadata": {},
   "source": [
    "**train test split**"
   ]
  },
  {
   "cell_type": "code",
   "execution_count": 18,
   "metadata": {},
   "outputs": [],
   "source": [
    "xtrain, xtest, ytrain, ytest = train_test_split(df.Bow_new_feat, df.Score, test_size=0.2, shuffle=False)\n",
    "xtr, xcv, ytr, ycv = train_test_split(xtrain, ytrain, test_size=0.2, shuffle=False)"
   ]
  },
  {
   "cell_type": "markdown",
   "metadata": {},
   "source": [
    "***BoW object instantiation***"
   ]
  },
  {
   "cell_type": "code",
   "execution_count": 19,
   "metadata": {},
   "outputs": [
    {
     "name": "stdout",
     "output_type": "stream",
     "text": [
      "(64000, 31265)\n",
      "(16000, 31265)\n",
      "(20000, 31265)\n"
     ]
    }
   ],
   "source": [
    "from sklearn.feature_extraction.text import CountVectorizer\n",
    "\n",
    "bow_object = CountVectorizer(ngram_range=(1,1))\n",
    "\n",
    "xtr = bow_object.fit_transform(xtr)\n",
    "xcv = bow_object.transform(xcv)\n",
    "xtest = bow_object.transform(xtest)\n",
    "\n",
    "\n",
    "print(xtr.shape)\n",
    "print(xcv.shape)\n",
    "print(xtest.shape)"
   ]
  },
  {
   "cell_type": "markdown",
   "metadata": {},
   "source": [
    "# 1. DT on BoW"
   ]
  },
  {
   "cell_type": "code",
   "execution_count": 20,
   "metadata": {},
   "outputs": [],
   "source": [
    "class decisiontree:\n",
    "\n",
    "    '''building the decision tree classifier based off various parameters'''\n",
    "    \n",
    "    #instantiating the instance attributes:\n",
    "    def __init__(self, xtr, ytr, xcv, ycv, minimum_splits=[5,10,100,500], maximum_depth=[1, 5, 10, 50, 100, 500, 100]):\n",
    "        self.xtr = xtr\n",
    "        self.ytr = ytr\n",
    "        self.xcv = xcv\n",
    "        self.ycv = ycv\n",
    "        self.minimum_splits = minimum_splits\n",
    "        self.maximum_depth = maximum_depth\n",
    "    \n",
    "    #creating a method of calling DT classifier:\n",
    "    def classfier(self, auc_dict_cv={}, auc_dict_tr={}):\n",
    "        for splits in self.minimum_splits:\n",
    "            for depths in self.maximum_depth: \n",
    "                clf = DecisionTreeClassifier(max_depth=depths, min_samples_split=splits)\n",
    "                print(depths, splits)\n",
    "                clf.fit(self.xtr, self.ytr)\n",
    "                y_pred_cv = clf.predict_proba(self.xcv)\n",
    "                \n",
    "                #performance metric on CV data:                \n",
    "                fpr_cv, tpr_cv, thresholds_cv = roc_curve(ycv, y_pred_cv[:,1])\n",
    "                auc_val = auc(fpr_cv, tpr_cv)\n",
    "                auc_dict_cv[zip([splits], [depths])] = auc_val\n",
    "                \n",
    "                #performance metrics for training data:\n",
    "                y_pred_tr = clf.predict_proba(self.xtr)\n",
    "                fpr_tr, tpr_tr, thresholds_tr = roc_curve(ytr, y_pred_tr[:,1])\n",
    "                auc_val = auc(fpr_tr, tpr_tr)\n",
    "                auc_dict_tr[zip([splits], [depths])] = auc_val\n",
    "                \n",
    "        return auc_dict_tr, auc_dict_cv\n",
    "                    "
   ]
  },
  {
   "cell_type": "markdown",
   "metadata": {},
   "source": [
    "# BoW decision tree instance creation on training and CV data"
   ]
  },
  {
   "cell_type": "code",
   "execution_count": 21,
   "metadata": {},
   "outputs": [
    {
     "name": "stdout",
     "output_type": "stream",
     "text": [
      "CPU times: user 0 ns, sys: 0 ns, total: 0 ns\n",
      "Wall time: 5.48 µs\n",
      "1 5\n",
      "5 5\n",
      "10 5\n",
      "50 5\n",
      "100 5\n",
      "500 5\n",
      "100 5\n",
      "1 10\n",
      "5 10\n",
      "10 10\n",
      "50 10\n",
      "100 10\n",
      "500 10\n",
      "100 10\n",
      "1 100\n",
      "5 100\n",
      "10 100\n",
      "50 100\n",
      "100 100\n",
      "500 100\n",
      "100 100\n",
      "1 500\n",
      "5 500\n",
      "10 500\n",
      "50 500\n",
      "100 500\n",
      "500 500\n",
      "100 500\n"
     ]
    }
   ],
   "source": [
    "%time\n",
    "BoW_instance = decisiontree(xtr, ytr, xcv, ycv)\n",
    "\n",
    "dictionary_train, dictionary_cv = BoW_instance.classfier()"
   ]
  },
  {
   "cell_type": "code",
   "execution_count": 22,
   "metadata": {},
   "outputs": [],
   "source": [
    "train_list = [(list(x), np.round(y,3)) for x, y in dictionary_train.items()]\n",
    "cv_list = [(list(x), np.round(y,3)) for x, y in dictionary_cv.items()]"
   ]
  },
  {
   "cell_type": "code",
   "execution_count": 23,
   "metadata": {},
   "outputs": [
    {
     "name": "stdout",
     "output_type": "stream",
     "text": [
      "([(500, 10)], 0.816)\n",
      "\n",
      "([(5, 5)], 0.757)\n"
     ]
    }
   ],
   "source": [
    "print(train_list[0])\n",
    "\n",
    "print()\n",
    "print(cv_list[0])"
   ]
  },
  {
   "cell_type": "markdown",
   "metadata": {},
   "source": [
    "**sorting the list based off AUC score**"
   ]
  },
  {
   "cell_type": "code",
   "execution_count": 24,
   "metadata": {},
   "outputs": [
    {
     "name": "stdout",
     "output_type": "stream",
     "text": [
      "sorted train list score based off AUC score is:\n",
      " [([(5, 500)], 1.0), ([(10, 500)], 0.998), ([(5, 100)], 0.99)]\n",
      "****************************************\n",
      "sorted train list score based off AUC score is:\n",
      " [([(500, 50)], 0.855), ([(500, 100)], 0.845), ([(500, 100)], 0.843)]\n"
     ]
    }
   ],
   "source": [
    "tr_list = sorted(train_list, key=lambda x: x[1], reverse=True)\n",
    "cv_list = sorted(cv_list, key=lambda x: x[1], reverse=True)\n",
    "print('sorted train list score based off AUC score is:\\n', tr_list[0:3])\n",
    "print('****************************************')\n",
    "print('sorted train list score based off AUC score is:\\n', cv_list[0:3])\n"
   ]
  },
  {
   "cell_type": "markdown",
   "metadata": {},
   "source": [
    "***Plotting AUC Curve on training and cv data based off depth***"
   ]
  },
  {
   "cell_type": "code",
   "execution_count": 25,
   "metadata": {},
   "outputs": [
    {
     "data": {
      "text/plain": [
       "<matplotlib.legend.Legend at 0x7f0e3bbdc668>"
      ]
     },
     "execution_count": 25,
     "metadata": {},
     "output_type": "execute_result"
    },
    {
     "data": {
      "image/png": "[encoded data removed]",
      "text/plain": [
       "<Figure size 432x288 with 1 Axes>"
      ]
     },
     "metadata": {
      "needs_background": "light"
     },
     "output_type": "display_data"
    }
   ],
   "source": [
    "plt.plot([x[0][0][1] for x in tr_list], [x[1] for x in tr_list], linestyle='-', color='m', marker='o',label='AUC on CV data')\n",
    "plt.plot([x[0][0][1] for x in cv_list], [x[1] for x in cv_list], linestyle='-', color='g', marker='o', label='AUC on TR data')\n",
    "#plt.plot([0, 1], [0, 1], linestyle='--')\n",
    "plt.xlabel(\"C value\")\n",
    "plt.ylabel('AUC value')\n",
    "plt.title('auc of Training and cross validation data points')\n",
    "plt.legend()"
   ]
  },
  {
   "cell_type": "markdown",
   "metadata": {},
   "source": [
    "# OptimalBoW - DecesionTree[depth = 50 and splits = 500]"
   ]
  },
  {
   "cell_type": "code",
   "execution_count": 26,
   "metadata": {},
   "outputs": [
    {
     "name": "stdout",
     "output_type": "stream",
     "text": [
      "0.8465095382508484\n"
     ]
    }
   ],
   "source": [
    "dt = DecisionTreeClassifier(max_depth=50, min_samples_split=500, class_weight='balanced')\n",
    "dt.fit(xtr, ytr)\n",
    "\n",
    "ypred = dt.predict_proba(xtest)\n",
    "y_pred_tr = dt.predict_proba(xtr)\n",
    "\n",
    "fpr_test, tpr_test, thresholds_test= roc_curve(ytest, ypred[:,1])\n",
    "auc_test = auc(fpr_test, tpr_test)\n",
    "\n",
    "print(auc_test)"
   ]
  },
  {
   "cell_type": "markdown",
   "metadata": {},
   "source": [
    "***plotting confusion matrix on test data***"
   ]
  },
  {
   "cell_type": "code",
   "execution_count": 27,
   "metadata": {},
   "outputs": [
    {
     "name": "stdout",
     "output_type": "stream",
     "text": [
      "CPU times: user 0 ns, sys: 0 ns, total: 0 ns\n",
      "Wall time: 5.72 µs\n"
     ]
    },
    {
     "data": {
      "image/png": "[encoded data removed]",
      "text/plain": [
       "<Figure size 432x288 with 2 Axes>"
      ]
     },
     "metadata": {
      "needs_background": "light"
     },
     "output_type": "display_data"
    }
   ],
   "source": [
    "%time\n",
    "ypred = np.where(ypred[:,1] < 0.5, 0, 1)\n",
    "#creating confusion matrix:\n",
    "\n",
    "cf = confusion_matrix(ytest, ypred)\n",
    "labels = ['True negative', 'True positive']\n",
    "\n",
    "df_cf = pd.DataFrame(cf, index=labels, columns=['Predicted negative', 'Predicted positive'])\n",
    "sns.heatmap(df_cf, annot=True,fmt='3d', cmap='magma_r')\n",
    "\n",
    "plt.title(\"confusion Matrix BoW - DT-L1 on Test data\", size=20)\n",
    "plt.xlabel(\"classifier prediction values\")\n",
    "plt.ylabel(\"actual value\")\n",
    "plt.show()"
   ]
  },
  {
   "cell_type": "markdown",
   "metadata": {},
   "source": [
    "***plotting confusion matrix on training data***"
   ]
  },
  {
   "cell_type": "code",
   "execution_count": 28,
   "metadata": {},
   "outputs": [
    {
     "name": "stdout",
     "output_type": "stream",
     "text": [
      "CPU times: user 0 ns, sys: 0 ns, total: 0 ns\n",
      "Wall time: 5.72 µs\n"
     ]
    },
    {
     "data": {
      "image/png": "[encoded data removed]",
      "text/plain": [
       "<Figure size 432x288 with 2 Axes>"
      ]
     },
     "metadata": {
      "needs_background": "light"
     },
     "output_type": "display_data"
    }
   ],
   "source": [
    "%time\n",
    "y_pred_tr = np.where(y_pred_tr[:,1] < 0.5, 0, 1)\n",
    "#creating confusion matrix:\n",
    "\n",
    "cf = confusion_matrix(ytr, y_pred_tr)\n",
    "labels = ['True negative', 'True positive']\n",
    "\n",
    "df_cf = pd.DataFrame(cf, index=labels, columns=['Predicted negative', 'Predicted positive'])\n",
    "sns.heatmap(df_cf, annot=True,fmt='3d', cmap='magma_r')\n",
    "\n",
    "plt.title(\"confusion Matrix DT - BoW on Training data\", size=20)\n",
    "plt.xlabel(\"classifier prediction values\")\n",
    "plt.ylabel(\"actual value\")\n",
    "plt.show()"
   ]
  },
  {
   "cell_type": "markdown",
   "metadata": {},
   "source": [
    "***plotting ROC curve on test data***"
   ]
  },
  {
   "cell_type": "code",
   "execution_count": 29,
   "metadata": {},
   "outputs": [
    {
     "data": {
      "text/plain": [
       "<matplotlib.legend.Legend at 0x7f0e3cab8dd8>"
      ]
     },
     "execution_count": 29,
     "metadata": {},
     "output_type": "execute_result"
    },
    {
     "data": {
      "image/png": "[encoded data removed]",
      "text/plain": [
       "<Figure size 432x288 with 1 Axes>"
      ]
     },
     "metadata": {
      "needs_background": "light"
     },
     "output_type": "display_data"
    }
   ],
   "source": [
    "plt.plot(fpr_test, tpr_test, color='m', marker='o',label='ROC -testdata')\n",
    "plt.plot([0, 1], [0, 1], linestyle='--')\n",
    "#plt.plot(fpr_tr, tpr_tr, linestyle='-', color='g', marker='o', label='ROC - training data')\n",
    "plt.xlabel('False Positive Rate')\n",
    "plt.ylabel('True Positive Rate')\n",
    "plt.title('ROC of Test vs Training Data')\n",
    "plt.legend()"
   ]
  },
  {
   "cell_type": "markdown",
   "metadata": {},
   "source": [
    "**printing top 25 features of both positive and negative class**"
   ]
  },
  {
   "cell_type": "code",
   "execution_count": 30,
   "metadata": {},
   "outputs": [
    {
     "name": "stdout",
     "output_type": "stream",
     "text": [
      "\t\t\t\tNegative\t\t\t\t\t\t\tPositive\n",
      "------------------------------------------------------------------------------------------------------------------------\n",
      "                 0.0                  aaa                                 0.13948093745846474                great\n",
      "                 0.0        aaaaaaaaagghh                                 0.13001810316688217                  not\n",
      "                 0.0             aaaaaagh                                  0.0808721205363789                 best\n",
      "                 0.0               aaaaah                                0.051088218985481874               delici\n",
      "                 0.0 aaaaahhhhhhhhhhhhhhhh                                0.046033767601198164                 love\n",
      "                 0.0                aaaah                                 0.03838207466207587           disappoint\n",
      "                 0.0                 aaah                                 0.03257144975521582                 good\n",
      "                 0.0               aaamaz                                0.029471152783491987                excel\n",
      "                 0.0               aachen                                0.022677666208702856                  bad\n",
      "                 0.0                  aad                                 0.02224952848379748              perfect\n",
      "                 0.0                 aadp                                 0.01593856559068014              favorit\n",
      "                 0.0                aafco                                0.010943421002860288                tasti\n",
      "                 0.0                 aagh                                  0.0106602130864715                 nice\n",
      "                 0.0                  aah                                0.010034615926634318                yummi\n",
      "                 0.0                 aahh                                0.009726157264430612              horribl\n",
      "                 0.0                 aand                                0.009420355588665231                   aw\n",
      "                 0.0             aardvark                                0.007923216646274354               wonder\n",
      "                 0.0                   ab                                0.0076688564431999316             unfortun\n",
      "                 0.0                aback                                0.007432651745134353              thought\n",
      "                 0.0               abacor                                0.006830754608818924              terribl\n",
      "                 0.0               abaloo                                0.006119704429711919                money\n",
      "                 0.0              abandon                                0.0060393132437182966                 tast\n",
      "                 0.0              abaolut                                0.005586288520877951                howev\n",
      "                 0.0             abattoir                                0.005417981818808328                 amaz\n",
      "                 0.0                 abba                                 0.00424205980939696               addict\n"
     ]
    }
   ],
   "source": [
    "features = bow_object.get_feature_names()\n",
    "featuresAndcoeff = sorted(zip(dt.feature_importances_, features))\n",
    "top_features = zip(featuresAndcoeff[:25],featuresAndcoeff[:-(25+1): -1] )\n",
    "print('\\t\\t\\t\\tNegative\\t\\t\\t\\t\\t\\t\\tPositive')\n",
    "print('-' * 120)\n",
    "\n",
    "for (wn1, fn1), (wp1, fp1) in top_features:\n",
    "    print('{:>20} {:>20}                                {:>20} {:>20}'.format(wn1, fn1, wp1, fp1))"
   ]
  },
  {
   "cell_type": "markdown",
   "metadata": {},
   "source": [
    "**since for negative class we are observing many features having feature importance values coming as 0,I m discarding all the features having 0 feature importance values and then printing the output of yop 25 features below:**"
   ]
  },
  {
   "cell_type": "code",
   "execution_count": 37,
   "metadata": {},
   "outputs": [
    {
     "data": {
      "text/html": [
       "<div>\n",
       "<style scoped>\n",
       "    .dataframe tbody tr th:only-of-type {\n",
       "        vertical-align: middle;\n",
       "    }\n",
       "\n",
       "    .dataframe tbody tr th {\n",
       "        vertical-align: top;\n",
       "    }\n",
       "\n",
       "    .dataframe thead th {\n",
       "        text-align: right;\n",
       "    }\n",
       "</style>\n",
       "<table border=\"1\" class=\"dataframe\">\n",
       "  <thead>\n",
       "    <tr style=\"text-align: right;\">\n",
       "      <th></th>\n",
       "      <th>top25_neg</th>\n",
       "      <th>top25_pos</th>\n",
       "    </tr>\n",
       "  </thead>\n",
       "  <tbody>\n",
       "    <tr>\n",
       "      <th>0</th>\n",
       "      <td>[0.00021228424577740033, sparkl]</td>\n",
       "      <td>[0.13948093745846474, great]</td>\n",
       "    </tr>\n",
       "    <tr>\n",
       "      <th>1</th>\n",
       "      <td>[0.00021210079852126024, elder]</td>\n",
       "      <td>[0.13001810316688217, not]</td>\n",
       "    </tr>\n",
       "    <tr>\n",
       "      <th>2</th>\n",
       "      <td>[0.00021191758895342224, tax]</td>\n",
       "      <td>[0.0808721205363789, best]</td>\n",
       "    </tr>\n",
       "    <tr>\n",
       "      <th>3</th>\n",
       "      <td>[0.0002117346166637638, proven]</td>\n",
       "      <td>[0.051088218985481874, delici]</td>\n",
       "    </tr>\n",
       "    <tr>\n",
       "      <th>4</th>\n",
       "      <td>[0.00021155188124377322, stabl]</td>\n",
       "      <td>[0.046033767601198164, love]</td>\n",
       "    </tr>\n",
       "    <tr>\n",
       "      <th>5</th>\n",
       "      <td>[0.00021145872075646526, grill]</td>\n",
       "      <td>[0.03838207466207587, disappoint]</td>\n",
       "    </tr>\n",
       "    <tr>\n",
       "      <th>6</th>\n",
       "      <td>[0.00021125268806688243, son]</td>\n",
       "      <td>[0.03257144975521582, good]</td>\n",
       "    </tr>\n",
       "    <tr>\n",
       "      <th>7</th>\n",
       "      <td>[0.00021104695634792175, decent]</td>\n",
       "      <td>[0.029471152783491987, excel]</td>\n",
       "    </tr>\n",
       "    <tr>\n",
       "      <th>8</th>\n",
       "      <td>[0.00021084152501623084, wheat]</td>\n",
       "      <td>[0.022677666208702856, bad]</td>\n",
       "    </tr>\n",
       "    <tr>\n",
       "      <th>9</th>\n",
       "      <td>[0.0002106363934864601, constip]</td>\n",
       "      <td>[0.02224952848379748, perfect]</td>\n",
       "    </tr>\n",
       "    <tr>\n",
       "      <th>10</th>\n",
       "      <td>[0.00021043156117435584, sens]</td>\n",
       "      <td>[0.01593856559068014, favorit]</td>\n",
       "    </tr>\n",
       "    <tr>\n",
       "      <th>11</th>\n",
       "      <td>[0.00021022702750007175, spicey]</td>\n",
       "      <td>[0.010943421002860288, tasti]</td>\n",
       "    </tr>\n",
       "    <tr>\n",
       "      <th>12</th>\n",
       "      <td>[0.0002100227918827855, opportun]</td>\n",
       "      <td>[0.0106602130864715, nice]</td>\n",
       "    </tr>\n",
       "    <tr>\n",
       "      <th>13</th>\n",
       "      <td>[0.00020981885374352522, depend]</td>\n",
       "      <td>[0.010034615926634318, yummi]</td>\n",
       "    </tr>\n",
       "    <tr>\n",
       "      <th>14</th>\n",
       "      <td>[0.000209411867589231, guilt]</td>\n",
       "      <td>[0.009726157264430612, horribl]</td>\n",
       "    </tr>\n",
       "    <tr>\n",
       "      <th>15</th>\n",
       "      <td>[0.00020920881842388246, cure]</td>\n",
       "      <td>[0.009420355588665231, aw]</td>\n",
       "    </tr>\n",
       "    <tr>\n",
       "      <th>16</th>\n",
       "      <td>[0.00020542688790375736, grate]</td>\n",
       "      <td>[0.007923216646274354, wonder]</td>\n",
       "    </tr>\n",
       "    <tr>\n",
       "      <th>17</th>\n",
       "      <td>[0.00019758220787443478, terrif]</td>\n",
       "      <td>[0.0076688564431999316, unfortun]</td>\n",
       "    </tr>\n",
       "    <tr>\n",
       "      <th>18</th>\n",
       "      <td>[0.00019701638881093868, prepar]</td>\n",
       "      <td>[0.007432651745134353, thought]</td>\n",
       "    </tr>\n",
       "    <tr>\n",
       "      <th>19</th>\n",
       "      <td>[0.00019623328302354663, friend]</td>\n",
       "      <td>[0.006830754608818924, terribl]</td>\n",
       "    </tr>\n",
       "    <tr>\n",
       "      <th>20</th>\n",
       "      <td>[0.00019500042850709542, area]</td>\n",
       "      <td>[0.006119704429711919, money]</td>\n",
       "    </tr>\n",
       "    <tr>\n",
       "      <th>21</th>\n",
       "      <td>[0.00017714320052933188, avail]</td>\n",
       "      <td>[0.0060393132437182966, tast]</td>\n",
       "    </tr>\n",
       "    <tr>\n",
       "      <th>22</th>\n",
       "      <td>[0.0001613512245253714, mild]</td>\n",
       "      <td>[0.005586288520877951, howev]</td>\n",
       "    </tr>\n",
       "    <tr>\n",
       "      <th>23</th>\n",
       "      <td>[0.0001612459332059049, tendenc]</td>\n",
       "      <td>[0.005417981818808328, amaz]</td>\n",
       "    </tr>\n",
       "    <tr>\n",
       "      <th>24</th>\n",
       "      <td>[0.00016114074491472156, high]</td>\n",
       "      <td>[0.00424205980939696, addict]</td>\n",
       "    </tr>\n",
       "  </tbody>\n",
       "</table>\n",
       "</div>"
      ],
      "text/plain": [
       "                            top25_neg                          top25_pos\n",
       "0    [0.00021228424577740033, sparkl]       [0.13948093745846474, great]\n",
       "1     [0.00021210079852126024, elder]         [0.13001810316688217, not]\n",
       "2       [0.00021191758895342224, tax]         [0.0808721205363789, best]\n",
       "3     [0.0002117346166637638, proven]     [0.051088218985481874, delici]\n",
       "4     [0.00021155188124377322, stabl]       [0.046033767601198164, love]\n",
       "5     [0.00021145872075646526, grill]  [0.03838207466207587, disappoint]\n",
       "6       [0.00021125268806688243, son]        [0.03257144975521582, good]\n",
       "7    [0.00021104695634792175, decent]      [0.029471152783491987, excel]\n",
       "8     [0.00021084152501623084, wheat]        [0.022677666208702856, bad]\n",
       "9    [0.0002106363934864601, constip]     [0.02224952848379748, perfect]\n",
       "10     [0.00021043156117435584, sens]     [0.01593856559068014, favorit]\n",
       "11   [0.00021022702750007175, spicey]      [0.010943421002860288, tasti]\n",
       "12  [0.0002100227918827855, opportun]         [0.0106602130864715, nice]\n",
       "13   [0.00020981885374352522, depend]      [0.010034615926634318, yummi]\n",
       "14      [0.000209411867589231, guilt]    [0.009726157264430612, horribl]\n",
       "15     [0.00020920881842388246, cure]         [0.009420355588665231, aw]\n",
       "16    [0.00020542688790375736, grate]     [0.007923216646274354, wonder]\n",
       "17   [0.00019758220787443478, terrif]  [0.0076688564431999316, unfortun]\n",
       "18   [0.00019701638881093868, prepar]    [0.007432651745134353, thought]\n",
       "19   [0.00019623328302354663, friend]    [0.006830754608818924, terribl]\n",
       "20     [0.00019500042850709542, area]      [0.006119704429711919, money]\n",
       "21    [0.00017714320052933188, avail]      [0.0060393132437182966, tast]\n",
       "22      [0.0001613512245253714, mild]      [0.005586288520877951, howev]\n",
       "23   [0.0001612459332059049, tendenc]       [0.005417981818808328, amaz]\n",
       "24     [0.00016114074491472156, high]      [0.00424205980939696, addict]"
      ]
     },
     "execution_count": 37,
     "metadata": {},
     "output_type": "execute_result"
    }
   ],
   "source": [
    "features = bow_object.get_feature_names()\n",
    "featuresAndcoeff = sorted(zip(dt.feature_importances_, features))\n",
    "l = []\n",
    "for a, b in featuresAndcoeff:\n",
    "    if a == 0:\n",
    "        continue\n",
    "    else:\n",
    "        l.append([a,b])\n",
    "\n",
    "l = sorted(l, key=lambda x: x[0], reverse=True)\n",
    "positive = l[:25]\n",
    "negative = l[-(25 + 1): -1]\n",
    "a = dict(top25_pos=positive,top25_neg=negative) \n",
    "dataframe = pd.DataFrame(a)\n",
    "dataframe"
   ]
  },
  {
   "cell_type": "markdown",
   "metadata": {},
   "source": [
    "**using graphviz, calculating the conditions**"
   ]
  },
  {
   "cell_type": "code",
   "execution_count": 38,
   "metadata": {},
   "outputs": [],
   "source": [
    "from sklearn import tree"
   ]
  },
  {
   "cell_type": "code",
   "execution_count": 39,
   "metadata": {},
   "outputs": [
    {
     "data": {
      "text/plain": [
       "'BoW_DecisionTree.png.pdf'"
      ]
     },
     "execution_count": 39,
     "metadata": {},
     "output_type": "execute_result"
    }
   ],
   "source": [
    "clf = tree.DecisionTreeClassifier(max_depth=2, min_samples_split=50)\n",
    "clf = clf.fit(xtr, ytr)\n",
    "dot_data = tree.export_graphviz(clf, out_file=None)\n",
    "graph = graphviz.Source(dot_data)\n",
    "graph.render(\"BoW_DecisionTree.png\") "
   ]
  },
  {
   "cell_type": "markdown",
   "metadata": {},
   "source": [
    "# TF-IDF"
   ]
  },
  {
   "cell_type": "code",
   "execution_count": 40,
   "metadata": {},
   "outputs": [
    {
     "data": {
      "text/plain": [
       "Index(['index', 'Id', 'ProductId', 'UserId', 'ProfileName',\n",
       "       'HelpfulnessNumerator', 'HelpfulnessDenominator', 'Score', 'Time',\n",
       "       'Summary', 'Text', 'CleanedText_Bow', 'ClenedText_W2Vtfdf', 'Bow_feat',\n",
       "       'Bow_new_feat', 'w2v_feat', 'w2v_new_feat'],\n",
       "      dtype='object')"
      ]
     },
     "execution_count": 40,
     "metadata": {},
     "output_type": "execute_result"
    }
   ],
   "source": [
    "df.columns"
   ]
  },
  {
   "cell_type": "code",
   "execution_count": 41,
   "metadata": {},
   "outputs": [],
   "source": [
    "#train test split:\n",
    "\n",
    "xt, xtest, yt, ytest = train_test_split(df.ClenedText_W2Vtfdf, df.Score, test_size=0.2, shuffle=False)\n",
    "xtr, xcv, ytr, ycv = train_test_split(xt, yt, test_size=0.2, shuffle=False)"
   ]
  },
  {
   "cell_type": "markdown",
   "metadata": {},
   "source": [
    "***tf-Idf featurizer***"
   ]
  },
  {
   "cell_type": "code",
   "execution_count": 42,
   "metadata": {},
   "outputs": [],
   "source": [
    "from sklearn.feature_extraction.text import TfidfVectorizer\n",
    "\n",
    "tfidf_object = TfidfVectorizer(ngram_range=(1,1))\n",
    "xtr = tfidf_object.fit_transform(xtr)\n",
    "xcv = tfidf_object.transform(xcv)\n",
    "xtest = tfidf_object.transform(xtest)"
   ]
  },
  {
   "cell_type": "code",
   "execution_count": 50,
   "metadata": {},
   "outputs": [
    {
     "data": {
      "text/plain": [
       "((64000, 43852), (16000, 43852), (20000, 43852))"
      ]
     },
     "execution_count": 50,
     "metadata": {},
     "output_type": "execute_result"
    }
   ],
   "source": [
    "xtr.shape, xcv.shape, xtest.shape"
   ]
  },
  {
   "cell_type": "markdown",
   "metadata": {},
   "source": [
    "**since I HAVE MADE A COMMON CLASS FOR ALL THE VECTORIZERS, USING THAT CLASS in here for instantiating tfidf object**"
   ]
  },
  {
   "cell_type": "code",
   "execution_count": 53,
   "metadata": {},
   "outputs": [],
   "source": [
    "class decisiontree:\n",
    "\n",
    "    '''building the decision tree classifier based off various parameters'''\n",
    "    \n",
    "    #instantiating the instance attributes:\n",
    "    def __init__(self, xtr, ytr, xcv, ycv, minimum_splits=[5,10,100,500], maximum_depth=[1, 5, 10, 50, 100, 500, 1000]):\n",
    "        self.xtr = xtr\n",
    "        self.ytr = ytr\n",
    "        self.xcv = xcv\n",
    "        self.ycv = ycv\n",
    "        self.minimum_splits = minimum_splits\n",
    "        self.maximum_depth = maximum_depth\n",
    "    \n",
    "    #creating a method of calling DT classifier:\n",
    "    def classfier(self, auc_dict_cv={}, auc_dict_tr={}):\n",
    "        for splits in self.minimum_splits:\n",
    "            for depths in self.maximum_depth: \n",
    "                clf = DecisionTreeClassifier(max_depth=depths, min_samples_split=splits)\n",
    "                print(depths, splits)\n",
    "                clf.fit(self.xtr, self.ytr)\n",
    "                y_pred_cv = clf.predict_proba(self.xcv)\n",
    "                \n",
    "                #performance metric on CV data:                \n",
    "                fpr_cv, tpr_cv, thresholds_cv = roc_curve(ycv, y_pred_cv[:,1])\n",
    "                auc_val = auc(fpr_cv, tpr_cv)\n",
    "                auc_dict_cv[zip([splits], [depths])] = auc_val\n",
    "                \n",
    "                #performance metrics for training data:\n",
    "                y_pred_tr = clf.predict_proba(self.xtr)\n",
    "                fpr_tr, tpr_tr, thresholds_tr = roc_curve(ytr, y_pred_tr[:,1])\n",
    "                auc_val = auc(fpr_tr, tpr_tr)\n",
    "                auc_dict_tr[zip([splits], [depths])] = auc_val\n",
    "                \n",
    "        return auc_dict_tr, auc_dict_cv"
   ]
  },
  {
   "cell_type": "markdown",
   "metadata": {},
   "source": [
    "# TFidf decision tree instance creation on training and CV data"
   ]
  },
  {
   "cell_type": "code",
   "execution_count": 54,
   "metadata": {},
   "outputs": [
    {
     "name": "stdout",
     "output_type": "stream",
     "text": [
      "1 5\n",
      "5 5\n",
      "10 5\n",
      "50 5\n",
      "100 5\n",
      "500 5\n",
      "100 5\n",
      "1 10\n",
      "5 10\n",
      "10 10\n",
      "50 10\n",
      "100 10\n",
      "500 10\n",
      "100 10\n",
      "1 100\n",
      "5 100\n",
      "10 100\n",
      "50 100\n",
      "100 100\n",
      "500 100\n",
      "100 100\n",
      "1 500\n",
      "5 500\n",
      "10 500\n",
      "50 500\n",
      "100 500\n",
      "500 500\n",
      "100 500\n",
      "time is(in seconds):  644.251556634903\n"
     ]
    }
   ],
   "source": [
    "import time\n",
    "start = time.time()\n",
    "Tfidf_instance = decisiontree(xtr, ytr, xcv, ycv)\n",
    "\n",
    "dictionary_train, dictionary_cv = Tfidf_instance.classfier()\n",
    "end = time.time()\n",
    "\n",
    "print('time is(in seconds): ', end - start)"
   ]
  },
  {
   "cell_type": "code",
   "execution_count": 55,
   "metadata": {},
   "outputs": [
    {
     "name": "stdout",
     "output_type": "stream",
     "text": [
      "([(5, 1)], 0.617)\n",
      "\n",
      "([(10, 500)], 0.686)\n"
     ]
    }
   ],
   "source": [
    "#creating dictionary :\n",
    "train_list = [(list(x), np.round(y,3)) for x, y in dictionary_train.items()]\n",
    "cv_list = [(list(x), np.round(y,3)) for x, y in dictionary_cv.items()]\n",
    "\n",
    "\n",
    "print(train_list[0])\n",
    "print()\n",
    "print(cv_list[0])"
   ]
  },
  {
   "cell_type": "markdown",
   "metadata": {},
   "source": [
    "**sorting the list based off AUC score**"
   ]
  },
  {
   "cell_type": "code",
   "execution_count": 56,
   "metadata": {},
   "outputs": [
    {
     "name": "stdout",
     "output_type": "stream",
     "text": [
      "sorted train list score based off AUC score is:\n",
      " [([(5, 500)], 1.0), ([(10, 500)], 0.999), ([(100, 500)], 0.989)]\n",
      "****************************************\n",
      "\n",
      "sorted train list score based off AUC score is:\n",
      " [([(500, 50)], 0.811), ([(500, 100)], 0.794), ([(500, 100)], 0.79)]\n"
     ]
    }
   ],
   "source": [
    "tr_list = sorted(train_list, key=lambda x: x[1], reverse=True)\n",
    "cv_list = sorted(cv_list, key=lambda x: x[1], reverse=True)\n",
    "print('sorted train list score based off AUC score is:\\n', tr_list[0:3])\n",
    "print('****************************************')\n",
    "print()\n",
    "print('sorted train list score based off AUC score is:\\n', cv_list[0:3])\n"
   ]
  },
  {
   "cell_type": "markdown",
   "metadata": {},
   "source": [
    "***Plotting AUC Curve on training and cv data based off depth***"
   ]
  },
  {
   "cell_type": "code",
   "execution_count": 57,
   "metadata": {},
   "outputs": [
    {
     "data": {
      "text/plain": [
       "<matplotlib.legend.Legend at 0x7f0e366ffda0>"
      ]
     },
     "execution_count": 57,
     "metadata": {},
     "output_type": "execute_result"
    },
    {
     "data": {
      "image/png": "[encoded data removed]",
      "text/plain": [
       "<Figure size 432x288 with 1 Axes>"
      ]
     },
     "metadata": {
      "needs_background": "light"
     },
     "output_type": "display_data"
    }
   ],
   "source": [
    "plt.plot([x[0][0][1] for x in tr_list], [x[1] for x in tr_list], linestyle='-', color='m', marker='o',label='AUC on CV data')\n",
    "plt.plot([x[0][0][1] for x in cv_list], [x[1] for x in cv_list], linestyle='-', color='g', marker='o', label='AUC on TR data')\n",
    "#plt.plot([0, 1], [0, 1], linestyle='--')\n",
    "plt.xlabel(\"C value\")\n",
    "plt.ylabel('AUC value')\n",
    "plt.title('auc of Training and cross validation data points')\n",
    "plt.legend()"
   ]
  },
  {
   "cell_type": "markdown",
   "metadata": {},
   "source": [
    "# OptimalTFidf- DecesionTree[depth =50  and splits =500 ]"
   ]
  },
  {
   "cell_type": "code",
   "execution_count": 60,
   "metadata": {},
   "outputs": [
    {
     "name": "stdout",
     "output_type": "stream",
     "text": [
      "0.795184547025839\n"
     ]
    }
   ],
   "source": [
    "dt = DecisionTreeClassifier(max_depth=50, min_samples_split=500, class_weight='balanced')\n",
    "dt.fit(xtr, ytr)\n",
    "\n",
    "ypred = dt.predict_proba(xtest)\n",
    "ypred_tr = dt.predict_proba(xtr)\n",
    "\n",
    "\n",
    "fpr_tr, tpr_tr, thresholds_tr= roc_curve(ytr, ypred_tr[:,1])\n",
    "auc_tr = auc(fpr_tr, tpr_tr)\n",
    "\n",
    "\n",
    "fpr_test, tpr_test, thresholds_test= roc_curve(ytest, ypred[:,1])\n",
    "auc_test = auc(fpr_test, tpr_test)\n",
    "\n",
    "print(auc_test)"
   ]
  },
  {
   "cell_type": "markdown",
   "metadata": {},
   "source": [
    "***plotting confusion matrix on test data***"
   ]
  },
  {
   "cell_type": "code",
   "execution_count": 61,
   "metadata": {},
   "outputs": [
    {
     "name": "stdout",
     "output_type": "stream",
     "text": [
      "CPU times: user 0 ns, sys: 0 ns, total: 0 ns\n",
      "Wall time: 6.44 µs\n"
     ]
    },
    {
     "data": {
      "image/png": "[encoded data removed]",
      "text/plain": [
       "<Figure size 432x288 with 2 Axes>"
      ]
     },
     "metadata": {
      "needs_background": "light"
     },
     "output_type": "display_data"
    }
   ],
   "source": [
    "%time\n",
    "ypred = np.where(ypred[:,1] < 0.5, 0, 1)\n",
    "#creating confusion matrix:\n",
    "\n",
    "cf = confusion_matrix(ytest, ypred)\n",
    "labels = ['True negative', 'True positive']\n",
    "\n",
    "df_cf = pd.DataFrame(cf, index=labels, columns=['Predicted negative', 'Predicted positive'])\n",
    "sns.heatmap(df_cf, annot=True,fmt='3d', cmap='magma_r')\n",
    "\n",
    "plt.title(\"confusion Matrix TF-IDF- DT on Test data\\n\", size=20)\n",
    "plt.xlabel(\"classifier prediction values\")\n",
    "plt.ylabel(\"actual value\")\n",
    "plt.show()"
   ]
  },
  {
   "cell_type": "markdown",
   "metadata": {},
   "source": [
    "***plotting confusion matrix on training data***"
   ]
  },
  {
   "cell_type": "code",
   "execution_count": 63,
   "metadata": {},
   "outputs": [
    {
     "name": "stdout",
     "output_type": "stream",
     "text": [
      "CPU times: user 0 ns, sys: 0 ns, total: 0 ns\n",
      "Wall time: 6.44 µs\n"
     ]
    },
    {
     "data": {
      "image/png": "[encoded data removed]",
      "text/plain": [
       "<Figure size 432x288 with 2 Axes>"
      ]
     },
     "metadata": {
      "needs_background": "light"
     },
     "output_type": "display_data"
    }
   ],
   "source": [
    "%time\n",
    "y_pred_tr = np.where(ypred_tr[:,1] < 0.5, 0, 1)\n",
    "#creating confusion matrix:\n",
    "\n",
    "cf = confusion_matrix(ytr, y_pred_tr)\n",
    "labels = ['True negative', 'True positive']\n",
    "\n",
    "df_cf = pd.DataFrame(cf, index=labels, columns=['Predicted negative', 'Predicted positive'])\n",
    "sns.heatmap(df_cf, annot=True,fmt='3d', cmap='magma_r')\n",
    "\n",
    "plt.title(\"confusion Matrix DT - TFidf on Training data\\n\", size=20)\n",
    "plt.xlabel(\"classifier prediction values\")\n",
    "plt.ylabel(\"actual value\")\n",
    "plt.show()"
   ]
  },
  {
   "cell_type": "markdown",
   "metadata": {},
   "source": [
    "***plotting ROC curve on test data and training data***"
   ]
  },
  {
   "cell_type": "code",
   "execution_count": 65,
   "metadata": {},
   "outputs": [
    {
     "data": {
      "text/plain": [
       "<matplotlib.legend.Legend at 0x7f0e35ce2748>"
      ]
     },
     "execution_count": 65,
     "metadata": {},
     "output_type": "execute_result"
    },
    {
     "data": {
      "image/png": "[encoded data removed]",
      "text/plain": [
       "<Figure size 432x288 with 1 Axes>"
      ]
     },
     "metadata": {
      "needs_background": "light"
     },
     "output_type": "display_data"
    }
   ],
   "source": [
    "plt.plot(fpr_test, tpr_test, color='m', marker='o',label='ROC -testdata')\n",
    "plt.plot([0, 1], [0, 1], linestyle='--')\n",
    "plt.plot(fpr_tr, tpr_tr, linestyle='-', color='g', marker='o', label='ROC - training data')\n",
    "plt.xlabel('False Positive Rate')\n",
    "plt.ylabel('True Positive Rate')\n",
    "plt.title('ROC of Test vs Training Data\\n', size=20)\n",
    "plt.legend()"
   ]
  },
  {
   "cell_type": "markdown",
   "metadata": {},
   "source": [
    "**printing top 25 features of both positive and negative class**"
   ]
  },
  {
   "cell_type": "code",
   "execution_count": 66,
   "metadata": {},
   "outputs": [
    {
     "name": "stdout",
     "output_type": "stream",
     "text": [
      "\t\t\t\tNegative\t\t\t\t\t\t\tPositive\n",
      "------------------------------------------------------------------------------------------------------------------------\n",
      "                 0.0                  aaa                                 0.10516368328831541                great\n",
      "                 0.0        aaaaaaaaagghh                                 0.08981493578011883                  not\n",
      "                 0.0               aaaaah                                 0.05636387210694428                 best\n",
      "                 0.0 aaaaahhhhhhhhhhhhhhhh                                 0.03962773559888438            delicious\n",
      "                 0.0                aaaah                                0.026029106587324068                 good\n",
      "                 0.0                 aaah                                 0.02502140986757704                 love\n",
      "                 0.0                aaahs                                 0.02222678208686428              perfect\n",
      "                 0.0               aachen                                0.018976425351451484                loves\n",
      "                 0.0                  aad                                0.018892614404691123             favorite\n",
      "                 0.0                 aadp                                0.018042452974844997            excellent\n",
      "                 0.0                aafco                                0.017859814717201716                  bad\n",
      "                 0.0                 aagh                                0.017834669709603533            wonderful\n",
      "                 0.0               aahhed                                0.016094524181307617                 nice\n",
      "                 0.0               aahing                                0.013603866625851562         disappointed\n",
      "                 0.0                 aand                                0.013554134169423238               highly\n",
      "                 0.0             aardvark                                0.011454931690362291              thought\n",
      "                 0.0                aback                                0.011186492407121829                tasty\n",
      "                 0.0              abandon                                0.010775294933957291                 find\n",
      "                 0.0            abandoned                                0.010101852442754114             terrible\n",
      "                 0.0           abandoning                                0.009272475511591933        unfortunately\n",
      "                 0.0           abaolutely                                0.009065122709265606                money\n",
      "                 0.0             abattoir                                0.007893918145189327                 easy\n",
      "                 0.0                 abba                                 0.00765073106257202                awful\n",
      "                 0.0                abbey                                0.007017365346739904              however\n",
      "                 0.0          abbreviated                                0.006380040216467915                taste\n"
     ]
    }
   ],
   "source": [
    "features = tfidf_object.get_feature_names()\n",
    "featuresAndcoeff = sorted(zip(dt.feature_importances_, features))\n",
    "top_features = zip(featuresAndcoeff[:25],featuresAndcoeff[:-(25+1): -1] )\n",
    "print('\\t\\t\\t\\tNegative\\t\\t\\t\\t\\t\\t\\tPositive')\n",
    "print('-' * 120)\n",
    "\n",
    "for (wn1, fn1), (wp1, fp1) in top_features:\n",
    "    print('{:>20} {:>20}                                {:>20} {:>20}'.format(wn1, fn1, wp1, fp1))\n"
   ]
  },
  {
   "cell_type": "markdown",
   "metadata": {},
   "source": [
    "**since for negative class we are observing many features having feature importance values coming as 0,I m discarding all the features having 0 feature importance values and then printing the output of yop 25 features below:**\n"
   ]
  },
  {
   "cell_type": "code",
   "execution_count": 67,
   "metadata": {},
   "outputs": [
    {
     "data": {
      "text/html": [
       "<div>\n",
       "<style scoped>\n",
       "    .dataframe tbody tr th:only-of-type {\n",
       "        vertical-align: middle;\n",
       "    }\n",
       "\n",
       "    .dataframe tbody tr th {\n",
       "        vertical-align: top;\n",
       "    }\n",
       "\n",
       "    .dataframe thead th {\n",
       "        text-align: right;\n",
       "    }\n",
       "</style>\n",
       "<table border=\"1\" class=\"dataframe\">\n",
       "  <thead>\n",
       "    <tr style=\"text-align: right;\">\n",
       "      <th></th>\n",
       "      <th>top25_neg</th>\n",
       "      <th>top25_pos</th>\n",
       "    </tr>\n",
       "  </thead>\n",
       "  <tbody>\n",
       "    <tr>\n",
       "      <th>0</th>\n",
       "      <td>[0.00039993950958781333, prime]</td>\n",
       "      <td>[0.10516368328831541, great]</td>\n",
       "    </tr>\n",
       "    <tr>\n",
       "      <th>1</th>\n",
       "      <td>[0.0003990766917521303, play]</td>\n",
       "      <td>[0.08981493578011883, not]</td>\n",
       "    </tr>\n",
       "    <tr>\n",
       "      <th>2</th>\n",
       "      <td>[0.0003863104824043948, buy]</td>\n",
       "      <td>[0.05636387210694428, best]</td>\n",
       "    </tr>\n",
       "    <tr>\n",
       "      <th>3</th>\n",
       "      <td>[0.000382929778353476, feel]</td>\n",
       "      <td>[0.03962773559888438, delicious]</td>\n",
       "    </tr>\n",
       "    <tr>\n",
       "      <th>4</th>\n",
       "      <td>[0.0003698709445561861, store]</td>\n",
       "      <td>[0.026029106587324068, good]</td>\n",
       "    </tr>\n",
       "    <tr>\n",
       "      <th>5</th>\n",
       "      <td>[0.00036777760344292645, trouble]</td>\n",
       "      <td>[0.02502140986757704, love]</td>\n",
       "    </tr>\n",
       "    <tr>\n",
       "      <th>6</th>\n",
       "      <td>[0.00036514173476490737, difference]</td>\n",
       "      <td>[0.02222678208686428, perfect]</td>\n",
       "    </tr>\n",
       "    <tr>\n",
       "      <th>7</th>\n",
       "      <td>[0.0003645719717059419, reasonable]</td>\n",
       "      <td>[0.018976425351451484, loves]</td>\n",
       "    </tr>\n",
       "    <tr>\n",
       "      <th>8</th>\n",
       "      <td>[0.00036400354118198606, run]</td>\n",
       "      <td>[0.018892614404691123, favorite]</td>\n",
       "    </tr>\n",
       "    <tr>\n",
       "      <th>9</th>\n",
       "      <td>[0.0003634364390462109, finding]</td>\n",
       "      <td>[0.018042452974844997, excellent]</td>\n",
       "    </tr>\n",
       "    <tr>\n",
       "      <th>10</th>\n",
       "      <td>[0.00036287066116244885, plenty]</td>\n",
       "      <td>[0.017859814717201716, bad]</td>\n",
       "    </tr>\n",
       "    <tr>\n",
       "      <th>11</th>\n",
       "      <td>[0.00035137151050768523, wheat]</td>\n",
       "      <td>[0.017834669709603533, wonderful]</td>\n",
       "    </tr>\n",
       "    <tr>\n",
       "      <th>12</th>\n",
       "      <td>[0.0003375142606820132, yeast]</td>\n",
       "      <td>[0.016094524181307617, nice]</td>\n",
       "    </tr>\n",
       "    <tr>\n",
       "      <th>13</th>\n",
       "      <td>[0.00033638280253443537, stays]</td>\n",
       "      <td>[0.013603866625851562, disappointed]</td>\n",
       "    </tr>\n",
       "    <tr>\n",
       "      <th>14</th>\n",
       "      <td>[0.0003362727238730474, website]</td>\n",
       "      <td>[0.013554134169423238, highly]</td>\n",
       "    </tr>\n",
       "    <tr>\n",
       "      <th>15</th>\n",
       "      <td>[0.00031785281661207194, similar]</td>\n",
       "      <td>[0.011454931690362291, thought]</td>\n",
       "    </tr>\n",
       "    <tr>\n",
       "      <th>16</th>\n",
       "      <td>[0.0003174207432259656, biggest]</td>\n",
       "      <td>[0.011186492407121829, tasty]</td>\n",
       "    </tr>\n",
       "    <tr>\n",
       "      <th>17</th>\n",
       "      <td>[0.00031698955025107577, live]</td>\n",
       "      <td>[0.010775294933957291, find]</td>\n",
       "    </tr>\n",
       "    <tr>\n",
       "      <th>18</th>\n",
       "      <td>[0.0003165592352955709, robust]</td>\n",
       "      <td>[0.010101852442754114, terrible]</td>\n",
       "    </tr>\n",
       "    <tr>\n",
       "      <th>19</th>\n",
       "      <td>[0.0003161297959787346, heavy]</td>\n",
       "      <td>[0.009272475511591933, unfortunately]</td>\n",
       "    </tr>\n",
       "    <tr>\n",
       "      <th>20</th>\n",
       "      <td>[0.000315701229923574, pleasantly]</td>\n",
       "      <td>[0.009065122709265606, money]</td>\n",
       "    </tr>\n",
       "    <tr>\n",
       "      <th>21</th>\n",
       "      <td>[0.00031562967235673485, everything]</td>\n",
       "      <td>[0.007893918145189327, easy]</td>\n",
       "    </tr>\n",
       "    <tr>\n",
       "      <th>22</th>\n",
       "      <td>[0.0003112235624949291, recently]</td>\n",
       "      <td>[0.00765073106257202, awful]</td>\n",
       "    </tr>\n",
       "    <tr>\n",
       "      <th>23</th>\n",
       "      <td>[0.00030905502572903655, pretty]</td>\n",
       "      <td>[0.007017365346739904, however]</td>\n",
       "    </tr>\n",
       "    <tr>\n",
       "      <th>24</th>\n",
       "      <td>[0.000273979699052875, totally]</td>\n",
       "      <td>[0.006380040216467915, taste]</td>\n",
       "    </tr>\n",
       "  </tbody>\n",
       "</table>\n",
       "</div>"
      ],
      "text/plain": [
       "                               top25_neg  \\\n",
       "0        [0.00039993950958781333, prime]   \n",
       "1          [0.0003990766917521303, play]   \n",
       "2           [0.0003863104824043948, buy]   \n",
       "3           [0.000382929778353476, feel]   \n",
       "4         [0.0003698709445561861, store]   \n",
       "5      [0.00036777760344292645, trouble]   \n",
       "6   [0.00036514173476490737, difference]   \n",
       "7    [0.0003645719717059419, reasonable]   \n",
       "8          [0.00036400354118198606, run]   \n",
       "9       [0.0003634364390462109, finding]   \n",
       "10      [0.00036287066116244885, plenty]   \n",
       "11       [0.00035137151050768523, wheat]   \n",
       "12        [0.0003375142606820132, yeast]   \n",
       "13       [0.00033638280253443537, stays]   \n",
       "14      [0.0003362727238730474, website]   \n",
       "15     [0.00031785281661207194, similar]   \n",
       "16      [0.0003174207432259656, biggest]   \n",
       "17        [0.00031698955025107577, live]   \n",
       "18       [0.0003165592352955709, robust]   \n",
       "19        [0.0003161297959787346, heavy]   \n",
       "20    [0.000315701229923574, pleasantly]   \n",
       "21  [0.00031562967235673485, everything]   \n",
       "22     [0.0003112235624949291, recently]   \n",
       "23      [0.00030905502572903655, pretty]   \n",
       "24       [0.000273979699052875, totally]   \n",
       "\n",
       "                                top25_pos  \n",
       "0            [0.10516368328831541, great]  \n",
       "1              [0.08981493578011883, not]  \n",
       "2             [0.05636387210694428, best]  \n",
       "3        [0.03962773559888438, delicious]  \n",
       "4            [0.026029106587324068, good]  \n",
       "5             [0.02502140986757704, love]  \n",
       "6          [0.02222678208686428, perfect]  \n",
       "7           [0.018976425351451484, loves]  \n",
       "8        [0.018892614404691123, favorite]  \n",
       "9       [0.018042452974844997, excellent]  \n",
       "10            [0.017859814717201716, bad]  \n",
       "11      [0.017834669709603533, wonderful]  \n",
       "12           [0.016094524181307617, nice]  \n",
       "13   [0.013603866625851562, disappointed]  \n",
       "14         [0.013554134169423238, highly]  \n",
       "15        [0.011454931690362291, thought]  \n",
       "16          [0.011186492407121829, tasty]  \n",
       "17           [0.010775294933957291, find]  \n",
       "18       [0.010101852442754114, terrible]  \n",
       "19  [0.009272475511591933, unfortunately]  \n",
       "20          [0.009065122709265606, money]  \n",
       "21           [0.007893918145189327, easy]  \n",
       "22           [0.00765073106257202, awful]  \n",
       "23        [0.007017365346739904, however]  \n",
       "24          [0.006380040216467915, taste]  "
      ]
     },
     "execution_count": 67,
     "metadata": {},
     "output_type": "execute_result"
    }
   ],
   "source": [
    "features = tfidf_object.get_feature_names()\n",
    "featuresAndcoeff = sorted(zip(dt.feature_importances_, features))\n",
    "l = []\n",
    "for a, b in featuresAndcoeff:\n",
    "    if a == 0:\n",
    "        continue\n",
    "    else:\n",
    "        l.append([a,b])\n",
    "\n",
    "l = sorted(l, key=lambda x: x[0], reverse=True)\n",
    "positive = l[:25]\n",
    "negative = l[-(25 + 1): -1]\n",
    "a = dict(top25_pos=positive,top25_neg=negative) \n",
    "dataframe = pd.DataFrame(a)\n",
    "dataframe"
   ]
  },
  {
   "cell_type": "markdown",
   "metadata": {},
   "source": [
    "**using graphviz for plotting the conditions, saving the same onto files**"
   ]
  },
  {
   "cell_type": "code",
   "execution_count": 68,
   "metadata": {},
   "outputs": [
    {
     "data": {
      "text/plain": [
       "'TFidf_DecisionTree.pdf'"
      ]
     },
     "execution_count": 68,
     "metadata": {},
     "output_type": "execute_result"
    }
   ],
   "source": [
    "clf = tree.DecisionTreeClassifier(max_depth=3, min_samples_split=50)\n",
    "clf = clf.fit(xtr, ytr)\n",
    "dot_data = tree.export_graphviz(clf, out_file=None)\n",
    "graph = graphviz.Source(dot_data)\n",
    "graph.render(\"TFidf_DecisionTree\") "
   ]
  },
  {
   "cell_type": "markdown",
   "metadata": {},
   "source": [
    "# Avg-Word2Vec"
   ]
  },
  {
   "cell_type": "code",
   "execution_count": 69,
   "metadata": {},
   "outputs": [
    {
     "data": {
      "text/plain": [
       "Index(['index', 'Id', 'ProductId', 'UserId', 'ProfileName',\n",
       "       'HelpfulnessNumerator', 'HelpfulnessDenominator', 'Score', 'Time',\n",
       "       'Summary', 'Text', 'CleanedText_Bow', 'ClenedText_W2Vtfdf', 'Bow_feat',\n",
       "       'Bow_new_feat', 'w2v_feat', 'w2v_new_feat'],\n",
       "      dtype='object')"
      ]
     },
     "execution_count": 69,
     "metadata": {},
     "output_type": "execute_result"
    }
   ],
   "source": [
    "df.columns"
   ]
  },
  {
   "cell_type": "markdown",
   "metadata": {},
   "source": [
    "**train test cv split**"
   ]
  },
  {
   "cell_type": "code",
   "execution_count": 70,
   "metadata": {},
   "outputs": [],
   "source": [
    "xtrain, xtest, ytrain, ytest = train_test_split(df.ClenedText_W2Vtfdf, df.Score, test_size=0.2, shuffle=False)\n",
    "xtr, xcv, ytr, ycv = train_test_split(xtrain, ytrain, test_size=0.2, shuffle=False)"
   ]
  },
  {
   "cell_type": "markdown",
   "metadata": {},
   "source": [
    "***list of lists of train, cv, test data***"
   ]
  },
  {
   "cell_type": "code",
   "execution_count": 71,
   "metadata": {},
   "outputs": [
    {
     "name": "stdout",
     "output_type": "stream",
     "text": [
      "CPU times: user 1.19 s, sys: 160 ms, total: 1.35 s\n",
      "Wall time: 1.35 s\n"
     ]
    }
   ],
   "source": [
    "%%time\n",
    "\n",
    "#training list of words:\n",
    "train_list = []\n",
    "for sentence in xtr:\n",
    "    tmp_list = []\n",
    "    for word in sentence.split():\n",
    "        tmp_list.append(word)\n",
    "    train_list.append(tmp_list)\n",
    "\n",
    "#cv list of words\n",
    "cv_list = []\n",
    "for sentence in xcv:\n",
    "    tmp_list = []\n",
    "    for word in sentence.split():\n",
    "        tmp_list.append(word)\n",
    "    cv_list.append(tmp_list)\n",
    "    \n",
    "#test list of words:    \n",
    "test_list = []\n",
    "for sentence in xtest:\n",
    "    tmp_list = []\n",
    "    for word in sentence.split():\n",
    "        tmp_list.append(word)\n",
    "    test_list.append(tmp_list)"
   ]
  },
  {
   "cell_type": "markdown",
   "metadata": {},
   "source": [
    "***instantiating word2vec object for Train, cv, test data***"
   ]
  },
  {
   "cell_type": "code",
   "execution_count": 72,
   "metadata": {},
   "outputs": [
    {
     "name": "stdout",
     "output_type": "stream",
     "text": [
      "CPU times: user 1min 43s, sys: 332 ms, total: 1min 43s\n",
      "Wall time: 1min 43s\n"
     ]
    }
   ],
   "source": [
    "%%time\n",
    "\n",
    "from gensim.models import Word2Vec\n",
    "\n",
    "#instantiating training,cv, test W2V object:\n",
    "\n",
    "trainw2v = Word2Vec(train_list, size=1000)\n",
    "cvw2v = Word2Vec(cv_list, size=1000)\n",
    "testw2v = Word2Vec(test_list, size=1000)\n",
    "\n",
    "#training word2vec List:\n",
    "train_vocab = list(trainw2v.wv.vocab.keys())\n",
    "\n",
    "#cv word2vec List:\n",
    "cv_vocab = list(cvw2v.wv.vocab.keys())\n",
    "\n",
    "#test word2vec List:\n",
    "test_vocab = list(testw2v.wv.vocab.keys())"
   ]
  },
  {
   "cell_type": "markdown",
   "metadata": {},
   "source": [
    "***Avg-W2V for train, cv, test data***"
   ]
  },
  {
   "cell_type": "code",
   "execution_count": 73,
   "metadata": {},
   "outputs": [
    {
     "name": "stdout",
     "output_type": "stream",
     "text": [
      "train vector shape is (64000, 1000)\n",
      "cv vector shape is (16000, 1000)\n",
      "test vector shape is (20000, 1000)\n",
      "CPU times: user 12min 21s, sys: 1.66 s, total: 12min 23s\n",
      "Wall time: 12min 24s\n"
     ]
    }
   ],
   "source": [
    "%%time\n",
    "\n",
    "#avg-w2v for training data****************************:\n",
    "train_vector = []\n",
    "for sentence in train_list:\n",
    "    vector = np.zeros(1000)\n",
    "    for word in sentence:\n",
    "        cnt = 0\n",
    "        if word in train_vocab:\n",
    "            vector = vector + trainw2v.wv[word]\n",
    "            cnt = cnt + 1\n",
    "    if cnt != 0:\n",
    "        vector = vector / cnt\n",
    "    train_vector.append(vector)\n",
    "    \n",
    "train_vector = np.array(train_vector)\n",
    "print('train vector shape is {}'.format(train_vector.shape))\n",
    "\n",
    "\n",
    "#avg-w2v for cv data***********************************:\n",
    "cv_vector = []\n",
    "for sentence in cv_list:\n",
    "    vector = np.zeros(1000)\n",
    "    for word in sentence:\n",
    "        cnt = 0\n",
    "        if word in cv_vocab:\n",
    "            vector = vector + cvw2v.wv[word]\n",
    "            cnt = cnt + 1\n",
    "    if cnt != 0:\n",
    "        vector = vector / cnt\n",
    "    cv_vector.append(vector)\n",
    "    \n",
    "cv_vector = np.array(cv_vector)\n",
    "print('cv vector shape is {}'.format(cv_vector.shape))\n",
    "\n",
    "\n",
    "\n",
    "\n",
    "#avg-w2v for test data**********************************:    \n",
    "test_vector = []\n",
    "for sentence in test_list:\n",
    "    vector = np.zeros(1000)\n",
    "    for word in sentence:\n",
    "        cnt = 0\n",
    "        if word in test_vocab:\n",
    "            vector = vector + testw2v.wv[word]\n",
    "            cnt = cnt + 1\n",
    "    if cnt != 0:\n",
    "        vector = vector / cnt\n",
    "    test_vector.append(vector)\n",
    "    \n",
    "test_vector = np.array(test_vector)\n",
    "print('test vector shape is {}'.format(test_vector.shape)) "
   ]
  },
  {
   "cell_type": "markdown",
   "metadata": {},
   "source": [
    "# since I HAVE MADE A COMMON CLASS FOR ALL THE VECTORIZERS, USING THAT CLASS in here for instantiating AvgW2V object"
   ]
  },
  {
   "cell_type": "code",
   "execution_count": 74,
   "metadata": {},
   "outputs": [],
   "source": [
    "class decisiontree:\n",
    "\n",
    "    '''building the decision tree classifier based off various parameters'''\n",
    "    \n",
    "    #instantiating the instance attributes:\n",
    "    def __init__(self, xtr, ytr, xcv, ycv, minimum_splits=[5,10,100,500], maximum_depth=[1, 5, 10, 50, 100, 500, 1000]):\n",
    "        self.xtr = xtr\n",
    "        self.ytr = ytr\n",
    "        self.xcv = xcv\n",
    "        self.ycv = ycv\n",
    "        self.minimum_splits = minimum_splits\n",
    "        self.maximum_depth = maximum_depth\n",
    "    \n",
    "    #creating a method of calling DT classifier:\n",
    "    def classfier(self, auc_dict_cv={}, auc_dict_tr={}):\n",
    "        for splits in self.minimum_splits:\n",
    "            for depths in self.maximum_depth: \n",
    "                clf = DecisionTreeClassifier(max_depth=depths, min_samples_split=splits)\n",
    "                print(depths, splits)\n",
    "                clf.fit(self.xtr, self.ytr)\n",
    "                y_pred_cv = clf.predict_proba(self.xcv)\n",
    "                \n",
    "                #performance metric on CV data:                \n",
    "                fpr_cv, tpr_cv, thresholds_cv = roc_curve(ycv, y_pred_cv[:,1])\n",
    "                auc_val = auc(fpr_cv, tpr_cv)\n",
    "                auc_dict_cv[zip([splits], [depths])] = auc_val\n",
    "                \n",
    "                #performance metrics for training data:\n",
    "                y_pred_tr = clf.predict_proba(self.xtr)\n",
    "                fpr_tr, tpr_tr, thresholds_tr = roc_curve(ytr, y_pred_tr[:,1])\n",
    "                auc_val = auc(fpr_tr, tpr_tr)\n",
    "                auc_dict_tr[zip([splits], [depths])] = auc_val\n",
    "                \n",
    "        return auc_dict_tr, auc_dict_cv\n"
   ]
  },
  {
   "cell_type": "markdown",
   "metadata": {},
   "source": [
    "# Avgw2v decision tree instance creation on training and CV data"
   ]
  },
  {
   "cell_type": "code",
   "execution_count": 76,
   "metadata": {},
   "outputs": [
    {
     "name": "stdout",
     "output_type": "stream",
     "text": [
      "1 5\n",
      "5 5\n",
      "10 5\n",
      "50 5\n",
      "100 5\n",
      "500 5\n",
      "1000 5\n",
      "1 10\n",
      "5 10\n",
      "10 10\n",
      "50 10\n",
      "100 10\n",
      "500 10\n",
      "1000 10\n",
      "1 100\n",
      "5 100\n",
      "10 100\n",
      "50 100\n",
      "100 100\n",
      "500 100\n",
      "1000 100\n",
      "1 500\n",
      "5 500\n",
      "10 500\n",
      "50 500\n",
      "100 500\n",
      "500 500\n",
      "1000 500\n",
      "time is(in seconds):  3744.681820869446\n"
     ]
    }
   ],
   "source": [
    "import time\n",
    "start = time.time()\n",
    "w2v_instance = decisiontree(train_vector, ytr, cv_vector, ycv)\n",
    "\n",
    "dictionary_train, dictionary_cv = w2v_instance.classfier()\n",
    "end = time.time()\n",
    "\n",
    "print('time is(in seconds): ', end - start)\n"
   ]
  },
  {
   "cell_type": "code",
   "execution_count": 77,
   "metadata": {},
   "outputs": [
    {
     "name": "stdout",
     "output_type": "stream",
     "text": [
      "([(100, 50)], 0.964)\n",
      "\n",
      "([(100, 100)], 0.537)\n"
     ]
    }
   ],
   "source": [
    "#creating dictionary :\n",
    "\n",
    "train_list = [(list(x), np.round(y,3)) for x, y in dictionary_train.items()]\n",
    "cv_list = [(list(x), np.round(y,3)) for x, y in dictionary_cv.items()]\n",
    "\n",
    "\n",
    "print(train_list[0])\n",
    "print()\n",
    "print(cv_list[0])\n"
   ]
  },
  {
   "cell_type": "markdown",
   "metadata": {},
   "source": [
    "**sorting the list based off AUC score**\n"
   ]
  },
  {
   "cell_type": "code",
   "execution_count": 78,
   "metadata": {},
   "outputs": [
    {
     "name": "stdout",
     "output_type": "stream",
     "text": [
      "sorted train list score based off AUC score is:\n",
      " [([(5, 500)], 1.0), ([(5, 50)], 1.0), ([(5, 1000)], 1.0)]\n",
      "****************************************\n",
      "\n",
      "sorted CV list score based off AUC score is:\n",
      " [([(100, 5)], 0.627), ([(500, 5)], 0.627), ([(10, 5)], 0.627)]\n"
     ]
    }
   ],
   "source": [
    "tr_list = sorted(train_list, key=lambda x: x[1], reverse=True)\n",
    "cv_list = sorted(cv_list, key=lambda x: x[1], reverse=True)\n",
    "print('sorted train list score based off AUC score is:\\n', tr_list[0:3])\n",
    "print('****************************************')\n",
    "print()\n",
    "print('sorted CV list score based off AUC score is:\\n', cv_list[0:3])"
   ]
  },
  {
   "cell_type": "markdown",
   "metadata": {},
   "source": [
    "\n",
    "***Plotting AUC Curve on training and cv data based off depth***"
   ]
  },
  {
   "cell_type": "code",
   "execution_count": 79,
   "metadata": {},
   "outputs": [
    {
     "data": {
      "text/plain": [
       "<matplotlib.legend.Legend at 0x7f0e1c1c8d68>"
      ]
     },
     "execution_count": 79,
     "metadata": {},
     "output_type": "execute_result"
    },
    {
     "data": {
      "image/png": "[encoded data removed]",
      "text/plain": [
       "<Figure size 432x288 with 1 Axes>"
      ]
     },
     "metadata": {
      "needs_background": "light"
     },
     "output_type": "display_data"
    }
   ],
   "source": [
    "plt.plot([x[0][0][1] for x in tr_list], [x[1] for x in tr_list], linestyle='-', color='m', marker='o',label='AUC on CV data')\n",
    "plt.plot([x[0][0][1] for x in cv_list], [x[1] for x in cv_list], linestyle='-', color='g', marker='o', label='AUC on TR data')\n",
    "#plt.plot([0, 1], [0, 1], linestyle='--')\n",
    "plt.xlabel(\"C value\")\n",
    "plt.ylabel('AUC value')\n",
    "plt.title('auc of Training and cross validation data points')\n",
    "plt.legend()\n"
   ]
  },
  {
   "cell_type": "markdown",
   "metadata": {},
   "source": [
    "# OptimalAvgW2V- DecesionTree[depth = 5 and splits = 100]"
   ]
  },
  {
   "cell_type": "code",
   "execution_count": 80,
   "metadata": {},
   "outputs": [
    {
     "name": "stdout",
     "output_type": "stream",
     "text": [
      "0.6617441622584633\n"
     ]
    }
   ],
   "source": [
    "dt = DecisionTreeClassifier(max_depth=5, min_samples_split=100, class_weight='balanced')\n",
    "dt.fit(train_vector, ytr)\n",
    "\n",
    "ypred = dt.predict_proba(test_vector)\n",
    "ypred_tr = dt.predict_proba(train_vector)\n",
    "\n",
    "\n",
    "fpr_tr, tpr_tr, thresholds_tr= roc_curve(ytr, ypred_tr[:,1])\n",
    "auc_tr = auc(fpr_tr, tpr_tr)\n",
    "\n",
    "\n",
    "fpr_test, tpr_test, thresholds_test= roc_curve(ytest, ypred[:,1])\n",
    "auc_test = auc(fpr_test, tpr_test)\n",
    "\n",
    "print(auc_test)"
   ]
  },
  {
   "cell_type": "markdown",
   "metadata": {},
   "source": [
    "***plotting confusion matrix on test data***"
   ]
  },
  {
   "cell_type": "code",
   "execution_count": 81,
   "metadata": {},
   "outputs": [
    {
     "name": "stdout",
     "output_type": "stream",
     "text": [
      "CPU times: user 0 ns, sys: 0 ns, total: 0 ns\n",
      "Wall time: 7.63 µs\n"
     ]
    },
    {
     "data": {
      "image/png": "[encoded data removed]",
      "text/plain": [
       "<Figure size 432x288 with 2 Axes>"
      ]
     },
     "metadata": {
      "needs_background": "light"
     },
     "output_type": "display_data"
    }
   ],
   "source": [
    "%time\n",
    "ypred = np.where(ypred[:,1] < 0.5, 0, 1)\n",
    "#creating confusion matrix:\n",
    "\n",
    "cf = confusion_matrix(ytest, ypred)\n",
    "labels = ['True negative', 'True positive']\n",
    "\n",
    "df_cf = pd.DataFrame(cf, index=labels, columns=['Predicted negative', 'Predicted positive'])\n",
    "sns.heatmap(df_cf, annot=True,fmt='3d', cmap='magma_r')\n",
    "\n",
    "plt.title(\"confusion Matrix AvgW2V - DT on Test data\\n\", size=20)\n",
    "plt.xlabel(\"classifier prediction values\")\n",
    "plt.ylabel(\"actual value\")\n",
    "plt.show()\n"
   ]
  },
  {
   "cell_type": "markdown",
   "metadata": {},
   "source": [
    "***plotting confusion matrix on training data***"
   ]
  },
  {
   "cell_type": "code",
   "execution_count": 82,
   "metadata": {},
   "outputs": [
    {
     "name": "stdout",
     "output_type": "stream",
     "text": [
      "CPU times: user 0 ns, sys: 0 ns, total: 0 ns\n",
      "Wall time: 6.91 µs\n"
     ]
    },
    {
     "data": {
      "image/png": "[encoded data removed]",
      "text/plain": [
       "<Figure size 432x288 with 2 Axes>"
      ]
     },
     "metadata": {
      "needs_background": "light"
     },
     "output_type": "display_data"
    }
   ],
   "source": [
    "%time\n",
    "y_pred_tr = np.where(ypred_tr[:,1] < 0.5, 0, 1)\n",
    "#creating confusion matrix:\n",
    "\n",
    "cf = confusion_matrix(ytr, y_pred_tr)\n",
    "labels = ['True negative', 'True positive']\n",
    "\n",
    "df_cf = pd.DataFrame(cf, index=labels, columns=['Predicted negative', 'Predicted positive'])\n",
    "sns.heatmap(df_cf, annot=True,fmt='3d', cmap='magma_r')\n",
    "\n",
    "plt.title(\"confusion Matrix AvgW2V - DT on Training data\\n\", size=20)\n",
    "plt.xlabel(\"classifier prediction values\")\n",
    "plt.ylabel(\"actual value\")\n",
    "plt.show()"
   ]
  },
  {
   "cell_type": "markdown",
   "metadata": {},
   "source": [
    "***plotting ROC curve on test data and training data***"
   ]
  },
  {
   "cell_type": "code",
   "execution_count": 83,
   "metadata": {},
   "outputs": [
    {
     "data": {
      "text/plain": [
       "<matplotlib.legend.Legend at 0x7f0e15a40f98>"
      ]
     },
     "execution_count": 83,
     "metadata": {},
     "output_type": "execute_result"
    },
    {
     "data": {
      "image/png": "[encoded data removed]",
      "text/plain": [
       "<Figure size 432x288 with 1 Axes>"
      ]
     },
     "metadata": {
      "needs_background": "light"
     },
     "output_type": "display_data"
    }
   ],
   "source": [
    "plt.plot(fpr_test, tpr_test, color='m', marker='o',label='ROC -testdata')\n",
    "plt.plot([0, 1], [0, 1], linestyle='--')\n",
    "plt.plot(fpr_tr, tpr_tr, linestyle='-', color='g', marker='o', label='ROC - training data')\n",
    "plt.xlabel('False Positive Rate')\n",
    "plt.ylabel('True Positive Rate')\n",
    "plt.title('ROC of Test vs Training Data\\n', size=20)\n",
    "plt.legend()"
   ]
  },
  {
   "cell_type": "markdown",
   "metadata": {},
   "source": [
    "# TFidf-W2V"
   ]
  },
  {
   "cell_type": "code",
   "execution_count": 6,
   "metadata": {},
   "outputs": [
    {
     "name": "stdout",
     "output_type": "stream",
     "text": [
      "CPU times: user 1min 54s, sys: 444 ms, total: 1min 54s\n",
      "Wall time: 1min 54s\n"
     ]
    }
   ],
   "source": [
    "%%time\n",
    "\n",
    "from gensim.models import Word2Vec\n",
    "from sklearn.feature_extraction.text import TfidfVectorizer\n",
    "\n",
    "#train, cv, test split:\n",
    "xtrain, xtest, ytrain, ytest = train_test_split(df.ClenedText_W2Vtfdf, df.Score, test_size=0.2, shuffle=False)\n",
    "xtr, xcv, ytr, ycv = train_test_split(xtrain, ytrain, test_size=0.2, shuffle=False)\n",
    "\n",
    "\n",
    "#training list of words:\n",
    "train_list = []\n",
    "for sentence in xtr:\n",
    "    tmp_list = []\n",
    "    for word in sentence.split():\n",
    "        tmp_list.append(word)\n",
    "    train_list.append(tmp_list)\n",
    "\n",
    "#cv list of words:\n",
    "cv_list = []\n",
    "for sentence in xcv:\n",
    "    tmp_list = []\n",
    "    for word in sentence.split():\n",
    "        tmp_list.append(word)\n",
    "    cv_list.append(tmp_list)\n",
    "    \n",
    "#test list of words:    \n",
    "test_list = []\n",
    "for sentence in xtest:\n",
    "    tmp_list = []\n",
    "    for word in sentence.split():\n",
    "        tmp_list.append(word)\n",
    "    test_list.append(tmp_list)\n",
    "    \n",
    "\n",
    "#instantiating training,cv, test W2V object:\n",
    "\n",
    "trainw2v = Word2Vec(train_list, size=1000)\n",
    "cvw2v = Word2Vec(cv_list, size=1000)\n",
    "testw2v = Word2Vec(test_list, size=1000)\n",
    "\n",
    "#training word2vec List:\n",
    "train_vocab = list(trainw2v.wv.vocab.keys())\n",
    "\n",
    "#cv word2vec List:\n",
    "cv_vocab = list(cvw2v.wv.vocab.keys())\n",
    "\n",
    "#test word2vec List:\n",
    "test_vocab = list(testw2v.wv.vocab.keys())"
   ]
  },
  {
   "cell_type": "markdown",
   "metadata": {},
   "source": [
    "**Tfidf vectorizer**"
   ]
  },
  {
   "cell_type": "code",
   "execution_count": 7,
   "metadata": {},
   "outputs": [],
   "source": [
    "model = TfidfVectorizer()\n",
    "xtr = model.fit_transform(xtr)\n",
    "xcv = model.transform(xcv)\n",
    "xtest = model.transform(xtest)\n",
    "\n",
    "# we are converting a dictionary with word as a key, and the idf as a value\n",
    "dictionary = dict(zip(model.get_feature_names(), list(model.idf_)))"
   ]
  },
  {
   "cell_type": "code",
   "execution_count": 8,
   "metadata": {},
   "outputs": [
    {
     "data": {
      "text/plain": [
       "((64000, 43848), (16000, 43848), (20000, 43848))"
      ]
     },
     "execution_count": 8,
     "metadata": {},
     "output_type": "execute_result"
    }
   ],
   "source": [
    "xtr.shape, xcv.shape, xtest.shape"
   ]
  },
  {
   "cell_type": "code",
   "execution_count": 9,
   "metadata": {},
   "outputs": [
    {
     "data": {
      "text/plain": [
       "64000"
      ]
     },
     "execution_count": 9,
     "metadata": {},
     "output_type": "execute_result"
    }
   ],
   "source": [
    "len(train_list)"
   ]
  },
  {
   "cell_type": "markdown",
   "metadata": {},
   "source": [
    "***Creating TFIDF-W2V for training data,***\n",
    "\n",
    "***TFIDF-W2V for cv data AND***\n",
    "\n",
    "***TFIDF-W2V for test data***"
   ]
  },
  {
   "cell_type": "code",
   "execution_count": 11,
   "metadata": {},
   "outputs": [
    {
     "name": "stdout",
     "output_type": "stream",
     "text": [
      "total time taken in seconds is:  2726.192879676819\n"
     ]
    }
   ],
   "source": [
    "import time\n",
    "start = time.time()\n",
    "\n",
    "tfidf_feat = model.get_feature_names() # tfidf words/col-names\n",
    "# final_tf_idf is the sparse matrix with row= sentence, col=word and cell_val = tfidf\n",
    "\n",
    "\n",
    "#tf-idf for train data:\n",
    "tfidf_train_vectors = []; # the tfidf-w2v for each sentence/review is stored in this list\n",
    "row=0;\n",
    "for sent in train_list: # for each review/sentence \n",
    "    sent_vec = np.zeros(1000) # as word vectors are of zero length\n",
    "    weight_sum =0; # num of words with a valid vector in the sentence/review\n",
    "    for word in sent: # for each word in a review/sentence\n",
    "        if word in train_vocab and word in tfidf_feat:\n",
    "            vec = trainw2v.wv[word]            \n",
    "            tf_idf = dictionary[word]*(sent.count(word)/len(sent))\n",
    "            sent_vec += (vec * tf_idf)\n",
    "            weight_sum += tf_idf\n",
    "    if weight_sum != 0:\n",
    "        sent_vec /= weight_sum\n",
    "    tfidf_train_vectors.append(sent_vec)\n",
    "    row += 1\n",
    "    \n",
    "#######################################################################################################################    \n",
    "\n",
    "#tfidf for CV data:\n",
    "\n",
    "tfidf_cv_vectors = []; # the tfidf-w2v for each sentence/review is stored in this list\n",
    "row=0;\n",
    "for sent in cv_list: # for each review/sentence \n",
    "    sent_vec = np.zeros(1000) # as word vectors are of zero length\n",
    "    weight_sum =0; # num of words with a valid vector in the sentence/review\n",
    "    for word in sent: # for each word in a review/sentence\n",
    "        if word in cv_vocab and word in tfidf_feat:\n",
    "            vec = cvw2v.wv[word]            \n",
    "            tf_idf = dictionary[word]*(sent.count(word)/len(sent))\n",
    "            sent_vec += (vec * tf_idf)\n",
    "            weight_sum += tf_idf\n",
    "    if weight_sum != 0:\n",
    "        sent_vec /= weight_sum\n",
    "    tfidf_cv_vectors.append(sent_vec)\n",
    "    row += 1\n",
    "    \n",
    "    \n",
    "#######################################################################################################################\n",
    "\n",
    "\n",
    "\n",
    "tfidf_feat = model.get_feature_names() # tfidf words/col-names\n",
    "# final_tf_idf is the sparse matrix with row= sentence, col=word and cell_val = tfidf\n",
    "\n",
    "\n",
    "#tfidf for Test Data:\n",
    "\n",
    "tfidf_test_vectors = []; # the tfidf-w2v for each sentence/review is stored in this list\n",
    "row=0;\n",
    "for sent in test_list: # for each review/sentence \n",
    "    sent_vec = np.zeros(1000) # as word vectors are of zero length\n",
    "    weight_sum =0; # num of words with a valid vector in the sentence/review\n",
    "    for word in sent: # for each word in a review/sentence\n",
    "        if word in test_vocab and word in tfidf_feat:\n",
    "            vec = testw2v.wv[word]            \n",
    "            tf_idf = dictionary[word]*(sent.count(word)/len(sent))\n",
    "            sent_vec += (vec * tf_idf)\n",
    "            weight_sum += tf_idf\n",
    "    if weight_sum != 0:\n",
    "        sent_vec /= weight_sum\n",
    "    tfidf_test_vectors.append(sent_vec)\n",
    "    row += 1\n",
    "    \n",
    "    \n",
    "end = time.time()\n",
    "\n",
    "print('total time taken in seconds is: ', end - start)"
   ]
  },
  {
   "cell_type": "code",
   "execution_count": null,
   "metadata": {},
   "outputs": [],
   "source": [
    "# import pickle\n",
    "\n",
    "# file1 = open('tfidfw2v_train.pickle', 'wb')\n",
    "# pickle.dump(tfidf_train_vectors, file1)\n",
    "# file1.close()\n",
    "\n",
    "# file1 = open('tfidfw2v_cv.pickle', 'wb')\n",
    "# pickle.dump(tfidf_cv_vectors, file1)\n",
    "# file1.close()\n",
    "\n",
    "# file1 = open('tfidfw2v_test.pickle', 'wb')\n",
    "# pickle.dump(tfidf_test_vectors, file1)\n",
    "# file1.close()\n"
   ]
  },
  {
   "cell_type": "markdown",
   "metadata": {},
   "source": [
    "**conversion of list into array**"
   ]
  },
  {
   "cell_type": "code",
   "execution_count": 12,
   "metadata": {},
   "outputs": [
    {
     "name": "stdout",
     "output_type": "stream",
     "text": [
      "(64000, 1000)\n",
      "(16000, 1000)\n",
      "(20000, 1000)\n"
     ]
    }
   ],
   "source": [
    "xtr = np.array(tfidf_train_vectors)\n",
    "xcv = np.array(tfidf_cv_vectors)\n",
    "xtest = np.array(tfidf_test_vectors)\n",
    "\n",
    "print(xtr.shape)\n",
    "print(xcv.shape)\n",
    "print(xtest.shape)"
   ]
  },
  {
   "cell_type": "markdown",
   "metadata": {},
   "source": [
    "**Tfidf-w2v DT CLASS creation**"
   ]
  },
  {
   "cell_type": "code",
   "execution_count": 13,
   "metadata": {},
   "outputs": [],
   "source": [
    "class decisiontree:\n",
    "\n",
    "    '''building the decision tree classifier based off various parameters'''\n",
    "    \n",
    "    #instantiating the instance attributes:\n",
    "    def __init__(self, xtr, ytr, xcv, ycv, minimum_splits=[5,10,100,500], maximum_depth=[1, 5, 10, 50, 100, 500]):\n",
    "        self.xtr = xtr\n",
    "        self.ytr = ytr\n",
    "        self.xcv = xcv\n",
    "        self.ycv = ycv\n",
    "        self.minimum_splits = minimum_splits\n",
    "        self.maximum_depth = maximum_depth\n",
    "    \n",
    "    #creating a method of calling DT classifier:\n",
    "    def classfier(self, auc_dict_cv={}, auc_dict_tr={}):\n",
    "        for splits in self.minimum_splits:\n",
    "            for depths in self.maximum_depth: \n",
    "                clf = DecisionTreeClassifier(max_depth=depths, min_samples_split=splits, class_weight='balanced')\n",
    "                print(depths, splits)\n",
    "                clf.fit(self.xtr, self.ytr)\n",
    "                y_pred_cv = clf.predict(self.xcv)\n",
    "                \n",
    "                #performance metric on CV data:                \n",
    "                fpr_cv, tpr_cv, thresholds_cv = roc_curve(ycv, y_pred_cv)\n",
    "                auc_val = auc(fpr_cv, tpr_cv)\n",
    "                auc_dict_cv[zip([splits], [depths])] = auc_val\n",
    "                \n",
    "                #performance metrics for training data:\n",
    "                y_pred_tr = clf.predict(self.xtr)\n",
    "                fpr_tr, tpr_tr, thresholds_tr = roc_curve(ytr, y_pred_tr)\n",
    "                auc_val = auc(fpr_tr, tpr_tr)\n",
    "                auc_dict_tr[zip([splits], [depths])] = auc_val\n",
    "                \n",
    "        return auc_dict_tr, auc_dict_cv                    "
   ]
  },
  {
   "cell_type": "markdown",
   "metadata": {},
   "source": [
    "# Tfidf-w2v decision tree instance creation on training and CV data"
   ]
  },
  {
   "cell_type": "code",
   "execution_count": 14,
   "metadata": {},
   "outputs": [
    {
     "name": "stdout",
     "output_type": "stream",
     "text": [
      "1 5\n",
      "5 5\n",
      "10 5\n",
      "50 5\n",
      "100 5\n",
      "500 5\n",
      "1 10\n",
      "5 10\n",
      "10 10\n",
      "50 10\n",
      "100 10\n",
      "500 10\n",
      "1 100\n",
      "5 100\n",
      "10 100\n",
      "50 100\n",
      "100 100\n",
      "500 100\n",
      "1 500\n",
      "5 500\n",
      "10 500\n",
      "50 500\n",
      "100 500\n",
      "500 500\n",
      "\n",
      "time is(in seconds):  2606.405438184738\n"
     ]
    }
   ],
   "source": [
    "import time\n",
    "start = time.time()\n",
    "tfidf_w2v_instance = decisiontree(xtr, ytr, xcv, ycv)\n",
    "\n",
    "dictionary_train, dictionary_cv = tfidf_w2v_instance.classfier()\n",
    "end = time.time()\n",
    "print()\n",
    "print('time is(in seconds): ', end - start)\n"
   ]
  },
  {
   "cell_type": "code",
   "execution_count": 15,
   "metadata": {},
   "outputs": [
    {
     "name": "stdout",
     "output_type": "stream",
     "text": [
      "([(5, 100)], 0.998)\n",
      "\n",
      "([(500, 50)], 0.567)\n"
     ]
    }
   ],
   "source": [
    "#creating dictionary :\n",
    "\n",
    "train_list = [(list(x), np.round(y,3)) for x, y in dictionary_train.items()]\n",
    "cv_list = [(list(x), np.round(y,3)) for x, y in dictionary_cv.items()]\n",
    "\n",
    "\n",
    "print(train_list[0])\n",
    "print()\n",
    "print(cv_list[0])\n"
   ]
  },
  {
   "cell_type": "markdown",
   "metadata": {},
   "source": [
    "**sorting the list based off AUC score**"
   ]
  },
  {
   "cell_type": "code",
   "execution_count": 16,
   "metadata": {},
   "outputs": [
    {
     "name": "stdout",
     "output_type": "stream",
     "text": [
      "sorted train list score based off AUC score is:\n",
      " [([(5, 100)], 0.998), ([(5, 500)], 0.998), ([(5, 50)], 0.995)]\n",
      "****************************************\n",
      "\n",
      "sorted CV list score based off AUC score is:\n",
      " [([(5, 5)], 0.61), ([(500, 5)], 0.61), ([(100, 5)], 0.61)]\n"
     ]
    }
   ],
   "source": [
    "tr_list = sorted(train_list, key=lambda x: x[1], reverse=True)\n",
    "cv_list = sorted(cv_list, key=lambda x: x[1], reverse=True)\n",
    "print('sorted train list score based off AUC score is:\\n', tr_list[0:3])\n",
    "print('****************************************')\n",
    "print()\n",
    "print('sorted CV list score based off AUC score is:\\n', cv_list[0:3])"
   ]
  },
  {
   "cell_type": "markdown",
   "metadata": {},
   "source": [
    "\n",
    "***Plotting AUC Curve on training and cv data based off depth***"
   ]
  },
  {
   "cell_type": "code",
   "execution_count": 17,
   "metadata": {},
   "outputs": [
    {
     "data": {
      "text/plain": [
       "<matplotlib.legend.Legend at 0x7fa89b8a9d68>"
      ]
     },
     "execution_count": 17,
     "metadata": {},
     "output_type": "execute_result"
    },
    {
     "data": {
      "image/png": "[encoded data removed]",
      "text/plain": [
       "<Figure size 432x288 with 1 Axes>"
      ]
     },
     "metadata": {
      "needs_background": "light"
     },
     "output_type": "display_data"
    }
   ],
   "source": [
    "plt.plot([x[0][0][1] for x in tr_list], [x[1] for x in tr_list], linestyle='-', color='m', marker='o',label='AUC on CV data')\n",
    "plt.plot([x[0][0][1] for x in cv_list], [x[1] for x in cv_list], linestyle='-', color='g', marker='o', label='AUC on TR data')\n",
    "#plt.plot([0, 1], [0, 1], linestyle='--')\n",
    "plt.xlabel(\"C value\")\n",
    "plt.ylabel('AUC value')\n",
    "plt.title('auc of Training and cross validation data points')\n",
    "plt.legend()\n"
   ]
  },
  {
   "cell_type": "markdown",
   "metadata": {},
   "source": [
    "# Optimal Tfidf-W2V- DecesionTree[depth = 5 and splits = 5]"
   ]
  },
  {
   "cell_type": "code",
   "execution_count": 18,
   "metadata": {},
   "outputs": [
    {
     "name": "stdout",
     "output_type": "stream",
     "text": [
      "0.5587068010750184\n"
     ]
    }
   ],
   "source": [
    "dt = DecisionTreeClassifier(max_depth=5, min_samples_split=5, class_weight='balanced')\n",
    "dt.fit(xtr, ytr)\n",
    "\n",
    "ypred = dt.predict_proba(xtest)\n",
    "ypred_tr = dt.predict_proba(xtr)\n",
    "\n",
    "\n",
    "fpr_tr, tpr_tr, thresholds_tr= roc_curve(ytr, ypred_tr[:,1])\n",
    "auc_tr = auc(fpr_tr, tpr_tr)\n",
    "\n",
    "\n",
    "fpr_test, tpr_test, thresholds_test= roc_curve(ytest, ypred[:,1])\n",
    "auc_test = auc(fpr_test, tpr_test)\n",
    "\n",
    "print(auc_test)"
   ]
  },
  {
   "cell_type": "markdown",
   "metadata": {},
   "source": [
    "***plotting confusion matrix on test data***"
   ]
  },
  {
   "cell_type": "code",
   "execution_count": 19,
   "metadata": {},
   "outputs": [
    {
     "name": "stdout",
     "output_type": "stream",
     "text": [
      "CPU times: user 0 ns, sys: 0 ns, total: 0 ns\n",
      "Wall time: 6.44 µs\n"
     ]
    },
    {
     "data": {
      "image/png": "[encoded data removed]",
      "text/plain": [
       "<Figure size 432x288 with 2 Axes>"
      ]
     },
     "metadata": {
      "needs_background": "light"
     },
     "output_type": "display_data"
    }
   ],
   "source": [
    "%time\n",
    "ypred = np.where(ypred[:,1] < 0.5, 0, 1)\n",
    "#creating confusion matrix:\n",
    "\n",
    "cf = confusion_matrix(ytest, ypred)\n",
    "labels = ['True negative', 'True positive']\n",
    "\n",
    "df_cf = pd.DataFrame(cf, index=labels, columns=['Predicted negative', 'Predicted positive'])\n",
    "sns.heatmap(df_cf, annot=True,fmt='3d', cmap='magma_r')\n",
    "\n",
    "plt.title(\"confusion Matrix Tfidf-W2V - DT on Test data\\n\", size=20)\n",
    "plt.xlabel(\"classifier prediction values\")\n",
    "plt.ylabel(\"actual value\")\n",
    "plt.show()\n"
   ]
  },
  {
   "cell_type": "markdown",
   "metadata": {},
   "source": [
    "***plotting confusion matrix on training data***"
   ]
  },
  {
   "cell_type": "code",
   "execution_count": 20,
   "metadata": {},
   "outputs": [
    {
     "name": "stdout",
     "output_type": "stream",
     "text": [
      "CPU times: user 0 ns, sys: 0 ns, total: 0 ns\n",
      "Wall time: 6.44 µs\n"
     ]
    },
    {
     "data": {
      "image/png": "[encoded data removed]",
      "text/plain": [
       "<Figure size 432x288 with 2 Axes>"
      ]
     },
     "metadata": {
      "needs_background": "light"
     },
     "output_type": "display_data"
    }
   ],
   "source": [
    "%time\n",
    "y_pred_tr = np.where(ypred_tr[:,1] < 0.5, 0, 1)\n",
    "#creating confusion matrix:\n",
    "\n",
    "cf = confusion_matrix(ytr, y_pred_tr)\n",
    "labels = ['True negative', 'True positive']\n",
    "\n",
    "df_cf = pd.DataFrame(cf, index=labels, columns=['Predicted negative', 'Predicted positive'])\n",
    "sns.heatmap(df_cf, annot=True,fmt='3d', cmap='magma_r')\n",
    "\n",
    "plt.title(\"confusion Matrix Tfidf-W2V - DT on Training data\\n\", size=20)\n",
    "plt.xlabel(\"classifier prediction values\")\n",
    "plt.ylabel(\"actual value\")\n",
    "plt.show()"
   ]
  },
  {
   "cell_type": "markdown",
   "metadata": {},
   "source": [
    "***plotting ROC curve on test data and training data***"
   ]
  },
  {
   "cell_type": "code",
   "execution_count": 21,
   "metadata": {},
   "outputs": [
    {
     "data": {
      "text/plain": [
       "<matplotlib.legend.Legend at 0x7fa89afdc0f0>"
      ]
     },
     "execution_count": 21,
     "metadata": {},
     "output_type": "execute_result"
    },
    {
     "data": {
      "image/png": "[encoded data removed]",
      "text/plain": [
       "<Figure size 432x288 with 1 Axes>"
      ]
     },
     "metadata": {
      "needs_background": "light"
     },
     "output_type": "display_data"
    }
   ],
   "source": [
    "plt.plot(fpr_test, tpr_test, color='m', marker='o',label='ROC -testdata')\n",
    "plt.plot([0, 1], [0, 1], linestyle='--')\n",
    "plt.plot(fpr_tr, tpr_tr, linestyle='-', color='g', marker='o', label='ROC - training data')\n",
    "plt.xlabel('False Positive Rate')\n",
    "plt.ylabel('True Positive Rate')\n",
    "plt.title('ROC of Test vs Training Data\\n', size=20)\n",
    "plt.legend()"
   ]
  },
  {
   "cell_type": "markdown",
   "metadata": {},
   "source": [
    "# Decision Tree classifier performance consolidation of 4 vectorizers"
   ]
  },
  {
   "cell_type": "code",
   "execution_count": 22,
   "metadata": {},
   "outputs": [
    {
     "data": {
      "text/html": [
       "<div>\n",
       "<style scoped>\n",
       "    .dataframe tbody tr th:only-of-type {\n",
       "        vertical-align: middle;\n",
       "    }\n",
       "\n",
       "    .dataframe tbody tr th {\n",
       "        vertical-align: top;\n",
       "    }\n",
       "\n",
       "    .dataframe thead th {\n",
       "        text-align: right;\n",
       "    }\n",
       "</style>\n",
       "<table border=\"1\" class=\"dataframe\">\n",
       "  <thead>\n",
       "    <tr style=\"text-align: right;\">\n",
       "      <th></th>\n",
       "      <th>AUC</th>\n",
       "      <th>Depth</th>\n",
       "      <th>Splits</th>\n",
       "      <th>algorithm</th>\n",
       "    </tr>\n",
       "  </thead>\n",
       "  <tbody>\n",
       "    <tr>\n",
       "      <th>0</th>\n",
       "      <td>0.846</td>\n",
       "      <td>50</td>\n",
       "      <td>500</td>\n",
       "      <td>Bow</td>\n",
       "    </tr>\n",
       "    <tr>\n",
       "      <th>1</th>\n",
       "      <td>0.795</td>\n",
       "      <td>50</td>\n",
       "      <td>500</td>\n",
       "      <td>Tfidf</td>\n",
       "    </tr>\n",
       "    <tr>\n",
       "      <th>2</th>\n",
       "      <td>0.661</td>\n",
       "      <td>5</td>\n",
       "      <td>100</td>\n",
       "      <td>W2V</td>\n",
       "    </tr>\n",
       "    <tr>\n",
       "      <th>3</th>\n",
       "      <td>0.558</td>\n",
       "      <td>5</td>\n",
       "      <td>5</td>\n",
       "      <td>Tfidf-W2V</td>\n",
       "    </tr>\n",
       "  </tbody>\n",
       "</table>\n",
       "</div>"
      ],
      "text/plain": [
       "     AUC  Depth  Splits  algorithm\n",
       "0  0.846     50     500        Bow\n",
       "1  0.795     50     500      Tfidf\n",
       "2  0.661      5     100        W2V\n",
       "3  0.558      5       5  Tfidf-W2V"
      ]
     },
     "execution_count": 22,
     "metadata": {},
     "output_type": "execute_result"
    }
   ],
   "source": [
    "perf_dict = dict(algorithm = ['Bow', 'Tfidf', 'W2V', 'Tfidf-W2V'],\n",
    "                AUC = [0.846, 0.795, 0.661, 0.558],\n",
    "                Depth = [50, 50, 5, 5],\n",
    "                Splits =[500, 500, 100, 5])\n",
    "\n",
    "perf_df = pd.DataFrame(perf_dict)\n",
    "perf_df"
   ]
  },
  {
   "cell_type": "markdown",
   "metadata": {},
   "source": [
    "***Conclusions -- out of 1L datapoints:***\n",
    "\n",
    "1. Bow AUC performace was best amongts all the four vectorizer with ~85 % AUC score.\n",
    "2. TFidf-w2v performace was best amongts all the four vectorizer with ~56 % AUC score.\n",
    "3. for BoW and TFIDF seperate PDF file was created for graphical visualization of depth 3 only."
   ]
  }
 ],
 "metadata": {
  "kernelspec": {
   "display_name": "Python 3",
   "language": "python",
   "name": "python3"
  },
  "language_info": {
   "codemirror_mode": {
    "name": "ipython",
    "version": 3
   },
   "file_extension": ".py",
   "mimetype": "text/x-python",
   "name": "python",
   "nbconvert_exporter": "python",
   "pygments_lexer": "ipython3",
   "version": "3.5.3"
  }
 },
 "nbformat": 4,
 "nbformat_minor": 4
}
